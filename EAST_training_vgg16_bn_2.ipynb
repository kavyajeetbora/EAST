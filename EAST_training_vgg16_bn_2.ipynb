{
  "nbformat": 4,
  "nbformat_minor": 0,
  "metadata": {
    "colab": {
      "name": "EAST_dataset",
      "provenance": [],
      "collapsed_sections": [
        "QYP_yAGvd05H",
        "T874dqy_dyjf"
      ],
      "machine_shape": "hm",
      "include_colab_link": true
    },
    "kernelspec": {
      "name": "python3",
      "display_name": "Python 3"
    },
    "accelerator": "GPU"
  },
  "cells": [
    {
      "cell_type": "markdown",
      "metadata": {
        "id": "view-in-github",
        "colab_type": "text"
      },
      "source": [
        "<a href=\"https://colab.research.google.com/github/kavyajeetbora/EAST/blob/master/EAST_training_vgg16_bn_2.ipynb\" target=\"_parent\"><img src=\"https://colab.research.google.com/assets/colab-badge.svg\" alt=\"Open In Colab\"/></a>"
      ]
    },
    {
      "cell_type": "markdown",
      "metadata": {
        "id": "Pyapm5xLqREO",
        "colab_type": "text"
      },
      "source": [
        "##1. Imports"
      ]
    },
    {
      "cell_type": "markdown",
      "metadata": {
        "id": "L2dp5i49ZJGr",
        "colab_type": "text"
      },
      "source": [
        "[**Tasks - Incidental Scene Text**](https://rrc.cvc.uab.es/?ch=4&com=tasks)"
      ]
    },
    {
      "cell_type": "code",
      "metadata": {
        "id": "a6n5wRjEg_RL",
        "colab_type": "code",
        "colab": {}
      },
      "source": [
        "import os\n",
        "import time\n",
        "from PIL import Image\n",
        "from torch.utils.model_zoo import load_url\n",
        "import matplotlib.pyplot as plt\n",
        "import numpy as np\n",
        "import torch\n",
        "import torch.nn as nn\n",
        "from torch.optim import lr_scheduler\n",
        "from torch.utils.data import DataLoader\n",
        "import shutil"
      ],
      "execution_count": 0,
      "outputs": []
    },
    {
      "cell_type": "code",
      "metadata": {
        "id": "SymuHSuqIfGs",
        "colab_type": "code",
        "colab": {
          "base_uri": "https://localhost:8080/",
          "height": 35
        },
        "outputId": "5d7353cb-63d2-434d-ef73-4c715c3d2a88"
      },
      "source": [
        "from google.colab import drive\n",
        "drive.mount('/content/drive')"
      ],
      "execution_count": 2,
      "outputs": [
        {
          "output_type": "stream",
          "text": [
            "Drive already mounted at /content/drive; to attempt to forcibly remount, call drive.mount(\"/content/drive\", force_remount=True).\n"
          ],
          "name": "stdout"
        }
      ]
    },
    {
      "cell_type": "code",
      "metadata": {
        "id": "NAmisDeYpzym",
        "colab_type": "code",
        "outputId": "0461af1b-4957-40c2-dda6-88cc3cde2736",
        "colab": {
          "base_uri": "https://localhost:8080/",
          "height": 308
        }
      },
      "source": [
        "%%time\n",
        "!rm -r /content/cloned-repo\n",
        "%cd ..\n",
        "!git clone -l -s git://github.com/kavyajeetbora/EAST.git /content/cloned-repo\n",
        "%cd /content/cloned-repo\n",
        "!ls"
      ],
      "execution_count": 3,
      "outputs": [
        {
          "output_type": "stream",
          "text": [
            "/\n",
            "Cloning into '/content/cloned-repo'...\n",
            "warning: --local is ignored\n",
            "remote: Enumerating objects: 78, done.\u001b[K\n",
            "remote: Counting objects: 100% (78/78), done.\u001b[K\n",
            "remote: Compressing objects: 100% (78/78), done.\u001b[K\n",
            "remote: Total 160 (delta 44), reused 0 (delta 0), pack-reused 82\u001b[K\n",
            "Receiving objects: 100% (160/160), 6.44 MiB | 10.68 MiB/s, done.\n",
            "Resolving deltas: 100% (89/89), done.\n",
            "/content/cloned-repo\n",
            "dataset.py\t\t    EAST_resnet.py\t\t    loss.py\n",
            "detect.py\t\t    EAST_training.ipynb\t\t    model.py\n",
            "dsiplay_ground_truth.ipynb  EAST_training_vgg16_bn_2.ipynb  model_resnet.py\n",
            "EAST_detection.ipynb\t    EAST_training_vgg16_bn.ipynb    train.py\n",
            "CPU times: user 81.4 ms, sys: 26.4 ms, total: 108 ms\n",
            "Wall time: 7.18 s\n"
          ],
          "name": "stdout"
        }
      ]
    },
    {
      "cell_type": "code",
      "metadata": {
        "id": "m8Fmu_OcbvdB",
        "colab_type": "code",
        "colab": {}
      },
      "source": [
        "from dataset import *"
      ],
      "execution_count": 0,
      "outputs": []
    },
    {
      "cell_type": "code",
      "metadata": {
        "id": "EnP26VecZ4by",
        "colab_type": "code",
        "outputId": "b6f71114-6313-4e3b-c37b-7916e75698c9",
        "colab": {
          "base_uri": "https://localhost:8080/",
          "height": 54
        }
      },
      "source": [
        "# AI4Bharat dataset\n",
        "image_folder = '/content/drive/My Drive/Colab Notebooks (1)/padh.ai.notebooks/15. Object Detection/AI4Bharat Dataset/Training Set/Images/Images.Zip (Unzipped Files)'\n",
        "label_folder = '/content/drive/My Drive/Colab Notebooks (1)/padh.ai.notebooks/15. Object Detection/AI4Bharat Dataset/Training Set/Annotations/Annotations.Zip (Unzipped Files)'\n",
        "\n",
        "image_files = sorted(os.listdir(image_folder))\n",
        "annotation_files = sorted(os.listdir(label_folder))\n",
        "print('Total files in Image folder',len(image_files), '| Total files in Annotation folder',len(annotation_files))\n",
        "\n",
        "training_dataset = custom_dataset(image_folder, label_folder)\n",
        "print(len(training_dataset))"
      ],
      "execution_count": 5,
      "outputs": [
        {
          "output_type": "stream",
          "text": [
            "Total files in Image folder 5000 | Total files in Annotation folder 5000\n",
            "5000\n"
          ],
          "name": "stdout"
        }
      ]
    },
    {
      "cell_type": "markdown",
      "metadata": {
        "id": "J3gdzk1kJ7uH",
        "colab_type": "text"
      },
      "source": [
        "## Dataset Initial Check"
      ]
    },
    {
      "cell_type": "code",
      "metadata": {
        "id": "kjUXNkFjbhYC",
        "colab_type": "code",
        "outputId": "d23cec6b-9e03-4d64-eea1-6020c01bbb46",
        "colab": {
          "base_uri": "https://localhost:8080/",
          "height": 581
        }
      },
      "source": [
        "index = np.random.randint(low=1,high=len(image_files)+1)\n",
        "img = Image.open(os.path.join(image_folder,image_files[index]))\n",
        "label = os.path.join(label_folder,annotation_files[index])\n",
        "with open(label, 'r') as f:\n",
        "\t\t\tlines = f.readlines()\n",
        "vertices, labels = extract_vertices(lines)\n",
        "\n",
        "img, vertices = adjust_height(img, vertices) \n",
        "img, vertices = rotate_img(img, vertices)\n",
        "img, vertices = crop_img(img, vertices, labels, 512)\n",
        "\n",
        "for vertice in vertices:\n",
        "  print(vertice)\n",
        "  print('-'*20)\n",
        "  \n",
        "print(labels)"
      ],
      "execution_count": 6,
      "outputs": [
        {
          "output_type": "stream",
          "text": [
            "[-265.96959777  249.44606851  -22.02601272  257.93051221  -25.05641461\n",
            "  384.4998741  -270.46745674  375.92892847]\n",
            "--------------------\n",
            "[-122.58369414  165.04793694  -35.91729904  168.68283167  -37.12909739\n",
            "  214.29963057 -125.26294957  210.5782339 ]\n",
            "--------------------\n",
            "[-30.04747074 169.0288394  105.04500788 175.5182979  102.19289726\n",
            " 223.98603338 -31.51855187 219.05179607]\n",
            "--------------------\n",
            "[109.36095152 177.24652295 196.02734662 180.88141769 193.43451878\n",
            " 224.9429954  108.23558076 221.39460259]\n",
            "--------------------\n",
            "[171.84755249 316.52078733 202.32025274 299.15747563 242.02439734\n",
            " 350.13376714 211.46526949 368.9657981 ]\n",
            "--------------------\n",
            "[-258.62325224  124.60493167 -123.44434603  129.62567091 -126.55573943\n",
            "  182.49956416 -260.18076097  176.0966076 ]\n",
            "--------------------\n",
            "[ 72.40980573 254.65432032  96.32125693 248.69475495 106.33236165\n",
            " 278.76115554  80.86702579 286.10293824]\n",
            "--------------------\n",
            "[ 81.21273616 280.22806121 106.50521684 275.82371703 116.42989397\n",
            " 307.35883688  91.13741329 311.76318107]\n",
            "--------------------\n",
            "[-288.15974519  326.25016595 -164.80692319  332.04760898 -166.79656989\n",
            "  390.88288119 -290.1493919   385.08543816]\n",
            "--------------------\n",
            "[ 21.92214416 111.66591363 148.20988032 117.63636053 144.83920413\n",
            " 174.91641155  20.01892505 169.03246658]\n",
            "--------------------\n",
            "[1 1 1 1 1 1 1 1 1 1]\n"
          ],
          "name": "stdout"
        }
      ]
    },
    {
      "cell_type": "code",
      "metadata": {
        "id": "-Be5YdfbbSCs",
        "colab_type": "code",
        "outputId": "4ec02927-d832-44da-9bfe-cd52d36f8511",
        "colab": {
          "base_uri": "https://localhost:8080/",
          "height": 35
        }
      },
      "source": [
        "score_map, geo_map, ignored_map = get_score_geo(img, vertices, labels, 0.25, 512)\n",
        "\n",
        "torch.sum(score_map)"
      ],
      "execution_count": 7,
      "outputs": [
        {
          "output_type": "execute_result",
          "data": {
            "text/plain": [
              "tensor(477.)"
            ]
          },
          "metadata": {
            "tags": []
          },
          "execution_count": 7
        }
      ]
    },
    {
      "cell_type": "markdown",
      "metadata": {
        "id": "VsangoljUZ6v",
        "colab_type": "text"
      },
      "source": [
        "## Loss for one batch"
      ]
    },
    {
      "cell_type": "code",
      "metadata": {
        "id": "xmbW10gwUTRX",
        "colab_type": "code",
        "outputId": "49759ef4-483b-417b-94e0-40948e3a4178",
        "colab": {
          "base_uri": "https://localhost:8080/",
          "height": 90
        }
      },
      "source": [
        "%%time\n",
        "train_loader = DataLoader(training_dataset, shuffle = True, batch_size=12)\n",
        "imgs, gt_score, gt_geo, ignored_maps = next(iter(train_loader))\n",
        "print(imgs.size(), gt_score.size(), gt_geo.size(), ignored_maps.size())\n",
        "print(torch.sum(gt_score))"
      ],
      "execution_count": 8,
      "outputs": [
        {
          "output_type": "stream",
          "text": [
            "torch.Size([12, 3, 512, 512]) torch.Size([12, 1, 128, 128]) torch.Size([12, 5, 128, 128]) torch.Size([12, 1, 128, 128])\n",
            "tensor(5795.)\n",
            "CPU times: user 4.96 s, sys: 6.68 s, total: 11.6 s\n",
            "Wall time: 12.7 s\n"
          ],
          "name": "stdout"
        }
      ]
    },
    {
      "cell_type": "code",
      "metadata": {
        "id": "xB4hqsQXKyc0",
        "colab_type": "code",
        "colab": {
          "base_uri": "https://localhost:8080/",
          "height": 35
        },
        "outputId": "00daca06-c376-4059-872f-cdc43064b8ef"
      },
      "source": [
        "device = torch.device(\"cuda:0\" if torch.cuda.is_available() else \"cpu\")\n",
        "device"
      ],
      "execution_count": 9,
      "outputs": [
        {
          "output_type": "execute_result",
          "data": {
            "text/plain": [
              "device(type='cuda', index=0)"
            ]
          },
          "metadata": {
            "tags": []
          },
          "execution_count": 9
        }
      ]
    },
    {
      "cell_type": "code",
      "metadata": {
        "id": "jSuLu7o3r0oA",
        "colab_type": "code",
        "outputId": "fdf8c229-0e00-4735-a546-e985fbad01af",
        "colab": {
          "base_uri": "https://localhost:8080/",
          "height": 72
        }
      },
      "source": [
        "%%time\n",
        "from model import EAST\n",
        "model = EAST()\n",
        "pretrained_path = '/content/drive/My Drive/Colab Notebooks (1)/padh.ai.notebooks/15. Object Detection/EAST scene text detector/east_vgg16.pth'\n",
        "state_dict = torch.load(pretrained_path)\n",
        "model.load_state_dict(state_dict)\n",
        "model = model.to(device)\n",
        "imgs, gt_score, gt_geo, ignored_maps = imgs.to(device), gt_score.to(device), gt_geo.to(device), ignored_maps.to(device)\n",
        "pred_score, pred_geo = model(imgs)\n",
        "\n",
        "print(pred_score.size(), pred_geo.size())"
      ],
      "execution_count": 10,
      "outputs": [
        {
          "output_type": "stream",
          "text": [
            "torch.Size([12, 1, 128, 128]) torch.Size([12, 5, 128, 128])\n",
            "CPU times: user 4.05 s, sys: 845 ms, total: 4.89 s\n",
            "Wall time: 4.84 s\n"
          ],
          "name": "stdout"
        }
      ]
    },
    {
      "cell_type": "code",
      "metadata": {
        "id": "9dwKLUhtVIt9",
        "colab_type": "code",
        "outputId": "3f0fc9c5-b5ba-4e00-e421-56568b967882",
        "colab": {
          "base_uri": "https://localhost:8080/",
          "height": 54
        }
      },
      "source": [
        "from loss import Loss\n",
        "\n",
        "loss_fn = Loss()\n",
        "loss_fn(gt_score, pred_score, gt_geo, pred_geo, ignored_maps)"
      ],
      "execution_count": 11,
      "outputs": [
        {
          "output_type": "stream",
          "text": [
            "classify loss is 0.67216349, angle loss is 0.03908067, iou loss is 0.68666452\n"
          ],
          "name": "stdout"
        },
        {
          "output_type": "execute_result",
          "data": {
            "text/plain": [
              "tensor(1.7496, device='cuda:0', grad_fn=<AddBackward0>)"
            ]
          },
          "metadata": {
            "tags": []
          },
          "execution_count": 11
        }
      ]
    },
    {
      "cell_type": "markdown",
      "metadata": {
        "id": "03aAZoSGXTLf",
        "colab_type": "text"
      },
      "source": [
        "## Training Full Batch \n",
        "\n",
        "fine tuning pretrained model [east_vgg16.pth](https://drive.google.com/file/d/1AFABkJgr5VtxWnmBU3XcfLJvpZkC2TAg/view)"
      ]
    },
    {
      "cell_type": "code",
      "metadata": {
        "id": "IxuHC3Wybb7O",
        "colab_type": "code",
        "colab": {}
      },
      "source": [
        "model = EAST()\n",
        "pretrained_path = '/content/drive/My Drive/Colab Notebooks (1)/padh.ai.notebooks/15. Object Detection/EAST scene text detector/east_vgg16.pth'\n",
        "state_dict = torch.load(pretrained_path)\n",
        "model.load_state_dict(state_dict)\n",
        "model = model.to(device)"
      ],
      "execution_count": 0,
      "outputs": []
    },
    {
      "cell_type": "code",
      "metadata": {
        "id": "XeIQGzb6XVa9",
        "colab_type": "code",
        "colab": {}
      },
      "source": [
        "def train(model, train_img_path, train_gt_path, batch_size, lr, epoch_iter, num_workers=4, interval=1):\n",
        "    file_num = len(os.listdir(train_img_path))\n",
        "    print(file_num)\n",
        "    trainset = custom_dataset(train_img_path, train_gt_path)\n",
        "    train_loader = data.DataLoader(trainset, batch_size=batch_size, \\\n",
        "                                   shuffle=True, num_workers=num_workers, drop_last=True)\n",
        "\t\n",
        "    criterion = Loss()\n",
        "    device = torch.device(\"cuda:0\" if torch.cuda.is_available() else \"cpu\")\n",
        "    model.to(device)\n",
        "    optimizer = torch.optim.AdamW(model.parameters(), lr=lr, weight_decay=1e-4)\n",
        "    #scheduler = lr_scheduler.StepLR(optimizer, step_size=epoch_iter, gamma=0.1)\n",
        "    loss_curve = []\n",
        "    \n",
        "    for epoch in range(epoch_iter):\n",
        "      model.train()\n",
        "      #scheduler.step()\n",
        "      epoch_loss = 0\n",
        "      epoch_time = time.time()\n",
        "      for i, (img, gt_score, gt_geo, ignored_map) in enumerate(train_loader):\n",
        "        start_time = time.time()\n",
        "        img, gt_score, gt_geo, ignored_map = img.to(device), gt_score.to(device), gt_geo.to(device), ignored_map.to(device)\n",
        "        pred_score, pred_geo = model(img)\n",
        "        loss = criterion(gt_score, pred_score, gt_geo, pred_geo, ignored_map)\n",
        "\n",
        "        epoch_loss += loss.item()\n",
        "        optimizer.zero_grad()\n",
        "        loss.backward()\n",
        "        optimizer.step()\n",
        "\n",
        "        print('Epoch is [{}/{}], mini-batch is [{}/{}], time consumption is {:.8f}, batch_loss is {:.8f}'.format(\\\n",
        "                  epoch+1, epoch_iter, i+1, int(file_num/batch_size), time.time()-start_time, loss.item()))\n",
        "        \n",
        "      print('epoch_loss is {:.8f}, epoch_time is {:.8f}'.format(epoch_loss/int(file_num/batch_size), time.time()-epoch_time))\n",
        "      print(time.asctime(time.localtime(time.time())))\n",
        "      print('='*50)\n",
        "      \n",
        "      \n",
        "      if (epoch + 1) % interval == 0:\n",
        "        state_dict = model.state_dict()\n",
        "        torch.save(state_dict, 'model_epoch_{}.pth'.format(epoch+1))\n",
        "      \n",
        "      ## plotting the loss curve\n",
        "      loss_curve.append(epoch_loss/int(file_num/batch_size))\n",
        "    return loss_curve"
      ],
      "execution_count": 0,
      "outputs": []
    },
    {
      "cell_type": "code",
      "metadata": {
        "id": "pPd8lPc5N7qr",
        "colab_type": "code",
        "outputId": "d58af27b-9981-47e2-fb32-bc1010679197",
        "colab": {
          "base_uri": "https://localhost:8080/",
          "height": 1000
        }
      },
      "source": [
        "%%time\n",
        "loss_curve = train(model, image_folder, label_folder, batch_size=2, lr=1e-4, epoch_iter=10, interval = 1)"
      ],
      "execution_count": 0,
      "outputs": [
        {
          "output_type": "stream",
          "text": [
            "5000\n",
            "classify loss is 0.83189690, angle loss is 0.01564349, iou loss is 0.66675836\n",
            "Epoch is [1/10], mini-batch is [1/2500], time consumption is 0.41986227, batch_loss is 1.65509009\n",
            "classify loss is 0.91481495, angle loss is 0.04153585, iou loss is 0.70476246\n",
            "Epoch is [1/10], mini-batch is [2/2500], time consumption is 0.33698487, batch_loss is 2.03493595\n",
            "classify loss is 0.68110538, angle loss is 0.02378340, iou loss is 0.47851628\n",
            "Epoch is [1/10], mini-batch is [3/2500], time consumption is 0.31375933, batch_loss is 1.39745569\n",
            "classify loss is 0.87845224, angle loss is 0.07874695, iou loss is 0.91707355\n",
            "Epoch is [1/10], mini-batch is [4/2500], time consumption is 0.33422780, batch_loss is 2.58299541\n",
            "classify loss is 0.30888748, angle loss is 0.01639923, iou loss is 0.38811854\n",
            "Epoch is [1/10], mini-batch is [5/2500], time consumption is 0.29674673, batch_loss is 0.86099827\n",
            "classify loss is 0.99999917, angle loss is 0.16491562, iou loss is 1.08096695\n",
            "Epoch is [1/10], mini-batch is [6/2500], time consumption is 0.34046602, batch_loss is 3.73012209\n",
            "classify loss is 0.99939084, angle loss is 0.04047994, iou loss is 0.80945444\n",
            "Epoch is [1/10], mini-batch is [7/2500], time consumption is 0.30030441, batch_loss is 2.21364474\n",
            "classify loss is 0.76640719, angle loss is 0.09630308, iou loss is 0.72159725\n",
            "Epoch is [1/10], mini-batch is [8/2500], time consumption is 0.28523970, batch_loss is 2.45103526\n",
            "classify loss is 0.90725952, angle loss is 0.03991425, iou loss is 0.71584201\n",
            "Epoch is [1/10], mini-batch is [9/2500], time consumption is 0.28876662, batch_loss is 2.02224398\n",
            "classify loss is 0.81875199, angle loss is 0.01789092, iou loss is 0.68657696\n",
            "Epoch is [1/10], mini-batch is [10/2500], time consumption is 0.34692311, batch_loss is 1.68423820\n",
            "classify loss is 0.74045467, angle loss is 0.03769526, iou loss is 0.65954280\n",
            "Epoch is [1/10], mini-batch is [11/2500], time consumption is 0.30207562, batch_loss is 1.77695012\n",
            "classify loss is 0.66546834, angle loss is 0.01817697, iou loss is 0.55508620\n",
            "Epoch is [1/10], mini-batch is [12/2500], time consumption is 0.37402129, batch_loss is 1.40232420\n",
            "classify loss is 0.64812064, angle loss is 0.05329532, iou loss is 0.83305550\n",
            "Epoch is [1/10], mini-batch is [13/2500], time consumption is 0.33763671, batch_loss is 2.01412940\n",
            "classify loss is 0.55354309, angle loss is 0.02216804, iou loss is 0.60930973\n",
            "Epoch is [1/10], mini-batch is [14/2500], time consumption is 0.30009770, batch_loss is 1.38453317\n",
            "classify loss is 0.52472085, angle loss is 0.05484781, iou loss is 0.73882610\n",
            "Epoch is [1/10], mini-batch is [15/2500], time consumption is 0.32896519, batch_loss is 1.81202507\n",
            "classify loss is 0.70295507, angle loss is 0.02610026, iou loss is 0.58384651\n",
            "Epoch is [1/10], mini-batch is [16/2500], time consumption is 0.37618256, batch_loss is 1.54780412\n",
            "classify loss is 0.61985052, angle loss is 0.01544206, iou loss is 0.67887336\n",
            "Epoch is [1/10], mini-batch is [17/2500], time consumption is 0.30951118, batch_loss is 1.45314443\n",
            "classify loss is 0.24618483, angle loss is 0.00785823, iou loss is 0.45327249\n",
            "Epoch is [1/10], mini-batch is [18/2500], time consumption is 0.30116773, batch_loss is 0.77803963\n",
            "classify loss is 0.33555293, angle loss is 0.00339773, iou loss is 0.37690240\n",
            "Epoch is [1/10], mini-batch is [19/2500], time consumption is 0.30170155, batch_loss is 0.74643266\n",
            "classify loss is 0.99999982, angle loss is 0.01241757, iou loss is 1.21551383\n",
            "Epoch is [1/10], mini-batch is [20/2500], time consumption is 0.31092048, batch_loss is 2.33968925\n",
            "classify loss is 0.95200384, angle loss is 0.00432831, iou loss is 0.87577772\n",
            "Epoch is [1/10], mini-batch is [21/2500], time consumption is 0.32584405, batch_loss is 1.87106466\n",
            "classify loss is 0.64624435, angle loss is 0.02971551, iou loss is 0.70345074\n",
            "Epoch is [1/10], mini-batch is [22/2500], time consumption is 0.34997106, batch_loss is 1.64685011\n",
            "classify loss is 0.34309083, angle loss is 0.04573703, iou loss is 0.57899708\n",
            "Epoch is [1/10], mini-batch is [23/2500], time consumption is 0.42712259, batch_loss is 1.37945819\n",
            "classify loss is 0.73609048, angle loss is 0.09299496, iou loss is 0.71352732\n",
            "Epoch is [1/10], mini-batch is [24/2500], time consumption is 0.33240557, batch_loss is 2.37956738\n",
            "classify loss is 0.35900116, angle loss is 0.01239165, iou loss is 0.47862884\n",
            "Epoch is [1/10], mini-batch is [25/2500], time consumption is 0.33064604, batch_loss is 0.96154648\n",
            "classify loss is 0.78893399, angle loss is 0.04472367, iou loss is 0.91640931\n",
            "Epoch is [1/10], mini-batch is [26/2500], time consumption is 0.31077385, batch_loss is 2.15258002\n",
            "classify loss is 0.49051511, angle loss is 0.05866302, iou loss is 0.77578068\n",
            "Epoch is [1/10], mini-batch is [27/2500], time consumption is 0.41781616, batch_loss is 1.85292602\n",
            "classify loss is 0.24682784, angle loss is 0.00507941, iou loss is 0.29079351\n",
            "Epoch is [1/10], mini-batch is [28/2500], time consumption is 0.29247522, batch_loss is 0.58841544\n",
            "classify loss is 0.24818420, angle loss is 0.00222513, iou loss is 0.27252689\n",
            "Epoch is [1/10], mini-batch is [29/2500], time consumption is 0.33380318, batch_loss is 0.54296237\n",
            "classify loss is 0.45874310, angle loss is 0.02317936, iou loss is 0.48301631\n",
            "Epoch is [1/10], mini-batch is [30/2500], time consumption is 0.29621959, batch_loss is 1.17355299\n",
            "classify loss is 0.27792197, angle loss is 0.00127520, iou loss is 0.30793378\n",
            "Epoch is [1/10], mini-batch is [31/2500], time consumption is 0.39319968, batch_loss is 0.59860772\n",
            "classify loss is 0.60726964, angle loss is 0.07242694, iou loss is 0.72864825\n",
            "Epoch is [1/10], mini-batch is [32/2500], time consumption is 0.34252143, batch_loss is 2.06018734\n",
            "classify loss is 0.37532067, angle loss is 0.01085085, iou loss is 0.54058158\n",
            "Epoch is [1/10], mini-batch is [33/2500], time consumption is 0.33908510, batch_loss is 1.02441072\n",
            "classify loss is 0.34059846, angle loss is 0.02098799, iou loss is 0.69749367\n",
            "Epoch is [1/10], mini-batch is [34/2500], time consumption is 0.29830313, batch_loss is 1.24797201\n",
            "classify loss is 0.51323450, angle loss is 0.02679968, iou loss is 0.53087801\n",
            "Epoch is [1/10], mini-batch is [35/2500], time consumption is 0.33701491, batch_loss is 1.31210923\n",
            "classify loss is 0.50182164, angle loss is 0.06442100, iou loss is 0.98108053\n",
            "Epoch is [1/10], mini-batch is [36/2500], time consumption is 0.30710745, batch_loss is 2.12711215\n",
            "classify loss is 0.58668101, angle loss is 0.01846062, iou loss is 0.69760573\n",
            "Epoch is [1/10], mini-batch is [37/2500], time consumption is 0.30653429, batch_loss is 1.46889293\n",
            "classify loss is 0.72263038, angle loss is 0.01216734, iou loss is 0.82743305\n",
            "Epoch is [1/10], mini-batch is [38/2500], time consumption is 0.29671049, batch_loss is 1.67173672\n",
            "classify loss is 0.99829888, angle loss is 0.14796562, iou loss is 1.47899139\n",
            "Epoch is [1/10], mini-batch is [39/2500], time consumption is 0.30946422, batch_loss is 3.95694661\n",
            "classify loss is 0.34658217, angle loss is 0.02801810, iou loss is 0.65800166\n",
            "Epoch is [1/10], mini-batch is [40/2500], time consumption is 0.30701041, batch_loss is 1.28476477\n",
            "classify loss is 0.49124902, angle loss is 0.00828215, iou loss is 0.43585846\n",
            "Epoch is [1/10], mini-batch is [41/2500], time consumption is 0.29204726, batch_loss is 1.00992894\n",
            "classify loss is 0.69669986, angle loss is 0.00091399, iou loss is 0.43921238\n",
            "Epoch is [1/10], mini-batch is [42/2500], time consumption is 0.32552624, batch_loss is 1.14505219\n",
            "classify loss is 0.26652634, angle loss is 0.00209361, iou loss is 0.39178494\n",
            "Epoch is [1/10], mini-batch is [43/2500], time consumption is 0.37958574, batch_loss is 0.67924744\n",
            "classify loss is 0.38226128, angle loss is 0.02590876, iou loss is 0.49165264\n",
            "Epoch is [1/10], mini-batch is [44/2500], time consumption is 0.39167047, batch_loss is 1.13300145\n",
            "classify loss is 0.43999946, angle loss is 0.01178537, iou loss is 0.45814365\n",
            "Epoch is [1/10], mini-batch is [45/2500], time consumption is 0.33621979, batch_loss is 1.01599681\n",
            "classify loss is 0.29042500, angle loss is 0.06046875, iou loss is 0.56203324\n",
            "Epoch is [1/10], mini-batch is [46/2500], time consumption is 0.35679698, batch_loss is 1.45714569\n",
            "classify loss is 0.47886652, angle loss is 0.04281363, iou loss is 0.56685710\n",
            "Epoch is [1/10], mini-batch is [47/2500], time consumption is 0.30972004, batch_loss is 1.47385991\n",
            "classify loss is 0.57153475, angle loss is 0.04686533, iou loss is 0.97083068\n",
            "Epoch is [1/10], mini-batch is [48/2500], time consumption is 0.37002420, batch_loss is 2.01101875\n",
            "classify loss is 0.40164888, angle loss is 0.03107074, iou loss is 0.79935795\n",
            "Epoch is [1/10], mini-batch is [49/2500], time consumption is 0.31484485, batch_loss is 1.51171422\n",
            "classify loss is 0.59489202, angle loss is 0.13349599, iou loss is 0.85684168\n",
            "Epoch is [1/10], mini-batch is [50/2500], time consumption is 0.31597209, batch_loss is 2.78669357\n",
            "classify loss is 0.62782663, angle loss is 0.04052935, iou loss is 0.88496810\n",
            "Epoch is [1/10], mini-batch is [51/2500], time consumption is 0.36690712, batch_loss is 1.91808820\n",
            "classify loss is 0.99972975, angle loss is 0.00158490, iou loss is 0.70688486\n",
            "Epoch is [1/10], mini-batch is [52/2500], time consumption is 0.31047654, batch_loss is 1.72246361\n",
            "classify loss is 0.37591755, angle loss is 0.00373787, iou loss is 0.27793187\n",
            "Epoch is [1/10], mini-batch is [53/2500], time consumption is 0.37439275, batch_loss is 0.69122815\n",
            "classify loss is 0.33544904, angle loss is 0.01789905, iou loss is 0.49768490\n",
            "Epoch is [1/10], mini-batch is [54/2500], time consumption is 0.28618002, batch_loss is 1.01212454\n",
            "classify loss is 0.66608894, angle loss is 0.02156382, iou loss is 0.87642139\n",
            "Epoch is [1/10], mini-batch is [55/2500], time consumption is 0.37523603, batch_loss is 1.75814855\n",
            "classify loss is 0.28903770, angle loss is 0.06651340, iou loss is 0.64673942\n",
            "Epoch is [1/10], mini-batch is [56/2500], time consumption is 0.32359982, batch_loss is 1.60091114\n",
            "classify loss is 0.42774415, angle loss is 0.01668333, iou loss is 0.43510792\n",
            "Epoch is [1/10], mini-batch is [57/2500], time consumption is 0.30502868, batch_loss is 1.02968538\n",
            "classify loss is 0.62358308, angle loss is 0.07001983, iou loss is 0.76893407\n",
            "Epoch is [1/10], mini-batch is [58/2500], time consumption is 0.31670380, batch_loss is 2.09271550\n",
            "classify loss is 0.87667310, angle loss is 0.03333031, iou loss is 0.75518209\n",
            "Epoch is [1/10], mini-batch is [59/2500], time consumption is 0.30273414, batch_loss is 1.96515822\n",
            "classify loss is 0.41423810, angle loss is 0.04318769, iou loss is 0.64726084\n",
            "Epoch is [1/10], mini-batch is [60/2500], time consumption is 0.40710664, batch_loss is 1.49337590\n",
            "classify loss is 0.50586307, angle loss is 0.06545246, iou loss is 0.67263842\n",
            "Epoch is [1/10], mini-batch is [61/2500], time consumption is 0.31798935, batch_loss is 1.83302605\n",
            "classify loss is 0.25811255, angle loss is 0.00456592, iou loss is 0.26721790\n",
            "Epoch is [1/10], mini-batch is [62/2500], time consumption is 0.35673356, batch_loss is 0.57098961\n",
            "classify loss is 0.49940932, angle loss is 0.01402843, iou loss is 0.51837558\n",
            "Epoch is [1/10], mini-batch is [63/2500], time consumption is 0.30908799, batch_loss is 1.15806925\n",
            "classify loss is 0.23760176, angle loss is 0.00865020, iou loss is 0.34304392\n",
            "Epoch is [1/10], mini-batch is [64/2500], time consumption is 0.34195971, batch_loss is 0.66714770\n",
            "classify loss is 0.50117284, angle loss is 0.00700894, iou loss is 0.55012661\n",
            "Epoch is [1/10], mini-batch is [65/2500], time consumption is 0.30269170, batch_loss is 1.12138891\n",
            "classify loss is 0.33782411, angle loss is 0.00892849, iou loss is 0.42396307\n",
            "Epoch is [1/10], mini-batch is [66/2500], time consumption is 0.28525829, batch_loss is 0.85107213\n",
            "classify loss is 0.99360013, angle loss is 0.05198655, iou loss is 1.29671061\n",
            "Epoch is [1/10], mini-batch is [67/2500], time consumption is 0.35724592, batch_loss is 2.81017613\n",
            "classify loss is 0.52867317, angle loss is 0.02911450, iou loss is 0.78373706\n",
            "Epoch is [1/10], mini-batch is [68/2500], time consumption is 0.31973457, batch_loss is 1.60355520\n",
            "classify loss is 0.34235442, angle loss is 0.18546310, iou loss is 0.78844744\n",
            "Epoch is [1/10], mini-batch is [69/2500], time consumption is 0.32612109, batch_loss is 2.98543262\n",
            "Epoch is [1/10], mini-batch is [70/2500], time consumption is 0.27998972, batch_loss is 0.00000000\n",
            "classify loss is 0.53348517, angle loss is 0.10500205, iou loss is 0.42085567\n",
            "Epoch is [1/10], mini-batch is [71/2500], time consumption is 0.44477987, batch_loss is 2.00436139\n",
            "classify loss is 0.81854016, angle loss is 0.00474221, iou loss is 0.78908670\n",
            "Epoch is [1/10], mini-batch is [72/2500], time consumption is 0.28719544, batch_loss is 1.65504909\n",
            "classify loss is 0.52632523, angle loss is 0.01712686, iou loss is 0.75505781\n",
            "Epoch is [1/10], mini-batch is [73/2500], time consumption is 0.40414548, batch_loss is 1.45265162\n",
            "classify loss is 0.57350892, angle loss is 0.06692968, iou loss is 0.79148072\n",
            "Epoch is [1/10], mini-batch is [74/2500], time consumption is 0.27706170, batch_loss is 2.03428650\n",
            "classify loss is 0.87283826, angle loss is 0.04023260, iou loss is 1.28070760\n",
            "Epoch is [1/10], mini-batch is [75/2500], time consumption is 0.37731504, batch_loss is 2.55587196\n",
            "classify loss is 0.71790969, angle loss is 0.02467623, iou loss is 0.58831698\n",
            "Epoch is [1/10], mini-batch is [76/2500], time consumption is 0.37071013, batch_loss is 1.55298901\n",
            "classify loss is 0.70262259, angle loss is 0.07398982, iou loss is 0.72216105\n",
            "Epoch is [1/10], mini-batch is [77/2500], time consumption is 0.34711051, batch_loss is 2.16468191\n",
            "classify loss is 0.49898720, angle loss is 0.03369895, iou loss is 0.82250810\n",
            "Epoch is [1/10], mini-batch is [78/2500], time consumption is 0.34719467, batch_loss is 1.65848470\n",
            "classify loss is 0.73308098, angle loss is 0.00493042, iou loss is 0.42477468\n",
            "Epoch is [1/10], mini-batch is [79/2500], time consumption is 0.32444692, batch_loss is 1.20715976\n",
            "classify loss is 0.60751045, angle loss is 0.09786324, iou loss is 0.74225938\n",
            "Epoch is [1/10], mini-batch is [80/2500], time consumption is 0.37295318, batch_loss is 2.32840228\n",
            "classify loss is 0.54954600, angle loss is 0.04093618, iou loss is 0.68957126\n",
            "Epoch is [1/10], mini-batch is [81/2500], time consumption is 0.32843137, batch_loss is 1.64847898\n",
            "classify loss is 0.37535548, angle loss is 0.01276032, iou loss is 0.39911565\n",
            "Epoch is [1/10], mini-batch is [82/2500], time consumption is 0.40156627, batch_loss is 0.90207434\n",
            "classify loss is 0.69016492, angle loss is 0.09079072, iou loss is 0.77355748\n",
            "Epoch is [1/10], mini-batch is [83/2500], time consumption is 0.30571151, batch_loss is 2.37162971\n",
            "classify loss is 0.39056581, angle loss is 0.00201759, iou loss is 0.44004068\n",
            "Epoch is [1/10], mini-batch is [84/2500], time consumption is 0.30366731, batch_loss is 0.85078239\n",
            "classify loss is 0.49952149, angle loss is 0.03070570, iou loss is 0.60065615\n",
            "Epoch is [1/10], mini-batch is [85/2500], time consumption is 0.32479477, batch_loss is 1.40723467\n",
            "classify loss is 0.45822185, angle loss is 0.04506757, iou loss is 0.59695566\n",
            "Epoch is [1/10], mini-batch is [86/2500], time consumption is 0.36466265, batch_loss is 1.50585318\n",
            "classify loss is 0.40504843, angle loss is 0.00978977, iou loss is 0.70653588\n",
            "Epoch is [1/10], mini-batch is [87/2500], time consumption is 0.31346202, batch_loss is 1.20948195\n",
            "classify loss is 0.67591321, angle loss is 0.02487277, iou loss is 0.98822385\n",
            "Epoch is [1/10], mini-batch is [88/2500], time consumption is 0.33220100, batch_loss is 1.91286480\n",
            "classify loss is 0.33452070, angle loss is 0.01606588, iou loss is 0.65409768\n",
            "Epoch is [1/10], mini-batch is [89/2500], time consumption is 0.33306170, batch_loss is 1.14927721\n",
            "classify loss is 0.60910428, angle loss is 0.07092666, iou loss is 0.87785554\n",
            "Epoch is [1/10], mini-batch is [90/2500], time consumption is 0.35341525, batch_loss is 2.19622660\n",
            "classify loss is 0.40230411, angle loss is 0.03885973, iou loss is 0.50651240\n",
            "Epoch is [1/10], mini-batch is [91/2500], time consumption is 0.39134216, batch_loss is 1.29741383\n",
            "classify loss is 0.54080236, angle loss is 0.00987142, iou loss is 0.66673690\n",
            "Epoch is [1/10], mini-batch is [92/2500], time consumption is 0.36686611, batch_loss is 1.30625343\n",
            "classify loss is 0.53432178, angle loss is 0.00475347, iou loss is 0.45681965\n",
            "Epoch is [1/10], mini-batch is [93/2500], time consumption is 0.28982401, batch_loss is 1.03867614\n",
            "classify loss is 0.56403255, angle loss is 0.01655510, iou loss is 0.59248346\n",
            "Epoch is [1/10], mini-batch is [94/2500], time consumption is 0.37658834, batch_loss is 1.32206702\n",
            "classify loss is 0.38378543, angle loss is 0.02878621, iou loss is 0.46945867\n",
            "Epoch is [1/10], mini-batch is [95/2500], time consumption is 0.31269717, batch_loss is 1.14110613\n",
            "classify loss is 0.56646287, angle loss is 0.08893412, iou loss is 0.89945847\n",
            "Epoch is [1/10], mini-batch is [96/2500], time consumption is 0.36934638, batch_loss is 2.35526252\n",
            "classify loss is 0.57418370, angle loss is 0.01103723, iou loss is 0.59665346\n",
            "Epoch is [1/10], mini-batch is [97/2500], time consumption is 0.31672311, batch_loss is 1.28120947\n",
            "classify loss is 0.24226427, angle loss is 0.00890008, iou loss is 0.33711797\n",
            "Epoch is [1/10], mini-batch is [98/2500], time consumption is 0.28525043, batch_loss is 0.66838300\n",
            "classify loss is 0.57710147, angle loss is 0.04865170, iou loss is 0.80261272\n",
            "Epoch is [1/10], mini-batch is [99/2500], time consumption is 0.36564255, batch_loss is 1.86623120\n",
            "classify loss is 0.32137477, angle loss is 0.07439481, iou loss is 0.65059227\n",
            "Epoch is [1/10], mini-batch is [100/2500], time consumption is 0.34192944, batch_loss is 1.71591520\n",
            "classify loss is 0.99635136, angle loss is 0.08459882, iou loss is 0.97207373\n",
            "Epoch is [1/10], mini-batch is [101/2500], time consumption is 0.36494660, batch_loss is 2.81441355\n",
            "classify loss is 0.24673390, angle loss is 0.02101342, iou loss is 0.41223943\n",
            "Epoch is [1/10], mini-batch is [102/2500], time consumption is 0.30351973, batch_loss is 0.86910754\n",
            "classify loss is 0.57816648, angle loss is 0.02965431, iou loss is 0.65302652\n",
            "Epoch is [1/10], mini-batch is [103/2500], time consumption is 0.30820322, batch_loss is 1.52773607\n",
            "classify loss is 0.67104769, angle loss is 0.02999789, iou loss is 0.64485514\n",
            "Epoch is [1/10], mini-batch is [104/2500], time consumption is 0.36843085, batch_loss is 1.61588168\n",
            "classify loss is 0.54345292, angle loss is 0.02904265, iou loss is 0.70479566\n",
            "Epoch is [1/10], mini-batch is [105/2500], time consumption is 0.30613565, batch_loss is 1.53867507\n",
            "classify loss is 0.30923301, angle loss is 0.01182693, iou loss is 0.54067111\n",
            "Epoch is [1/10], mini-batch is [106/2500], time consumption is 0.28419065, batch_loss is 0.96817344\n",
            "classify loss is 0.40173620, angle loss is 0.06922485, iou loss is 0.73494190\n",
            "Epoch is [1/10], mini-batch is [107/2500], time consumption is 0.36782122, batch_loss is 1.82892656\n",
            "classify loss is 0.50528371, angle loss is 0.15561678, iou loss is 0.84948051\n",
            "Epoch is [1/10], mini-batch is [108/2500], time consumption is 0.34811735, batch_loss is 2.91093206\n",
            "classify loss is 0.42123342, angle loss is 0.03293204, iou loss is 0.76633340\n",
            "Epoch is [1/10], mini-batch is [109/2500], time consumption is 0.35375953, batch_loss is 1.51688719\n",
            "classify loss is 0.82013255, angle loss is 0.14560170, iou loss is 2.14392996\n",
            "Epoch is [1/10], mini-batch is [110/2500], time consumption is 0.33103418, batch_loss is 4.42007971\n",
            "classify loss is 0.74365544, angle loss is 0.01958720, iou loss is 0.81019491\n",
            "Epoch is [1/10], mini-batch is [111/2500], time consumption is 0.30691099, batch_loss is 1.74972236\n",
            "classify loss is 0.44087905, angle loss is 0.01478311, iou loss is 0.52922738\n",
            "Epoch is [1/10], mini-batch is [112/2500], time consumption is 0.30262971, batch_loss is 1.11793756\n",
            "classify loss is 0.31463283, angle loss is 0.05185935, iou loss is 0.47549182\n",
            "Epoch is [1/10], mini-batch is [113/2500], time consumption is 0.31443691, batch_loss is 1.30871809\n",
            "classify loss is 0.41949224, angle loss is 0.02671233, iou loss is 0.54000270\n",
            "Epoch is [1/10], mini-batch is [114/2500], time consumption is 0.28166819, batch_loss is 1.22661829\n",
            "classify loss is 0.52892125, angle loss is 0.01628102, iou loss is 0.50748450\n",
            "Epoch is [1/10], mini-batch is [115/2500], time consumption is 0.30263591, batch_loss is 1.19921589\n",
            "classify loss is 0.22525012, angle loss is 0.00393609, iou loss is 0.50506204\n",
            "Epoch is [1/10], mini-batch is [116/2500], time consumption is 0.37023950, batch_loss is 0.76967305\n",
            "classify loss is 0.51140743, angle loss is 0.01470170, iou loss is 0.68924069\n",
            "Epoch is [1/10], mini-batch is [117/2500], time consumption is 0.35857821, batch_loss is 1.34766507\n",
            "classify loss is 0.32671690, angle loss is 0.01006629, iou loss is 0.58608359\n",
            "Epoch is [1/10], mini-batch is [118/2500], time consumption is 0.31534338, batch_loss is 1.01346338\n",
            "classify loss is 0.71211237, angle loss is 0.00241834, iou loss is 0.53877389\n",
            "Epoch is [1/10], mini-batch is [119/2500], time consumption is 0.30918384, batch_loss is 1.27506971\n",
            "classify loss is 0.55834317, angle loss is 0.00243725, iou loss is 0.26056871\n",
            "Epoch is [1/10], mini-batch is [120/2500], time consumption is 0.39966059, batch_loss is 0.84328437\n",
            "classify loss is 0.53117186, angle loss is 0.08338929, iou loss is 0.60924602\n",
            "Epoch is [1/10], mini-batch is [121/2500], time consumption is 0.28436613, batch_loss is 1.97431064\n",
            "classify loss is 0.28343004, angle loss is 0.00883008, iou loss is 0.40491897\n",
            "Epoch is [1/10], mini-batch is [122/2500], time consumption is 0.33888054, batch_loss is 0.77664983\n",
            "classify loss is 0.23592490, angle loss is 0.07278968, iou loss is 0.57181424\n",
            "Epoch is [1/10], mini-batch is [123/2500], time consumption is 0.31897020, batch_loss is 1.53563595\n",
            "classify loss is 0.41586566, angle loss is 0.00759131, iou loss is 0.57594734\n",
            "Epoch is [1/10], mini-batch is [124/2500], time consumption is 0.35109329, batch_loss is 1.06772614\n",
            "classify loss is 0.30534494, angle loss is 0.00667182, iou loss is 0.41603276\n",
            "Epoch is [1/10], mini-batch is [125/2500], time consumption is 0.31013346, batch_loss is 0.78809595\n",
            "classify loss is 0.49281090, angle loss is 0.00838013, iou loss is 0.56618232\n",
            "Epoch is [1/10], mini-batch is [126/2500], time consumption is 0.30235219, batch_loss is 1.14279449\n",
            "classify loss is 0.63425398, angle loss is 0.01759535, iou loss is 1.38307989\n",
            "Epoch is [1/10], mini-batch is [127/2500], time consumption is 0.31315136, batch_loss is 2.19328737\n",
            "classify loss is 0.29644990, angle loss is 0.01007100, iou loss is 0.29465139\n",
            "Epoch is [1/10], mini-batch is [128/2500], time consumption is 0.32638884, batch_loss is 0.69181132\n",
            "classify loss is 0.29090041, angle loss is 0.00727637, iou loss is 0.41347980\n",
            "Epoch is [1/10], mini-batch is [129/2500], time consumption is 0.30948377, batch_loss is 0.77714384\n",
            "classify loss is 0.33651060, angle loss is 0.00291650, iou loss is 0.41615629\n",
            "Epoch is [1/10], mini-batch is [130/2500], time consumption is 0.29188538, batch_loss is 0.78183192\n",
            "classify loss is 0.29435754, angle loss is 0.00339335, iou loss is 0.39984289\n",
            "Epoch is [1/10], mini-batch is [131/2500], time consumption is 0.38624644, batch_loss is 0.72813392\n",
            "classify loss is 0.39327657, angle loss is 0.01276358, iou loss is 0.40788218\n",
            "Epoch is [1/10], mini-batch is [132/2500], time consumption is 0.34542084, batch_loss is 0.92879450\n",
            "classify loss is 0.90825868, angle loss is 0.01643889, iou loss is 0.67331874\n",
            "Epoch is [1/10], mini-batch is [133/2500], time consumption is 0.42040682, batch_loss is 1.74596632\n",
            "classify loss is 0.35774803, angle loss is 0.03853947, iou loss is 0.43559021\n",
            "Epoch is [1/10], mini-batch is [134/2500], time consumption is 0.30294871, batch_loss is 1.17873287\n",
            "classify loss is 0.69430661, angle loss is 0.37835723, iou loss is 0.86565393\n",
            "Epoch is [1/10], mini-batch is [135/2500], time consumption is 0.32625747, batch_loss is 5.34353256\n",
            "classify loss is 0.29158932, angle loss is 0.00629556, iou loss is 0.29040584\n",
            "Epoch is [1/10], mini-batch is [136/2500], time consumption is 0.34691238, batch_loss is 0.64495081\n",
            "classify loss is 0.84641910, angle loss is 0.02313172, iou loss is 0.75155461\n",
            "Epoch is [1/10], mini-batch is [137/2500], time consumption is 0.36145782, batch_loss is 1.82929087\n",
            "classify loss is 0.66130662, angle loss is 0.11748049, iou loss is 0.91756922\n",
            "Epoch is [1/10], mini-batch is [138/2500], time consumption is 0.29815602, batch_loss is 2.75368071\n",
            "classify loss is 0.40964174, angle loss is 0.00611214, iou loss is 0.83747244\n",
            "Epoch is [1/10], mini-batch is [139/2500], time consumption is 0.32257867, batch_loss is 1.30823565\n",
            "classify loss is 0.53925073, angle loss is 0.15819442, iou loss is 0.96467644\n",
            "Epoch is [1/10], mini-batch is [140/2500], time consumption is 0.31133628, batch_loss is 3.08587122\n",
            "classify loss is 0.41278785, angle loss is 0.05271195, iou loss is 0.65407997\n",
            "Epoch is [1/10], mini-batch is [141/2500], time consumption is 0.38914871, batch_loss is 1.59398723\n",
            "classify loss is 0.36969918, angle loss is 0.00794170, iou loss is 0.77911073\n",
            "Epoch is [1/10], mini-batch is [142/2500], time consumption is 0.30463934, batch_loss is 1.22822690\n",
            "classify loss is 0.58905053, angle loss is 0.01215082, iou loss is 1.13772535\n",
            "Epoch is [1/10], mini-batch is [143/2500], time consumption is 0.35709810, batch_loss is 1.84828401\n",
            "classify loss is 0.33467323, angle loss is 0.00793482, iou loss is 0.33560055\n",
            "Epoch is [1/10], mini-batch is [144/2500], time consumption is 0.30683970, batch_loss is 0.74962193\n",
            "classify loss is 0.43448305, angle loss is 0.00438947, iou loss is 0.66567469\n",
            "Epoch is [1/10], mini-batch is [145/2500], time consumption is 0.35050464, batch_loss is 1.14405251\n",
            "classify loss is 0.45405537, angle loss is 0.00599904, iou loss is 0.55724782\n",
            "Epoch is [1/10], mini-batch is [146/2500], time consumption is 0.32216287, batch_loss is 1.07129359\n",
            "Epoch is [1/10], mini-batch is [147/2500], time consumption is 0.36021543, batch_loss is 0.00000000\n",
            "classify loss is 0.32810056, angle loss is 0.00506306, iou loss is 0.54916656\n",
            "Epoch is [1/10], mini-batch is [148/2500], time consumption is 0.35069680, batch_loss is 0.92789775\n",
            "classify loss is 0.32077301, angle loss is 0.03391863, iou loss is 0.86867303\n",
            "Epoch is [1/10], mini-batch is [149/2500], time consumption is 0.34138656, batch_loss is 1.52863228\n",
            "classify loss is 0.26254940, angle loss is 0.00796897, iou loss is 0.35769051\n",
            "Epoch is [1/10], mini-batch is [150/2500], time consumption is 0.33745599, batch_loss is 0.69992965\n",
            "classify loss is 0.73974907, angle loss is 0.11812785, iou loss is 1.40908968\n",
            "Epoch is [1/10], mini-batch is [151/2500], time consumption is 0.37294626, batch_loss is 3.33011723\n",
            "classify loss is 0.38442457, angle loss is 0.00915664, iou loss is 0.50023800\n",
            "Epoch is [1/10], mini-batch is [152/2500], time consumption is 0.35284066, batch_loss is 0.97622901\n",
            "classify loss is 0.28971112, angle loss is 0.00502849, iou loss is 0.33497342\n",
            "Epoch is [1/10], mini-batch is [153/2500], time consumption is 0.35865879, batch_loss is 0.67496943\n",
            "classify loss is 0.53284937, angle loss is 0.04834482, iou loss is 0.66989231\n",
            "Epoch is [1/10], mini-batch is [154/2500], time consumption is 0.35596275, batch_loss is 1.68618989\n",
            "classify loss is 0.27765781, angle loss is 0.00396566, iou loss is 0.29885083\n",
            "Epoch is [1/10], mini-batch is [155/2500], time consumption is 0.32709241, batch_loss is 0.61616516\n",
            "classify loss is 0.30717009, angle loss is 0.00911200, iou loss is 0.60148323\n",
            "Epoch is [1/10], mini-batch is [156/2500], time consumption is 0.31352210, batch_loss is 0.99977332\n",
            "classify loss is 0.46051866, angle loss is 0.11848177, iou loss is 0.95942616\n",
            "Epoch is [1/10], mini-batch is [157/2500], time consumption is 0.38781571, batch_loss is 2.60476232\n",
            "classify loss is 0.29701978, angle loss is 0.05978095, iou loss is 0.49557516\n",
            "Epoch is [1/10], mini-batch is [158/2500], time consumption is 0.30598998, batch_loss is 1.39040446\n",
            "classify loss is 0.54637653, angle loss is 0.05105026, iou loss is 0.70703989\n",
            "Epoch is [1/10], mini-batch is [159/2500], time consumption is 0.36619425, batch_loss is 1.76391888\n",
            "classify loss is 0.30880320, angle loss is 0.03692254, iou loss is 0.55831486\n",
            "Epoch is [1/10], mini-batch is [160/2500], time consumption is 0.35478425, batch_loss is 1.23634338\n",
            "classify loss is 0.59109437, angle loss is 0.01732374, iou loss is 1.19599473\n",
            "Epoch is [1/10], mini-batch is [161/2500], time consumption is 0.34162140, batch_loss is 1.96032655\n",
            "classify loss is 0.57836080, angle loss is 0.03283626, iou loss is 0.58748996\n",
            "Epoch is [1/10], mini-batch is [162/2500], time consumption is 0.28967071, batch_loss is 1.49421334\n",
            "classify loss is 0.44829547, angle loss is 0.02608185, iou loss is 0.75269687\n",
            "Epoch is [1/10], mini-batch is [163/2500], time consumption is 0.34827495, batch_loss is 1.46181095\n",
            "classify loss is 0.27934963, angle loss is 0.03880305, iou loss is 0.52451688\n",
            "Epoch is [1/10], mini-batch is [164/2500], time consumption is 0.31015015, batch_loss is 1.19189692\n",
            "classify loss is 0.68289113, angle loss is 0.14738365, iou loss is 0.82807916\n",
            "Epoch is [1/10], mini-batch is [165/2500], time consumption is 0.36259627, batch_loss is 2.98480678\n",
            "classify loss is 0.38487887, angle loss is 0.01018844, iou loss is 0.38301355\n",
            "Epoch is [1/10], mini-batch is [166/2500], time consumption is 0.32804775, batch_loss is 0.86977684\n",
            "classify loss is 0.44081807, angle loss is 0.00626569, iou loss is 0.57372659\n",
            "Epoch is [1/10], mini-batch is [167/2500], time consumption is 0.38265014, batch_loss is 1.07720160\n",
            "classify loss is 0.99977559, angle loss is 0.18711312, iou loss is 1.11927116\n",
            "Epoch is [1/10], mini-batch is [168/2500], time consumption is 0.34649158, batch_loss is 3.99017787\n",
            "classify loss is 0.46700561, angle loss is 0.00580693, iou loss is 0.28024831\n",
            "Epoch is [1/10], mini-batch is [169/2500], time consumption is 0.29979539, batch_loss is 0.80532324\n",
            "classify loss is 0.41664994, angle loss is 0.01359491, iou loss is 0.70520252\n",
            "Epoch is [1/10], mini-batch is [170/2500], time consumption is 0.35102725, batch_loss is 1.25780153\n",
            "classify loss is 0.39808786, angle loss is 0.00523130, iou loss is 0.53439337\n",
            "Epoch is [1/10], mini-batch is [171/2500], time consumption is 0.38229847, batch_loss is 0.98479420\n",
            "classify loss is 0.78846943, angle loss is 0.03279399, iou loss is 1.02690279\n",
            "Epoch is [1/10], mini-batch is [172/2500], time consumption is 0.30050039, batch_loss is 2.14331198\n",
            "classify loss is 0.44315046, angle loss is 0.00293864, iou loss is 0.47095126\n",
            "Epoch is [1/10], mini-batch is [173/2500], time consumption is 0.42277908, batch_loss is 0.94348818\n",
            "classify loss is 0.56073141, angle loss is 0.01220202, iou loss is 0.37202898\n",
            "Epoch is [1/10], mini-batch is [174/2500], time consumption is 0.34811091, batch_loss is 1.05478048\n",
            "classify loss is 0.99776191, angle loss is 0.01837252, iou loss is 0.98690754\n",
            "Epoch is [1/10], mini-batch is [175/2500], time consumption is 0.30668664, batch_loss is 2.16839457\n",
            "classify loss is 0.40565085, angle loss is 0.04031596, iou loss is 0.63177484\n",
            "Epoch is [1/10], mini-batch is [176/2500], time consumption is 0.36472154, batch_loss is 1.44058537\n",
            "classify loss is 0.25756335, angle loss is 0.01249635, iou loss is 0.42907566\n",
            "Epoch is [1/10], mini-batch is [177/2500], time consumption is 0.31972933, batch_loss is 0.81160253\n",
            "classify loss is 0.25224817, angle loss is 0.00710535, iou loss is 0.33778784\n",
            "Epoch is [1/10], mini-batch is [178/2500], time consumption is 0.30115414, batch_loss is 0.66108948\n",
            "classify loss is 0.99995458, angle loss is 0.01006914, iou loss is 0.79771399\n",
            "Epoch is [1/10], mini-batch is [179/2500], time consumption is 0.34437394, batch_loss is 1.89836001\n",
            "classify loss is 0.58615291, angle loss is 0.00363532, iou loss is 0.53617108\n",
            "Epoch is [1/10], mini-batch is [180/2500], time consumption is 0.34465909, batch_loss is 1.15867710\n",
            "classify loss is 0.99973404, angle loss is 0.00112981, iou loss is 1.27039695\n",
            "Epoch is [1/10], mini-batch is [181/2500], time consumption is 0.32879639, batch_loss is 2.28142929\n",
            "classify loss is 0.49984431, angle loss is 0.01178106, iou loss is 0.69523650\n",
            "Epoch is [1/10], mini-batch is [182/2500], time consumption is 0.27786255, batch_loss is 1.31289148\n",
            "classify loss is 0.36800063, angle loss is 0.11523286, iou loss is 0.57288688\n",
            "Epoch is [1/10], mini-batch is [183/2500], time consumption is 0.30659890, batch_loss is 2.09321594\n",
            "classify loss is 0.42444640, angle loss is 0.00100147, iou loss is 0.23159309\n",
            "Epoch is [1/10], mini-batch is [184/2500], time consumption is 0.35305524, batch_loss is 0.66605419\n",
            "classify loss is 0.30943763, angle loss is 0.00282498, iou loss is 0.32802388\n",
            "Epoch is [1/10], mini-batch is [185/2500], time consumption is 0.29112840, batch_loss is 0.66571134\n",
            "classify loss is 0.25501633, angle loss is 0.00483879, iou loss is 0.32688051\n",
            "Epoch is [1/10], mini-batch is [186/2500], time consumption is 0.37025952, batch_loss is 0.63028467\n",
            "classify loss is 0.32553780, angle loss is 0.01140213, iou loss is 0.62651497\n",
            "Epoch is [1/10], mini-batch is [187/2500], time consumption is 0.31185102, batch_loss is 1.06607413\n",
            "classify loss is 0.55255401, angle loss is 0.00600150, iou loss is 1.07257843\n",
            "Epoch is [1/10], mini-batch is [188/2500], time consumption is 0.35620689, batch_loss is 1.68514740\n",
            "classify loss is 0.57831919, angle loss is 0.00613076, iou loss is 0.62850958\n",
            "Epoch is [1/10], mini-batch is [189/2500], time consumption is 0.40076828, batch_loss is 1.26813638\n",
            "classify loss is 0.78443182, angle loss is 0.00018318, iou loss is 0.37720934\n",
            "Epoch is [1/10], mini-batch is [190/2500], time consumption is 0.32983065, batch_loss is 1.16347289\n",
            "classify loss is 0.27232438, angle loss is 0.01137123, iou loss is 0.32958698\n",
            "Epoch is [1/10], mini-batch is [191/2500], time consumption is 0.34521031, batch_loss is 0.71562374\n",
            "classify loss is 0.44674712, angle loss is 0.01153026, iou loss is 0.72839630\n",
            "Epoch is [1/10], mini-batch is [192/2500], time consumption is 0.33741188, batch_loss is 1.29044604\n",
            "classify loss is 0.45265955, angle loss is 0.05454436, iou loss is 0.56669682\n",
            "Epoch is [1/10], mini-batch is [193/2500], time consumption is 0.29583073, batch_loss is 1.56480002\n",
            "classify loss is 0.26808786, angle loss is 0.00628045, iou loss is 0.38519028\n",
            "Epoch is [1/10], mini-batch is [194/2500], time consumption is 0.31151390, batch_loss is 0.71608263\n",
            "classify loss is 0.68402469, angle loss is 0.00892831, iou loss is 0.74195534\n",
            "Epoch is [1/10], mini-batch is [195/2500], time consumption is 0.31651855, batch_loss is 1.51526308\n",
            "classify loss is 0.32792407, angle loss is 0.06952193, iou loss is 0.63944906\n",
            "Epoch is [1/10], mini-batch is [196/2500], time consumption is 0.32772732, batch_loss is 1.66259241\n",
            "classify loss is 0.78910404, angle loss is 0.04716880, iou loss is 1.12387407\n",
            "Epoch is [1/10], mini-batch is [197/2500], time consumption is 0.31987071, batch_loss is 2.38466620\n",
            "classify loss is 0.44966406, angle loss is 0.06463156, iou loss is 0.60544270\n",
            "Epoch is [1/10], mini-batch is [198/2500], time consumption is 0.29266143, batch_loss is 1.70142245\n",
            "classify loss is 0.35190535, angle loss is 0.00503665, iou loss is 0.55725890\n",
            "Epoch is [1/10], mini-batch is [199/2500], time consumption is 0.40291309, batch_loss is 0.95953071\n",
            "classify loss is 0.58210659, angle loss is 0.03677930, iou loss is 0.99891138\n",
            "Epoch is [1/10], mini-batch is [200/2500], time consumption is 0.35727668, batch_loss is 1.94881094\n",
            "classify loss is 0.35333389, angle loss is 0.00846883, iou loss is 0.29064313\n",
            "Epoch is [1/10], mini-batch is [201/2500], time consumption is 0.34347415, batch_loss is 0.72866535\n",
            "classify loss is 0.40998620, angle loss is 0.00234441, iou loss is 0.40978312\n",
            "Epoch is [1/10], mini-batch is [202/2500], time consumption is 0.33155680, batch_loss is 0.84321344\n",
            "classify loss is 0.72942942, angle loss is 0.16395730, iou loss is 0.87856001\n",
            "Epoch is [1/10], mini-batch is [203/2500], time consumption is 0.29564190, batch_loss is 3.24756241\n",
            "classify loss is 0.66703498, angle loss is 0.07626405, iou loss is 1.06963408\n",
            "Epoch is [1/10], mini-batch is [204/2500], time consumption is 0.29314351, batch_loss is 2.49930954\n",
            "classify loss is 0.34812289, angle loss is 0.01171846, iou loss is 0.64763308\n",
            "Epoch is [1/10], mini-batch is [205/2500], time consumption is 0.34257221, batch_loss is 1.11294055\n",
            "classify loss is 0.49725854, angle loss is 0.11641014, iou loss is 0.82904339\n",
            "Epoch is [1/10], mini-batch is [206/2500], time consumption is 0.31919456, batch_loss is 2.49040341\n",
            "classify loss is 0.30785084, angle loss is 0.08587921, iou loss is 0.54641879\n",
            "Epoch is [1/10], mini-batch is [207/2500], time consumption is 0.31152105, batch_loss is 1.71306181\n",
            "classify loss is 0.22298813, angle loss is 0.00521704, iou loss is 0.35042095\n",
            "Epoch is [1/10], mini-batch is [208/2500], time consumption is 0.31041503, batch_loss is 0.62557942\n",
            "classify loss is 0.18391615, angle loss is 0.00439096, iou loss is 0.34014896\n",
            "Epoch is [1/10], mini-batch is [209/2500], time consumption is 0.28683090, batch_loss is 0.56797469\n",
            "classify loss is 0.28354597, angle loss is 0.00207118, iou loss is 0.47395387\n",
            "Epoch is [1/10], mini-batch is [210/2500], time consumption is 0.34910107, batch_loss is 0.77821165\n",
            "classify loss is 0.28270668, angle loss is 0.00928206, iou loss is 0.35348821\n",
            "Epoch is [1/10], mini-batch is [211/2500], time consumption is 0.35318971, batch_loss is 0.72901547\n",
            "classify loss is 0.28419185, angle loss is 0.00300074, iou loss is 0.41448197\n",
            "Epoch is [1/10], mini-batch is [212/2500], time consumption is 0.35344696, batch_loss is 0.72868121\n",
            "classify loss is 0.23710835, angle loss is 0.00787243, iou loss is 0.28357571\n",
            "Epoch is [1/10], mini-batch is [213/2500], time consumption is 0.35428214, batch_loss is 0.59940833\n",
            "classify loss is 0.52560967, angle loss is 0.06004467, iou loss is 0.77888894\n",
            "Epoch is [1/10], mini-batch is [214/2500], time consumption is 0.27964091, batch_loss is 1.90494537\n",
            "classify loss is 0.44172937, angle loss is 0.00518659, iou loss is 0.55468398\n",
            "Epoch is [1/10], mini-batch is [215/2500], time consumption is 0.40980339, batch_loss is 1.04827929\n",
            "classify loss is 0.59047520, angle loss is 0.01403383, iou loss is 0.89833415\n",
            "Epoch is [1/10], mini-batch is [216/2500], time consumption is 0.31385684, batch_loss is 1.62914765\n",
            "classify loss is 0.99989629, angle loss is 0.04160725, iou loss is 1.70588410\n",
            "Epoch is [1/10], mini-batch is [217/2500], time consumption is 0.36282468, batch_loss is 3.12185287\n",
            "classify loss is 0.20187765, angle loss is 0.01329679, iou loss is 0.26321644\n",
            "Epoch is [1/10], mini-batch is [218/2500], time consumption is 0.28379416, batch_loss is 0.59806204\n",
            "classify loss is 0.75802416, angle loss is 0.00243698, iou loss is 0.76778030\n",
            "Epoch is [1/10], mini-batch is [219/2500], time consumption is 0.34862995, batch_loss is 1.55017424\n",
            "classify loss is 0.20960158, angle loss is 0.00980357, iou loss is 0.28718203\n",
            "Epoch is [1/10], mini-batch is [220/2500], time consumption is 0.37964606, batch_loss is 0.59481931\n",
            "classify loss is 0.43643975, angle loss is 0.04713159, iou loss is 1.05392396\n",
            "Epoch is [1/10], mini-batch is [221/2500], time consumption is 0.34097672, batch_loss is 1.96167958\n",
            "classify loss is 0.31020939, angle loss is 0.07678006, iou loss is 0.70450735\n",
            "Epoch is [1/10], mini-batch is [222/2500], time consumption is 0.29120946, batch_loss is 1.78251731\n",
            "classify loss is 0.35564667, angle loss is 0.01686470, iou loss is 0.83401626\n",
            "Epoch is [1/10], mini-batch is [223/2500], time consumption is 0.40129042, batch_loss is 1.35830998\n",
            "classify loss is 0.99999046, angle loss is 0.01171086, iou loss is 1.09285784\n",
            "Epoch is [1/10], mini-batch is [224/2500], time consumption is 0.32654667, batch_loss is 2.20995688\n",
            "classify loss is 0.32565767, angle loss is 0.00690135, iou loss is 0.59955925\n",
            "Epoch is [1/10], mini-batch is [225/2500], time consumption is 0.31259489, batch_loss is 0.99423045\n",
            "classify loss is 0.57589227, angle loss is 0.17650053, iou loss is 0.84661919\n",
            "Epoch is [1/10], mini-batch is [226/2500], time consumption is 0.29661369, batch_loss is 3.18751669\n",
            "classify loss is 0.45928800, angle loss is 0.01466152, iou loss is 0.52755976\n",
            "Epoch is [1/10], mini-batch is [227/2500], time consumption is 0.36063194, batch_loss is 1.13346291\n",
            "classify loss is 0.61142421, angle loss is 0.20921408, iou loss is 0.73163229\n",
            "Epoch is [1/10], mini-batch is [228/2500], time consumption is 0.32949853, batch_loss is 3.43519711\n",
            "classify loss is 0.36163056, angle loss is 0.00467466, iou loss is 0.72577596\n",
            "Epoch is [1/10], mini-batch is [229/2500], time consumption is 0.35627699, batch_loss is 1.13415313\n",
            "classify loss is 0.28149784, angle loss is 0.01383175, iou loss is 0.37344196\n"
          ],
          "name": "stdout"
        }
      ]
    },
    {
      "cell_type": "code",
      "metadata": {
        "id": "XIfcvWvLSFX6",
        "colab_type": "code",
        "colab": {}
      },
      "source": [
        "plt.plot(loss_curve)"
      ],
      "execution_count": 0,
      "outputs": []
    },
    {
      "cell_type": "markdown",
      "metadata": {
        "id": "HTf51H-gknXG",
        "colab_type": "text"
      },
      "source": [
        "[Adam and AdamW algorithms](https://www.fast.ai/2018/07/02/adam-weight-decay/)"
      ]
    }
  ]
}