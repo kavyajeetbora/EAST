{
  "nbformat": 4,
  "nbformat_minor": 0,
  "metadata": {
    "colab": {
      "name": "EAST_dataset",
      "provenance": [],
      "collapsed_sections": [
        "QYP_yAGvd05H",
        "T874dqy_dyjf"
      ],
      "machine_shape": "hm",
      "include_colab_link": true
    },
    "kernelspec": {
      "name": "python3",
      "display_name": "Python 3"
    },
    "accelerator": "GPU"
  },
  "cells": [
    {
      "cell_type": "markdown",
      "metadata": {
        "id": "view-in-github",
        "colab_type": "text"
      },
      "source": [
        "<a href=\"https://colab.research.google.com/github/kavyajeetbora/EAST/blob/master/EAST_training_vgg16_bn.ipynb\" target=\"_parent\"><img src=\"https://colab.research.google.com/assets/colab-badge.svg\" alt=\"Open In Colab\"/></a>"
      ]
    },
    {
      "cell_type": "markdown",
      "metadata": {
        "id": "Pyapm5xLqREO",
        "colab_type": "text"
      },
      "source": [
        "##1. Imports"
      ]
    },
    {
      "cell_type": "markdown",
      "metadata": {
        "id": "L2dp5i49ZJGr",
        "colab_type": "text"
      },
      "source": [
        "[**Tasks - Incidental Scene Text**](https://rrc.cvc.uab.es/?ch=4&com=tasks)"
      ]
    },
    {
      "cell_type": "code",
      "metadata": {
        "id": "a6n5wRjEg_RL",
        "colab_type": "code",
        "colab": {}
      },
      "source": [
        "import os\n",
        "import time\n",
        "from PIL import Image\n",
        "from torch.utils.model_zoo import load_url\n",
        "import matplotlib.pyplot as plt\n",
        "import numpy as np\n",
        "import torch\n",
        "import torch.nn as nn\n",
        "from torch.optim import lr_scheduler\n",
        "from torch.utils.data import DataLoader"
      ],
      "execution_count": 0,
      "outputs": []
    },
    {
      "cell_type": "code",
      "metadata": {
        "id": "NAmisDeYpzym",
        "colab_type": "code",
        "outputId": "2fb61dae-c224-47a1-cb47-e63bb8bbbab4",
        "colab": {
          "base_uri": "https://localhost:8080/",
          "height": 278
        }
      },
      "source": [
        "%%time\n",
        "\n",
        "!git clone -l -s git://github.com/kavyajeetbora/EAST.git cloned-repo\n",
        "%cd cloned-repo\n",
        "!ls"
      ],
      "execution_count": 5,
      "outputs": [
        {
          "output_type": "stream",
          "text": [
            "Cloning into 'cloned-repo'...\n",
            "warning: --local is ignored\n",
            "remote: Enumerating objects: 54, done.\u001b[K\n",
            "remote: Counting objects:   1% (1/54)\u001b[K\rremote: Counting objects:   3% (2/54)\u001b[K\rremote: Counting objects:   5% (3/54)\u001b[K\rremote: Counting objects:   7% (4/54)\u001b[K\rremote: Counting objects:   9% (5/54)\u001b[K\rremote: Counting objects:  11% (6/54)\u001b[K\rremote: Counting objects:  12% (7/54)\u001b[K\rremote: Counting objects:  14% (8/54)\u001b[K\rremote: Counting objects:  16% (9/54)\u001b[K\rremote: Counting objects:  18% (10/54)\u001b[K\rremote: Counting objects:  20% (11/54)\u001b[K\rremote: Counting objects:  22% (12/54)\u001b[K\rremote: Counting objects:  24% (13/54)\u001b[K\rremote: Counting objects:  25% (14/54)\u001b[K\rremote: Counting objects:  27% (15/54)\u001b[K\rremote: Counting objects:  29% (16/54)\u001b[K\rremote: Counting objects:  31% (17/54)\u001b[K\rremote: Counting objects:  33% (18/54)\u001b[K\rremote: Counting objects:  35% (19/54)\u001b[K\rremote: Counting objects:  37% (20/54)\u001b[K\rremote: Counting objects:  38% (21/54)\u001b[K\rremote: Counting objects:  40% (22/54)\u001b[K\rremote: Counting objects:  42% (23/54)\u001b[K\rremote: Counting objects:  44% (24/54)\u001b[K\rremote: Counting objects:  46% (25/54)\u001b[K\rremote: Counting objects:  48% (26/54)\u001b[K\rremote: Counting objects:  50% (27/54)\u001b[K\rremote: Counting objects:  51% (28/54)\u001b[K\rremote: Counting objects:  53% (29/54)\u001b[K\rremote: Counting objects:  55% (30/54)\u001b[K\rremote: Counting objects:  57% (31/54)\u001b[K\rremote: Counting objects:  59% (32/54)\u001b[K\rremote: Counting objects:  61% (33/54)\u001b[K\rremote: Counting objects:  62% (34/54)\u001b[K\rremote: Counting objects:  64% (35/54)\u001b[K\rremote: Counting objects:  66% (36/54)\u001b[K\rremote: Counting objects:  68% (37/54)\u001b[K\rremote: Counting objects:  70% (38/54)\u001b[K\rremote: Counting objects:  72% (39/54)\u001b[K\rremote: Counting objects:  74% (40/54)\u001b[K\rremote: Counting objects:  75% (41/54)\u001b[K\rremote: Counting objects:  77% (42/54)\u001b[K\rremote: Counting objects:  79% (43/54)\u001b[K\rremote: Counting objects:  81% (44/54)\u001b[K\rremote: Counting objects:  83% (45/54)\u001b[K\rremote: Counting objects:  85% (46/54)\u001b[K\rremote: Counting objects:  87% (47/54)\u001b[K\rremote: Counting objects:  88% (48/54)\u001b[K\rremote: Counting objects:  90% (49/54)\u001b[K\rremote: Counting objects:  92% (50/54)\u001b[K\rremote: Counting objects:  94% (51/54)\u001b[K\rremote: Counting objects:  96% (52/54)\u001b[K\rremote: Counting objects:  98% (53/54)\u001b[K\rremote: Counting objects: 100% (54/54)\u001b[K\rremote: Counting objects: 100% (54/54), done.\u001b[K\n",
            "remote: Compressing objects: 100% (54/54), done.\u001b[K\n",
            "remote: Total 136 (delta 27), reused 0 (delta 0), pack-reused 82\u001b[K\n",
            "Receiving objects: 100% (136/136), 6.05 MiB | 13.47 MiB/s, done.\n",
            "Resolving deltas: 100% (72/72), done.\n",
            "/content/cloned-repo/cloned-repo\n",
            "dataset.py\t\t    EAST_resnet.py\t\t  model.py\n",
            "detect.py\t\t    EAST_training.ipynb\t\t  model_resnet.py\n",
            "dsiplay_ground_truth.ipynb  EAST_training_vgg16_bn.ipynb  train.py\n",
            "EAST_detection.ipynb\t    loss.py\n",
            "CPU times: user 90.7 ms, sys: 26.5 ms, total: 117 ms\n",
            "Wall time: 6.01 s\n"
          ],
          "name": "stdout"
        }
      ]
    },
    {
      "cell_type": "code",
      "metadata": {
        "id": "98XW9aIixCjd",
        "colab_type": "code",
        "outputId": "71d1ee31-2da0-43dd-8a1c-4a06bf08deb8",
        "colab": {
          "base_uri": "https://localhost:8080/",
          "height": 34
        }
      },
      "source": [
        "from google.colab import drive\n",
        "drive.mount('/content/drive')"
      ],
      "execution_count": 12,
      "outputs": [
        {
          "output_type": "stream",
          "text": [
            "Drive already mounted at /content/drive; to attempt to forcibly remount, call drive.mount(\"/content/drive\", force_remount=True).\n"
          ],
          "name": "stdout"
        }
      ]
    },
    {
      "cell_type": "code",
      "metadata": {
        "id": "m8Fmu_OcbvdB",
        "colab_type": "code",
        "colab": {}
      },
      "source": [
        "from dataset import *"
      ],
      "execution_count": 0,
      "outputs": []
    },
    {
      "cell_type": "code",
      "metadata": {
        "id": "EnP26VecZ4by",
        "colab_type": "code",
        "outputId": "089e7e3e-ad0c-4b63-cf4f-487309fb0aeb",
        "colab": {
          "base_uri": "https://localhost:8080/",
          "height": 69
        }
      },
      "source": [
        "# AI4Bharat dataset\n",
        "image_address = '/content/drive/My Drive/Colab Notebooks/padh.ai.notebooks/15. Object Detection/AI4Bharat Dataset/Training Set/Image/23.zip (Unzipped Files)'\n",
        "label_address = '/content/drive/My Drive/Colab Notebooks/padh.ai.notebooks/15. Object Detection/AI4Bharat Dataset/Training Set/Annotation/23_labels.zip (Unzipped Files)'\n",
        "\n",
        "print('Total image files',len(os.listdir(image_address)))\n",
        "print('Total annotation files',len(os.listdir(label_address)))\n",
        "\n",
        "training_dataset = custom_dataset(image_address, label_address)\n",
        "print(len(training_dataset))"
      ],
      "execution_count": 15,
      "outputs": [
        {
          "output_type": "stream",
          "text": [
            "Total image files 4669\n",
            "Total annotation files 4669\n",
            "4669\n"
          ],
          "name": "stdout"
        }
      ]
    },
    {
      "cell_type": "markdown",
      "metadata": {
        "id": "J3gdzk1kJ7uH",
        "colab_type": "text"
      },
      "source": [
        "## Dataset Initial Check"
      ]
    },
    {
      "cell_type": "code",
      "metadata": {
        "id": "kjUXNkFjbhYC",
        "colab_type": "code",
        "outputId": "9d8c354d-3493-41f2-a2d2-8ecec697f9d1",
        "colab": {
          "base_uri": "https://localhost:8080/",
          "height": 243
        }
      },
      "source": [
        "img = Image.open(image_address+'/0.jpg')\n",
        "\n",
        "with open(label_address+'/0.txt', 'r') as f:\n",
        "\t\t\tlines = f.readlines()\n",
        "vertices, labels = extract_vertices(lines)\n",
        "\n",
        "img, vertices = adjust_height(img, vertices) \n",
        "img, vertices = rotate_img(img, vertices)\n",
        "img, vertices = crop_img(img, vertices, labels, 512)\n",
        "\n",
        "for vertice in vertices:\n",
        "  print(vertice)\n",
        "  print('-'*20)\n",
        "  \n",
        "print(labels)"
      ],
      "execution_count": 16,
      "outputs": [
        {
          "output_type": "stream",
          "text": [
            "[ 18.92597422 188.22003706  62.99098946 187.28137344  63.44860586\n",
            " 208.78910501  19.38359062 209.72776863]\n",
            "--------------------\n",
            "[ 19.52087554 216.1800881   77.55772488 214.94379943  77.87805636\n",
            " 229.99921153  19.84120702 231.2355002 ]\n",
            "--------------------\n",
            "[175.15592034 304.31407172 198.77768184 302.73501198 201.77378512\n",
            " 342.47852692 177.07726715 344.08048089]\n",
            "--------------------\n",
            "[  9.16228479 234.69060228 141.3573305  231.87461142 142.3869674\n",
            " 280.26700746  10.19192169 283.08299831]\n",
            "--------------------\n",
            "[1 1 1 1]\n"
          ],
          "name": "stdout"
        }
      ]
    },
    {
      "cell_type": "code",
      "metadata": {
        "id": "-Be5YdfbbSCs",
        "colab_type": "code",
        "outputId": "bfe01cf3-4904-46dd-8115-ef5414363af4",
        "colab": {
          "base_uri": "https://localhost:8080/",
          "height": 34
        }
      },
      "source": [
        "score_map, geo_map, ignored_map = get_score_geo(img, vertices, labels, 0.25, 512)\n",
        "\n",
        "torch.sum(score_map)"
      ],
      "execution_count": 17,
      "outputs": [
        {
          "output_type": "execute_result",
          "data": {
            "text/plain": [
              "tensor(247.)"
            ]
          },
          "metadata": {
            "tags": []
          },
          "execution_count": 17
        }
      ]
    },
    {
      "cell_type": "markdown",
      "metadata": {
        "id": "VsangoljUZ6v",
        "colab_type": "text"
      },
      "source": [
        "## Loss for one batch"
      ]
    },
    {
      "cell_type": "code",
      "metadata": {
        "id": "xmbW10gwUTRX",
        "colab_type": "code",
        "outputId": "849ce488-ac88-4c64-ff45-cab1c5a207f4",
        "colab": {
          "base_uri": "https://localhost:8080/",
          "height": 86
        }
      },
      "source": [
        "%%time\n",
        "train_loader = DataLoader(training_dataset, shuffle = True, batch_size=8)\n",
        "\n",
        "imgs, gt_score, gt_geo, ignored_maps = next(iter(train_loader))\n",
        "\n",
        "print(imgs.size(), gt_score.size(), gt_geo.size(), ignored_maps.size())\n",
        "\n",
        "print(torch.sum(gt_score))"
      ],
      "execution_count": 18,
      "outputs": [
        {
          "output_type": "stream",
          "text": [
            "torch.Size([8, 3, 512, 512]) torch.Size([8, 1, 128, 128]) torch.Size([8, 5, 128, 128]) torch.Size([8, 1, 128, 128])\n",
            "tensor(2595.)\n",
            "CPU times: user 3.4 s, sys: 3.83 s, total: 7.23 s\n",
            "Wall time: 9.59 s\n"
          ],
          "name": "stdout"
        }
      ]
    },
    {
      "cell_type": "code",
      "metadata": {
        "id": "jSuLu7o3r0oA",
        "colab_type": "code",
        "outputId": "8dfd4784-d611-41c5-f720-e0ee7ffe0dba",
        "colab": {
          "base_uri": "https://localhost:8080/",
          "height": 69
        }
      },
      "source": [
        "from model import EAST\n",
        "model = EAST()\n",
        "pred_score, pred_geo = model(imgs)\n",
        "\n",
        "print(pred_score.size(), pred_geo.size())"
      ],
      "execution_count": 19,
      "outputs": [
        {
          "output_type": "stream",
          "text": [
            "Downloading: \"http://download.pytorch.org/models/vgg16_bn-6c64b313.pth\" to /root/.cache/torch/checkpoints/vgg16_bn-6c64b313.pth\n",
            "100%|██████████| 528M/528M [00:15<00:00, 34.7MB/s]\n"
          ],
          "name": "stderr"
        },
        {
          "output_type": "stream",
          "text": [
            "torch.Size([8, 1, 128, 128]) torch.Size([8, 5, 128, 128])\n"
          ],
          "name": "stdout"
        }
      ]
    },
    {
      "cell_type": "code",
      "metadata": {
        "id": "EVd09gNmU_gE",
        "colab_type": "code",
        "outputId": "921fce23-d281-4169-c028-ddc60563bd2d",
        "colab": {
          "base_uri": "https://localhost:8080/",
          "height": 34
        }
      },
      "source": [
        "pred_score, pred_geo = model(imgs)\n",
        "\n",
        "print(pred_score.size(), pred_geo.size())"
      ],
      "execution_count": 21,
      "outputs": [
        {
          "output_type": "stream",
          "text": [
            "torch.Size([8, 1, 128, 128]) torch.Size([8, 5, 128, 128])\n"
          ],
          "name": "stdout"
        }
      ]
    },
    {
      "cell_type": "code",
      "metadata": {
        "id": "9dwKLUhtVIt9",
        "colab_type": "code",
        "outputId": "a4fe9d2b-0786-40b6-b1b7-e16ec169a029",
        "colab": {
          "base_uri": "https://localhost:8080/",
          "height": 52
        }
      },
      "source": [
        "from loss import Loss\n",
        "\n",
        "loss_fn = Loss()\n",
        "\n",
        "loss_fn(gt_score, pred_score, gt_geo, pred_geo, ignored_maps)"
      ],
      "execution_count": 20,
      "outputs": [
        {
          "output_type": "stream",
          "text": [
            "classify loss is 0.95671529, angle loss is 0.71677685, iou loss is 3.36248040\n"
          ],
          "name": "stdout"
        },
        {
          "output_type": "execute_result",
          "data": {
            "text/plain": [
              "tensor(11.4870, grad_fn=<AddBackward0>)"
            ]
          },
          "metadata": {
            "tags": []
          },
          "execution_count": 20
        }
      ]
    },
    {
      "cell_type": "markdown",
      "metadata": {
        "id": "03aAZoSGXTLf",
        "colab_type": "text"
      },
      "source": [
        "## Training Full Batch \n",
        "\n",
        "fine tuning pretrained model [east_vgg16.pth](https://drive.google.com/file/d/1AFABkJgr5VtxWnmBU3XcfLJvpZkC2TAg/view)"
      ]
    },
    {
      "cell_type": "code",
      "metadata": {
        "id": "IxuHC3Wybb7O",
        "colab_type": "code",
        "colab": {}
      },
      "source": [
        "model = EAST()\n",
        "device = torch.device(\"cuda:0\" if torch.cuda.is_available() else \"cpu\")\n",
        "pretrained_path = '/content/drive/My Drive/Colab Notebooks/padh.ai.notebooks/15. Object Detection/EAST scene text detector/model_epoch_295.pth'\n",
        "state_dict = torch.load(pretrained_path)\n",
        "model.load_state_dict(state_dict)\n",
        "model = model.to(device)"
      ],
      "execution_count": 0,
      "outputs": []
    },
    {
      "cell_type": "code",
      "metadata": {
        "id": "XeIQGzb6XVa9",
        "colab_type": "code",
        "colab": {}
      },
      "source": [
        "def train(model, train_img_path, train_gt_path, batch_size, lr, epoch_iter, num_workers=4, interval=1):\n",
        "    file_num = len(os.listdir(train_img_path))\n",
        "    print(file_num)\n",
        "    trainset = custom_dataset(train_img_path, train_gt_path)\n",
        "    train_loader = data.DataLoader(trainset, batch_size=batch_size, \\\n",
        "                                   shuffle=True, num_workers=num_workers, drop_last=True)\n",
        "\t\n",
        "    criterion = Loss()\n",
        "    device = torch.device(\"cuda:0\" if torch.cuda.is_available() else \"cpu\")\n",
        "    model.to(device)\n",
        "    optimizer = torch.optim.AdamW(model.parameters(), lr=lr, weight_decay=1e-4)\n",
        "    scheduler = lr_scheduler.StepLR(optimizer, step_size=epoch_iter//2, gamma=0.1)\n",
        "    loss_curve = []\n",
        "    \n",
        "    for epoch in range(epoch_iter):\n",
        "      model.train()\n",
        "      scheduler.step()\n",
        "      epoch_loss = 0\n",
        "      epoch_time = time.time()\n",
        "      for i, (img, gt_score, gt_geo, ignored_map) in enumerate(train_loader):\n",
        "        start_time = time.time()\n",
        "        img, gt_score, gt_geo, ignored_map = img.to(device), gt_score.to(device), gt_geo.to(device), ignored_map.to(device)\n",
        "        pred_score, pred_geo = model(img)\n",
        "        loss = criterion(gt_score, pred_score, gt_geo, pred_geo, ignored_map)\n",
        "\n",
        "        epoch_loss += loss.item()\n",
        "        optimizer.zero_grad()\n",
        "        loss.backward()\n",
        "        optimizer.step()\n",
        "\n",
        "        print('Epoch is [{}/{}], mini-batch is [{}/{}], time consumption is {:.8f}, batch_loss is {:.8f}'.format(\\\n",
        "                  epoch+1, epoch_iter, i+1, int(file_num/batch_size), time.time()-start_time, loss.item()))\n",
        "        \n",
        "      print('epoch_loss is {:.8f}, epoch_time is {:.8f}'.format(epoch_loss/int(file_num/batch_size), time.time()-epoch_time))\n",
        "      print(time.asctime(time.localtime(time.time())))\n",
        "      print('='*50)\n",
        "      \n",
        "      \n",
        "      if (epoch + 1) % interval == 0:\n",
        "        state_dict = model.state_dict()\n",
        "        torch.save(state_dict, 'model_epoch_{}.pth'.format(epoch+1))\n",
        "      \n",
        "      ## plotting the loss curve\n",
        "      loss_curve.append(epoch_loss/int(file_num/batch_size))\n",
        "    return loss_curve"
      ],
      "execution_count": 0,
      "outputs": []
    },
    {
      "cell_type": "code",
      "metadata": {
        "id": "pPd8lPc5N7qr",
        "colab_type": "code",
        "outputId": "713e2f12-ca86-46e5-fee8-f3c6fb90b524",
        "colab": {
          "base_uri": "https://localhost:8080/",
          "height": 1000
        }
      },
      "source": [
        "%%time\n",
        "loss_curve = train(model, image_address, label_address, batch_size=12, lr=1e-4, epoch_iter=200, interval = 50)"
      ],
      "execution_count": 0,
      "outputs": [
        {
          "output_type": "stream",
          "text": [
            "4669\n"
          ],
          "name": "stdout"
        },
        {
          "output_type": "stream",
          "text": [
            "/usr/local/lib/python3.6/dist-packages/torch/optim/lr_scheduler.py:100: UserWarning: Detected call of `lr_scheduler.step()` before `optimizer.step()`. In PyTorch 1.1.0 and later, you should call them in the opposite order: `optimizer.step()` before `lr_scheduler.step()`.  Failure to do this will result in PyTorch skipping the first value of the learning rate schedule.See more details at https://pytorch.org/docs/stable/optim.html#how-to-adjust-learning-rate\n",
            "  \"https://pytorch.org/docs/stable/optim.html#how-to-adjust-learning-rate\", UserWarning)\n"
          ],
          "name": "stderr"
        },
        {
          "output_type": "stream",
          "text": [
            "classify loss is 0.45080006, angle loss is 0.01200036, iou loss is 0.82583576\n",
            "Epoch is [1/200], mini-batch is [1/389], time consumption is 2.06036758, batch_loss is 1.39663935\n",
            "classify loss is 0.36339825, angle loss is 0.01754026, iou loss is 0.71575230\n",
            "Epoch is [1/200], mini-batch is [2/389], time consumption is 1.20160317, batch_loss is 1.25455308\n",
            "classify loss is 0.40069693, angle loss is 0.01261010, iou loss is 0.73329240\n",
            "Epoch is [1/200], mini-batch is [3/389], time consumption is 1.10073304, batch_loss is 1.26009035\n",
            "classify loss is 0.33830237, angle loss is 0.02135983, iou loss is 0.51891071\n",
            "Epoch is [1/200], mini-batch is [4/389], time consumption is 1.03928757, batch_loss is 1.07081127\n",
            "classify loss is 0.24933201, angle loss is 0.01800870, iou loss is 0.44466269\n",
            "Epoch is [1/200], mini-batch is [5/389], time consumption is 1.01978493, batch_loss is 0.87408167\n",
            "classify loss is 0.43397623, angle loss is 0.02156006, iou loss is 0.75013387\n",
            "Epoch is [1/200], mini-batch is [6/389], time consumption is 1.02427864, batch_loss is 1.39971066\n",
            "classify loss is 0.34494698, angle loss is 0.02373648, iou loss is 0.62008518\n",
            "Epoch is [1/200], mini-batch is [7/389], time consumption is 1.03551269, batch_loss is 1.20239687\n",
            "classify loss is 0.38969141, angle loss is 0.01262242, iou loss is 0.51995385\n",
            "Epoch is [1/200], mini-batch is [8/389], time consumption is 1.03947186, batch_loss is 1.03586948\n",
            "classify loss is 0.32610774, angle loss is 0.01238450, iou loss is 0.58388245\n",
            "Epoch is [1/200], mini-batch is [9/389], time consumption is 1.03323150, batch_loss is 1.03383517\n",
            "classify loss is 0.31631488, angle loss is 0.01918503, iou loss is 0.62781137\n",
            "Epoch is [1/200], mini-batch is [10/389], time consumption is 1.02956486, batch_loss is 1.13597655\n",
            "classify loss is 0.29905826, angle loss is 0.01012134, iou loss is 0.48230395\n",
            "Epoch is [1/200], mini-batch is [11/389], time consumption is 1.01336288, batch_loss is 0.88257563\n",
            "classify loss is 0.30034912, angle loss is 0.02390725, iou loss is 0.57720178\n",
            "Epoch is [1/200], mini-batch is [12/389], time consumption is 1.05080485, batch_loss is 1.11662340\n",
            "classify loss is 0.24241227, angle loss is 0.00773138, iou loss is 0.36999658\n",
            "Epoch is [1/200], mini-batch is [13/389], time consumption is 1.01893425, batch_loss is 0.68972266\n",
            "classify loss is 0.27450705, angle loss is 0.01715650, iou loss is 0.46957827\n",
            "Epoch is [1/200], mini-batch is [14/389], time consumption is 1.03823161, batch_loss is 0.91565037\n",
            "classify loss is 0.31178153, angle loss is 0.00933367, iou loss is 0.43184614\n",
            "Epoch is [1/200], mini-batch is [15/389], time consumption is 1.02210832, batch_loss is 0.83696443\n",
            "classify loss is 0.24983174, angle loss is 0.01270413, iou loss is 0.35159796\n",
            "Epoch is [1/200], mini-batch is [16/389], time consumption is 1.04551339, batch_loss is 0.72847098\n",
            "classify loss is 0.36067295, angle loss is 0.02505230, iou loss is 0.63968974\n",
            "Epoch is [1/200], mini-batch is [17/389], time consumption is 1.10205412, batch_loss is 1.25088573\n",
            "classify loss is 0.29622513, angle loss is 0.02702287, iou loss is 0.52490246\n",
            "Epoch is [1/200], mini-batch is [18/389], time consumption is 1.02104259, batch_loss is 1.09135628\n",
            "classify loss is 0.34388882, angle loss is 0.02124382, iou loss is 0.52420878\n",
            "Epoch is [1/200], mini-batch is [19/389], time consumption is 1.03528547, batch_loss is 1.08053589\n",
            "classify loss is 0.28902733, angle loss is 0.03230838, iou loss is 0.40317783\n",
            "Epoch is [1/200], mini-batch is [20/389], time consumption is 1.04206061, batch_loss is 1.01528907\n",
            "classify loss is 0.25138116, angle loss is 0.01479073, iou loss is 0.45701316\n",
            "Epoch is [1/200], mini-batch is [21/389], time consumption is 1.03411412, batch_loss is 0.85630167\n",
            "classify loss is 0.31861627, angle loss is 0.01502597, iou loss is 0.48658085\n",
            "Epoch is [1/200], mini-batch is [22/389], time consumption is 1.04194021, batch_loss is 0.95545679\n",
            "classify loss is 0.32611078, angle loss is 0.01780669, iou loss is 0.44786847\n",
            "Epoch is [1/200], mini-batch is [23/389], time consumption is 1.02733755, batch_loss is 0.95204610\n",
            "classify loss is 0.25323689, angle loss is 0.01302151, iou loss is 0.46467668\n",
            "Epoch is [1/200], mini-batch is [24/389], time consumption is 1.06357861, batch_loss is 0.84812868\n",
            "classify loss is 0.36657649, angle loss is 0.03285467, iou loss is 0.71101910\n",
            "Epoch is [1/200], mini-batch is [25/389], time consumption is 1.04622579, batch_loss is 1.40614223\n",
            "classify loss is 0.26811874, angle loss is 0.01107206, iou loss is 0.48971441\n",
            "Epoch is [1/200], mini-batch is [26/389], time consumption is 1.01757669, batch_loss is 0.86855376\n",
            "classify loss is 0.26263797, angle loss is 0.01752838, iou loss is 0.45303044\n",
            "Epoch is [1/200], mini-batch is [27/389], time consumption is 1.01776862, batch_loss is 0.89095223\n",
            "classify loss is 0.31081760, angle loss is 0.02703699, iou loss is 0.50879818\n",
            "Epoch is [1/200], mini-batch is [28/389], time consumption is 1.02185273, batch_loss is 1.08998561\n",
            "classify loss is 0.27789736, angle loss is 0.01437174, iou loss is 0.43149793\n",
            "Epoch is [1/200], mini-batch is [29/389], time consumption is 1.01491189, batch_loss is 0.85311264\n",
            "classify loss is 0.26198143, angle loss is 0.01647460, iou loss is 0.42878640\n",
            "Epoch is [1/200], mini-batch is [30/389], time consumption is 1.11846161, batch_loss is 0.85551387\n",
            "classify loss is 0.35545427, angle loss is 0.03644488, iou loss is 0.57864189\n",
            "Epoch is [1/200], mini-batch is [31/389], time consumption is 1.02849674, batch_loss is 1.29854488\n",
            "classify loss is 0.32683903, angle loss is 0.01995015, iou loss is 0.50040621\n",
            "Epoch is [1/200], mini-batch is [32/389], time consumption is 1.04376531, batch_loss is 1.02674675\n",
            "classify loss is 0.40900034, angle loss is 0.09201883, iou loss is 0.74725306\n",
            "Epoch is [1/200], mini-batch is [33/389], time consumption is 1.01880264, batch_loss is 2.07644176\n",
            "classify loss is 0.35669523, angle loss is 0.01761676, iou loss is 0.62984556\n",
            "Epoch is [1/200], mini-batch is [34/389], time consumption is 1.02356720, batch_loss is 1.16270828\n",
            "classify loss is 0.27834839, angle loss is 0.00503170, iou loss is 0.37070328\n",
            "Epoch is [1/200], mini-batch is [35/389], time consumption is 1.02458358, batch_loss is 0.69936860\n",
            "classify loss is 0.27417469, angle loss is 0.01554890, iou loss is 0.37008524\n",
            "Epoch is [1/200], mini-batch is [36/389], time consumption is 1.06238294, batch_loss is 0.79974896\n",
            "classify loss is 0.31351715, angle loss is 0.01188159, iou loss is 0.48534322\n",
            "Epoch is [1/200], mini-batch is [37/389], time consumption is 1.04290342, batch_loss is 0.91767627\n",
            "classify loss is 0.35840839, angle loss is 0.02266361, iou loss is 0.50702280\n",
            "Epoch is [1/200], mini-batch is [38/389], time consumption is 1.00544572, batch_loss is 1.09206724\n",
            "classify loss is 0.33481222, angle loss is 0.01343962, iou loss is 0.54007417\n",
            "Epoch is [1/200], mini-batch is [39/389], time consumption is 1.01879454, batch_loss is 1.00928259\n",
            "classify loss is 0.32506371, angle loss is 0.01907579, iou loss is 0.50499898\n",
            "Epoch is [1/200], mini-batch is [40/389], time consumption is 1.04683757, batch_loss is 1.02082062\n",
            "classify loss is 0.26998049, angle loss is 0.01022323, iou loss is 0.38289529\n",
            "Epoch is [1/200], mini-batch is [41/389], time consumption is 1.01452303, batch_loss is 0.75510812\n",
            "classify loss is 0.28565943, angle loss is 0.02630333, iou loss is 0.45388496\n",
            "Epoch is [1/200], mini-batch is [42/389], time consumption is 1.10151005, batch_loss is 1.00257766\n",
            "classify loss is 0.28411734, angle loss is 0.00762470, iou loss is 0.36366719\n",
            "Epoch is [1/200], mini-batch is [43/389], time consumption is 1.02651763, batch_loss is 0.72403157\n",
            "classify loss is 0.31815809, angle loss is 0.02351292, iou loss is 0.51795238\n",
            "Epoch is [1/200], mini-batch is [44/389], time consumption is 1.03604627, batch_loss is 1.07123971\n",
            "classify loss is 0.27488697, angle loss is 0.02033111, iou loss is 0.51326340\n",
            "Epoch is [1/200], mini-batch is [45/389], time consumption is 1.02305388, batch_loss is 0.99146152\n",
            "classify loss is 0.32203817, angle loss is 0.01675454, iou loss is 0.45260823\n",
            "Epoch is [1/200], mini-batch is [46/389], time consumption is 1.04126453, batch_loss is 0.94219178\n",
            "classify loss is 0.25485837, angle loss is 0.02130007, iou loss is 0.47863019\n",
            "Epoch is [1/200], mini-batch is [47/389], time consumption is 1.02882481, batch_loss is 0.94648933\n",
            "classify loss is 0.29996598, angle loss is 0.01397700, iou loss is 0.46451685\n",
            "Epoch is [1/200], mini-batch is [48/389], time consumption is 1.06110001, batch_loss is 0.90425289\n",
            "classify loss is 0.30125332, angle loss is 0.01666630, iou loss is 0.53401113\n",
            "Epoch is [1/200], mini-batch is [49/389], time consumption is 1.02671647, batch_loss is 1.00192750\n",
            "classify loss is 0.39902371, angle loss is 0.02733276, iou loss is 0.57219696\n",
            "Epoch is [1/200], mini-batch is [50/389], time consumption is 1.01006365, batch_loss is 1.24454832\n",
            "classify loss is 0.27700967, angle loss is 0.00926596, iou loss is 0.48804951\n",
            "Epoch is [1/200], mini-batch is [51/389], time consumption is 1.02234888, batch_loss is 0.85771877\n",
            "classify loss is 0.23048252, angle loss is 0.01162336, iou loss is 0.37561706\n",
            "Epoch is [1/200], mini-batch is [52/389], time consumption is 1.04977393, batch_loss is 0.72233313\n",
            "classify loss is 0.23038542, angle loss is 0.00850250, iou loss is 0.33811718\n",
            "Epoch is [1/200], mini-batch is [53/389], time consumption is 1.02667904, batch_loss is 0.65352756\n",
            "classify loss is 0.28175586, angle loss is 0.01122873, iou loss is 0.45474565\n",
            "Epoch is [1/200], mini-batch is [54/389], time consumption is 1.09722972, batch_loss is 0.84878880\n",
            "classify loss is 0.32414103, angle loss is 0.03086302, iou loss is 0.44086421\n",
            "Epoch is [1/200], mini-batch is [55/389], time consumption is 1.05599284, batch_loss is 1.07363546\n",
            "classify loss is 0.50007594, angle loss is 0.09027271, iou loss is 0.68961936\n",
            "Epoch is [1/200], mini-batch is [56/389], time consumption is 1.06535244, batch_loss is 2.09242249\n",
            "classify loss is 0.25242943, angle loss is 0.00964663, iou loss is 0.42101824\n",
            "Epoch is [1/200], mini-batch is [57/389], time consumption is 1.03395796, batch_loss is 0.76991397\n",
            "classify loss is 0.35779935, angle loss is 0.10757762, iou loss is 0.73960215\n",
            "Epoch is [1/200], mini-batch is [58/389], time consumption is 1.01411271, batch_loss is 2.17317772\n",
            "classify loss is 0.37465245, angle loss is 0.09373288, iou loss is 0.73447806\n",
            "Epoch is [1/200], mini-batch is [59/389], time consumption is 1.01074743, batch_loss is 2.04645920\n",
            "classify loss is 0.23361087, angle loss is 0.01208550, iou loss is 0.36777204\n",
            "Epoch is [1/200], mini-batch is [60/389], time consumption is 1.03432178, batch_loss is 0.72223794\n",
            "classify loss is 0.26321703, angle loss is 0.02751702, iou loss is 0.45912230\n",
            "Epoch is [1/200], mini-batch is [61/389], time consumption is 1.00960851, batch_loss is 0.99750954\n",
            "classify loss is 0.26441199, angle loss is 0.01387711, iou loss is 0.45050681\n",
            "Epoch is [1/200], mini-batch is [62/389], time consumption is 1.01654553, batch_loss is 0.85368985\n",
            "classify loss is 0.21528256, angle loss is 0.00509422, iou loss is 0.39534670\n",
            "Epoch is [1/200], mini-batch is [63/389], time consumption is 1.03535604, batch_loss is 0.66157150\n",
            "classify loss is 0.49558187, angle loss is 0.07289307, iou loss is 0.71619731\n",
            "Epoch is [1/200], mini-batch is [64/389], time consumption is 1.04123306, batch_loss is 1.94070983\n",
            "classify loss is 0.28864259, angle loss is 0.01185480, iou loss is 0.53140116\n",
            "Epoch is [1/200], mini-batch is [65/389], time consumption is 1.02168512, batch_loss is 0.93859172\n",
            "classify loss is 0.35641515, angle loss is 0.01769866, iou loss is 0.55907977\n",
            "Epoch is [1/200], mini-batch is [66/389], time consumption is 1.05703354, batch_loss is 1.09248161\n",
            "classify loss is 0.28619385, angle loss is 0.01116697, iou loss is 0.50924301\n",
            "Epoch is [1/200], mini-batch is [67/389], time consumption is 1.03062797, batch_loss is 0.90710652\n",
            "classify loss is 0.28101164, angle loss is 0.01002723, iou loss is 0.49184790\n",
            "Epoch is [1/200], mini-batch is [68/389], time consumption is 1.02974582, batch_loss is 0.87313187\n",
            "classify loss is 0.24565852, angle loss is 0.01258139, iou loss is 0.38449591\n",
            "Epoch is [1/200], mini-batch is [69/389], time consumption is 1.01203799, batch_loss is 0.75596833\n",
            "classify loss is 0.34305924, angle loss is 0.00690442, iou loss is 0.44726163\n",
            "Epoch is [1/200], mini-batch is [70/389], time consumption is 1.02420521, batch_loss is 0.85936511\n",
            "classify loss is 0.28736717, angle loss is 0.01235473, iou loss is 0.45547587\n",
            "Epoch is [1/200], mini-batch is [71/389], time consumption is 1.02180386, batch_loss is 0.86639035\n",
            "classify loss is 0.32510638, angle loss is 0.01643721, iou loss is 0.48653939\n",
            "Epoch is [1/200], mini-batch is [72/389], time consumption is 1.05451727, batch_loss is 0.97601783\n",
            "classify loss is 0.27923578, angle loss is 0.01137159, iou loss is 0.43746108\n",
            "Epoch is [1/200], mini-batch is [73/389], time consumption is 1.02458715, batch_loss is 0.83041275\n",
            "classify loss is 0.27143663, angle loss is 0.01004405, iou loss is 0.35612270\n",
            "Epoch is [1/200], mini-batch is [74/389], time consumption is 1.01229858, batch_loss is 0.72799981\n",
            "classify loss is 0.27819628, angle loss is 0.00534828, iou loss is 0.46706831\n",
            "Epoch is [1/200], mini-batch is [75/389], time consumption is 1.03684711, batch_loss is 0.79874742\n",
            "classify loss is 0.25021315, angle loss is 0.01529621, iou loss is 0.40112460\n",
            "Epoch is [1/200], mini-batch is [76/389], time consumption is 1.04237151, batch_loss is 0.80429989\n",
            "classify loss is 0.27730906, angle loss is 0.00987951, iou loss is 0.35626829\n",
            "Epoch is [1/200], mini-batch is [77/389], time consumption is 1.02698731, batch_loss is 0.73237240\n",
            "classify loss is 0.20205593, angle loss is 0.01388743, iou loss is 0.38262519\n",
            "Epoch is [1/200], mini-batch is [78/389], time consumption is 1.07253528, batch_loss is 0.72355545\n",
            "classify loss is 0.20894474, angle loss is 0.01545103, iou loss is 0.37026414\n",
            "Epoch is [1/200], mini-batch is [79/389], time consumption is 1.00564170, batch_loss is 0.73371917\n",
            "classify loss is 0.22628355, angle loss is 0.00603734, iou loss is 0.35775414\n",
            "Epoch is [1/200], mini-batch is [80/389], time consumption is 1.03832483, batch_loss is 0.64441109\n",
            "classify loss is 0.50465083, angle loss is 0.11382265, iou loss is 0.86264855\n",
            "Epoch is [1/200], mini-batch is [81/389], time consumption is 1.01089668, batch_loss is 2.50552583\n",
            "classify loss is 0.31102896, angle loss is 0.01282409, iou loss is 0.49199373\n",
            "Epoch is [1/200], mini-batch is [82/389], time consumption is 1.02722359, batch_loss is 0.93126357\n",
            "classify loss is 0.37081838, angle loss is 0.00912754, iou loss is 0.48655951\n",
            "Epoch is [1/200], mini-batch is [83/389], time consumption is 1.02295089, batch_loss is 0.94865334\n",
            "classify loss is 0.17999095, angle loss is 0.01104856, iou loss is 0.32439360\n",
            "Epoch is [1/200], mini-batch is [84/389], time consumption is 1.03256726, batch_loss is 0.61487007\n",
            "classify loss is 0.25778186, angle loss is 0.02810069, iou loss is 0.43882701\n",
            "Epoch is [1/200], mini-batch is [85/389], time consumption is 1.00543904, batch_loss is 0.97761583\n",
            "classify loss is 0.27695936, angle loss is 0.01408191, iou loss is 0.48263255\n",
            "Epoch is [1/200], mini-batch is [86/389], time consumption is 1.00374246, batch_loss is 0.90041101\n",
            "classify loss is 0.28074074, angle loss is 0.03349221, iou loss is 0.44082695\n",
            "Epoch is [1/200], mini-batch is [87/389], time consumption is 1.01572037, batch_loss is 1.05648983\n",
            "classify loss is 0.21927720, angle loss is 0.00771272, iou loss is 0.37770730\n",
            "Epoch is [1/200], mini-batch is [88/389], time consumption is 1.03590059, batch_loss is 0.67411166\n",
            "classify loss is 0.35916352, angle loss is 0.03545557, iou loss is 0.52281439\n",
            "Epoch is [1/200], mini-batch is [89/389], time consumption is 1.01835799, batch_loss is 1.23653364\n",
            "classify loss is 0.23495150, angle loss is 0.00895376, iou loss is 0.32475728\n",
            "Epoch is [1/200], mini-batch is [90/389], time consumption is 1.06342959, batch_loss is 0.64924645\n",
            "classify loss is 0.22666633, angle loss is 0.00361701, iou loss is 0.33626753\n",
            "Epoch is [1/200], mini-batch is [91/389], time consumption is 1.03566384, batch_loss is 0.59910399\n",
            "classify loss is 0.22048128, angle loss is 0.01020808, iou loss is 0.37359113\n",
            "Epoch is [1/200], mini-batch is [92/389], time consumption is 1.01911020, batch_loss is 0.69615316\n",
            "classify loss is 0.27594900, angle loss is 0.01530132, iou loss is 0.43078175\n",
            "Epoch is [1/200], mini-batch is [93/389], time consumption is 1.00485301, batch_loss is 0.85974395\n",
            "classify loss is 0.24797809, angle loss is 0.02273746, iou loss is 0.43726218\n",
            "Epoch is [1/200], mini-batch is [94/389], time consumption is 1.00937986, batch_loss is 0.91261482\n",
            "classify loss is 0.24572319, angle loss is 0.00757530, iou loss is 0.36632651\n",
            "Epoch is [1/200], mini-batch is [95/389], time consumption is 1.01092839, batch_loss is 0.68780273\n",
            "classify loss is 0.21342891, angle loss is 0.00521176, iou loss is 0.33349112\n",
            "Epoch is [1/200], mini-batch is [96/389], time consumption is 1.00952959, batch_loss is 0.59903765\n",
            "classify loss is 0.30080414, angle loss is 0.00823061, iou loss is 0.49051020\n",
            "Epoch is [1/200], mini-batch is [97/389], time consumption is 1.01273632, batch_loss is 0.87362039\n",
            "classify loss is 0.33657092, angle loss is 0.02729890, iou loss is 0.48391545\n",
            "Epoch is [1/200], mini-batch is [98/389], time consumption is 1.05109859, batch_loss is 1.09347534\n",
            "classify loss is 0.25291294, angle loss is 0.00649133, iou loss is 0.31409898\n",
            "Epoch is [1/200], mini-batch is [99/389], time consumption is 1.02429700, batch_loss is 0.63192523\n",
            "classify loss is 0.33511865, angle loss is 0.01327093, iou loss is 0.39153856\n",
            "Epoch is [1/200], mini-batch is [100/389], time consumption is 1.03625417, batch_loss is 0.85936654\n",
            "classify loss is 0.32864159, angle loss is 0.03128435, iou loss is 0.51394314\n",
            "Epoch is [1/200], mini-batch is [101/389], time consumption is 1.00450659, batch_loss is 1.15542817\n",
            "classify loss is 0.25695473, angle loss is 0.00950347, iou loss is 0.39087343\n",
            "Epoch is [1/200], mini-batch is [102/389], time consumption is 1.09327507, batch_loss is 0.74286282\n",
            "classify loss is 0.23476928, angle loss is 0.02867509, iou loss is 0.40766874\n",
            "Epoch is [1/200], mini-batch is [103/389], time consumption is 1.01366019, batch_loss is 0.92918891\n",
            "classify loss is 0.22489315, angle loss is 0.01770381, iou loss is 0.36152688\n",
            "Epoch is [1/200], mini-batch is [104/389], time consumption is 1.03532434, batch_loss is 0.76345807\n",
            "classify loss is 0.26646656, angle loss is 0.00789775, iou loss is 0.39111593\n",
            "Epoch is [1/200], mini-batch is [105/389], time consumption is 1.02445507, batch_loss is 0.73655999\n",
            "classify loss is 0.26347470, angle loss is 0.02110804, iou loss is 0.46747887\n",
            "Epoch is [1/200], mini-batch is [106/389], time consumption is 1.00691223, batch_loss is 0.94203395\n",
            "classify loss is 0.22079062, angle loss is 0.01162812, iou loss is 0.34157380\n",
            "Epoch is [1/200], mini-batch is [107/389], time consumption is 1.04959631, batch_loss is 0.67864561\n",
            "classify loss is 0.23228306, angle loss is 0.01008122, iou loss is 0.39056608\n",
            "Epoch is [1/200], mini-batch is [108/389], time consumption is 1.05055928, batch_loss is 0.72366136\n",
            "classify loss is 0.30107617, angle loss is 0.01393176, iou loss is 0.36718997\n",
            "Epoch is [1/200], mini-batch is [109/389], time consumption is 1.02190113, batch_loss is 0.80758369\n",
            "classify loss is 0.32133245, angle loss is 0.08290903, iou loss is 0.69947225\n",
            "Epoch is [1/200], mini-batch is [110/389], time consumption is 1.01096559, batch_loss is 1.84989500\n",
            "classify loss is 0.25146443, angle loss is 0.01681918, iou loss is 0.42538643\n",
            "Epoch is [1/200], mini-batch is [111/389], time consumption is 1.01137257, batch_loss is 0.84504265\n",
            "classify loss is 0.29046136, angle loss is 0.00676028, iou loss is 0.45040548\n",
            "Epoch is [1/200], mini-batch is [112/389], time consumption is 1.04584765, batch_loss is 0.80846965\n",
            "classify loss is 0.22705042, angle loss is 0.00998418, iou loss is 0.36828709\n",
            "Epoch is [1/200], mini-batch is [113/389], time consumption is 1.04136658, batch_loss is 0.69517934\n",
            "classify loss is 0.37251341, angle loss is 0.06790828, iou loss is 0.73412985\n",
            "Epoch is [1/200], mini-batch is [114/389], time consumption is 1.09605002, batch_loss is 1.78572607\n",
            "classify loss is 0.24640900, angle loss is 0.03998789, iou loss is 0.44860947\n",
            "Epoch is [1/200], mini-batch is [115/389], time consumption is 1.01764965, batch_loss is 1.09489739\n",
            "classify loss is 0.22489107, angle loss is 0.00747598, iou loss is 0.38450018\n",
            "Epoch is [1/200], mini-batch is [116/389], time consumption is 1.04485846, batch_loss is 0.68415105\n",
            "classify loss is 0.23665613, angle loss is 0.00944535, iou loss is 0.41260058\n",
            "Epoch is [1/200], mini-batch is [117/389], time consumption is 1.02735901, batch_loss is 0.74371022\n",
            "classify loss is 0.31454235, angle loss is 0.02096135, iou loss is 0.47884008\n",
            "Epoch is [1/200], mini-batch is [118/389], time consumption is 1.05126786, batch_loss is 1.00299597\n",
            "classify loss is 0.26090103, angle loss is 0.00601887, iou loss is 0.39392346\n",
            "Epoch is [1/200], mini-batch is [119/389], time consumption is 1.03273940, batch_loss is 0.71501321\n",
            "classify loss is 0.30231941, angle loss is 0.00600757, iou loss is 0.54450417\n",
            "Epoch is [1/200], mini-batch is [120/389], time consumption is 1.03512335, batch_loss is 0.90689933\n",
            "classify loss is 0.31875259, angle loss is 0.00765707, iou loss is 0.50190938\n",
            "Epoch is [1/200], mini-batch is [121/389], time consumption is 1.01049566, batch_loss is 0.89723259\n",
            "classify loss is 0.23104709, angle loss is 0.01140399, iou loss is 0.31308103\n",
            "Epoch is [1/200], mini-batch is [122/389], time consumption is 1.02902055, batch_loss is 0.65816802\n",
            "classify loss is 0.26737016, angle loss is 0.03456371, iou loss is 0.46613970\n",
            "Epoch is [1/200], mini-batch is [123/389], time consumption is 1.02232313, batch_loss is 1.07914710\n",
            "classify loss is 0.18816990, angle loss is 0.01056297, iou loss is 0.32136795\n",
            "Epoch is [1/200], mini-batch is [124/389], time consumption is 1.03493094, batch_loss is 0.61516762\n"
          ],
          "name": "stdout"
        }
      ]
    },
    {
      "cell_type": "code",
      "metadata": {
        "id": "XIfcvWvLSFX6",
        "colab_type": "code",
        "colab": {}
      },
      "source": [
        "plt.plot(loss_curve)"
      ],
      "execution_count": 0,
      "outputs": []
    },
    {
      "cell_type": "markdown",
      "metadata": {
        "id": "HTf51H-gknXG",
        "colab_type": "text"
      },
      "source": [
        "[Adam and AdamW algorithms](https://www.fast.ai/2018/07/02/adam-weight-decay/)"
      ]
    }
  ]
}