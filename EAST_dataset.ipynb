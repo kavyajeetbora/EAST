{
  "nbformat": 4,
  "nbformat_minor": 0,
  "metadata": {
    "colab": {
      "name": "EAST_dataset",
      "provenance": [],
      "collapsed_sections": [
        "QYP_yAGvd05H",
        "T874dqy_dyjf"
      ],
      "machine_shape": "hm",
      "include_colab_link": true
    },
    "kernelspec": {
      "name": "python3",
      "display_name": "Python 3"
    },
    "accelerator": "GPU"
  },
  "cells": [
    {
      "cell_type": "markdown",
      "metadata": {
        "id": "view-in-github",
        "colab_type": "text"
      },
      "source": [
        "<a href=\"https://colab.research.google.com/github/kavyajeetbora/EAST/blob/master/EAST_dataset.ipynb\" target=\"_parent\"><img src=\"https://colab.research.google.com/assets/colab-badge.svg\" alt=\"Open In Colab\"/></a>"
      ]
    },
    {
      "cell_type": "markdown",
      "metadata": {
        "id": "Pyapm5xLqREO",
        "colab_type": "text"
      },
      "source": [
        "##1. Imports"
      ]
    },
    {
      "cell_type": "markdown",
      "metadata": {
        "id": "L2dp5i49ZJGr",
        "colab_type": "text"
      },
      "source": [
        "[**Tasks - Incidental Scene Text**](https://rrc.cvc.uab.es/?ch=4&com=tasks)"
      ]
    },
    {
      "cell_type": "code",
      "metadata": {
        "id": "a6n5wRjEg_RL",
        "colab_type": "code",
        "colab": {}
      },
      "source": [
        "import os\n",
        "from PIL import Image\n",
        "from torch.utils.model_zoo import load_url\n",
        "import matplotlib.pyplot as plt\n",
        "import numpy as np\n",
        "import torch\n",
        "import torch.nn as nn"
      ],
      "execution_count": 0,
      "outputs": []
    },
    {
      "cell_type": "code",
      "metadata": {
        "id": "NAmisDeYpzym",
        "colab_type": "code",
        "outputId": "594e3458-df07-4513-e887-40781ff76dfc",
        "colab": {
          "base_uri": "https://localhost:8080/",
          "height": 243
        }
      },
      "source": [
        "%%time\n",
        "\n",
        "!git clone -l -s git://github.com/kavyajeetbora/EAST.git cloned-repo\n",
        "%cd cloned-repo\n",
        "!ls"
      ],
      "execution_count": 142,
      "outputs": [
        {
          "output_type": "stream",
          "text": [
            "Cloning into 'cloned-repo'...\n",
            "warning: --local is ignored\n",
            "remote: Enumerating objects: 54, done.\u001b[K\n",
            "remote: Counting objects:   1% (1/54)\u001b[K\rremote: Counting objects:   3% (2/54)\u001b[K\rremote: Counting objects:   5% (3/54)\u001b[K\rremote: Counting objects:   7% (4/54)\u001b[K\rremote: Counting objects:   9% (5/54)\u001b[K\rremote: Counting objects:  11% (6/54)\u001b[K\rremote: Counting objects:  12% (7/54)\u001b[K\rremote: Counting objects:  14% (8/54)\u001b[K\rremote: Counting objects:  16% (9/54)\u001b[K\rremote: Counting objects:  18% (10/54)\u001b[K\rremote: Counting objects:  20% (11/54)\u001b[K\rremote: Counting objects:  22% (12/54)\u001b[K\rremote: Counting objects:  24% (13/54)\u001b[K\rremote: Counting objects:  25% (14/54)\u001b[K\rremote: Counting objects:  27% (15/54)\u001b[K\rremote: Counting objects:  29% (16/54)\u001b[K\rremote: Counting objects:  31% (17/54)\u001b[K\rremote: Counting objects:  33% (18/54)\u001b[K\rremote: Counting objects:  35% (19/54)\u001b[K\rremote: Counting objects:  37% (20/54)\u001b[K\rremote: Counting objects:  38% (21/54)\u001b[K\rremote: Counting objects:  40% (22/54)\u001b[K\rremote: Counting objects:  42% (23/54)\u001b[K\rremote: Counting objects:  44% (24/54)\u001b[K\rremote: Counting objects:  46% (25/54)\u001b[K\rremote: Counting objects:  48% (26/54)\u001b[K\rremote: Counting objects:  50% (27/54)\u001b[K\rremote: Counting objects:  51% (28/54)\u001b[K\rremote: Counting objects:  53% (29/54)\u001b[K\rremote: Counting objects:  55% (30/54)\u001b[K\rremote: Counting objects:  57% (31/54)\u001b[K\rremote: Counting objects:  59% (32/54)\u001b[K\rremote: Counting objects:  61% (33/54)\u001b[K\rremote: Counting objects:  62% (34/54)\u001b[K\rremote: Counting objects:  64% (35/54)\u001b[K\rremote: Counting objects:  66% (36/54)\u001b[K\rremote: Counting objects:  68% (37/54)\u001b[K\rremote: Counting objects:  70% (38/54)\u001b[K\rremote: Counting objects:  72% (39/54)\u001b[K\rremote: Counting objects:  74% (40/54)\u001b[K\rremote: Counting objects:  75% (41/54)\u001b[K\rremote: Counting objects:  77% (42/54)\u001b[K\rremote: Counting objects:  79% (43/54)\u001b[K\rremote: Counting objects:  81% (44/54)\u001b[K\rremote: Counting objects:  83% (45/54)\u001b[K\rremote: Counting objects:  85% (46/54)\u001b[K\rremote: Counting objects:  87% (47/54)\u001b[K\rremote: Counting objects:  88% (48/54)\u001b[K\rremote: Counting objects:  90% (49/54)\u001b[K\rremote: Counting objects:  92% (50/54)\u001b[K\rremote: Counting objects:  94% (51/54)\u001b[K\rremote: Counting objects:  96% (52/54)\u001b[K\rremote: Counting objects:  98% (53/54)\u001b[K\rremote: Counting objects: 100% (54/54)\u001b[K\rremote: Counting objects: 100% (54/54), done.\u001b[K\n",
            "remote: Compressing objects:   1% (1/54)\u001b[K\rremote: Compressing objects:   3% (2/54)\u001b[K\rremote: Compressing objects:   5% (3/54)\u001b[K\rremote: Compressing objects:   7% (4/54)\u001b[K\rremote: Compressing objects:   9% (5/54)\u001b[K\rremote: Compressing objects:  11% (6/54)\u001b[K\rremote: Compressing objects:  12% (7/54)\u001b[K\rremote: Compressing objects:  14% (8/54)\u001b[K\rremote: Compressing objects:  16% (9/54)\u001b[K\rremote: Compressing objects:  18% (10/54)\u001b[K\rremote: Compressing objects:  20% (11/54)\u001b[K\rremote: Compressing objects:  22% (12/54)\u001b[K\rremote: Compressing objects:  24% (13/54)\u001b[K\rremote: Compressing objects:  25% (14/54)\u001b[K\rremote: Compressing objects:  27% (15/54)\u001b[K\rremote: Compressing objects:  29% (16/54)\u001b[K\rremote: Compressing objects:  31% (17/54)\u001b[K\rremote: Compressing objects:  33% (18/54)\u001b[K\rremote: Compressing objects:  35% (19/54)\u001b[K\rremote: Compressing objects:  37% (20/54)\u001b[K\rremote: Compressing objects:  38% (21/54)\u001b[K\rremote: Compressing objects:  40% (22/54)\u001b[K\rremote: Compressing objects:  42% (23/54)\u001b[K\rremote: Compressing objects:  44% (24/54)\u001b[K\rremote: Compressing objects:  46% (25/54)\u001b[K\rremote: Compressing objects:  48% (26/54)\u001b[K\rremote: Compressing objects:  50% (27/54)\u001b[K\rremote: Compressing objects:  51% (28/54)\u001b[K\rremote: Compressing objects:  53% (29/54)\u001b[K\rremote: Compressing objects:  55% (30/54)\u001b[K\rremote: Compressing objects:  57% (31/54)\u001b[K\rremote: Compressing objects:  59% (32/54)\u001b[K\rremote: Compressing objects:  61% (33/54)\u001b[K\rremote: Compressing objects:  62% (34/54)\u001b[K\rremote: Compressing objects:  64% (35/54)\u001b[K\rremote: Compressing objects:  66% (36/54)\u001b[K\rremote: Compressing objects:  68% (37/54)\u001b[K\rremote: Compressing objects:  70% (38/54)\u001b[K\rremote: Compressing objects:  72% (39/54)\u001b[K\rremote: Compressing objects:  74% (40/54)\u001b[K\rremote: Compressing objects:  75% (41/54)\u001b[K\rremote: Compressing objects:  77% (42/54)\u001b[K\rremote: Compressing objects:  79% (43/54)\u001b[K\rremote: Compressing objects:  81% (44/54)\u001b[K\rremote: Compressing objects:  83% (45/54)\u001b[K\rremote: Compressing objects:  85% (46/54)\u001b[K\rremote: Compressing objects:  87% (47/54)\u001b[K\rremote: Compressing objects:  88% (48/54)\u001b[K\rremote: Compressing objects:  90% (49/54)\u001b[K\rremote: Compressing objects:  92% (50/54)\u001b[K\rremote: Compressing objects:  94% (51/54)\u001b[K\rremote: Compressing objects:  96% (52/54)\u001b[K\rremote: Compressing objects:  98% (53/54)\u001b[K\rremote: Compressing objects: 100% (54/54)\u001b[K\rremote: Compressing objects: 100% (54/54), done.\u001b[K\n",
            "Receiving objects:   1% (1/54)   \rReceiving objects:   3% (2/54)   \rReceiving objects:   5% (3/54)   \rReceiving objects:   7% (4/54)   \rReceiving objects:   9% (5/54)   \rReceiving objects:  11% (6/54)   \rReceiving objects:  12% (7/54)   \rReceiving objects:  14% (8/54)   \rReceiving objects:  16% (9/54)   \rReceiving objects:  18% (10/54)   \rReceiving objects:  20% (11/54)   \rReceiving objects:  22% (12/54)   \rReceiving objects:  24% (13/54)   \rReceiving objects:  25% (14/54)   \rReceiving objects:  27% (15/54)   \rReceiving objects:  29% (16/54)   \rReceiving objects:  31% (17/54)   \rReceiving objects:  33% (18/54)   \rReceiving objects:  35% (19/54)   \rremote: Total 54 (delta 30), reused 0 (delta 0), pack-reused 0\u001b[K\n",
            "Receiving objects:  37% (20/54)   \rReceiving objects:  38% (21/54)   \rReceiving objects:  40% (22/54)   \rReceiving objects:  42% (23/54)   \rReceiving objects:  44% (24/54)   \rReceiving objects:  46% (25/54)   \rReceiving objects:  48% (26/54)   \rReceiving objects:  50% (27/54)   \rReceiving objects:  51% (28/54)   \rReceiving objects:  53% (29/54)   \rReceiving objects:  55% (30/54)   \rReceiving objects:  57% (31/54)   \rReceiving objects:  59% (32/54)   \rReceiving objects:  61% (33/54)   \rReceiving objects:  62% (34/54)   \rReceiving objects:  64% (35/54)   \rReceiving objects:  66% (36/54)   \rReceiving objects:  68% (37/54)   \rReceiving objects:  70% (38/54)   \rReceiving objects:  72% (39/54)   \rReceiving objects:  74% (40/54)   \rReceiving objects:  75% (41/54)   \rReceiving objects:  77% (42/54)   \rReceiving objects:  79% (43/54)   \rReceiving objects:  81% (44/54)   \rReceiving objects:  83% (45/54)   \rReceiving objects:  85% (46/54)   \rReceiving objects:  87% (47/54)   \rReceiving objects:  88% (48/54)   \rReceiving objects:  90% (49/54)   \rReceiving objects:  92% (50/54)   \rReceiving objects:  94% (51/54)   \rReceiving objects:  96% (52/54)   \rReceiving objects:  98% (53/54)   \rReceiving objects: 100% (54/54)   \rReceiving objects: 100% (54/54), 383.22 KiB | 3.65 MiB/s, done.\n",
            "Resolving deltas:   0% (0/30)   \rResolving deltas:   3% (1/30)   \rResolving deltas:  36% (11/30)   \rResolving deltas:  43% (13/30)   \rResolving deltas:  53% (16/30)   \rResolving deltas:  66% (20/30)   \rResolving deltas:  80% (24/30)   \rResolving deltas:  86% (26/30)   \rResolving deltas: 100% (30/30)   \rResolving deltas: 100% (30/30), done.\n",
            "/content/cloned-repo/cloned-repo/cloned-repo/cloned-repo/cloned-repo/cloned-repo\n",
            "dataset_original.py  EAST_dataset.ipynb        loss.py\t train.py\n",
            "dataset.py\t     EAST_text_detector.ipynb  model.py\n",
            "CPU times: user 83.2 ms, sys: 204 ms, total: 287 ms\n",
            "Wall time: 6.35 s\n"
          ],
          "name": "stdout"
        }
      ]
    },
    {
      "cell_type": "code",
      "metadata": {
        "id": "98XW9aIixCjd",
        "colab_type": "code",
        "outputId": "a9ba32d3-1ff1-4d8a-af49-4c2743927f05",
        "colab": {
          "base_uri": "https://localhost:8080/",
          "height": 34
        }
      },
      "source": [
        "from google.colab import drive\n",
        "drive.mount('/content/drive')"
      ],
      "execution_count": 143,
      "outputs": [
        {
          "output_type": "stream",
          "text": [
            "Drive already mounted at /content/drive; to attempt to forcibly remount, call drive.mount(\"/content/drive\", force_remount=True).\n"
          ],
          "name": "stdout"
        }
      ]
    },
    {
      "cell_type": "code",
      "metadata": {
        "id": "EnP26VecZ4by",
        "colab_type": "code",
        "outputId": "a884f434-d1f9-4b75-f3f7-537797f97607",
        "colab": {
          "base_uri": "https://localhost:8080/",
          "height": 34
        }
      },
      "source": [
        "from dataset_original import custom_dataset\n",
        "\n",
        "image_address = '/content/drive/My Drive/Colab Notebooks/padh.ai.notebooks/15. Object Detection/EAST scene text detector/data/ICDAR dataset/Images'\n",
        "label_address = '/content/drive/My Drive/Colab Notebooks/padh.ai.notebooks/15. Object Detection/EAST scene text detector/data/ICDAR dataset/Labels'\n",
        "\n",
        "training_dataset = custom_dataset(image_address, label_address)\n",
        "print(len(training_dataset))"
      ],
      "execution_count": 144,
      "outputs": [
        {
          "output_type": "stream",
          "text": [
            "10\n"
          ],
          "name": "stdout"
        }
      ]
    },
    {
      "cell_type": "code",
      "metadata": {
        "id": "kQbQcRblaZWY",
        "colab_type": "code",
        "colab": {}
      },
      "source": [
        "def extract_vertices(lines):\n",
        "\t'''extract vertices info from txt lines\n",
        "\tInput:\n",
        "\t\tlines   : list of string info\n",
        "\tOutput:\n",
        "\t\tvertices: vertices of text regions <numpy.ndarray, (n,8)>\n",
        "\t\tlabels  : 1->valid, 0->ignore, <numpy.ndarray, (n,)>\n",
        "\t'''\n",
        "\tlabels = []\n",
        "\tvertices = []\n",
        "\tfor line in lines:\n",
        "\t\tvertices.append(list(map(int,line.rstrip('\\n').lstrip('\\ufeff').split(',')[:8])))\n",
        "\t\tlabel = 0 if '###' in line else 1\n",
        "\t\tlabels.append(label)\n",
        "\treturn np.array(vertices), np.array(labels)"
      ],
      "execution_count": 0,
      "outputs": []
    },
    {
      "cell_type": "code",
      "metadata": {
        "id": "gpj_dw05a96g",
        "colab_type": "code",
        "colab": {
          "base_uri": "https://localhost:8080/",
          "height": 156
        },
        "outputId": "270a5fff-6ad0-4418-aca5-b92f7c86bf75"
      },
      "source": [
        "with open(label_address+'/gt_img_1.txt', 'r') as f:\n",
        "\t\t\tlines = f.readlines()\n",
        "vertices, labels = extract_vertices(lines)\n",
        "vertices, labels"
      ],
      "execution_count": 147,
      "outputs": [
        {
          "output_type": "execute_result",
          "data": {
            "text/plain": [
              "(array([[377, 117, 463, 117, 465, 130, 378, 130],\n",
              "        [493, 115, 519, 115, 519, 131, 493, 131],\n",
              "        [374, 155, 409, 155, 409, 170, 374, 170],\n",
              "        [492, 151, 551, 151, 551, 170, 492, 170],\n",
              "        [376, 198, 422, 198, 422, 212, 376, 212],\n",
              "        [494, 190, 539, 189, 539, 205, 494, 206],\n",
              "        [374,   1, 494,   0, 492,  85, 372,  86]]),\n",
              " array([1, 1, 0, 1, 1, 0, 0]))"
            ]
          },
          "metadata": {
            "tags": []
          },
          "execution_count": 147
        }
      ]
    },
    {
      "cell_type": "code",
      "metadata": {
        "id": "m8Fmu_OcbvdB",
        "colab_type": "code",
        "colab": {}
      },
      "source": [
        "from dataset_original import *"
      ],
      "execution_count": 0,
      "outputs": []
    },
    {
      "cell_type": "code",
      "metadata": {
        "id": "kjUXNkFjbhYC",
        "colab_type": "code",
        "colab": {
          "base_uri": "https://localhost:8080/",
          "height": 191
        },
        "outputId": "901a3b48-71fd-45a7-ad9b-9081febb71d7"
      },
      "source": [
        "img = Image.open(image_address+'/img_1.jpg')\n",
        "\n",
        "print(img.size)\n",
        "\n",
        "ratio = 0.2\n",
        "\n",
        "ratio_h = 1 + ratio * (np.random.rand() * 2 - 1)\n",
        "print(ratio_h)\n",
        "old_h = img.height\n",
        "new_h = int(np.around(old_h * ratio_h))\n",
        "img_new = img.resize((img.width, new_h), Image.BILINEAR)\n",
        "print(img_new.size)\n",
        "\n",
        "new_vertices = vertices.copy()\n",
        "if vertices.size > 0:\n",
        "  new_vertices[:,[1,3,5,7]] = vertices[:,[1,3,5,7]] * (new_h / old_h)\n",
        "  \n",
        "vertices[:,[1,3,5,7]]"
      ],
      "execution_count": 191,
      "outputs": [
        {
          "output_type": "stream",
          "text": [
            "(1280, 720)\n",
            "0.8070327281060631\n",
            "(1280, 581)\n"
          ],
          "name": "stdout"
        },
        {
          "output_type": "execute_result",
          "data": {
            "text/plain": [
              "array([[-1701.12129794, -1687.66202865, -1676.74880579, -1690.36457821],\n",
              "       [-1684.73363748, -1680.66455607, -1667.41428532, -1671.48336674],\n",
              "       [-1670.67350893, -1665.19589933, -1652.82897997, -1658.30658957],\n",
              "       [-1655.73954497, -1646.50586023, -1630.60553534, -1639.83922008],\n",
              "       [-1635.02644735, -1627.82730331, -1616.34373533, -1623.54287937],\n",
              "       [-1622.74253754, -1616.58324802, -1603.33297727, -1610.37561818],\n",
              "       [-1797.87610808, -1779.09573233, -1709.62397934, -1727.5210037 ]])"
            ]
          },
          "metadata": {
            "tags": []
          },
          "execution_count": 191
        }
      ]
    },
    {
      "cell_type": "code",
      "metadata": {
        "id": "Gb8xhP25ewBP",
        "colab_type": "code",
        "colab": {}
      },
      "source": [
        ""
      ],
      "execution_count": 0,
      "outputs": []
    },
    {
      "cell_type": "code",
      "metadata": {
        "id": "-Be5YdfbbSCs",
        "colab_type": "code",
        "colab": {
          "base_uri": "https://localhost:8080/",
          "height": 1000
        },
        "outputId": "a2fa6c56-ff7d-400d-abb0-430013144098"
      },
      "source": [
        "scale = 0.25\n",
        "length = 512\n",
        "\n",
        "score_map   = np.zeros((int(img.height * scale), int(img.width * scale), 1), np.float32)\n",
        "geo_map     = np.zeros((int(img.height * scale), int(img.width * scale), 5), np.float32)\n",
        "ignored_map = np.zeros((int(img.height * scale), int(img.width * scale), 1), np.float32)\n",
        "\n",
        "print(score_map.shape, geo_map.shape, ignored_map.shape)\n",
        "\n",
        "index = np.arange(0, length, int(1/scale))\n",
        "index_x, index_y = np.meshgrid(index, index)\n",
        "ignored_polys = []\n",
        "polys = []\n",
        "\n",
        "for i, vertice in enumerate(vertices):\n",
        "  print(vertice)\n",
        "  print()\n",
        "  poly = np.around(scale * shrink_poly(vertice).reshape((4,2))).astype(np.int32)\n",
        "  polys.append(poly)\n",
        "  temp_mask = np.zeros(score_map.shape[:-1], np.float32)\n",
        "  cv2.fillPoly(temp_mask, [poly], 1)\n",
        "  \n",
        "  theta = find_min_rect_angle(vertice)\n",
        "  print('theta = ',theta)\n",
        "  \n",
        "  rotate_mat = get_rotate_mat(theta)\n",
        "  print(rotate_mat)\n",
        "  rotated_vertices = rotate_vertices(vertice, theta)\n",
        "  print('rotated_vertices')\n",
        "  print(rotated_vertices)\n",
        "  print('-'*30)"
      ],
      "execution_count": 178,
      "outputs": [
        {
          "output_type": "stream",
          "text": [
            "(128, 128, 1) (128, 128, 5) (128, 128, 1)\n",
            "[-4258.12392856  -982.29513402 -4172.91494712  -980.89473343\n",
            " -4170.6542434   -970.28220477 -4256.85402695  -971.69888909]\n",
            "\n",
            "theta =  -0.017453292519943295\n",
            "[[ 0.9998477   0.01745241]\n",
            " [-0.01745241  0.9998477 ]]\n",
            "rotated_vertices\n",
            "[-4258.12392856  -982.29513402 -4172.9034845   -982.38204849\n",
            " -4170.45791094  -971.8105909  -4256.66929039  -971.72266579]\n",
            "------------------------------\n",
            "[-4143.23740041  -982.16954846 -4117.47654555  -981.74617154\n",
            " -4117.12767119  -968.52122004 -4142.88852604  -968.94459696]\n",
            "\n",
            "theta =  0.0\n",
            "[[ 1. -0.]\n",
            " [ 0.  1.]]\n",
            "rotated_vertices\n",
            "[-4143.23740041  -982.16954846 -4117.47654555  -981.74617154\n",
            " -4117.12767119  -968.52122004 -4142.88852604  -968.94459696]\n",
            "------------------------------\n",
            "[-4260.2822947   -951.48576503 -4225.60422086  -950.91583456\n",
            " -4225.27860478  -938.57254649 -4259.95667862  -939.14247696]\n",
            "\n",
            "theta =  -0.017453292519943295\n",
            "[[ 0.9998477   0.01745241]\n",
            " [-0.01745241  0.9998477 ]]\n",
            "rotated_vertices\n",
            "[-4260.2822947   -951.48576503 -4225.59955584  -951.5211372\n",
            " -4225.05856927  -939.18541186 -4259.74130813  -939.15003969]\n",
            "------------------------------\n",
            "[-4143.46067891  -953.09093889 -4085.00335444  -952.13019895\n",
            " -4084.5847052   -936.26025715 -4143.04202967  -937.22099709]\n",
            "\n",
            "theta =  -0.017453292519943295\n",
            "[[ 0.9998477   0.01745241]\n",
            " [-0.01745241  0.9998477 ]]\n",
            "rotated_vertices\n",
            "[-4143.46067891  -953.09093889 -4084.99549055  -953.15056626\n",
            " -4084.29993639  -937.29034797 -4142.76512476  -937.2307206 ]\n",
            "------------------------------\n",
            "[-4257.37035883  -916.18666024 -4211.79346178  -915.43760876\n",
            " -4211.491104    -903.97598413 -4257.06800105  -904.72503561]\n",
            "\n",
            "theta =  -0.017453292519943295\n",
            "[[ 0.9998477   0.01745241]\n",
            " [-0.01745241  0.9998477 ]]\n",
            "rotated_vertices\n",
            "[-4257.37035883  -916.18666024 -4211.78733062  -916.23314938\n",
            " -4211.28498595  -904.77854728 -4256.86801417  -904.73205814]\n",
            "------------------------------\n",
            "[-4140.61851792  -920.4368244  -4096.05568127  -920.58572008\n",
            " -4095.70680691  -907.36076858 -4140.29290184  -908.09353633]\n",
            "\n",
            "theta =  0.0\n",
            "[[ 1. -0.]\n",
            " [ 0.  1.]]\n",
            "rotated_vertices\n",
            "[-4140.61851792  -920.4368244  -4096.05568127  -920.58572008\n",
            " -4095.70680691  -907.36076858 -4140.29290184  -908.09353633]\n",
            "------------------------------\n",
            "[-4263.63148862 -1078.44529944 -4144.73523545 -1076.49125211\n",
            " -4144.87943467 -1006.87240833 -4263.75242955 -1007.94479222]\n",
            "\n",
            "theta =  0.0\n",
            "[[ 1. -0.]\n",
            " [ 0.  1.]]\n",
            "rotated_vertices\n",
            "[-4263.63148862 -1078.44529944 -4144.73523545 -1076.49125211\n",
            " -4144.87943467 -1006.87240833 -4263.75242955 -1007.94479222]\n",
            "------------------------------\n"
          ],
          "name": "stdout"
        }
      ]
    }
  ]
}