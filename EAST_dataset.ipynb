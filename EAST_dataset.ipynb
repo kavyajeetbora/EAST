{
  "nbformat": 4,
  "nbformat_minor": 0,
  "metadata": {
    "colab": {
      "name": "EAST_dataset",
      "provenance": [],
      "collapsed_sections": [
        "QYP_yAGvd05H",
        "T874dqy_dyjf"
      ],
      "machine_shape": "hm",
      "include_colab_link": true
    },
    "kernelspec": {
      "name": "python3",
      "display_name": "Python 3"
    },
    "accelerator": "GPU"
  },
  "cells": [
    {
      "cell_type": "markdown",
      "metadata": {
        "id": "view-in-github",
        "colab_type": "text"
      },
      "source": [
        "<a href=\"https://colab.research.google.com/github/kavyajeetbora/EAST/blob/master/EAST_dataset.ipynb\" target=\"_parent\"><img src=\"https://colab.research.google.com/assets/colab-badge.svg\" alt=\"Open In Colab\"/></a>"
      ]
    },
    {
      "cell_type": "markdown",
      "metadata": {
        "id": "Pyapm5xLqREO",
        "colab_type": "text"
      },
      "source": [
        "##1. Imports"
      ]
    },
    {
      "cell_type": "markdown",
      "metadata": {
        "id": "L2dp5i49ZJGr",
        "colab_type": "text"
      },
      "source": [
        "[**Tasks - Incidental Scene Text**](https://rrc.cvc.uab.es/?ch=4&com=tasks)"
      ]
    },
    {
      "cell_type": "code",
      "metadata": {
        "id": "a6n5wRjEg_RL",
        "colab_type": "code",
        "colab": {}
      },
      "source": [
        "import os\n",
        "from PIL import Image\n",
        "from torch.utils.model_zoo import load_url\n",
        "import matplotlib.pyplot as plt\n",
        "import numpy as np\n",
        "import torch\n",
        "import torch.nn as nn"
      ],
      "execution_count": 0,
      "outputs": []
    },
    {
      "cell_type": "code",
      "metadata": {
        "id": "NAmisDeYpzym",
        "colab_type": "code",
        "outputId": "7d58f077-d49c-44f0-81e2-4e342eba1118",
        "colab": {
          "base_uri": "https://localhost:8080/",
          "height": 243
        }
      },
      "source": [
        "%%time\n",
        "\n",
        "!git clone -l -s git://github.com/kavyajeetbora/EAST.git cloned-repo\n",
        "%cd cloned-repo\n",
        "!ls"
      ],
      "execution_count": 275,
      "outputs": [
        {
          "output_type": "stream",
          "text": [
            "Cloning into 'cloned-repo'...\n",
            "warning: --local is ignored\n",
            "remote: Enumerating objects: 60, done.\u001b[K\n",
            "remote: Counting objects:   1% (1/60)\u001b[K\rremote: Counting objects:   3% (2/60)\u001b[K\rremote: Counting objects:   5% (3/60)\u001b[K\rremote: Counting objects:   6% (4/60)\u001b[K\rremote: Counting objects:   8% (5/60)\u001b[K\rremote: Counting objects:  10% (6/60)\u001b[K\rremote: Counting objects:  11% (7/60)\u001b[K\rremote: Counting objects:  13% (8/60)\u001b[K\rremote: Counting objects:  15% (9/60)\u001b[K\rremote: Counting objects:  16% (10/60)\u001b[K\rremote: Counting objects:  18% (11/60)\u001b[K\rremote: Counting objects:  20% (12/60)\u001b[K\rremote: Counting objects:  21% (13/60)\u001b[K\rremote: Counting objects:  23% (14/60)\u001b[K\rremote: Counting objects:  25% (15/60)\u001b[K\rremote: Counting objects:  26% (16/60)\u001b[K\rremote: Counting objects:  28% (17/60)\u001b[K\rremote: Counting objects:  30% (18/60)\u001b[K\rremote: Counting objects:  31% (19/60)\u001b[K\rremote: Counting objects:  33% (20/60)\u001b[K\rremote: Counting objects:  35% (21/60)\u001b[K\rremote: Counting objects:  36% (22/60)\u001b[K\rremote: Counting objects:  38% (23/60)\u001b[K\rremote: Counting objects:  40% (24/60)\u001b[K\rremote: Counting objects:  41% (25/60)\u001b[K\rremote: Counting objects:  43% (26/60)\u001b[K\rremote: Counting objects:  45% (27/60)\u001b[K\rremote: Counting objects:  46% (28/60)\u001b[K\rremote: Counting objects:  48% (29/60)\u001b[K\rremote: Counting objects:  50% (30/60)\u001b[K\rremote: Counting objects:  51% (31/60)\u001b[K\rremote: Counting objects:  53% (32/60)\u001b[K\rremote: Counting objects:  55% (33/60)\u001b[K\rremote: Counting objects:  56% (34/60)\u001b[K\rremote: Counting objects:  58% (35/60)\u001b[K\rremote: Counting objects:  60% (36/60)\u001b[K\rremote: Counting objects:  61% (37/60)\u001b[K\rremote: Counting objects:  63% (38/60)\u001b[K\rremote: Counting objects:  65% (39/60)\u001b[K\rremote: Counting objects:  66% (40/60)\u001b[K\rremote: Counting objects:  68% (41/60)\u001b[K\rremote: Counting objects:  70% (42/60)\u001b[K\rremote: Counting objects:  71% (43/60)\u001b[K\rremote: Counting objects:  73% (44/60)\u001b[K\rremote: Counting objects:  75% (45/60)\u001b[K\rremote: Counting objects:  76% (46/60)\u001b[K\rremote: Counting objects:  78% (47/60)\u001b[K\rremote: Counting objects:  80% (48/60)\u001b[K\rremote: Counting objects:  81% (49/60)\u001b[K\rremote: Counting objects:  83% (50/60)\u001b[K\rremote: Counting objects:  85% (51/60)\u001b[K\rremote: Counting objects:  86% (52/60)\u001b[K\rremote: Counting objects:  88% (53/60)\u001b[K\rremote: Counting objects:  90% (54/60)\u001b[K\rremote: Counting objects:  91% (55/60)\u001b[K\rremote: Counting objects:  93% (56/60)\u001b[K\rremote: Counting objects:  95% (57/60)\u001b[K\rremote: Counting objects:  96% (58/60)\u001b[K\rremote: Counting objects:  98% (59/60)\u001b[K\rremote: Counting objects: 100% (60/60)\u001b[K\rremote: Counting objects: 100% (60/60), done.\u001b[K\n",
            "remote: Compressing objects:   1% (1/60)\u001b[K\rremote: Compressing objects:   3% (2/60)\u001b[K\rremote: Compressing objects:   5% (3/60)\u001b[K\rremote: Compressing objects:   6% (4/60)\u001b[K\rremote: Compressing objects:   8% (5/60)\u001b[K\rremote: Compressing objects:  10% (6/60)\u001b[K\rremote: Compressing objects:  11% (7/60)\u001b[K\rremote: Compressing objects:  13% (8/60)\u001b[K\rremote: Compressing objects:  15% (9/60)\u001b[K\rremote: Compressing objects:  16% (10/60)\u001b[K\rremote: Compressing objects:  18% (11/60)\u001b[K\rremote: Compressing objects:  20% (12/60)\u001b[K\rremote: Compressing objects:  21% (13/60)\u001b[K\rremote: Compressing objects:  23% (14/60)\u001b[K\rremote: Compressing objects:  25% (15/60)\u001b[K\rremote: Compressing objects:  26% (16/60)\u001b[K\rremote: Compressing objects:  28% (17/60)\u001b[K\rremote: Compressing objects:  30% (18/60)\u001b[K\rremote: Compressing objects:  31% (19/60)\u001b[K\rremote: Compressing objects:  33% (20/60)\u001b[K\rremote: Compressing objects:  35% (21/60)\u001b[K\rremote: Compressing objects:  36% (22/60)\u001b[K\rremote: Compressing objects:  38% (23/60)\u001b[K\rremote: Compressing objects:  40% (24/60)\u001b[K\rremote: Compressing objects:  41% (25/60)\u001b[K\rremote: Compressing objects:  43% (26/60)\u001b[K\rremote: Compressing objects:  45% (27/60)\u001b[K\rremote: Compressing objects:  46% (28/60)\u001b[K\rremote: Compressing objects:  48% (29/60)\u001b[K\rremote: Compressing objects:  50% (30/60)\u001b[K\rremote: Compressing objects:  51% (31/60)\u001b[K\rremote: Compressing objects:  53% (32/60)\u001b[K\rremote: Compressing objects:  55% (33/60)\u001b[K\rremote: Compressing objects:  56% (34/60)\u001b[K\rremote: Compressing objects:  58% (35/60)\u001b[K\rremote: Compressing objects:  60% (36/60)\u001b[K\rremote: Compressing objects:  61% (37/60)\u001b[K\rremote: Compressing objects:  63% (38/60)\u001b[K\rremote: Compressing objects:  65% (39/60)\u001b[K\rremote: Compressing objects:  66% (40/60)\u001b[K\rremote: Compressing objects:  68% (41/60)\u001b[K\rremote: Compressing objects:  70% (42/60)\u001b[K\rremote: Compressing objects:  71% (43/60)\u001b[K\rremote: Compressing objects:  73% (44/60)\u001b[K\rremote: Compressing objects:  75% (45/60)\u001b[K\rremote: Compressing objects:  76% (46/60)\u001b[K\rremote: Compressing objects:  78% (47/60)\u001b[K\rremote: Compressing objects:  80% (48/60)\u001b[K\rremote: Compressing objects:  81% (49/60)\u001b[K\rremote: Compressing objects:  83% (50/60)\u001b[K\rremote: Compressing objects:  85% (51/60)\u001b[K\rremote: Compressing objects:  86% (52/60)\u001b[K\rremote: Compressing objects:  88% (53/60)\u001b[K\rremote: Compressing objects:  90% (54/60)\u001b[K\rremote: Compressing objects:  91% (55/60)\u001b[K\rremote: Compressing objects:  93% (56/60)\u001b[K\rremote: Compressing objects:  95% (57/60)\u001b[K\rremote: Compressing objects:  96% (58/60)\u001b[K\rremote: Compressing objects:  98% (59/60)\u001b[K\rremote: Compressing objects: 100% (60/60)\u001b[K\rremote: Compressing objects: 100% (60/60), done.\u001b[K\n",
            "Receiving objects:   1% (1/60)   \rReceiving objects:   3% (2/60)   \rReceiving objects:   5% (3/60)   \rReceiving objects:   6% (4/60)   \rReceiving objects:   8% (5/60)   \rReceiving objects:  10% (6/60)   \rReceiving objects:  11% (7/60)   \rReceiving objects:  13% (8/60)   \rReceiving objects:  15% (9/60)   \rReceiving objects:  16% (10/60)   \rReceiving objects:  18% (11/60)   \rReceiving objects:  20% (12/60)   \rReceiving objects:  21% (13/60)   \rReceiving objects:  23% (14/60)   \rReceiving objects:  25% (15/60)   \rReceiving objects:  26% (16/60)   \rReceiving objects:  28% (17/60)   \rReceiving objects:  30% (18/60)   \rReceiving objects:  31% (19/60)   \rReceiving objects:  33% (20/60)   \rremote: Total 60 (delta 34), reused 0 (delta 0), pack-reused 0\u001b[K\n",
            "Receiving objects:  35% (21/60)   \rReceiving objects:  36% (22/60)   \rReceiving objects:  38% (23/60)   \rReceiving objects:  40% (24/60)   \rReceiving objects:  41% (25/60)   \rReceiving objects:  43% (26/60)   \rReceiving objects:  45% (27/60)   \rReceiving objects:  46% (28/60)   \rReceiving objects:  48% (29/60)   \rReceiving objects:  50% (30/60)   \rReceiving objects:  51% (31/60)   \rReceiving objects:  53% (32/60)   \rReceiving objects:  55% (33/60)   \rReceiving objects:  56% (34/60)   \rReceiving objects:  58% (35/60)   \rReceiving objects:  60% (36/60)   \rReceiving objects:  61% (37/60)   \rReceiving objects:  63% (38/60)   \rReceiving objects:  65% (39/60)   \rReceiving objects:  66% (40/60)   \rReceiving objects:  68% (41/60)   \rReceiving objects:  70% (42/60)   \rReceiving objects:  71% (43/60)   \rReceiving objects:  73% (44/60)   \rReceiving objects:  75% (45/60)   \rReceiving objects:  76% (46/60)   \rReceiving objects:  78% (47/60)   \rReceiving objects:  80% (48/60)   \rReceiving objects:  81% (49/60)   \rReceiving objects:  83% (50/60)   \rReceiving objects:  85% (51/60)   \rReceiving objects:  86% (52/60)   \rReceiving objects:  88% (53/60)   \rReceiving objects:  90% (54/60)   \rReceiving objects:  91% (55/60)   \rReceiving objects:  93% (56/60)   \rReceiving objects:  95% (57/60)   \rReceiving objects:  96% (58/60)   \rReceiving objects:  98% (59/60)   \rReceiving objects: 100% (60/60)   \rReceiving objects: 100% (60/60), 388.08 KiB | 3.70 MiB/s, done.\n",
            "Resolving deltas:   0% (0/34)   \rResolving deltas:  35% (12/34)   \rResolving deltas:  41% (14/34)   \rResolving deltas:  50% (17/34)   \rResolving deltas:  55% (19/34)   \rResolving deltas:  67% (23/34)   \rResolving deltas:  79% (27/34)   \rResolving deltas: 100% (34/34)   \rResolving deltas: 100% (34/34), done.\n",
            "/content/cloned-repo/cloned-repo/cloned-repo/cloned-repo/cloned-repo/cloned-repo/cloned-repo/cloned-repo\n",
            "dataset_original.py  EAST_dataset.ipynb        loss.py\t train.py\n",
            "dataset.py\t     EAST_text_detector.ipynb  model.py\n",
            "CPU times: user 171 ms, sys: 225 ms, total: 396 ms\n",
            "Wall time: 13.5 s\n"
          ],
          "name": "stdout"
        }
      ]
    },
    {
      "cell_type": "code",
      "metadata": {
        "id": "98XW9aIixCjd",
        "colab_type": "code",
        "outputId": "53cbecaf-ec0f-4897-b8c8-9a81d654bc5a",
        "colab": {
          "base_uri": "https://localhost:8080/",
          "height": 34
        }
      },
      "source": [
        "from google.colab import drive\n",
        "drive.mount('/content/drive')"
      ],
      "execution_count": 276,
      "outputs": [
        {
          "output_type": "stream",
          "text": [
            "Drive already mounted at /content/drive; to attempt to forcibly remount, call drive.mount(\"/content/drive\", force_remount=True).\n"
          ],
          "name": "stdout"
        }
      ]
    },
    {
      "cell_type": "code",
      "metadata": {
        "id": "EnP26VecZ4by",
        "colab_type": "code",
        "outputId": "e905e761-db2d-45bb-8385-19b4a7731d9e",
        "colab": {
          "base_uri": "https://localhost:8080/",
          "height": 34
        }
      },
      "source": [
        "from dataset_original import custom_dataset\n",
        "\n",
        "# AI4Bharat dataset\n",
        "image_address = '/content/drive/My Drive/Colab Notebooks/padh.ai.notebooks/15. Object Detection/Simple YOLO model/Data/Sample Images'\n",
        "label_address = '/content/drive/My Drive/Colab Notebooks/padh.ai.notebooks/15. Object Detection/Simple YOLO model/Data/Sample Annotations'\n",
        "\n",
        "\n",
        "# icdar dataset\n",
        "# image_address = '/content/drive/My Drive/Colab Notebooks/padh.ai.notebooks/15. Object Detection/EAST scene text detector/data/ICDAR dataset/Images'\n",
        "# label_address = '/content/drive/My Drive/Colab Notebooks/padh.ai.notebooks/15. Object Detection/EAST scene text detector/data/ICDAR dataset/Labels'\n",
        "\n",
        "training_dataset = custom_dataset(image_address, label_address)\n",
        "print(len(training_dataset))"
      ],
      "execution_count": 291,
      "outputs": [
        {
          "output_type": "stream",
          "text": [
            "428\n"
          ],
          "name": "stdout"
        }
      ]
    },
    {
      "cell_type": "code",
      "metadata": {
        "id": "kQbQcRblaZWY",
        "colab_type": "code",
        "colab": {}
      },
      "source": [
        "def extract_vertices(lines):\n",
        "\t'''extract vertices info from txt lines\n",
        "\tInput:\n",
        "\t\tlines   : list of string info\n",
        "\tOutput:\n",
        "\t\tvertices: vertices of text regions <numpy.ndarray, (n,8)>\n",
        "\t\tlabels  : 1->valid, 0->ignore, <numpy.ndarray, (n,)>\n",
        "\t'''\n",
        "\tlabels = []\n",
        "\tvertices = []\n",
        "\tfor line in lines:\n",
        "\t\tvertices.append(list(map(int,line.rstrip('\\n').lstrip('\\ufeff').split(',')[:8])))\n",
        "\t\tlabel = 0 if '##::' in line else 1\n",
        "\t\tlabels.append(label)\n",
        "\treturn np.array(vertices), np.array(labels)"
      ],
      "execution_count": 0,
      "outputs": []
    },
    {
      "cell_type": "code",
      "metadata": {
        "id": "m8Fmu_OcbvdB",
        "colab_type": "code",
        "colab": {}
      },
      "source": [
        "from dataset_original import *"
      ],
      "execution_count": 0,
      "outputs": []
    },
    {
      "cell_type": "code",
      "metadata": {
        "id": "kjUXNkFjbhYC",
        "colab_type": "code",
        "outputId": "35f9ca26-4ba4-4cdf-9ddd-1c2a5db3ce9b",
        "colab": {
          "base_uri": "https://localhost:8080/",
          "height": 191
        }
      },
      "source": [
        "img = Image.open(image_address+'/0.jpg')\n",
        "\n",
        "with open(label_address+'/0.txt', 'r') as f:\n",
        "\t\t\tlines = f.readlines()\n",
        "vertices, labels = extract_vertices(lines)\n",
        "\n",
        "img, vertices = adjust_height(img, vertices) \n",
        "img, vertices = rotate_img(img, vertices)\n",
        "img, vertices = crop_img(img, vertices, labels, 512)\n",
        "\n",
        "for vertice in vertices:\n",
        "  print(vertice)\n",
        "  print('-'*20)\n",
        "  \n",
        "print(labels)"
      ],
      "execution_count": 304,
      "outputs": [
        {
          "output_type": "stream",
          "text": [
            "[-139.9997009   295.70095097   57.41879004  126.65220186  -43.06110984\n",
            "  215.63372402   34.31319314  274.43542797]\n",
            "--------------------\n",
            "[ 46.01064092 477.93392685 252.33446602 312.43005002 -36.46504421\n",
            " 222.50208604  40.71021477 291.40708871]\n",
            "--------------------\n",
            "[237.76743583 596.26789713 371.14565557 488.84437564 -35.34358394\n",
            " 222.52422429  45.30663585 285.88269799]\n",
            "--------------------\n",
            "[1 1 1]\n"
          ],
          "name": "stdout"
        }
      ]
    },
    {
      "cell_type": "code",
      "metadata": {
        "id": "-Be5YdfbbSCs",
        "colab_type": "code",
        "outputId": "ef0b155f-d495-4dcc-a0ea-369a6a877003",
        "colab": {
          "base_uri": "https://localhost:8080/",
          "height": 34
        }
      },
      "source": [
        "score_map, geo_map, ignored_map = get_score_geo(img, vertices, labels, 0.25, 512)\n",
        "\n",
        "torch.sum(score_map)"
      ],
      "execution_count": 305,
      "outputs": [
        {
          "output_type": "execute_result",
          "data": {
            "text/plain": [
              "tensor(684.)"
            ]
          },
          "metadata": {
            "tags": []
          },
          "execution_count": 305
        }
      ]
    },
    {
      "cell_type": "markdown",
      "metadata": {
        "id": "VsangoljUZ6v",
        "colab_type": "text"
      },
      "source": [
        "## Training"
      ]
    },
    {
      "cell_type": "code",
      "metadata": {
        "id": "xmbW10gwUTRX",
        "colab_type": "code",
        "colab": {
          "base_uri": "https://localhost:8080/",
          "height": 52
        },
        "outputId": "4e46f851-215c-4fd5-b037-485f6ebe579a"
      },
      "source": [
        "train_loader = DataLoader(training_dataset, shuffle = True, batch_size=4)\n",
        "\n",
        "imgs, gt_score, gt_geo, ignored_maps = next(iter(train_loader))\n",
        "\n",
        "print(imgs.size(), gt_score.size(), gt_geo.size(), ignored_maps.size())\n",
        "\n",
        "print(torch.sum(gt_score))"
      ],
      "execution_count": 317,
      "outputs": [
        {
          "output_type": "stream",
          "text": [
            "torch.Size([4, 3, 512, 512]) torch.Size([4, 1, 128, 128]) torch.Size([4, 5, 128, 128]) torch.Size([4, 1, 128, 128])\n",
            "tensor(3178.)\n"
          ],
          "name": "stdout"
        }
      ]
    },
    {
      "cell_type": "code",
      "metadata": {
        "id": "d3Ao3H-fU45B",
        "colab_type": "code",
        "colab": {}
      },
      "source": [
        "from model import EAST\n",
        "\n",
        "model = EAST()"
      ],
      "execution_count": 0,
      "outputs": []
    },
    {
      "cell_type": "code",
      "metadata": {
        "id": "EVd09gNmU_gE",
        "colab_type": "code",
        "colab": {
          "base_uri": "https://localhost:8080/",
          "height": 34
        },
        "outputId": "dc6daf94-5db6-48a1-d816-eb69f4fb1f01"
      },
      "source": [
        "pred_score, pred_geo = model(imgs)\n",
        "\n",
        "print(pred_score.size(), pred_geo.size())"
      ],
      "execution_count": 319,
      "outputs": [
        {
          "output_type": "stream",
          "text": [
            "torch.Size([4, 1, 128, 128]) torch.Size([4, 5, 128, 128])\n"
          ],
          "name": "stdout"
        }
      ]
    },
    {
      "cell_type": "code",
      "metadata": {
        "id": "9dwKLUhtVIt9",
        "colab_type": "code",
        "colab": {
          "base_uri": "https://localhost:8080/",
          "height": 52
        },
        "outputId": "8933e5ad-b964-4a05-c7d5-c3e5462676bb"
      },
      "source": [
        "from loss import Loss\n",
        "\n",
        "loss_fn = Loss()\n",
        "\n",
        "loss_fn(gt_score, pred_score, gt_geo, pred_geo, ignored_maps)"
      ],
      "execution_count": 320,
      "outputs": [
        {
          "output_type": "stream",
          "text": [
            "classify loss is 0.92153770, angle loss is 0.86955118, iou loss is 1.97817540\n"
          ],
          "name": "stdout"
        },
        {
          "output_type": "execute_result",
          "data": {
            "text/plain": [
              "tensor(11.5952, grad_fn=<AddBackward0>)"
            ]
          },
          "metadata": {
            "tags": []
          },
          "execution_count": 320
        }
      ]
    }
  ]
}