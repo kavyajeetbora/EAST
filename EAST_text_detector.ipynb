{
  "nbformat": 4,
  "nbformat_minor": 0,
  "metadata": {
    "colab": {
      "name": "EAST_dataset",
      "provenance": [],
      "collapsed_sections": [
        "QYP_yAGvd05H",
        "T874dqy_dyjf"
      ],
      "machine_shape": "hm",
      "include_colab_link": true
    },
    "kernelspec": {
      "name": "python3",
      "display_name": "Python 3"
    },
    "accelerator": "GPU"
  },
  "cells": [
    {
      "cell_type": "markdown",
      "metadata": {
        "id": "view-in-github",
        "colab_type": "text"
      },
      "source": [
        "<a href=\"https://colab.research.google.com/github/kavyajeetbora/EAST/blob/master/EAST_text_detector.ipynb\" target=\"_parent\"><img src=\"https://colab.research.google.com/assets/colab-badge.svg\" alt=\"Open In Colab\"/></a>"
      ]
    },
    {
      "cell_type": "markdown",
      "metadata": {
        "id": "Pyapm5xLqREO",
        "colab_type": "text"
      },
      "source": [
        "##1. Imports"
      ]
    },
    {
      "cell_type": "markdown",
      "metadata": {
        "id": "L2dp5i49ZJGr",
        "colab_type": "text"
      },
      "source": [
        "[**Tasks - Incidental Scene Text**](https://rrc.cvc.uab.es/?ch=4&com=tasks)"
      ]
    },
    {
      "cell_type": "code",
      "metadata": {
        "id": "a6n5wRjEg_RL",
        "colab_type": "code",
        "colab": {}
      },
      "source": [
        "import os\n",
        "import time\n",
        "from PIL import Image\n",
        "from torch.utils.model_zoo import load_url\n",
        "import matplotlib.pyplot as plt\n",
        "import numpy as np\n",
        "import torch\n",
        "import torch.nn as nn\n",
        "from torch.optim import lr_scheduler\n",
        "from torch.utils.data import DataLoader"
      ],
      "execution_count": 0,
      "outputs": []
    },
    {
      "cell_type": "code",
      "metadata": {
        "id": "NAmisDeYpzym",
        "colab_type": "code",
        "outputId": "9861da04-b6ff-4886-9801-51c46d195a80",
        "colab": {
          "base_uri": "https://localhost:8080/",
          "height": 272
        }
      },
      "source": [
        "%%time\n",
        "\n",
        "!git clone -l -s git://github.com/kavyajeetbora/EAST.git cloned-repo\n",
        "%cd cloned-repo\n",
        "!ls"
      ],
      "execution_count": 13,
      "outputs": [
        {
          "output_type": "stream",
          "text": [
            "Cloning into 'cloned-repo'...\n",
            "warning: --local is ignored\n",
            "remote: Enumerating objects: 80, done.\u001b[K\n",
            "remote: Counting objects:   1% (1/80)\u001b[K\rremote: Counting objects:   2% (2/80)\u001b[K\rremote: Counting objects:   3% (3/80)\u001b[K\rremote: Counting objects:   5% (4/80)\u001b[K\rremote: Counting objects:   6% (5/80)\u001b[K\rremote: Counting objects:   7% (6/80)\u001b[K\rremote: Counting objects:   8% (7/80)\u001b[K\rremote: Counting objects:  10% (8/80)\u001b[K\rremote: Counting objects:  11% (9/80)\u001b[K\rremote: Counting objects:  12% (10/80)\u001b[K\rremote: Counting objects:  13% (11/80)\u001b[K\rremote: Counting objects:  15% (12/80)\u001b[K\rremote: Counting objects:  16% (13/80)\u001b[K\rremote: Counting objects:  17% (14/80)\u001b[K\rremote: Counting objects:  18% (15/80)\u001b[K\rremote: Counting objects:  20% (16/80)\u001b[K\rremote: Counting objects:  21% (17/80)\u001b[K\rremote: Counting objects:  22% (18/80)\u001b[K\rremote: Counting objects:  23% (19/80)\u001b[K\rremote: Counting objects:  25% (20/80)\u001b[K\rremote: Counting objects:  26% (21/80)\u001b[K\rremote: Counting objects:  27% (22/80)\u001b[K\rremote: Counting objects:  28% (23/80)\u001b[K\rremote: Counting objects:  30% (24/80)\u001b[K\rremote: Counting objects:  31% (25/80)\u001b[K\rremote: Counting objects:  32% (26/80)\u001b[K\rremote: Counting objects:  33% (27/80)\u001b[K\rremote: Counting objects:  35% (28/80)\u001b[K\rremote: Counting objects:  36% (29/80)\u001b[K\rremote: Counting objects:  37% (30/80)\u001b[K\rremote: Counting objects:  38% (31/80)\u001b[K\rremote: Counting objects:  40% (32/80)\u001b[K\rremote: Counting objects:  41% (33/80)\u001b[K\rremote: Counting objects:  42% (34/80)\u001b[K\rremote: Counting objects:  43% (35/80)\u001b[K\rremote: Counting objects:  45% (36/80)\u001b[K\rremote: Counting objects:  46% (37/80)\u001b[K\rremote: Counting objects:  47% (38/80)\u001b[K\rremote: Counting objects:  48% (39/80)\u001b[K\rremote: Counting objects:  50% (40/80)\u001b[K\rremote: Counting objects:  51% (41/80)\u001b[K\rremote: Counting objects:  52% (42/80)\u001b[K\rremote: Counting objects:  53% (43/80)\u001b[K\rremote: Counting objects:  55% (44/80)\u001b[K\rremote: Counting objects:  56% (45/80)\u001b[K\rremote: Counting objects:  57% (46/80)\u001b[K\rremote: Counting objects:  58% (47/80)\u001b[K\rremote: Counting objects:  60% (48/80)\u001b[K\rremote: Counting objects:  61% (49/80)\u001b[K\rremote: Counting objects:  62% (50/80)\u001b[K\rremote: Counting objects:  63% (51/80)\u001b[K\rremote: Counting objects:  65% (52/80)\u001b[K\rremote: Counting objects:  66% (53/80)\u001b[K\rremote: Counting objects:  67% (54/80)\u001b[K\rremote: Counting objects:  68% (55/80)\u001b[K\rremote: Counting objects:  70% (56/80)\u001b[K\rremote: Counting objects:  71% (57/80)\u001b[K\rremote: Counting objects:  72% (58/80)\u001b[K\rremote: Counting objects:  73% (59/80)\u001b[K\rremote: Counting objects:  75% (60/80)\u001b[K\rremote: Counting objects:  76% (61/80)\u001b[K\rremote: Counting objects:  77% (62/80)\u001b[K\rremote: Counting objects:  78% (63/80)\u001b[K\rremote: Counting objects:  80% (64/80)\u001b[K\rremote: Counting objects:  81% (65/80)\u001b[K\rremote: Counting objects:  82% (66/80)\u001b[K\rremote: Counting objects:  83% (67/80)\u001b[K\rremote: Counting objects:  85% (68/80)\u001b[K\rremote: Counting objects:  86% (69/80)\u001b[K\rremote: Counting objects:  87% (70/80)\u001b[K\rremote: Counting objects:  88% (71/80)\u001b[K\rremote: Counting objects:  90% (72/80)\u001b[K\rremote: Counting objects:  91% (73/80)\u001b[K\rremote: Counting objects:  92% (74/80)\u001b[K\rremote: Counting objects:  93% (75/80)\u001b[K\rremote: Counting objects:  95% (76/80)\u001b[K\rremote: Counting objects:  96% (77/80)\u001b[K\rremote: Counting objects:  97% (78/80)\u001b[K\rremote: Counting objects:  98% (79/80)\u001b[K\rremote: Counting objects: 100% (80/80)\u001b[K\rremote: Counting objects: 100% (80/80), done.\u001b[K\n",
            "remote: Compressing objects:   1% (1/80)\u001b[K\rremote: Compressing objects:   2% (2/80)\u001b[K\rremote: Compressing objects:   3% (3/80)\u001b[K\rremote: Compressing objects:   5% (4/80)\u001b[K\rremote: Compressing objects:   6% (5/80)\u001b[K\rremote: Compressing objects:   7% (6/80)\u001b[K\rremote: Compressing objects:   8% (7/80)\u001b[K\rremote: Compressing objects:  10% (8/80)\u001b[K\rremote: Compressing objects:  11% (9/80)\u001b[K\rremote: Compressing objects:  12% (10/80)\u001b[K\rremote: Compressing objects:  13% (11/80)\u001b[K\rremote: Compressing objects:  15% (12/80)\u001b[K\rremote: Compressing objects:  16% (13/80)\u001b[K\rremote: Compressing objects:  17% (14/80)\u001b[K\rremote: Compressing objects:  18% (15/80)\u001b[K\rremote: Compressing objects:  20% (16/80)\u001b[K\rremote: Compressing objects:  21% (17/80)\u001b[K\rremote: Compressing objects:  22% (18/80)\u001b[K\rremote: Compressing objects:  23% (19/80)\u001b[K\rremote: Compressing objects:  25% (20/80)\u001b[K\rremote: Compressing objects:  26% (21/80)\u001b[K\rremote: Compressing objects:  27% (22/80)\u001b[K\rremote: Compressing objects:  28% (23/80)\u001b[K\rremote: Compressing objects:  30% (24/80)\u001b[K\rremote: Compressing objects:  31% (25/80)\u001b[K\rremote: Compressing objects:  32% (26/80)\u001b[K\rremote: Compressing objects:  33% (27/80)\u001b[K\rremote: Compressing objects:  35% (28/80)\u001b[K\rremote: Compressing objects:  36% (29/80)\u001b[K\rremote: Compressing objects:  37% (30/80)\u001b[K\rremote: Compressing objects:  38% (31/80)\u001b[K\rremote: Compressing objects:  40% (32/80)\u001b[K\rremote: Compressing objects:  41% (33/80)\u001b[K\rremote: Compressing objects:  42% (34/80)\u001b[K\rremote: Compressing objects:  43% (35/80)\u001b[K\rremote: Compressing objects:  45% (36/80)\u001b[K\rremote: Compressing objects:  46% (37/80)\u001b[K\rremote: Compressing objects:  47% (38/80)\u001b[K\rremote: Compressing objects:  48% (39/80)\u001b[K\rremote: Compressing objects:  50% (40/80)\u001b[K\rremote: Compressing objects:  51% (41/80)\u001b[K\rremote: Compressing objects:  52% (42/80)\u001b[K\rremote: Compressing objects:  53% (43/80)\u001b[K\rremote: Compressing objects:  55% (44/80)\u001b[K\rremote: Compressing objects:  56% (45/80)\u001b[K\rremote: Compressing objects:  57% (46/80)\u001b[K\rremote: Compressing objects:  58% (47/80)\u001b[K\rremote: Compressing objects:  60% (48/80)\u001b[K\rremote: Compressing objects:  61% (49/80)\u001b[K\rremote: Compressing objects:  62% (50/80)\u001b[K\rremote: Compressing objects:  63% (51/80)\u001b[K\rremote: Compressing objects:  65% (52/80)\u001b[K\rremote: Compressing objects:  66% (53/80)\u001b[K\rremote: Compressing objects:  67% (54/80)\u001b[K\rremote: Compressing objects:  68% (55/80)\u001b[K\rremote: Compressing objects:  70% (56/80)\u001b[K\rremote: Compressing objects:  71% (57/80)\u001b[K\rremote: Compressing objects:  72% (58/80)\u001b[K\rremote: Compressing objects:  73% (59/80)\u001b[K\rremote: Compressing objects:  75% (60/80)\u001b[K\rremote: Compressing objects:  76% (61/80)\u001b[K\rremote: Compressing objects:  77% (62/80)\u001b[K\rremote: Compressing objects:  78% (63/80)\u001b[K\rremote: Compressing objects:  80% (64/80)\u001b[K\rremote: Compressing objects:  81% (65/80)\u001b[K\rremote: Compressing objects:  82% (66/80)\u001b[K\rremote: Compressing objects:  83% (67/80)\u001b[K\rremote: Compressing objects:  85% (68/80)\u001b[K\rremote: Compressing objects:  86% (69/80)\u001b[K\rremote: Compressing objects:  87% (70/80)\u001b[K\rremote: Compressing objects:  88% (71/80)\u001b[K\rremote: Compressing objects:  90% (72/80)\u001b[K\rremote: Compressing objects:  91% (73/80)\u001b[K\rremote: Compressing objects:  92% (74/80)\u001b[K\rremote: Compressing objects:  93% (75/80)\u001b[K\rremote: Compressing objects:  95% (76/80)\u001b[K\rremote: Compressing objects:  96% (77/80)\u001b[K\rremote: Compressing objects:  97% (78/80)\u001b[K\rremote: Compressing objects:  98% (79/80)\u001b[K\rremote: Compressing objects: 100% (80/80)\u001b[K\rremote: Compressing objects: 100% (80/80), done.\u001b[K\n",
            "Receiving objects:   1% (1/80)   \rReceiving objects:   2% (2/80)   \rReceiving objects:   3% (3/80)   \rReceiving objects:   5% (4/80)   \rReceiving objects:   6% (5/80)   \rReceiving objects:   7% (6/80)   \rReceiving objects:   8% (7/80)   \rReceiving objects:  10% (8/80)   \rReceiving objects:  11% (9/80)   \rReceiving objects:  12% (10/80)   \rReceiving objects:  13% (11/80)   \rReceiving objects:  15% (12/80)   \rReceiving objects:  16% (13/80)   \rReceiving objects:  17% (14/80)   \rReceiving objects:  18% (15/80)   \rReceiving objects:  20% (16/80)   \rReceiving objects:  21% (17/80)   \rReceiving objects:  22% (18/80)   \rReceiving objects:  23% (19/80)   \rReceiving objects:  25% (20/80)   \rReceiving objects:  26% (21/80)   \rReceiving objects:  27% (22/80)   \rReceiving objects:  28% (23/80)   \rReceiving objects:  30% (24/80)   \rReceiving objects:  31% (25/80)   \rReceiving objects:  32% (26/80)   \rReceiving objects:  33% (27/80)   \rReceiving objects:  35% (28/80)   \rReceiving objects:  36% (29/80)   \rReceiving objects:  37% (30/80)   \rReceiving objects:  38% (31/80)   \rReceiving objects:  40% (32/80)   \rReceiving objects:  41% (33/80)   \rReceiving objects:  42% (34/80)   \rReceiving objects:  43% (35/80)   \rReceiving objects:  45% (36/80)   \rReceiving objects:  46% (37/80)   \rReceiving objects:  47% (38/80)   \rReceiving objects:  48% (39/80)   \rReceiving objects:  50% (40/80)   \rReceiving objects:  51% (41/80)   \rReceiving objects:  52% (42/80)   \rReceiving objects:  53% (43/80)   \rReceiving objects:  55% (44/80)   \rReceiving objects:  56% (45/80)   \rReceiving objects:  57% (46/80)   \rReceiving objects:  58% (47/80)   \rReceiving objects:  60% (48/80)   \rReceiving objects:  61% (49/80)   \rReceiving objects:  62% (50/80)   \rReceiving objects:  63% (51/80)   \rremote: Total 80 (delta 43), reused 0 (delta 0), pack-reused 0\u001b[K\n",
            "Receiving objects:  65% (52/80)   \rReceiving objects:  66% (53/80)   \rReceiving objects:  67% (54/80)   \rReceiving objects:  68% (55/80)   \rReceiving objects:  70% (56/80)   \rReceiving objects:  71% (57/80)   \rReceiving objects:  72% (58/80)   \rReceiving objects:  73% (59/80)   \rReceiving objects:  75% (60/80)   \rReceiving objects:  76% (61/80)   \rReceiving objects:  77% (62/80)   \rReceiving objects:  78% (63/80)   \rReceiving objects:  80% (64/80)   \rReceiving objects:  81% (65/80)   \rReceiving objects:  82% (66/80)   \rReceiving objects:  83% (67/80)   \rReceiving objects:  85% (68/80)   \rReceiving objects:  86% (69/80)   \rReceiving objects:  87% (70/80)   \rReceiving objects:  88% (71/80)   \rReceiving objects:  90% (72/80)   \rReceiving objects:  91% (73/80)   \rReceiving objects:  92% (74/80)   \rReceiving objects:  93% (75/80)   \rReceiving objects:  95% (76/80)   \rReceiving objects:  96% (77/80)   \rReceiving objects:  97% (78/80)   \rReceiving objects:  98% (79/80)   \rReceiving objects: 100% (80/80)   \rReceiving objects: 100% (80/80), 977.37 KiB | 10.86 MiB/s, done.\n",
            "Resolving deltas:   0% (0/43)   \rResolving deltas:  44% (19/43)   \rResolving deltas:  46% (20/43)   \rResolving deltas:  53% (23/43)   \rResolving deltas:  58% (25/43)   \rResolving deltas:  62% (27/43)   \rResolving deltas:  72% (31/43)   \rResolving deltas:  81% (35/43)   \rResolving deltas: 100% (43/43)   \rResolving deltas: 100% (43/43), done.\n",
            "/content/cloned-repo/cloned-repo\n",
            "dataset_original.py  dsiplay_ground_truth.ipynb  loss.py\n",
            "dataset.py\t     EAST_detection.ipynb\t model.py\n",
            "detect.py\t     EAST_text_detector.ipynb\t train.py\n",
            "CPU times: user 41.6 ms, sys: 14.2 ms, total: 55.8 ms\n",
            "Wall time: 3.75 s\n"
          ],
          "name": "stdout"
        }
      ]
    },
    {
      "cell_type": "code",
      "metadata": {
        "id": "98XW9aIixCjd",
        "colab_type": "code",
        "outputId": "ecf45fb0-864d-4b8d-b0f7-cc6f1a32cac7",
        "colab": {
          "base_uri": "https://localhost:8080/",
          "height": 35
        }
      },
      "source": [
        "from google.colab import drive\n",
        "drive.mount('/content/drive')"
      ],
      "execution_count": 14,
      "outputs": [
        {
          "output_type": "stream",
          "text": [
            "Drive already mounted at /content/drive; to attempt to forcibly remount, call drive.mount(\"/content/drive\", force_remount=True).\n"
          ],
          "name": "stdout"
        }
      ]
    },
    {
      "cell_type": "code",
      "metadata": {
        "id": "m8Fmu_OcbvdB",
        "colab_type": "code",
        "colab": {}
      },
      "source": [
        "from dataset import *"
      ],
      "execution_count": 0,
      "outputs": []
    },
    {
      "cell_type": "code",
      "metadata": {
        "id": "EnP26VecZ4by",
        "colab_type": "code",
        "outputId": "d39db137-23e9-4ed3-cfa3-365153afb742",
        "colab": {
          "base_uri": "https://localhost:8080/",
          "height": 35
        }
      },
      "source": [
        "# AI4Bharat dataset\n",
        "image_address = '/content/drive/My Drive/Colab Notebooks/padh.ai.notebooks/15. Object Detection/Simple YOLO model/Data/Sample Images'\n",
        "label_address = '/content/drive/My Drive/Colab Notebooks/padh.ai.notebooks/15. Object Detection/Simple YOLO model/Data/Sample Annotations'\n",
        "\n",
        "\n",
        "# icdar dataset\n",
        "# image_address = '/content/drive/My Drive/Colab Notebooks/padh.ai.notebooks/15. Object Detection/EAST scene text detector/data/ICDAR dataset/Images'\n",
        "# label_address = '/content/drive/My Drive/Colab Notebooks/padh.ai.notebooks/15. Object Detection/EAST scene text detector/data/ICDAR dataset/Labels'\n",
        "\n",
        "training_dataset = custom_dataset(image_address, label_address)\n",
        "print(len(training_dataset))"
      ],
      "execution_count": 41,
      "outputs": [
        {
          "output_type": "stream",
          "text": [
            "428\n"
          ],
          "name": "stdout"
        }
      ]
    },
    {
      "cell_type": "markdown",
      "metadata": {
        "id": "J3gdzk1kJ7uH",
        "colab_type": "text"
      },
      "source": [
        "## Dataset Initial Check"
      ]
    },
    {
      "cell_type": "code",
      "metadata": {
        "id": "kjUXNkFjbhYC",
        "colab_type": "code",
        "outputId": "640afc73-5885-4934-ca13-e084268d21ec",
        "colab": {
          "base_uri": "https://localhost:8080/",
          "height": 145
        }
      },
      "source": [
        "img = Image.open(image_address+'/5.jpg')\n",
        "\n",
        "with open(label_address+'/5.txt', 'r') as f:\n",
        "\t\t\tlines = f.readlines()\n",
        "vertices, labels = extract_vertices(lines)\n",
        "\n",
        "img, vertices = adjust_height(img, vertices) \n",
        "img, vertices = rotate_img(img, vertices)\n",
        "img, vertices = crop_img(img, vertices, labels, 512)\n",
        "\n",
        "for vertice in vertices:\n",
        "  print(vertice)\n",
        "  print('-'*20)\n",
        "  \n",
        "print(labels)"
      ],
      "execution_count": 42,
      "outputs": [
        {
          "output_type": "stream",
          "text": [
            "[ 40.00946874 458.48609436 323.43148912 417.38303403 320.61145491\n",
            " 504.2269818   51.81025341 528.43789142]\n",
            "--------------------\n",
            "[341.69060663 393.53091057 660.68408924 326.73418052 685.64494953\n",
            " 458.82473082 346.12011362 497.13160495]\n",
            "--------------------\n",
            "[1 1]\n"
          ],
          "name": "stdout"
        }
      ]
    },
    {
      "cell_type": "code",
      "metadata": {
        "id": "-Be5YdfbbSCs",
        "colab_type": "code",
        "outputId": "cebdcda1-16cc-4c9b-aa38-eda91e61a7cf",
        "colab": {
          "base_uri": "https://localhost:8080/",
          "height": 35
        }
      },
      "source": [
        "score_map, geo_map, ignored_map = get_score_geo(img, vertices, labels, 0.25, 512)\n",
        "\n",
        "torch.sum(score_map)"
      ],
      "execution_count": 43,
      "outputs": [
        {
          "output_type": "execute_result",
          "data": {
            "text/plain": [
              "tensor(934.)"
            ]
          },
          "metadata": {
            "tags": []
          },
          "execution_count": 43
        }
      ]
    },
    {
      "cell_type": "markdown",
      "metadata": {
        "id": "VsangoljUZ6v",
        "colab_type": "text"
      },
      "source": [
        "## Loss for one batch"
      ]
    },
    {
      "cell_type": "code",
      "metadata": {
        "id": "xmbW10gwUTRX",
        "colab_type": "code",
        "outputId": "0921acb0-8b17-4b28-ed4e-705bbce4b753",
        "colab": {
          "base_uri": "https://localhost:8080/",
          "height": 90
        }
      },
      "source": [
        "%%time\n",
        "train_loader = DataLoader(training_dataset, shuffle = True, batch_size=8)\n",
        "\n",
        "imgs, gt_score, gt_geo, ignored_maps = next(iter(train_loader))\n",
        "\n",
        "print(imgs.size(), gt_score.size(), gt_geo.size(), ignored_maps.size())\n",
        "\n",
        "print(torch.sum(gt_score))"
      ],
      "execution_count": 44,
      "outputs": [
        {
          "output_type": "stream",
          "text": [
            "torch.Size([8, 3, 512, 512]) torch.Size([8, 1, 128, 128]) torch.Size([8, 5, 128, 128]) torch.Size([8, 1, 128, 128])\n",
            "tensor(11365.)\n",
            "CPU times: user 4.15 s, sys: 4.22 s, total: 8.37 s\n",
            "Wall time: 9.68 s\n"
          ],
          "name": "stdout"
        }
      ]
    },
    {
      "cell_type": "code",
      "metadata": {
        "id": "d3Ao3H-fU45B",
        "colab_type": "code",
        "colab": {
          "base_uri": "https://localhost:8080/",
          "height": 54
        },
        "outputId": "c597fdf6-0c90-45fe-a7c6-172c61ffe9b2"
      },
      "source": [
        "from model import EAST\n",
        "\n",
        "model = EAST()"
      ],
      "execution_count": 45,
      "outputs": [
        {
          "output_type": "stream",
          "text": [
            "Downloading: \"http://download.pytorch.org/models/vgg16_bn-6c64b313.pth\" to /root/.cache/torch/checkpoints/vgg16_bn-6c64b313.pth\n",
            "100%|██████████| 528M/528M [00:06<00:00, 81.2MB/s]\n"
          ],
          "name": "stderr"
        }
      ]
    },
    {
      "cell_type": "code",
      "metadata": {
        "id": "EVd09gNmU_gE",
        "colab_type": "code",
        "outputId": "5d58f0eb-7a72-40ae-a10d-58ac8ff2a8ec",
        "colab": {
          "base_uri": "https://localhost:8080/",
          "height": 35
        }
      },
      "source": [
        "pred_score, pred_geo = model(imgs)\n",
        "\n",
        "print(pred_score.size(), pred_geo.size())"
      ],
      "execution_count": 46,
      "outputs": [
        {
          "output_type": "stream",
          "text": [
            "torch.Size([8, 1, 128, 128]) torch.Size([8, 5, 128, 128])\n"
          ],
          "name": "stdout"
        }
      ]
    },
    {
      "cell_type": "code",
      "metadata": {
        "id": "9dwKLUhtVIt9",
        "colab_type": "code",
        "outputId": "e109dceb-8adf-49f9-eccd-ad1afe811389",
        "colab": {
          "base_uri": "https://localhost:8080/",
          "height": 54
        }
      },
      "source": [
        "from loss import Loss\n",
        "\n",
        "loss_fn = Loss()\n",
        "\n",
        "loss_fn(gt_score, pred_score, gt_geo, pred_geo, ignored_maps)"
      ],
      "execution_count": 47,
      "outputs": [
        {
          "output_type": "stream",
          "text": [
            "classify loss is 0.83342028, angle loss is 0.82373893, iou loss is 3.24717069\n"
          ],
          "name": "stdout"
        },
        {
          "output_type": "execute_result",
          "data": {
            "text/plain": [
              "tensor(12.3180, grad_fn=<AddBackward0>)"
            ]
          },
          "metadata": {
            "tags": []
          },
          "execution_count": 47
        }
      ]
    },
    {
      "cell_type": "markdown",
      "metadata": {
        "id": "03aAZoSGXTLf",
        "colab_type": "text"
      },
      "source": [
        "## Training Full Batch \n",
        "\n",
        "fine tuning pretrained model [east_vgg16.pth](https://drive.google.com/file/d/1AFABkJgr5VtxWnmBU3XcfLJvpZkC2TAg/view)"
      ]
    },
    {
      "cell_type": "code",
      "metadata": {
        "id": "IxuHC3Wybb7O",
        "colab_type": "code",
        "colab": {}
      },
      "source": [
        "from model import EAST\n",
        "\n",
        "model = EAST()\n",
        "state_dict = torch.load('/content/drive/My Drive/Colab Notebooks/padh.ai.notebooks/15. Object Detection/EAST scene text detector/model_epoch_20.pth')\n",
        "model.load_state_dict(state_dict)\n",
        "device = torch.device(\"cuda:0\" if torch.cuda.is_available() else \"cpu\")\n",
        "model = model.to(device)"
      ],
      "execution_count": 0,
      "outputs": []
    },
    {
      "cell_type": "code",
      "metadata": {
        "id": "XeIQGzb6XVa9",
        "colab_type": "code",
        "colab": {}
      },
      "source": [
        "def train(model, train_img_path, train_gt_path, pths_path, batch_size, lr, epoch_iter, num_workers=4, interval=5):\n",
        "    file_num = len(os.listdir(train_img_path))\n",
        "    print(file_num)\n",
        "    trainset = custom_dataset(train_img_path, train_gt_path)\n",
        "    train_loader = data.DataLoader(trainset, batch_size=batch_size, \\\n",
        "                                   shuffle=True, num_workers=num_workers, drop_last=True)\n",
        "\t\n",
        "    criterion = Loss()\n",
        "    device = torch.device(\"cuda:0\" if torch.cuda.is_available() else \"cpu\")\n",
        "    model.to(device)\n",
        "    optimizer = torch.optim.Adam(model.parameters(), lr=lr)\n",
        "    scheduler = lr_scheduler.MultiStepLR(optimizer, milestones=[epoch_iter//2], gamma=0.1)\n",
        "  \n",
        "    for epoch in range(epoch_iter):\n",
        "      model.train()\n",
        "      scheduler.step()\n",
        "      epoch_loss = 0\n",
        "      epoch_time = time.time()\n",
        "      for i, (img, gt_score, gt_geo, ignored_map) in enumerate(train_loader):\n",
        "        start_time = time.time()\n",
        "        img, gt_score, gt_geo, ignored_map = img.to(device), gt_score.to(device), gt_geo.to(device), ignored_map.to(device)\n",
        "        pred_score, pred_geo = model(img)\n",
        "        loss = criterion(gt_score, pred_score, gt_geo, pred_geo, ignored_map)\n",
        "\n",
        "        epoch_loss += loss.item()\n",
        "        optimizer.zero_grad()\n",
        "        loss.backward()\n",
        "        optimizer.step()\n",
        "\n",
        "        print('Epoch is [{}/{}], mini-batch is [{}/{}], time consumption is {:.8f}, batch_loss is {:.8f}'.format(\\\n",
        "                  epoch+1, epoch_iter, i+1, int(file_num/batch_size), time.time()-start_time, loss.item()))\n",
        "        \n",
        "      print('epoch_loss is {:.8f}, epoch_time is {:.8f}'.format(epoch_loss/int(file_num/batch_size), time.time()-epoch_time))\n",
        "      print(time.asctime(time.localtime(time.time())))\n",
        "      print('='*50)\n",
        "      if (epoch + 1) % interval == 0:\n",
        "        state_dict = model.state_dict()\n",
        "        torch.save(state_dict, os.path.join(pths_path, 'model_epoch_{}.pth'.format(epoch+1)))"
      ],
      "execution_count": 0,
      "outputs": []
    },
    {
      "cell_type": "code",
      "metadata": {
        "id": "pPd8lPc5N7qr",
        "colab_type": "code",
        "colab": {
          "base_uri": "https://localhost:8080/",
          "height": 1000
        },
        "outputId": "828a407b-0d4a-46b6-fdd1-a8374c28dc3a"
      },
      "source": [
        "train(model, image_address, label_address, 'models', batch_size=8, lr=1e-4, epoch_iter=30)"
      ],
      "execution_count": 71,
      "outputs": [
        {
          "output_type": "stream",
          "text": [
            "428\n"
          ],
          "name": "stdout"
        },
        {
          "output_type": "stream",
          "text": [
            "/usr/local/lib/python3.6/dist-packages/torch/optim/lr_scheduler.py:100: UserWarning: Detected call of `lr_scheduler.step()` before `optimizer.step()`. In PyTorch 1.1.0 and later, you should call them in the opposite order: `optimizer.step()` before `lr_scheduler.step()`.  Failure to do this will result in PyTorch skipping the first value of the learning rate schedule.See more details at https://pytorch.org/docs/stable/optim.html#how-to-adjust-learning-rate\n",
            "  \"https://pytorch.org/docs/stable/optim.html#how-to-adjust-learning-rate\", UserWarning)\n"
          ],
          "name": "stderr"
        },
        {
          "output_type": "stream",
          "text": [
            "classify loss is 0.20035398, angle loss is 0.00281524, iou loss is 0.62110615\n",
            "Epoch is [1/30], mini-batch is [1/53], time consumption is 1.01319623, batch_loss is 0.84961247\n",
            "classify loss is 0.22705466, angle loss is 0.00231697, iou loss is 0.64552951\n",
            "Epoch is [1/30], mini-batch is [2/53], time consumption is 0.93117595, batch_loss is 0.89575392\n",
            "classify loss is 0.27056074, angle loss is 0.00923281, iou loss is 0.61577547\n",
            "Epoch is [1/30], mini-batch is [3/53], time consumption is 0.76887059, batch_loss is 0.97866434\n",
            "classify loss is 0.22516030, angle loss is 0.00991720, iou loss is 0.63095015\n",
            "Epoch is [1/30], mini-batch is [4/53], time consumption is 0.76942444, batch_loss is 0.95528251\n",
            "classify loss is 0.21793216, angle loss is 0.00296295, iou loss is 0.62771434\n",
            "Epoch is [1/30], mini-batch is [5/53], time consumption is 0.79238510, batch_loss is 0.87527603\n",
            "classify loss is 0.29522365, angle loss is 0.00679880, iou loss is 0.55263096\n",
            "Epoch is [1/30], mini-batch is [6/53], time consumption is 0.81121969, batch_loss is 0.91584259\n",
            "classify loss is 0.29434997, angle loss is 0.00441593, iou loss is 0.63097680\n",
            "Epoch is [1/30], mini-batch is [7/53], time consumption is 0.84764695, batch_loss is 0.96948600\n",
            "classify loss is 0.24817759, angle loss is 0.00305006, iou loss is 0.64428514\n",
            "Epoch is [1/30], mini-batch is [8/53], time consumption is 0.80365872, batch_loss is 0.92296326\n",
            "classify loss is 0.26965654, angle loss is 0.00835213, iou loss is 0.66369921\n",
            "Epoch is [1/30], mini-batch is [9/53], time consumption is 0.93431568, batch_loss is 1.01687706\n",
            "classify loss is 0.26795191, angle loss is 0.00867427, iou loss is 0.75478280\n",
            "Epoch is [1/30], mini-batch is [10/53], time consumption is 0.91100192, batch_loss is 1.10947740\n",
            "classify loss is 0.24510854, angle loss is 0.00412770, iou loss is 0.62587541\n",
            "Epoch is [1/30], mini-batch is [11/53], time consumption is 0.89423203, batch_loss is 0.91226089\n",
            "classify loss is 0.26749605, angle loss is 0.01141560, iou loss is 0.70571452\n",
            "Epoch is [1/30], mini-batch is [12/53], time consumption is 0.84482074, batch_loss is 1.08736658\n",
            "classify loss is 0.29767877, angle loss is 0.00339767, iou loss is 0.68714911\n",
            "Epoch is [1/30], mini-batch is [13/53], time consumption is 0.81252861, batch_loss is 1.01880455\n",
            "classify loss is 0.28785563, angle loss is 0.00979147, iou loss is 0.60715586\n",
            "Epoch is [1/30], mini-batch is [14/53], time consumption is 0.81793332, batch_loss is 0.99292618\n",
            "classify loss is 0.21933329, angle loss is 0.00595189, iou loss is 0.57784659\n",
            "Epoch is [1/30], mini-batch is [15/53], time consumption is 0.79768658, batch_loss is 0.85669875\n",
            "classify loss is 0.25148046, angle loss is 0.00894645, iou loss is 0.63896614\n",
            "Epoch is [1/30], mini-batch is [16/53], time consumption is 0.78305364, batch_loss is 0.97991109\n",
            "classify loss is 0.24817640, angle loss is 0.00472484, iou loss is 0.60060245\n",
            "Epoch is [1/30], mini-batch is [17/53], time consumption is 0.81362867, batch_loss is 0.89602721\n",
            "classify loss is 0.22156918, angle loss is 0.00942278, iou loss is 0.62632984\n",
            "Epoch is [1/30], mini-batch is [18/53], time consumption is 0.81530881, batch_loss is 0.94212681\n",
            "classify loss is 0.22804683, angle loss is 0.00371562, iou loss is 0.62178689\n",
            "Epoch is [1/30], mini-batch is [19/53], time consumption is 0.78071928, batch_loss is 0.88698989\n",
            "classify loss is 0.26377356, angle loss is 0.00678521, iou loss is 0.71872866\n",
            "Epoch is [1/30], mini-batch is [20/53], time consumption is 0.80482316, batch_loss is 1.05035436\n",
            "classify loss is 0.26564109, angle loss is 0.00806164, iou loss is 0.66115659\n",
            "Epoch is [1/30], mini-batch is [21/53], time consumption is 0.84949803, batch_loss is 1.00741410\n",
            "classify loss is 0.29774642, angle loss is 0.04577179, iou loss is 0.72240490\n",
            "Epoch is [1/30], mini-batch is [22/53], time consumption is 0.83848739, batch_loss is 1.47786927\n",
            "classify loss is 0.23516303, angle loss is 0.00661162, iou loss is 0.65635377\n",
            "Epoch is [1/30], mini-batch is [23/53], time consumption is 0.79773140, batch_loss is 0.95763296\n",
            "classify loss is 0.25701112, angle loss is 0.00771116, iou loss is 0.68315470\n",
            "Epoch is [1/30], mini-batch is [24/53], time consumption is 0.79779458, batch_loss is 1.01727748\n",
            "classify loss is 0.27815378, angle loss is 0.00392531, iou loss is 0.75649893\n",
            "Epoch is [1/30], mini-batch is [25/53], time consumption is 0.90823030, batch_loss is 1.07390571\n",
            "classify loss is 0.22921199, angle loss is 0.00662859, iou loss is 0.63788986\n",
            "Epoch is [1/30], mini-batch is [26/53], time consumption is 0.83479905, batch_loss is 0.93338782\n",
            "classify loss is 0.22273105, angle loss is 0.00660046, iou loss is 0.66515487\n",
            "Epoch is [1/30], mini-batch is [27/53], time consumption is 0.79551959, batch_loss is 0.95389050\n",
            "classify loss is 0.26556629, angle loss is 0.00876983, iou loss is 0.64599067\n",
            "Epoch is [1/30], mini-batch is [28/53], time consumption is 0.79450321, batch_loss is 0.99925524\n",
            "classify loss is 0.23708850, angle loss is 0.00572610, iou loss is 0.65418398\n",
            "Epoch is [1/30], mini-batch is [29/53], time consumption is 0.80590320, batch_loss is 0.94853342\n",
            "classify loss is 0.27256167, angle loss is 0.00473099, iou loss is 0.65878797\n",
            "Epoch is [1/30], mini-batch is [30/53], time consumption is 0.84675908, batch_loss is 0.97865951\n",
            "classify loss is 0.22417235, angle loss is 0.01629892, iou loss is 0.65740013\n",
            "Epoch is [1/30], mini-batch is [31/53], time consumption is 0.86483073, batch_loss is 1.04456162\n",
            "classify loss is 0.31239980, angle loss is 0.00379577, iou loss is 0.70938087\n",
            "Epoch is [1/30], mini-batch is [32/53], time consumption is 0.81013227, batch_loss is 1.05973840\n",
            "classify loss is 0.24781245, angle loss is 0.00622100, iou loss is 0.62732029\n",
            "Epoch is [1/30], mini-batch is [33/53], time consumption is 0.79464149, batch_loss is 0.93734270\n",
            "classify loss is 0.28198111, angle loss is 0.00433371, iou loss is 0.59650171\n",
            "Epoch is [1/30], mini-batch is [34/53], time consumption is 0.79084778, batch_loss is 0.92181998\n",
            "classify loss is 0.30230033, angle loss is 0.00480299, iou loss is 0.63489777\n",
            "Epoch is [1/30], mini-batch is [35/53], time consumption is 0.86085629, batch_loss is 0.98522800\n",
            "classify loss is 0.26153880, angle loss is 0.00581776, iou loss is 0.72694355\n",
            "Epoch is [1/30], mini-batch is [36/53], time consumption is 0.88492012, batch_loss is 1.04665995\n",
            "classify loss is 0.22876662, angle loss is 0.00599573, iou loss is 0.68364859\n",
            "Epoch is [1/30], mini-batch is [37/53], time consumption is 0.90529084, batch_loss is 0.97237247\n",
            "classify loss is 0.24497432, angle loss is 0.00632369, iou loss is 0.71253645\n",
            "Epoch is [1/30], mini-batch is [38/53], time consumption is 0.80650854, batch_loss is 1.02074766\n",
            "classify loss is 0.21998191, angle loss is 0.00807169, iou loss is 0.64858121\n",
            "Epoch is [1/30], mini-batch is [39/53], time consumption is 0.83168530, batch_loss is 0.94927996\n",
            "classify loss is 0.25750083, angle loss is 0.00371960, iou loss is 0.65646684\n",
            "Epoch is [1/30], mini-batch is [40/53], time consumption is 0.84361672, batch_loss is 0.95116371\n",
            "classify loss is 0.27149284, angle loss is 0.01270756, iou loss is 0.64895415\n",
            "Epoch is [1/30], mini-batch is [41/53], time consumption is 0.90297961, batch_loss is 1.04752254\n",
            "classify loss is 0.26379770, angle loss is 0.00447637, iou loss is 0.71343768\n",
            "Epoch is [1/30], mini-batch is [42/53], time consumption is 0.82994914, batch_loss is 1.02199912\n",
            "classify loss is 0.29503185, angle loss is 0.00631711, iou loss is 0.59936184\n",
            "Epoch is [1/30], mini-batch is [43/53], time consumption is 0.84146833, batch_loss is 0.95756477\n",
            "classify loss is 0.17736447, angle loss is 0.00421714, iou loss is 0.67813456\n",
            "Epoch is [1/30], mini-batch is [44/53], time consumption is 0.81772542, batch_loss is 0.89767045\n",
            "classify loss is 0.25118881, angle loss is 0.00357379, iou loss is 0.61160582\n",
            "Epoch is [1/30], mini-batch is [45/53], time consumption is 0.86964321, batch_loss is 0.89853251\n",
            "classify loss is 0.23858160, angle loss is 0.00931776, iou loss is 0.61080086\n",
            "Epoch is [1/30], mini-batch is [46/53], time consumption is 0.81738067, batch_loss is 0.94256002\n",
            "classify loss is 0.35097462, angle loss is 0.00717762, iou loss is 0.78806674\n",
            "Epoch is [1/30], mini-batch is [47/53], time consumption is 0.78925180, batch_loss is 1.21081758\n",
            "classify loss is 0.30212706, angle loss is 0.00528208, iou loss is 0.74995589\n",
            "Epoch is [1/30], mini-batch is [48/53], time consumption is 0.77850962, batch_loss is 1.10490370\n",
            "classify loss is 0.22286779, angle loss is 0.00599770, iou loss is 0.61237186\n",
            "Epoch is [1/30], mini-batch is [49/53], time consumption is 0.80873871, batch_loss is 0.89521664\n",
            "classify loss is 0.18750852, angle loss is 0.00753338, iou loss is 0.59000230\n",
            "Epoch is [1/30], mini-batch is [50/53], time consumption is 0.80362654, batch_loss is 0.85284460\n",
            "classify loss is 0.27721947, angle loss is 0.00402850, iou loss is 0.62039971\n",
            "Epoch is [1/30], mini-batch is [51/53], time consumption is 0.77874565, batch_loss is 0.93790418\n",
            "classify loss is 0.27258670, angle loss is 0.00791246, iou loss is 0.75156927\n",
            "Epoch is [1/30], mini-batch is [52/53], time consumption is 0.83186698, batch_loss is 1.10328054\n",
            "classify loss is 0.23741359, angle loss is 0.00302935, iou loss is 0.59791285\n",
            "Epoch is [1/30], mini-batch is [53/53], time consumption is 0.77744961, batch_loss is 0.86561990\n",
            "epoch_loss is 0.98275243, epoch_time is 165.22706604\n",
            "Tue Oct 22 06:52:32 2019\n",
            "==================================================\n",
            "classify loss is 0.22469813, angle loss is 0.00375616, iou loss is 0.66677386\n",
            "Epoch is [2/30], mini-batch is [1/53], time consumption is 0.90524054, batch_loss is 0.92903358\n",
            "classify loss is 0.22453028, angle loss is 0.00500569, iou loss is 0.60429287\n",
            "Epoch is [2/30], mini-batch is [2/53], time consumption is 0.85566831, batch_loss is 0.87888002\n",
            "classify loss is 0.28867596, angle loss is 0.00531414, iou loss is 0.61674261\n",
            "Epoch is [2/30], mini-batch is [3/53], time consumption is 0.85560417, batch_loss is 0.95855999\n",
            "classify loss is 0.24759287, angle loss is 0.00562849, iou loss is 0.63232899\n",
            "Epoch is [2/30], mini-batch is [4/53], time consumption is 0.88602066, batch_loss is 0.93620682\n",
            "classify loss is 0.25967366, angle loss is 0.00589082, iou loss is 0.68046814\n",
            "Epoch is [2/30], mini-batch is [5/53], time consumption is 0.83731365, batch_loss is 0.99905002\n",
            "classify loss is 0.21984327, angle loss is 0.00341916, iou loss is 0.65349084\n",
            "Epoch is [2/30], mini-batch is [6/53], time consumption is 0.87152481, batch_loss is 0.90752572\n",
            "classify loss is 0.22706431, angle loss is 0.00612585, iou loss is 0.71338785\n",
            "Epoch is [2/30], mini-batch is [7/53], time consumption is 0.86107922, batch_loss is 1.00171065\n",
            "classify loss is 0.26289815, angle loss is 0.02584551, iou loss is 0.63280779\n",
            "Epoch is [2/30], mini-batch is [8/53], time consumption is 0.92692447, batch_loss is 1.15416098\n",
            "classify loss is 0.27237129, angle loss is 0.00565197, iou loss is 0.67823780\n",
            "Epoch is [2/30], mini-batch is [9/53], time consumption is 1.01091075, batch_loss is 1.00712883\n",
            "classify loss is 0.27259928, angle loss is 0.00382874, iou loss is 0.58827817\n",
            "Epoch is [2/30], mini-batch is [10/53], time consumption is 0.95021129, batch_loss is 0.89916486\n",
            "classify loss is 0.25354284, angle loss is 0.00346881, iou loss is 0.57162714\n",
            "Epoch is [2/30], mini-batch is [11/53], time consumption is 0.83137488, batch_loss is 0.85985810\n",
            "classify loss is 0.22498107, angle loss is 0.00406839, iou loss is 0.58094943\n",
            "Epoch is [2/30], mini-batch is [12/53], time consumption is 0.86505628, batch_loss is 0.84661442\n",
            "classify loss is 0.29197747, angle loss is 0.00688404, iou loss is 0.67516917\n",
            "Epoch is [2/30], mini-batch is [13/53], time consumption is 0.90519357, batch_loss is 1.03598702\n",
            "classify loss is 0.24421549, angle loss is 0.00264077, iou loss is 0.71887267\n",
            "Epoch is [2/30], mini-batch is [14/53], time consumption is 0.88054347, batch_loss is 0.98949581\n",
            "classify loss is 0.22662866, angle loss is 0.00332179, iou loss is 0.61900657\n",
            "Epoch is [2/30], mini-batch is [15/53], time consumption is 0.96459842, batch_loss is 0.87885314\n",
            "classify loss is 0.23576558, angle loss is 0.00441603, iou loss is 0.65451276\n",
            "Epoch is [2/30], mini-batch is [16/53], time consumption is 0.85121846, batch_loss is 0.93443865\n",
            "classify loss is 0.22876769, angle loss is 0.00289277, iou loss is 0.65118116\n",
            "Epoch is [2/30], mini-batch is [17/53], time consumption is 0.89432216, batch_loss is 0.90887660\n",
            "classify loss is 0.21266848, angle loss is 0.00507713, iou loss is 0.59676701\n",
            "Epoch is [2/30], mini-batch is [18/53], time consumption is 0.81671786, batch_loss is 0.86020684\n",
            "classify loss is 0.30437827, angle loss is 0.00402528, iou loss is 0.66012216\n",
            "Epoch is [2/30], mini-batch is [19/53], time consumption is 0.85585093, batch_loss is 1.00475323\n",
            "classify loss is 0.24455124, angle loss is 0.02476281, iou loss is 0.63288951\n",
            "Epoch is [2/30], mini-batch is [20/53], time consumption is 0.85139608, batch_loss is 1.12506890\n",
            "classify loss is 0.21798927, angle loss is 0.00330369, iou loss is 0.55159682\n",
            "Epoch is [2/30], mini-batch is [21/53], time consumption is 0.91124129, batch_loss is 0.80262297\n",
            "classify loss is 0.22184688, angle loss is 0.00857721, iou loss is 0.65135181\n",
            "Epoch is [2/30], mini-batch is [22/53], time consumption is 0.91292048, batch_loss is 0.95897073\n",
            "classify loss is 0.20026779, angle loss is 0.00389771, iou loss is 0.58566546\n",
            "Epoch is [2/30], mini-batch is [23/53], time consumption is 0.85533071, batch_loss is 0.82491034\n",
            "classify loss is 0.21627402, angle loss is 0.01405356, iou loss is 0.59056997\n",
            "Epoch is [2/30], mini-batch is [24/53], time consumption is 0.94859052, batch_loss is 0.94737959\n",
            "classify loss is 0.24977380, angle loss is 0.01262636, iou loss is 0.68108344\n",
            "Epoch is [2/30], mini-batch is [25/53], time consumption is 0.89269733, batch_loss is 1.05712080\n",
            "classify loss is 0.28366292, angle loss is 0.00489353, iou loss is 0.69741559\n",
            "Epoch is [2/30], mini-batch is [26/53], time consumption is 0.84341216, batch_loss is 1.03001380\n",
            "classify loss is 0.25012892, angle loss is 0.00628282, iou loss is 0.74412048\n",
            "Epoch is [2/30], mini-batch is [27/53], time consumption is 0.87179780, batch_loss is 1.05707765\n",
            "classify loss is 0.23368460, angle loss is 0.00749897, iou loss is 0.65548217\n",
            "Epoch is [2/30], mini-batch is [28/53], time consumption is 0.86369991, batch_loss is 0.96415651\n",
            "classify loss is 0.22640169, angle loss is 0.00288714, iou loss is 0.57223833\n",
            "Epoch is [2/30], mini-batch is [29/53], time consumption is 0.85937762, batch_loss is 0.82751137\n",
            "classify loss is 0.22377956, angle loss is 0.00406574, iou loss is 0.70511997\n",
            "Epoch is [2/30], mini-batch is [30/53], time consumption is 0.87951064, batch_loss is 0.96955693\n",
            "classify loss is 0.24803573, angle loss is 0.00310142, iou loss is 0.61709368\n",
            "Epoch is [2/30], mini-batch is [31/53], time consumption is 0.86005664, batch_loss is 0.89614362\n",
            "classify loss is 0.18080664, angle loss is 0.00438137, iou loss is 0.66742557\n",
            "Epoch is [2/30], mini-batch is [32/53], time consumption is 0.88349056, batch_loss is 0.89204597\n",
            "classify loss is 0.27475858, angle loss is 0.00814483, iou loss is 0.65472555\n",
            "Epoch is [2/30], mini-batch is [33/53], time consumption is 0.89474630, batch_loss is 1.01093245\n",
            "classify loss is 0.20746231, angle loss is 0.00491920, iou loss is 0.58064699\n",
            "Epoch is [2/30], mini-batch is [34/53], time consumption is 0.84785938, batch_loss is 0.83730125\n",
            "classify loss is 0.23557597, angle loss is 0.00373551, iou loss is 0.69002682\n",
            "Epoch is [2/30], mini-batch is [35/53], time consumption is 0.88252664, batch_loss is 0.96295792\n",
            "classify loss is 0.22257167, angle loss is 0.00426915, iou loss is 0.68391222\n",
            "Epoch is [2/30], mini-batch is [36/53], time consumption is 0.89800453, batch_loss is 0.94917542\n",
            "classify loss is 0.21201926, angle loss is 0.00510727, iou loss is 0.57292145\n",
            "Epoch is [2/30], mini-batch is [37/53], time consumption is 0.89789486, batch_loss is 0.83601338\n",
            "classify loss is 0.24243164, angle loss is 0.00354575, iou loss is 0.62037808\n",
            "Epoch is [2/30], mini-batch is [38/53], time consumption is 0.88089490, batch_loss is 0.89826721\n",
            "classify loss is 0.30828130, angle loss is 0.02386288, iou loss is 0.75256789\n",
            "Epoch is [2/30], mini-batch is [39/53], time consumption is 0.90080380, batch_loss is 1.29947805\n",
            "classify loss is 0.26763928, angle loss is 0.00615547, iou loss is 0.65374583\n",
            "Epoch is [2/30], mini-batch is [40/53], time consumption is 0.88645720, batch_loss is 0.98293984\n",
            "classify loss is 0.22314596, angle loss is 0.00324548, iou loss is 0.67364502\n",
            "Epoch is [2/30], mini-batch is [41/53], time consumption is 0.90353298, batch_loss is 0.92924583\n",
            "classify loss is 0.25790834, angle loss is 0.00820037, iou loss is 0.59742612\n",
            "Epoch is [2/30], mini-batch is [42/53], time consumption is 0.87941670, batch_loss is 0.93733817\n",
            "classify loss is 0.21870583, angle loss is 0.00440086, iou loss is 0.71161044\n",
            "Epoch is [2/30], mini-batch is [43/53], time consumption is 0.87787795, batch_loss is 0.97432488\n",
            "classify loss is 0.19218343, angle loss is 0.00523766, iou loss is 0.67686409\n",
            "Epoch is [2/30], mini-batch is [44/53], time consumption is 0.88324952, batch_loss is 0.92142415\n",
            "classify loss is 0.26327693, angle loss is 0.00357098, iou loss is 0.67491597\n",
            "Epoch is [2/30], mini-batch is [45/53], time consumption is 0.87958956, batch_loss is 0.97390270\n",
            "classify loss is 0.23417300, angle loss is 0.00288917, iou loss is 0.56607598\n",
            "Epoch is [2/30], mini-batch is [46/53], time consumption is 0.85192966, batch_loss is 0.82914066\n",
            "classify loss is 0.22441620, angle loss is 0.00307858, iou loss is 0.62826115\n",
            "Epoch is [2/30], mini-batch is [47/53], time consumption is 0.82448792, batch_loss is 0.88346308\n",
            "classify loss is 0.24264622, angle loss is 0.02374566, iou loss is 0.63204783\n",
            "Epoch is [2/30], mini-batch is [48/53], time consumption is 0.78585887, batch_loss is 1.11215067\n",
            "classify loss is 0.38006443, angle loss is 0.01296866, iou loss is 0.71762007\n",
            "Epoch is [2/30], mini-batch is [49/53], time consumption is 0.80092716, batch_loss is 1.22737110\n",
            "classify loss is 0.33395499, angle loss is 0.00652682, iou loss is 0.72534645\n",
            "Epoch is [2/30], mini-batch is [50/53], time consumption is 0.81599855, batch_loss is 1.12456965\n",
            "classify loss is 0.26421601, angle loss is 0.00980557, iou loss is 0.59522128\n",
            "Epoch is [2/30], mini-batch is [51/53], time consumption is 0.78866839, batch_loss is 0.95749295\n",
            "classify loss is 0.20194775, angle loss is 0.00655261, iou loss is 0.62825400\n",
            "Epoch is [2/30], mini-batch is [52/53], time consumption is 0.78506422, batch_loss is 0.89572781\n",
            "classify loss is 0.27291203, angle loss is 0.00684968, iou loss is 0.63485587\n",
            "Epoch is [2/30], mini-batch is [53/53], time consumption is 0.80071211, batch_loss is 0.97626472\n",
            "epoch_loss is 0.95967106, epoch_time is 126.02108622\n",
            "Tue Oct 22 06:54:38 2019\n",
            "==================================================\n",
            "classify loss is 0.19131708, angle loss is 0.00598878, iou loss is 0.64788926\n",
            "Epoch is [3/30], mini-batch is [1/53], time consumption is 0.98000002, batch_loss is 0.89909416\n",
            "classify loss is 0.23351246, angle loss is 0.00640598, iou loss is 0.60260648\n",
            "Epoch is [3/30], mini-batch is [2/53], time consumption is 0.88331628, batch_loss is 0.90017879\n",
            "classify loss is 0.23310238, angle loss is 0.00692429, iou loss is 0.62254655\n",
            "Epoch is [3/30], mini-batch is [3/53], time consumption is 0.85155416, batch_loss is 0.92489183\n",
            "classify loss is 0.18588108, angle loss is 0.00318347, iou loss is 0.61040485\n",
            "Epoch is [3/30], mini-batch is [4/53], time consumption is 0.90005684, batch_loss is 0.82812059\n",
            "classify loss is 0.28496432, angle loss is 0.00567639, iou loss is 0.74837053\n",
            "Epoch is [3/30], mini-batch is [5/53], time consumption is 0.82547235, batch_loss is 1.09009874\n",
            "classify loss is 0.21737039, angle loss is 0.01528999, iou loss is 0.64029217\n",
            "Epoch is [3/30], mini-batch is [6/53], time consumption is 0.88827848, batch_loss is 1.01056242\n",
            "classify loss is 0.24407107, angle loss is 0.00357322, iou loss is 0.72437030\n",
            "Epoch is [3/30], mini-batch is [7/53], time consumption is 0.87473989, batch_loss is 1.00417352\n",
            "classify loss is 0.21484178, angle loss is 0.01112608, iou loss is 0.62456197\n",
            "Epoch is [3/30], mini-batch is [8/53], time consumption is 0.86570525, batch_loss is 0.95066452\n",
            "classify loss is 0.26088291, angle loss is 0.00449185, iou loss is 0.63433862\n",
            "Epoch is [3/30], mini-batch is [9/53], time consumption is 0.95430803, batch_loss is 0.94014007\n",
            "classify loss is 0.18712705, angle loss is 0.00529963, iou loss is 0.64592385\n",
            "Epoch is [3/30], mini-batch is [10/53], time consumption is 0.83435392, batch_loss is 0.88604724\n",
            "classify loss is 0.21294481, angle loss is 0.01340589, iou loss is 0.63050801\n",
            "Epoch is [3/30], mini-batch is [11/53], time consumption is 0.87906909, batch_loss is 0.97751170\n",
            "classify loss is 0.21423113, angle loss is 0.00845720, iou loss is 0.71060842\n",
            "Epoch is [3/30], mini-batch is [12/53], time consumption is 0.94348025, batch_loss is 1.00941157\n",
            "classify loss is 0.20083970, angle loss is 0.01386364, iou loss is 0.62546414\n",
            "Epoch is [3/30], mini-batch is [13/53], time consumption is 0.90194941, batch_loss is 0.96494019\n",
            "classify loss is 0.20806020, angle loss is 0.00348443, iou loss is 0.60027617\n",
            "Epoch is [3/30], mini-batch is [14/53], time consumption is 0.82938600, batch_loss is 0.84318066\n",
            "classify loss is 0.29571170, angle loss is 0.00633818, iou loss is 0.68941504\n",
            "Epoch is [3/30], mini-batch is [15/53], time consumption is 0.91126490, batch_loss is 1.04850852\n",
            "classify loss is 0.22020596, angle loss is 0.00495136, iou loss is 0.61583239\n",
            "Epoch is [3/30], mini-batch is [16/53], time consumption is 0.93420148, batch_loss is 0.88555193\n",
            "classify loss is 0.22227341, angle loss is 0.00381283, iou loss is 0.65411007\n",
            "Epoch is [3/30], mini-batch is [17/53], time consumption is 0.90263319, batch_loss is 0.91451180\n",
            "classify loss is 0.20988232, angle loss is 0.02814150, iou loss is 0.59436065\n",
            "Epoch is [3/30], mini-batch is [18/53], time consumption is 0.85803699, batch_loss is 1.08565807\n",
            "classify loss is 0.28924191, angle loss is 0.00625425, iou loss is 0.66842049\n",
            "Epoch is [3/30], mini-batch is [19/53], time consumption is 0.79819202, batch_loss is 1.02020490\n",
            "classify loss is 0.28081745, angle loss is 0.00501916, iou loss is 0.62985128\n",
            "Epoch is [3/30], mini-batch is [20/53], time consumption is 0.90488791, batch_loss is 0.96086037\n",
            "classify loss is 0.22789782, angle loss is 0.00358219, iou loss is 0.61099201\n",
            "Epoch is [3/30], mini-batch is [21/53], time consumption is 0.98569345, batch_loss is 0.87471175\n",
            "classify loss is 0.22198296, angle loss is 0.02446116, iou loss is 0.60713595\n",
            "Epoch is [3/30], mini-batch is [22/53], time consumption is 0.98266864, batch_loss is 1.07373047\n",
            "classify loss is 0.21581912, angle loss is 0.00327116, iou loss is 0.58632237\n",
            "Epoch is [3/30], mini-batch is [23/53], time consumption is 0.85564041, batch_loss is 0.83485305\n",
            "classify loss is 0.19408554, angle loss is 0.00351617, iou loss is 0.67402160\n",
            "Epoch is [3/30], mini-batch is [24/53], time consumption is 0.90973330, batch_loss is 0.90326887\n",
            "classify loss is 0.19351089, angle loss is 0.00990704, iou loss is 0.65541416\n",
            "Epoch is [3/30], mini-batch is [25/53], time consumption is 0.86800432, batch_loss is 0.94799548\n",
            "classify loss is 0.30244774, angle loss is 0.00569849, iou loss is 0.83495790\n",
            "Epoch is [3/30], mini-batch is [26/53], time consumption is 0.87543392, batch_loss is 1.19439054\n",
            "classify loss is 0.21900684, angle loss is 0.01264191, iou loss is 0.60040247\n",
            "Epoch is [3/30], mini-batch is [27/53], time consumption is 0.85586429, batch_loss is 0.94582838\n",
            "classify loss is 0.25351101, angle loss is 0.00300567, iou loss is 0.71085483\n",
            "Epoch is [3/30], mini-batch is [28/53], time consumption is 0.86801839, batch_loss is 0.99442250\n",
            "classify loss is 0.19351941, angle loss is 0.00821093, iou loss is 0.61247218\n",
            "Epoch is [3/30], mini-batch is [29/53], time consumption is 1.01906371, batch_loss is 0.88810092\n",
            "classify loss is 0.23116237, angle loss is 0.00250155, iou loss is 0.61638266\n",
            "Epoch is [3/30], mini-batch is [30/53], time consumption is 0.83881903, batch_loss is 0.87256050\n",
            "classify loss is 0.22698390, angle loss is 0.00985543, iou loss is 0.60682625\n",
            "Epoch is [3/30], mini-batch is [31/53], time consumption is 0.87456346, batch_loss is 0.93236446\n",
            "classify loss is 0.21872276, angle loss is 0.00501174, iou loss is 0.71923161\n",
            "Epoch is [3/30], mini-batch is [32/53], time consumption is 0.98565173, batch_loss is 0.98807174\n",
            "classify loss is 0.26469046, angle loss is 0.00356007, iou loss is 0.58234346\n",
            "Epoch is [3/30], mini-batch is [33/53], time consumption is 0.92742920, batch_loss is 0.88263464\n",
            "classify loss is 0.24789327, angle loss is 0.00301581, iou loss is 0.61306971\n",
            "Epoch is [3/30], mini-batch is [34/53], time consumption is 0.80749178, batch_loss is 0.89112109\n",
            "classify loss is 0.35941774, angle loss is 0.09718157, iou loss is 0.73803198\n",
            "Epoch is [3/30], mini-batch is [35/53], time consumption is 0.82748699, batch_loss is 2.06926537\n",
            "classify loss is 0.21365058, angle loss is 0.01137345, iou loss is 0.62997973\n",
            "Epoch is [3/30], mini-batch is [36/53], time consumption is 0.90135050, batch_loss is 0.95736480\n",
            "classify loss is 0.22954971, angle loss is 0.00421945, iou loss is 0.62486732\n",
            "Epoch is [3/30], mini-batch is [37/53], time consumption is 0.88294506, batch_loss is 0.89661157\n",
            "classify loss is 0.19474965, angle loss is 0.00800199, iou loss is 0.61598158\n",
            "Epoch is [3/30], mini-batch is [38/53], time consumption is 0.90040326, batch_loss is 0.89075112\n",
            "classify loss is 0.24183345, angle loss is 0.00535200, iou loss is 0.67536217\n",
            "Epoch is [3/30], mini-batch is [39/53], time consumption is 0.86497879, batch_loss is 0.97071564\n",
            "classify loss is 0.23675793, angle loss is 0.00401170, iou loss is 0.69473213\n",
            "Epoch is [3/30], mini-batch is [40/53], time consumption is 0.89170527, batch_loss is 0.97160709\n",
            "classify loss is 0.20883763, angle loss is 0.00292666, iou loss is 0.64228517\n",
            "Epoch is [3/30], mini-batch is [41/53], time consumption is 0.83791804, batch_loss is 0.88038939\n",
            "classify loss is 0.27053714, angle loss is 0.00421095, iou loss is 0.62331855\n",
            "Epoch is [3/30], mini-batch is [42/53], time consumption is 0.89300179, batch_loss is 0.93596524\n",
            "classify loss is 0.22628206, angle loss is 0.00342327, iou loss is 0.68055421\n",
            "Epoch is [3/30], mini-batch is [43/53], time consumption is 0.87418103, batch_loss is 0.94106895\n",
            "classify loss is 0.22590607, angle loss is 0.00428983, iou loss is 0.55607450\n",
            "Epoch is [3/30], mini-batch is [44/53], time consumption is 0.88637161, batch_loss is 0.82487881\n",
            "classify loss is 0.25341815, angle loss is 0.00521456, iou loss is 0.61798501\n",
            "Epoch is [3/30], mini-batch is [45/53], time consumption is 0.86406064, batch_loss is 0.92354870\n",
            "classify loss is 0.17583174, angle loss is 0.00228429, iou loss is 0.68626893\n",
            "Epoch is [3/30], mini-batch is [46/53], time consumption is 0.84815621, batch_loss is 0.88494354\n",
            "classify loss is 0.30330652, angle loss is 0.00914189, iou loss is 0.65999562\n",
            "Epoch is [3/30], mini-batch is [47/53], time consumption is 0.89043164, batch_loss is 1.05472100\n",
            "classify loss is 0.31948096, angle loss is 0.00631315, iou loss is 0.66618776\n",
            "Epoch is [3/30], mini-batch is [48/53], time consumption is 0.87055588, batch_loss is 1.04880023\n",
            "classify loss is 0.23351872, angle loss is 0.00520724, iou loss is 0.61809570\n",
            "Epoch is [3/30], mini-batch is [49/53], time consumption is 0.80745816, batch_loss is 0.90368676\n",
            "classify loss is 0.23846507, angle loss is 0.00564764, iou loss is 0.55625558\n",
            "Epoch is [3/30], mini-batch is [50/53], time consumption is 0.88867903, batch_loss is 0.85119706\n",
            "classify loss is 0.17427379, angle loss is 0.00287723, iou loss is 0.57002974\n",
            "Epoch is [3/30], mini-batch is [51/53], time consumption is 0.78536654, batch_loss is 0.77307582\n",
            "classify loss is 0.23850513, angle loss is 0.00482781, iou loss is 0.59039277\n",
            "Epoch is [3/30], mini-batch is [52/53], time consumption is 0.80694485, batch_loss is 0.87717605\n",
            "classify loss is 0.26080376, angle loss is 0.01453060, iou loss is 0.64657187\n",
            "Epoch is [3/30], mini-batch is [53/53], time consumption is 0.78231430, batch_loss is 1.05268168\n",
            "epoch_loss is 0.96371349, epoch_time is 127.91260242\n",
            "Tue Oct 22 06:56:45 2019\n",
            "==================================================\n",
            "classify loss is 0.22249174, angle loss is 0.00456709, iou loss is 0.63699025\n",
            "Epoch is [4/30], mini-batch is [1/53], time consumption is 0.88581705, batch_loss is 0.90515286\n",
            "classify loss is 0.22925478, angle loss is 0.00583045, iou loss is 0.66192138\n",
            "Epoch is [4/30], mini-batch is [2/53], time consumption is 0.88821507, batch_loss is 0.94948065\n",
            "classify loss is 0.22462457, angle loss is 0.00766762, iou loss is 0.60359365\n",
            "Epoch is [4/30], mini-batch is [3/53], time consumption is 0.89071012, batch_loss is 0.90489441\n",
            "classify loss is 0.24149036, angle loss is 0.00971468, iou loss is 0.64698440\n",
            "Epoch is [4/30], mini-batch is [4/53], time consumption is 0.88364315, batch_loss is 0.98562157\n",
            "classify loss is 0.21580470, angle loss is 0.00340588, iou loss is 0.67182815\n",
            "Epoch is [4/30], mini-batch is [5/53], time consumption is 0.86254573, batch_loss is 0.92169166\n",
            "classify loss is 0.20160252, angle loss is 0.00451491, iou loss is 0.61904114\n",
            "Epoch is [4/30], mini-batch is [6/53], time consumption is 0.82261539, batch_loss is 0.86579275\n",
            "classify loss is 0.22451121, angle loss is 0.03868252, iou loss is 0.64951521\n",
            "Epoch is [4/30], mini-batch is [7/53], time consumption is 0.89093852, batch_loss is 1.26085162\n",
            "classify loss is 0.18434483, angle loss is 0.00321043, iou loss is 0.61802989\n",
            "Epoch is [4/30], mini-batch is [8/53], time consumption is 0.88471699, batch_loss is 0.83447903\n",
            "classify loss is 0.24251676, angle loss is 0.00527661, iou loss is 0.69138199\n",
            "Epoch is [4/30], mini-batch is [9/53], time consumption is 0.92337394, batch_loss is 0.98666477\n",
            "classify loss is 0.26407546, angle loss is 0.00664365, iou loss is 0.63440555\n",
            "Epoch is [4/30], mini-batch is [10/53], time consumption is 0.88523912, batch_loss is 0.96491748\n",
            "classify loss is 0.20019907, angle loss is 0.00532804, iou loss is 0.54987967\n",
            "Epoch is [4/30], mini-batch is [11/53], time consumption is 0.96845174, batch_loss is 0.80335921\n",
            "classify loss is 0.19429934, angle loss is 0.00367909, iou loss is 0.54532522\n",
            "Epoch is [4/30], mini-batch is [12/53], time consumption is 0.89590049, batch_loss is 0.77641547\n",
            "classify loss is 0.23000968, angle loss is 0.00801187, iou loss is 0.63841534\n",
            "Epoch is [4/30], mini-batch is [13/53], time consumption is 0.94172287, batch_loss is 0.94854373\n",
            "classify loss is 0.24611354, angle loss is 0.01931790, iou loss is 0.59641677\n",
            "Epoch is [4/30], mini-batch is [14/53], time consumption is 0.90012264, batch_loss is 1.03570938\n",
            "classify loss is 0.20003945, angle loss is 0.01520221, iou loss is 0.60918492\n",
            "Epoch is [4/30], mini-batch is [15/53], time consumption is 0.94717646, batch_loss is 0.96124649\n",
            "classify loss is 0.29304707, angle loss is 0.00566305, iou loss is 0.57747191\n",
            "Epoch is [4/30], mini-batch is [16/53], time consumption is 0.88601971, batch_loss is 0.92714947\n",
            "classify loss is 0.21196920, angle loss is 0.00632668, iou loss is 0.66263700\n",
            "Epoch is [4/30], mini-batch is [17/53], time consumption is 0.89947438, batch_loss is 0.93787295\n",
            "classify loss is 0.25856322, angle loss is 0.00258732, iou loss is 0.59396875\n",
            "Epoch is [4/30], mini-batch is [18/53], time consumption is 0.86192322, batch_loss is 0.87840521\n",
            "classify loss is 0.19507533, angle loss is 0.00416079, iou loss is 0.63507801\n",
            "Epoch is [4/30], mini-batch is [19/53], time consumption is 0.88665390, batch_loss is 0.87176126\n",
            "classify loss is 0.18837023, angle loss is 0.00518237, iou loss is 0.59126753\n",
            "Epoch is [4/30], mini-batch is [20/53], time consumption is 0.83890581, batch_loss is 0.83146143\n",
            "classify loss is 0.28573054, angle loss is 0.00744812, iou loss is 0.68285489\n",
            "Epoch is [4/30], mini-batch is [21/53], time consumption is 0.86203480, batch_loss is 1.04306650\n",
            "classify loss is 0.25762099, angle loss is 0.00477652, iou loss is 0.67994827\n",
            "Epoch is [4/30], mini-batch is [22/53], time consumption is 0.90409589, batch_loss is 0.98533446\n",
            "classify loss is 0.25579131, angle loss is 0.00709849, iou loss is 0.64606851\n",
            "Epoch is [4/30], mini-batch is [23/53], time consumption is 0.91927409, batch_loss is 0.97284472\n",
            "classify loss is 0.19599718, angle loss is 0.00257145, iou loss is 0.65113217\n",
            "Epoch is [4/30], mini-batch is [24/53], time consumption is 0.83183408, batch_loss is 0.87284386\n",
            "classify loss is 0.23472774, angle loss is 0.00346691, iou loss is 0.61928862\n",
            "Epoch is [4/30], mini-batch is [25/53], time consumption is 0.85835314, batch_loss is 0.88868546\n",
            "classify loss is 0.24734378, angle loss is 0.01531288, iou loss is 0.63623863\n",
            "Epoch is [4/30], mini-batch is [26/53], time consumption is 0.87502170, batch_loss is 1.03671122\n",
            "classify loss is 0.30699903, angle loss is 0.00713097, iou loss is 0.64014107\n",
            "Epoch is [4/30], mini-batch is [27/53], time consumption is 0.86094332, batch_loss is 1.01844978\n",
            "classify loss is 0.22422135, angle loss is 0.00908642, iou loss is 0.61820477\n",
            "Epoch is [4/30], mini-batch is [28/53], time consumption is 0.88620520, batch_loss is 0.93329030\n",
            "classify loss is 0.28745854, angle loss is 0.00521098, iou loss is 0.66831851\n",
            "Epoch is [4/30], mini-batch is [29/53], time consumption is 0.89971209, batch_loss is 1.00788689\n",
            "classify loss is 0.21875060, angle loss is 0.00257315, iou loss is 0.54740715\n",
            "Epoch is [4/30], mini-batch is [30/53], time consumption is 0.89857960, batch_loss is 0.79188931\n",
            "classify loss is 0.21698195, angle loss is 0.00316381, iou loss is 0.60815722\n",
            "Epoch is [4/30], mini-batch is [31/53], time consumption is 0.93560314, batch_loss is 0.85677731\n",
            "classify loss is 0.19268453, angle loss is 0.00399338, iou loss is 0.59885889\n",
            "Epoch is [4/30], mini-batch is [32/53], time consumption is 0.86442471, batch_loss is 0.83147728\n",
            "classify loss is 0.23656666, angle loss is 0.00445861, iou loss is 0.68473363\n",
            "Epoch is [4/30], mini-batch is [33/53], time consumption is 0.94405437, batch_loss is 0.96588635\n",
            "classify loss is 0.20773184, angle loss is 0.00794971, iou loss is 0.63683408\n",
            "Epoch is [4/30], mini-batch is [34/53], time consumption is 0.83220911, batch_loss is 0.92406309\n",
            "classify loss is 0.26501703, angle loss is 0.00781554, iou loss is 0.62082154\n",
            "Epoch is [4/30], mini-batch is [35/53], time consumption is 0.86651945, batch_loss is 0.96399397\n",
            "classify loss is 0.20852560, angle loss is 0.00312850, iou loss is 0.56585860\n",
            "Epoch is [4/30], mini-batch is [36/53], time consumption is 0.83042097, batch_loss is 0.80566913\n",
            "classify loss is 0.32235038, angle loss is 0.00932679, iou loss is 0.77562839\n",
            "Epoch is [4/30], mini-batch is [37/53], time consumption is 0.91161394, batch_loss is 1.19124663\n",
            "classify loss is 0.22029346, angle loss is 0.00796127, iou loss is 0.56620401\n",
            "Epoch is [4/30], mini-batch is [38/53], time consumption is 0.92770696, batch_loss is 0.86611015\n",
            "classify loss is 0.30441153, angle loss is 0.00888845, iou loss is 0.63839626\n",
            "Epoch is [4/30], mini-batch is [39/53], time consumption is 0.86700988, batch_loss is 1.03169227\n",
            "classify loss is 0.26073831, angle loss is 0.02558875, iou loss is 0.63483924\n",
            "Epoch is [4/30], mini-batch is [40/53], time consumption is 0.85244203, batch_loss is 1.15146518\n",
            "classify loss is 0.25461769, angle loss is 0.00278778, iou loss is 0.62910277\n",
            "Epoch is [4/30], mini-batch is [41/53], time consumption is 0.89274216, batch_loss is 0.91159827\n",
            "classify loss is 0.22065002, angle loss is 0.00626731, iou loss is 0.61680681\n",
            "Epoch is [4/30], mini-batch is [42/53], time consumption is 0.86555624, batch_loss is 0.90012991\n",
            "classify loss is 0.24462157, angle loss is 0.00526468, iou loss is 0.67731494\n",
            "Epoch is [4/30], mini-batch is [43/53], time consumption is 0.95477676, batch_loss is 0.97458327\n",
            "classify loss is 0.19955051, angle loss is 0.00293877, iou loss is 0.67828548\n",
            "Epoch is [4/30], mini-batch is [44/53], time consumption is 0.90727830, batch_loss is 0.90722364\n",
            "classify loss is 0.22157532, angle loss is 0.01937795, iou loss is 0.57292849\n",
            "Epoch is [4/30], mini-batch is [45/53], time consumption is 0.88283777, batch_loss is 0.98828334\n",
            "classify loss is 0.18297309, angle loss is 0.00644916, iou loss is 0.59516889\n",
            "Epoch is [4/30], mini-batch is [46/53], time consumption is 0.86503243, batch_loss is 0.84263361\n",
            "classify loss is 0.21376956, angle loss is 0.00422309, iou loss is 0.57568514\n",
            "Epoch is [4/30], mini-batch is [47/53], time consumption is 0.83592534, batch_loss is 0.83168560\n",
            "classify loss is 0.29654264, angle loss is 0.00406547, iou loss is 0.70857787\n",
            "Epoch is [4/30], mini-batch is [48/53], time consumption is 0.78563380, batch_loss is 1.04577518\n",
            "classify loss is 0.26198143, angle loss is 0.00427535, iou loss is 0.70413339\n",
            "Epoch is [4/30], mini-batch is [49/53], time consumption is 0.78920937, batch_loss is 1.00886834\n",
            "classify loss is 0.20890832, angle loss is 0.00523396, iou loss is 0.63911116\n",
            "Epoch is [4/30], mini-batch is [50/53], time consumption is 0.78836489, batch_loss is 0.90035909\n",
            "classify loss is 0.21259558, angle loss is 0.00500976, iou loss is 0.59408545\n",
            "Epoch is [4/30], mini-batch is [51/53], time consumption is 0.79745388, batch_loss is 0.85677862\n",
            "classify loss is 0.22199064, angle loss is 0.00574387, iou loss is 0.64930040\n",
            "Epoch is [4/30], mini-batch is [52/53], time consumption is 0.78833985, batch_loss is 0.92872971\n",
            "classify loss is 0.26661986, angle loss is 0.00652133, iou loss is 0.72643119\n",
            "Epoch is [4/30], mini-batch is [53/53], time consumption is 0.79131794, batch_loss is 1.05826437\n",
            "epoch_loss is 0.94048619, epoch_time is 127.06707072\n",
            "Tue Oct 22 06:58:53 2019\n",
            "==================================================\n",
            "classify loss is 0.30219150, angle loss is 0.00612228, iou loss is 0.66825807\n",
            "Epoch is [5/30], mini-batch is [1/53], time consumption is 0.80912018, batch_loss is 1.03167236\n",
            "classify loss is 0.22983551, angle loss is 0.00475405, iou loss is 0.62336272\n",
            "Epoch is [5/30], mini-batch is [2/53], time consumption is 0.91107249, batch_loss is 0.90073878\n",
            "classify loss is 0.16624480, angle loss is 0.00694980, iou loss is 0.51269329\n",
            "Epoch is [5/30], mini-batch is [3/53], time consumption is 0.85532951, batch_loss is 0.74843609\n",
            "classify loss is 0.22325003, angle loss is 0.00411933, iou loss is 0.65052170\n",
            "Epoch is [5/30], mini-batch is [4/53], time consumption is 0.97116446, batch_loss is 0.91496503\n",
            "classify loss is 0.19873977, angle loss is 0.00388482, iou loss is 0.57587272\n",
            "Epoch is [5/30], mini-batch is [5/53], time consumption is 0.90943551, batch_loss is 0.81346071\n",
            "classify loss is 0.25671846, angle loss is 0.00706475, iou loss is 0.62835026\n",
            "Epoch is [5/30], mini-batch is [6/53], time consumption is 0.83117080, batch_loss is 0.95571619\n",
            "classify loss is 0.24124300, angle loss is 0.00530184, iou loss is 0.62101036\n",
            "Epoch is [5/30], mini-batch is [7/53], time consumption is 0.94623327, batch_loss is 0.91527176\n",
            "classify loss is 0.17345995, angle loss is 0.00371053, iou loss is 0.53593534\n",
            "Epoch is [5/30], mini-batch is [8/53], time consumption is 0.86799645, batch_loss is 0.74650061\n",
            "classify loss is 0.24388152, angle loss is 0.00427961, iou loss is 0.62324280\n",
            "Epoch is [5/30], mini-batch is [9/53], time consumption is 0.85160017, batch_loss is 0.90992039\n",
            "classify loss is 0.21370453, angle loss is 0.00891218, iou loss is 0.60974956\n",
            "Epoch is [5/30], mini-batch is [10/53], time consumption is 0.92171574, batch_loss is 0.91257590\n",
            "classify loss is 0.19822413, angle loss is 0.00591498, iou loss is 0.55871528\n",
            "Epoch is [5/30], mini-batch is [11/53], time consumption is 0.88555408, batch_loss is 0.81608915\n",
            "classify loss is 0.30615371, angle loss is 0.07923033, iou loss is 0.65232593\n",
            "Epoch is [5/30], mini-batch is [12/53], time consumption is 0.91318727, batch_loss is 1.75078297\n",
            "classify loss is 0.24331814, angle loss is 0.00467567, iou loss is 0.59312969\n",
            "Epoch is [5/30], mini-batch is [13/53], time consumption is 0.93831873, batch_loss is 0.88320458\n",
            "classify loss is 0.19369745, angle loss is 0.01745311, iou loss is 0.55573398\n",
            "Epoch is [5/30], mini-batch is [14/53], time consumption is 0.92521405, batch_loss is 0.92396247\n",
            "classify loss is 0.27590990, angle loss is 0.00620208, iou loss is 0.61145711\n",
            "Epoch is [5/30], mini-batch is [15/53], time consumption is 0.89084673, batch_loss is 0.94938785\n",
            "classify loss is 0.21421003, angle loss is 0.00404866, iou loss is 0.63024294\n",
            "Epoch is [5/30], mini-batch is [16/53], time consumption is 0.82434130, batch_loss is 0.88493955\n",
            "classify loss is 0.24877393, angle loss is 0.00347103, iou loss is 0.61889923\n",
            "Epoch is [5/30], mini-batch is [17/53], time consumption is 0.94293237, batch_loss is 0.90238345\n",
            "classify loss is 0.22689801, angle loss is 0.00492429, iou loss is 0.63742226\n",
            "Epoch is [5/30], mini-batch is [18/53], time consumption is 0.93433738, batch_loss is 0.91356319\n",
            "classify loss is 0.23700941, angle loss is 0.00472976, iou loss is 0.56750607\n",
            "Epoch is [5/30], mini-batch is [19/53], time consumption is 0.88595271, batch_loss is 0.85181308\n",
            "classify loss is 0.21666801, angle loss is 0.00321854, iou loss is 0.66740310\n",
            "Epoch is [5/30], mini-batch is [20/53], time consumption is 0.81245708, batch_loss is 0.91625649\n",
            "classify loss is 0.25085080, angle loss is 0.00625331, iou loss is 0.69841570\n",
            "Epoch is [5/30], mini-batch is [21/53], time consumption is 0.88267064, batch_loss is 1.01179957\n",
            "classify loss is 0.23072386, angle loss is 0.00471978, iou loss is 0.70163739\n",
            "Epoch is [5/30], mini-batch is [22/53], time consumption is 0.84693742, batch_loss is 0.97955900\n",
            "classify loss is 0.18507880, angle loss is 0.00454439, iou loss is 0.58892238\n",
            "Epoch is [5/30], mini-batch is [23/53], time consumption is 0.94701505, batch_loss is 0.81944507\n",
            "classify loss is 0.22996831, angle loss is 0.01533351, iou loss is 0.63982821\n",
            "Epoch is [5/30], mini-batch is [24/53], time consumption is 0.89377379, batch_loss is 1.02313161\n",
            "classify loss is 0.22448289, angle loss is 0.00259358, iou loss is 0.63092065\n",
            "Epoch is [5/30], mini-batch is [25/53], time consumption is 0.88510466, batch_loss is 0.88133931\n",
            "classify loss is 0.21538126, angle loss is 0.00524602, iou loss is 0.65546066\n",
            "Epoch is [5/30], mini-batch is [26/53], time consumption is 0.88706851, batch_loss is 0.92330211\n",
            "classify loss is 0.19504315, angle loss is 0.00963923, iou loss is 0.65201384\n",
            "Epoch is [5/30], mini-batch is [27/53], time consumption is 0.88227177, batch_loss is 0.94344926\n",
            "classify loss is 0.30772936, angle loss is 0.00541136, iou loss is 0.72548962\n",
            "Epoch is [5/30], mini-batch is [28/53], time consumption is 0.84608078, batch_loss is 1.08733249\n",
            "classify loss is 0.21899015, angle loss is 0.00639945, iou loss is 0.58434403\n",
            "Epoch is [5/30], mini-batch is [29/53], time consumption is 0.91826344, batch_loss is 0.86732870\n",
            "classify loss is 0.19940621, angle loss is 0.00781361, iou loss is 0.58093536\n",
            "Epoch is [5/30], mini-batch is [30/53], time consumption is 0.86648631, batch_loss is 0.85847771\n",
            "classify loss is 0.25335169, angle loss is 0.00748732, iou loss is 0.66838682\n",
            "Epoch is [5/30], mini-batch is [31/53], time consumption is 0.86851215, batch_loss is 0.99661165\n",
            "classify loss is 0.25192416, angle loss is 0.00465561, iou loss is 0.58307546\n",
            "Epoch is [5/30], mini-batch is [32/53], time consumption is 0.90810752, batch_loss is 0.88155574\n",
            "classify loss is 0.27918625, angle loss is 0.02108574, iou loss is 0.62540573\n",
            "Epoch is [5/30], mini-batch is [33/53], time consumption is 0.92895651, batch_loss is 1.11544943\n",
            "classify loss is 0.22152549, angle loss is 0.00400081, iou loss is 0.68712735\n",
            "Epoch is [5/30], mini-batch is [34/53], time consumption is 0.91333699, batch_loss is 0.94866091\n",
            "classify loss is 0.21229118, angle loss is 0.00929965, iou loss is 0.60090095\n",
            "Epoch is [5/30], mini-batch is [35/53], time consumption is 0.81689167, batch_loss is 0.90618861\n",
            "classify loss is 0.27226430, angle loss is 0.00452268, iou loss is 0.69159847\n",
            "Epoch is [5/30], mini-batch is [36/53], time consumption is 0.83985853, batch_loss is 1.00908971\n",
            "classify loss is 0.21861529, angle loss is 0.00484829, iou loss is 0.62090486\n",
            "Epoch is [5/30], mini-batch is [37/53], time consumption is 0.86536551, batch_loss is 0.88800311\n",
            "classify loss is 0.22975582, angle loss is 0.00649054, iou loss is 0.57389915\n",
            "Epoch is [5/30], mini-batch is [38/53], time consumption is 0.83492994, batch_loss is 0.86856037\n",
            "classify loss is 0.19022632, angle loss is 0.00593752, iou loss is 0.59693855\n",
            "Epoch is [5/30], mini-batch is [39/53], time consumption is 0.94970584, batch_loss is 0.84654003\n",
            "classify loss is 0.29555893, angle loss is 0.01029694, iou loss is 0.72275853\n",
            "Epoch is [5/30], mini-batch is [40/53], time consumption is 0.83685112, batch_loss is 1.12128687\n",
            "classify loss is 0.31895888, angle loss is 0.00818708, iou loss is 0.57240641\n",
            "Epoch is [5/30], mini-batch is [41/53], time consumption is 0.81470537, batch_loss is 0.97323602\n",
            "classify loss is 0.20455277, angle loss is 0.00539329, iou loss is 0.58441824\n",
            "Epoch is [5/30], mini-batch is [42/53], time consumption is 0.87757230, batch_loss is 0.84290391\n",
            "classify loss is 0.21939278, angle loss is 0.00801553, iou loss is 0.72240812\n",
            "Epoch is [5/30], mini-batch is [43/53], time consumption is 0.88727689, batch_loss is 1.02195621\n",
            "classify loss is 0.24414170, angle loss is 0.01546223, iou loss is 0.63535339\n",
            "Epoch is [5/30], mini-batch is [44/53], time consumption is 0.94131231, batch_loss is 1.03411746\n",
            "classify loss is 0.21631092, angle loss is 0.00352019, iou loss is 0.65640211\n",
            "Epoch is [5/30], mini-batch is [45/53], time consumption is 0.81384206, batch_loss is 0.90791494\n",
            "classify loss is 0.19451064, angle loss is 0.00581158, iou loss is 0.67850506\n",
            "Epoch is [5/30], mini-batch is [46/53], time consumption is 0.90312171, batch_loss is 0.93113154\n",
            "classify loss is 0.18677092, angle loss is 0.01661492, iou loss is 0.61137074\n",
            "Epoch is [5/30], mini-batch is [47/53], time consumption is 0.87666631, batch_loss is 0.96429086\n",
            "classify loss is 0.21110541, angle loss is 0.00644808, iou loss is 0.61875409\n",
            "Epoch is [5/30], mini-batch is [48/53], time consumption is 0.86517620, batch_loss is 0.89434028\n",
            "classify loss is 0.18445253, angle loss is 0.00402899, iou loss is 0.59153056\n",
            "Epoch is [5/30], mini-batch is [49/53], time consumption is 0.83280635, batch_loss is 0.81627297\n",
            "classify loss is 0.22894520, angle loss is 0.00464090, iou loss is 0.60941142\n",
            "Epoch is [5/30], mini-batch is [50/53], time consumption is 0.80049729, batch_loss is 0.88476557\n",
            "classify loss is 0.23655623, angle loss is 0.00742587, iou loss is 0.57526362\n",
            "Epoch is [5/30], mini-batch is [51/53], time consumption is 0.78619123, batch_loss is 0.88607860\n",
            "classify loss is 0.23226595, angle loss is 0.00753386, iou loss is 0.60414988\n",
            "Epoch is [5/30], mini-batch is [52/53], time consumption is 0.79210901, batch_loss is 0.91175437\n",
            "classify loss is 0.27013463, angle loss is 0.00572545, iou loss is 0.57661611\n",
            "Epoch is [5/30], mini-batch is [53/53], time consumption is 0.78321838, batch_loss is 0.90400523\n",
            "epoch_loss is 0.93568905, epoch_time is 124.49466991\n",
            "Tue Oct 22 07:00:57 2019\n",
            "==================================================\n"
          ],
          "name": "stdout"
        },
        {
          "output_type": "error",
          "ename": "NameError",
          "evalue": "ignored",
          "traceback": [
            "\u001b[0;31m---------------------------------------------------------------------------\u001b[0m",
            "\u001b[0;31mNameError\u001b[0m                                 Traceback (most recent call last)",
            "\u001b[0;32m<ipython-input-71-15d44afa8e59>\u001b[0m in \u001b[0;36m<module>\u001b[0;34m()\u001b[0m\n\u001b[0;32m----> 1\u001b[0;31m \u001b[0mtrain\u001b[0m\u001b[0;34m(\u001b[0m\u001b[0mmodel\u001b[0m\u001b[0;34m,\u001b[0m \u001b[0mimage_address\u001b[0m\u001b[0;34m,\u001b[0m \u001b[0mlabel_address\u001b[0m\u001b[0;34m,\u001b[0m \u001b[0;34m'models'\u001b[0m\u001b[0;34m,\u001b[0m \u001b[0mbatch_size\u001b[0m\u001b[0;34m=\u001b[0m\u001b[0;36m8\u001b[0m\u001b[0;34m,\u001b[0m \u001b[0mlr\u001b[0m\u001b[0;34m=\u001b[0m\u001b[0;36m1e-4\u001b[0m\u001b[0;34m,\u001b[0m \u001b[0mepoch_iter\u001b[0m\u001b[0;34m=\u001b[0m\u001b[0;36m30\u001b[0m\u001b[0;34m)\u001b[0m\u001b[0;34m\u001b[0m\u001b[0;34m\u001b[0m\u001b[0m\n\u001b[0m",
            "\u001b[0;32m<ipython-input-70-a94837b1b13a>\u001b[0m in \u001b[0;36mtrain\u001b[0;34m(model, train_img_path, train_gt_path, pths_path, batch_size, lr, epoch_iter, num_workers, interval)\u001b[0m\n\u001b[1;32m     33\u001b[0m       \u001b[0mprint\u001b[0m\u001b[0;34m(\u001b[0m\u001b[0;34m'='\u001b[0m\u001b[0;34m*\u001b[0m\u001b[0;36m50\u001b[0m\u001b[0;34m)\u001b[0m\u001b[0;34m\u001b[0m\u001b[0;34m\u001b[0m\u001b[0m\n\u001b[1;32m     34\u001b[0m       \u001b[0;32mif\u001b[0m \u001b[0;34m(\u001b[0m\u001b[0mepoch\u001b[0m \u001b[0;34m+\u001b[0m \u001b[0;36m1\u001b[0m\u001b[0;34m)\u001b[0m \u001b[0;34m%\u001b[0m \u001b[0minterval\u001b[0m \u001b[0;34m==\u001b[0m \u001b[0;36m0\u001b[0m\u001b[0;34m:\u001b[0m\u001b[0;34m\u001b[0m\u001b[0;34m\u001b[0m\u001b[0m\n\u001b[0;32m---> 35\u001b[0;31m         \u001b[0mstate_dict\u001b[0m \u001b[0;34m=\u001b[0m \u001b[0mmodel\u001b[0m\u001b[0;34m.\u001b[0m\u001b[0mmodule\u001b[0m\u001b[0;34m.\u001b[0m\u001b[0mstate_dict\u001b[0m\u001b[0;34m(\u001b[0m\u001b[0;34m)\u001b[0m \u001b[0;32mif\u001b[0m \u001b[0mdata_parallel\u001b[0m \u001b[0;32melse\u001b[0m \u001b[0mmodel\u001b[0m\u001b[0;34m.\u001b[0m\u001b[0mstate_dict\u001b[0m\u001b[0;34m(\u001b[0m\u001b[0;34m)\u001b[0m\u001b[0;34m\u001b[0m\u001b[0;34m\u001b[0m\u001b[0m\n\u001b[0m\u001b[1;32m     36\u001b[0m         \u001b[0mtorch\u001b[0m\u001b[0;34m.\u001b[0m\u001b[0msave\u001b[0m\u001b[0;34m(\u001b[0m\u001b[0mstate_dict\u001b[0m\u001b[0;34m,\u001b[0m \u001b[0mos\u001b[0m\u001b[0;34m.\u001b[0m\u001b[0mpath\u001b[0m\u001b[0;34m.\u001b[0m\u001b[0mjoin\u001b[0m\u001b[0;34m(\u001b[0m\u001b[0mpths_path\u001b[0m\u001b[0;34m,\u001b[0m \u001b[0;34m'model_epoch_{}.pth'\u001b[0m\u001b[0;34m.\u001b[0m\u001b[0mformat\u001b[0m\u001b[0;34m(\u001b[0m\u001b[0mepoch\u001b[0m\u001b[0;34m+\u001b[0m\u001b[0;36m1\u001b[0m\u001b[0;34m)\u001b[0m\u001b[0;34m)\u001b[0m\u001b[0;34m)\u001b[0m\u001b[0;34m\u001b[0m\u001b[0;34m\u001b[0m\u001b[0m\n",
            "\u001b[0;31mNameError\u001b[0m: name 'data_parallel' is not defined"
          ]
        }
      ]
    }
  ]
}