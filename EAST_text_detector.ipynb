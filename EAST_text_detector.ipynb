{
  "nbformat": 4,
  "nbformat_minor": 0,
  "metadata": {
    "colab": {
      "name": "EAST_dataset",
      "provenance": [],
      "collapsed_sections": [
        "QYP_yAGvd05H",
        "T874dqy_dyjf"
      ],
      "machine_shape": "hm",
      "include_colab_link": true
    },
    "kernelspec": {
      "name": "python3",
      "display_name": "Python 3"
    },
    "accelerator": "GPU"
  },
  "cells": [
    {
      "cell_type": "markdown",
      "metadata": {
        "id": "view-in-github",
        "colab_type": "text"
      },
      "source": [
        "<a href=\"https://colab.research.google.com/github/kavyajeetbora/EAST/blob/master/EAST_text_detector.ipynb\" target=\"_parent\"><img src=\"https://colab.research.google.com/assets/colab-badge.svg\" alt=\"Open In Colab\"/></a>"
      ]
    },
    {
      "cell_type": "markdown",
      "metadata": {
        "id": "Pyapm5xLqREO",
        "colab_type": "text"
      },
      "source": [
        "##1. Imports"
      ]
    },
    {
      "cell_type": "markdown",
      "metadata": {
        "id": "L2dp5i49ZJGr",
        "colab_type": "text"
      },
      "source": [
        "[**Tasks - Incidental Scene Text**](https://rrc.cvc.uab.es/?ch=4&com=tasks)"
      ]
    },
    {
      "cell_type": "code",
      "metadata": {
        "id": "a6n5wRjEg_RL",
        "colab_type": "code",
        "colab": {}
      },
      "source": [
        "import os\n",
        "from PIL import Image\n",
        "from torch.utils.model_zoo import load_url\n",
        "import matplotlib.pyplot as plt\n",
        "import numpy as np\n",
        "import torch\n",
        "import torch.nn as nn\n",
        "from torch.optim import lr_scheduler\n",
        "from torch.utils.data import DataLoader"
      ],
      "execution_count": 0,
      "outputs": []
    },
    {
      "cell_type": "code",
      "metadata": {
        "id": "NAmisDeYpzym",
        "colab_type": "code",
        "outputId": "7434429b-6107-4cb4-f92d-4f2392e9511a",
        "colab": {
          "base_uri": "https://localhost:8080/",
          "height": 139
        }
      },
      "source": [
        "%%time\n",
        "\n",
        "!git clone -l -s git://github.com/kavyajeetbora/EAST.git cloned-repo\n",
        "%cd cloned-repo\n",
        "!ls"
      ],
      "execution_count": 2,
      "outputs": [
        {
          "output_type": "stream",
          "text": [
            "fatal: destination path 'cloned-repo' already exists and is not an empty directory.\n",
            "/content/cloned-repo\n",
            "cloned-repo\t     EAST_dataset.ipynb        model.py\n",
            "dataset_original.py  EAST_text_detector.ipynb  __pycache__\n",
            "dataset.py\t     loss.py\t\t       train.py\n",
            "CPU times: user 112 ms, sys: 18.9 ms, total: 131 ms\n",
            "Wall time: 8.04 s\n"
          ],
          "name": "stdout"
        }
      ]
    },
    {
      "cell_type": "code",
      "metadata": {
        "id": "98XW9aIixCjd",
        "colab_type": "code",
        "outputId": "f66658b6-0299-45b1-e2b2-4552ffdf4448",
        "colab": {
          "base_uri": "https://localhost:8080/",
          "height": 54
        }
      },
      "source": [
        "from google.colab import drive\n",
        "drive.mount('/content/drive')"
      ],
      "execution_count": 3,
      "outputs": [
        {
          "output_type": "stream",
          "text": [
            "Drive already mounted at /content/drive; to attempt to forcibly remount, call drive.mount(\"/content/drive\", force_remount=True).\n"
          ],
          "name": "stdout"
        }
      ]
    },
    {
      "cell_type": "code",
      "metadata": {
        "id": "EnP26VecZ4by",
        "colab_type": "code",
        "outputId": "043fc4ae-64bf-463a-f6c7-b761349c623f",
        "colab": {
          "base_uri": "https://localhost:8080/",
          "height": 34
        }
      },
      "source": [
        "from dataset_original import custom_dataset\n",
        "\n",
        "# AI4Bharat dataset\n",
        "image_address = '/content/drive/My Drive/Colab Notebooks/padh.ai.notebooks/15. Object Detection/Simple YOLO model/Data/Sample Images'\n",
        "label_address = '/content/drive/My Drive/Colab Notebooks/padh.ai.notebooks/15. Object Detection/Simple YOLO model/Data/Sample Annotations'\n",
        "\n",
        "\n",
        "# icdar dataset\n",
        "# image_address = '/content/drive/My Drive/Colab Notebooks/padh.ai.notebooks/15. Object Detection/EAST scene text detector/data/ICDAR dataset/Images'\n",
        "# label_address = '/content/drive/My Drive/Colab Notebooks/padh.ai.notebooks/15. Object Detection/EAST scene text detector/data/ICDAR dataset/Labels'\n",
        "\n",
        "training_dataset = custom_dataset(image_address, label_address)\n",
        "print(len(training_dataset))"
      ],
      "execution_count": 4,
      "outputs": [
        {
          "output_type": "stream",
          "text": [
            "428\n"
          ],
          "name": "stdout"
        }
      ]
    },
    {
      "cell_type": "code",
      "metadata": {
        "id": "kQbQcRblaZWY",
        "colab_type": "code",
        "colab": {}
      },
      "source": [
        "def extract_vertices(lines):\n",
        "\t'''extract vertices info from txt lines\n",
        "\tInput:\n",
        "\t\tlines   : list of string info\n",
        "\tOutput:\n",
        "\t\tvertices: vertices of text regions <numpy.ndarray, (n,8)>\n",
        "\t\tlabels  : 1->valid, 0->ignore, <numpy.ndarray, (n,)>\n",
        "\t'''\n",
        "\tlabels = []\n",
        "\tvertices = []\n",
        "\tfor line in lines:\n",
        "\t\tvertices.append(list(map(int,line.rstrip('\\n').lstrip('\\ufeff').split(',')[:8])))\n",
        "\t\tlabel = 0 if '##::' in line else 1\n",
        "\t\tlabels.append(label)\n",
        "\treturn np.array(vertices), np.array(labels)"
      ],
      "execution_count": 0,
      "outputs": []
    },
    {
      "cell_type": "code",
      "metadata": {
        "id": "m8Fmu_OcbvdB",
        "colab_type": "code",
        "colab": {}
      },
      "source": [
        "from dataset_original import *"
      ],
      "execution_count": 0,
      "outputs": []
    },
    {
      "cell_type": "code",
      "metadata": {
        "id": "kjUXNkFjbhYC",
        "colab_type": "code",
        "outputId": "3404d9c8-448f-4120-cfbc-cc26cd09d2e5",
        "colab": {
          "base_uri": "https://localhost:8080/",
          "height": 191
        }
      },
      "source": [
        "img = Image.open(image_address+'/0.jpg')\n",
        "\n",
        "with open(label_address+'/0.txt', 'r') as f:\n",
        "\t\t\tlines = f.readlines()\n",
        "vertices, labels = extract_vertices(lines)\n",
        "\n",
        "img, vertices = adjust_height(img, vertices) \n",
        "img, vertices = rotate_img(img, vertices)\n",
        "img, vertices = crop_img(img, vertices, labels, 512)\n",
        "\n",
        "for vertice in vertices:\n",
        "  print(vertice)\n",
        "  print('-'*20)\n",
        "  \n",
        "print(labels)"
      ],
      "execution_count": 7,
      "outputs": [
        {
          "output_type": "stream",
          "text": [
            "[ 82.91349255 346.64709295 231.36786531 138.71850134 156.14622678\n",
            " 246.83744092 233.39168583 300.70894597]\n",
            "--------------------\n",
            "[274.82842929 520.27214027 431.46857415 313.34011032 163.08840631\n",
            " 254.03508938 241.69253536 318.82236356]\n",
            "--------------------\n",
            "[461.94313935 622.94679771 563.10185924 488.42202902 164.08074896\n",
            " 253.91157393 244.79729777 311.3819032 ]\n",
            "--------------------\n",
            "[1 1 1]\n"
          ],
          "name": "stdout"
        }
      ]
    },
    {
      "cell_type": "code",
      "metadata": {
        "id": "-Be5YdfbbSCs",
        "colab_type": "code",
        "outputId": "40b8645e-68e1-454b-89d6-044a5eb55b86",
        "colab": {
          "base_uri": "https://localhost:8080/",
          "height": 34
        }
      },
      "source": [
        "score_map, geo_map, ignored_map = get_score_geo(img, vertices, labels, 0.25, 512)\n",
        "\n",
        "torch.sum(score_map)"
      ],
      "execution_count": 8,
      "outputs": [
        {
          "output_type": "execute_result",
          "data": {
            "text/plain": [
              "tensor(685.)"
            ]
          },
          "metadata": {
            "tags": []
          },
          "execution_count": 8
        }
      ]
    },
    {
      "cell_type": "markdown",
      "metadata": {
        "id": "VsangoljUZ6v",
        "colab_type": "text"
      },
      "source": [
        "## Training"
      ]
    },
    {
      "cell_type": "code",
      "metadata": {
        "id": "xmbW10gwUTRX",
        "colab_type": "code",
        "outputId": "940d3a4c-0df6-440e-bde3-0e3252a91d3d",
        "colab": {
          "base_uri": "https://localhost:8080/",
          "height": 106
        }
      },
      "source": [
        "%%time\n",
        "train_loader = DataLoader(training_dataset, shuffle = True, batch_size=8)\n",
        "\n",
        "imgs, gt_score, gt_geo, ignored_maps = next(iter(train_loader))\n",
        "\n",
        "print(imgs.size(), gt_score.size(), gt_geo.size(), ignored_maps.size())\n",
        "\n",
        "print(torch.sum(gt_score))"
      ],
      "execution_count": 9,
      "outputs": [
        {
          "output_type": "stream",
          "text": [
            "torch.Size([8, 3, 512, 512]) torch.Size([8, 1, 128, 128]) torch.Size([8, 5, 128, 128]) torch.Size([8, 1, 128, 128])\n",
            "tensor(10110.)\n",
            "CPU times: user 5.59 s, sys: 4.79 s, total: 10.4 s\n",
            "Wall time: 4.77 s\n"
          ],
          "name": "stdout"
        }
      ]
    },
    {
      "cell_type": "code",
      "metadata": {
        "id": "d3Ao3H-fU45B",
        "colab_type": "code",
        "colab": {}
      },
      "source": [
        "from model import EAST\n",
        "\n",
        "model = EAST()"
      ],
      "execution_count": 0,
      "outputs": []
    },
    {
      "cell_type": "code",
      "metadata": {
        "id": "EVd09gNmU_gE",
        "colab_type": "code",
        "outputId": "da2bdf85-fb46-419d-f42d-896b75293ab0",
        "colab": {
          "base_uri": "https://localhost:8080/",
          "height": 34
        }
      },
      "source": [
        "pred_score, pred_geo = model(imgs)\n",
        "\n",
        "print(pred_score.size(), pred_geo.size())"
      ],
      "execution_count": 11,
      "outputs": [
        {
          "output_type": "stream",
          "text": [
            "torch.Size([8, 1, 128, 128]) torch.Size([8, 5, 128, 128])\n"
          ],
          "name": "stdout"
        }
      ]
    },
    {
      "cell_type": "code",
      "metadata": {
        "id": "9dwKLUhtVIt9",
        "colab_type": "code",
        "outputId": "735f752f-376c-4825-d34e-a7b5b4d4dc1d",
        "colab": {
          "base_uri": "https://localhost:8080/",
          "height": 52
        }
      },
      "source": [
        "from loss import Loss\n",
        "\n",
        "loss_fn = Loss()\n",
        "\n",
        "loss_fn(gt_score, pred_score, gt_geo, pred_geo, ignored_maps)"
      ],
      "execution_count": 12,
      "outputs": [
        {
          "output_type": "stream",
          "text": [
            "classify loss is 0.86142826, angle loss is 0.91079426, iou loss is 1.70341551\n"
          ],
          "name": "stdout"
        },
        {
          "output_type": "execute_result",
          "data": {
            "text/plain": [
              "tensor(11.6728, grad_fn=<AddBackward0>)"
            ]
          },
          "metadata": {
            "tags": []
          },
          "execution_count": 12
        }
      ]
    },
    {
      "cell_type": "markdown",
      "metadata": {
        "id": "03aAZoSGXTLf",
        "colab_type": "text"
      },
      "source": [
        "## Training Full Batch"
      ]
    },
    {
      "cell_type": "code",
      "metadata": {
        "id": "xBnoLsZyXpzV",
        "colab_type": "code",
        "colab": {
          "base_uri": "https://localhost:8080/",
          "height": 34
        },
        "outputId": "ca586bcf-51b4-49fe-e586-8eafde4ea267"
      },
      "source": [
        "device = torch.device(\"cuda:0\" if torch.cuda.is_available() else \"cpu\")\n",
        "device"
      ],
      "execution_count": 13,
      "outputs": [
        {
          "output_type": "execute_result",
          "data": {
            "text/plain": [
              "device(type='cuda', index=0)"
            ]
          },
          "metadata": {
            "tags": []
          },
          "execution_count": 13
        }
      ]
    },
    {
      "cell_type": "code",
      "metadata": {
        "id": "I64GQ2hjXxuk",
        "colab_type": "code",
        "colab": {}
      },
      "source": [
        "model = model.to(device)\n",
        "optimizer = torch.optim.Adam(model.parameters(), lr=1e-3)\n",
        "scheduler = lr_scheduler.MultiStepLR(optimizer, milestones=[5//2], gamma=0.1)\n",
        "criterion = Loss()"
      ],
      "execution_count": 0,
      "outputs": []
    },
    {
      "cell_type": "code",
      "metadata": {
        "id": "XeIQGzb6XVa9",
        "colab_type": "code",
        "colab": {}
      },
      "source": [
        "import os\n",
        "import time\n",
        "\n",
        "def train(train_img_path, train_gt_path, pths_path, batch_size, lr, num_workers, epoch_iter, interval):\n",
        "    file_num = len(os.listdir(train_img_path))\n",
        "    print(file_num)\n",
        "    trainset = custom_dataset(train_img_path, train_gt_path)\n",
        "    train_loader = data.DataLoader(trainset, batch_size=batch_size, \\\n",
        "                                   shuffle=True, num_workers=num_workers, drop_last=True)\n",
        "\t\n",
        "    criterion = Loss()\n",
        "    device = torch.device(\"cuda:0\" if torch.cuda.is_available() else \"cpu\")\n",
        "    model = EAST()\n",
        "    model.to(device)\n",
        "    optimizer = torch.optim.Adam(model.parameters(), lr=lr)\n",
        "    scheduler = lr_scheduler.MultiStepLR(optimizer, milestones=[epoch_iter//2], gamma=0.1)\n",
        "  \n",
        "    for epoch in range(epoch_iter):\n",
        "      model.train()\n",
        "      scheduler.step()\n",
        "      epoch_loss = 0\n",
        "      epoch_time = time.time()\n",
        "      for i, (img, gt_score, gt_geo, ignored_map) in enumerate(train_loader):\n",
        "        start_time = time.time()\n",
        "        img, gt_score, gt_geo, ignored_map = img.to(device), gt_score.to(device), gt_geo.to(device), ignored_map.to(device)\n",
        "        pred_score, pred_geo = model(img)\n",
        "        loss = criterion(gt_score, pred_score, gt_geo, pred_geo, ignored_map)\n",
        "\n",
        "        epoch_loss += loss.item()\n",
        "        optimizer.zero_grad()\n",
        "        loss.backward()\n",
        "        optimizer.step()\n",
        "\n",
        "        print('Epoch is [{}/{}], mini-batch is [{}/{}], time consumption is {:.8f}, batch_loss is {:.8f}'.format(\\\n",
        "                  epoch+1, epoch_iter, i+1, int(file_num/batch_size), time.time()-start_time, loss.item()))\n",
        "        \n",
        "      print('epoch_loss is {:.8f}, epoch_time is {:.8f}'.format(epoch_loss/int(file_num/batch_size), time.time()-epoch_time))\n",
        "      print(time.asctime(time.localtime(time.time())))\n",
        "      print('='*50)\n",
        "      if (epoch + 1) % interval == 0:\n",
        "        state_dict = model.module.state_dict() if data_parallel else model.state_dict()\n",
        "        torch.save(state_dict, os.path.join(pths_path, 'model_epoch_{}.pth'.format(epoch+1)))"
      ],
      "execution_count": 0,
      "outputs": []
    },
    {
      "cell_type": "code",
      "metadata": {
        "id": "IxuHC3Wybb7O",
        "colab_type": "code",
        "colab": {
          "base_uri": "https://localhost:8080/",
          "height": 1000
        },
        "outputId": "c4e0cbd0-56f7-4495-e651-d41581cda8ba"
      },
      "source": [
        "training = train(image_address, label_address, 'models', batch_size=8, lr=1e-3, num_workers=0, epoch_iter=1, interval=5)"
      ],
      "execution_count": 16,
      "outputs": [
        {
          "output_type": "stream",
          "text": [
            "428\n"
          ],
          "name": "stdout"
        },
        {
          "output_type": "stream",
          "text": [
            "/usr/local/lib/python3.6/dist-packages/torch/optim/lr_scheduler.py:100: UserWarning: Detected call of `lr_scheduler.step()` before `optimizer.step()`. In PyTorch 1.1.0 and later, you should call them in the opposite order: `optimizer.step()` before `lr_scheduler.step()`.  Failure to do this will result in PyTorch skipping the first value of the learning rate schedule.See more details at https://pytorch.org/docs/stable/optim.html#how-to-adjust-learning-rate\n",
            "  \"https://pytorch.org/docs/stable/optim.html#how-to-adjust-learning-rate\", UserWarning)\n"
          ],
          "name": "stderr"
        },
        {
          "output_type": "stream",
          "text": [
            "classify loss is 0.88356185, angle loss is 0.99434370, iou loss is 1.45743048\n",
            "Epoch is [1/1], mini-batch is [1/53], time consumption is 0.87976980, batch_loss is 12.28442955\n",
            "classify loss is 0.90996081, angle loss is 0.87531251, iou loss is 1.50867319\n",
            "Epoch is [1/1], mini-batch is [2/53], time consumption is 0.84924746, batch_loss is 11.17175961\n",
            "classify loss is 0.91342682, angle loss is 0.84967631, iou loss is 1.58364463\n",
            "Epoch is [1/1], mini-batch is [3/53], time consumption is 0.80443692, batch_loss is 10.99383450\n",
            "classify loss is 0.89080280, angle loss is 0.81135327, iou loss is 1.56056738\n",
            "Epoch is [1/1], mini-batch is [4/53], time consumption is 0.80710411, batch_loss is 10.56490326\n",
            "classify loss is 0.91931546, angle loss is 0.92152983, iou loss is 1.68006837\n",
            "Epoch is [1/1], mini-batch is [5/53], time consumption is 0.81151056, batch_loss is 11.81468201\n",
            "classify loss is 0.90065616, angle loss is 0.80441743, iou loss is 1.71408582\n",
            "Epoch is [1/1], mini-batch is [6/53], time consumption is 0.94360638, batch_loss is 10.65891552\n",
            "classify loss is 0.93371218, angle loss is 0.96691185, iou loss is 1.84664810\n",
            "Epoch is [1/1], mini-batch is [7/53], time consumption is 0.80326414, batch_loss is 12.44947910\n",
            "classify loss is 0.88570929, angle loss is 0.89478546, iou loss is 1.65891159\n",
            "Epoch is [1/1], mini-batch is [8/53], time consumption is 0.80623627, batch_loss is 11.49247551\n",
            "classify loss is 0.90736419, angle loss is 0.73407233, iou loss is 1.56751525\n",
            "Epoch is [1/1], mini-batch is [9/53], time consumption is 0.81107306, batch_loss is 9.81560230\n",
            "classify loss is 0.90528589, angle loss is 1.04667890, iou loss is 1.60492086\n",
            "Epoch is [1/1], mini-batch is [10/53], time consumption is 0.85431910, batch_loss is 12.97699642\n",
            "classify loss is 0.90285641, angle loss is 0.94981718, iou loss is 1.62639523\n",
            "Epoch is [1/1], mini-batch is [11/53], time consumption is 0.78970504, batch_loss is 12.02742386\n",
            "classify loss is 0.90122288, angle loss is 0.95142651, iou loss is 1.69574773\n",
            "Epoch is [1/1], mini-batch is [12/53], time consumption is 0.80056047, batch_loss is 12.11123562\n",
            "classify loss is 0.90156603, angle loss is 0.77754581, iou loss is 1.61105192\n",
            "Epoch is [1/1], mini-batch is [13/53], time consumption is 0.90558887, batch_loss is 10.28807640\n",
            "classify loss is 0.89817476, angle loss is 0.87423873, iou loss is 1.75100100\n",
            "Epoch is [1/1], mini-batch is [14/53], time consumption is 0.85055208, batch_loss is 11.39156342\n",
            "classify loss is 0.91421533, angle loss is 0.89087498, iou loss is 1.67086148\n",
            "Epoch is [1/1], mini-batch is [15/53], time consumption is 0.81034780, batch_loss is 11.49382591\n",
            "classify loss is 0.87998700, angle loss is 1.02208507, iou loss is 1.78777122\n",
            "Epoch is [1/1], mini-batch is [16/53], time consumption is 0.82533002, batch_loss is 12.88860893\n",
            "classify loss is 0.93788266, angle loss is 0.86937732, iou loss is 1.90167952\n",
            "Epoch is [1/1], mini-batch is [17/53], time consumption is 0.80728555, batch_loss is 11.53333569\n",
            "classify loss is 0.92843837, angle loss is 0.90339190, iou loss is 1.92310894\n",
            "Epoch is [1/1], mini-batch is [18/53], time consumption is 0.85235810, batch_loss is 11.88546658\n",
            "classify loss is 0.91112870, angle loss is 0.68190300, iou loss is 1.62596083\n",
            "Epoch is [1/1], mini-batch is [19/53], time consumption is 0.81306696, batch_loss is 9.35611916\n",
            "classify loss is 0.88195252, angle loss is 0.70927918, iou loss is 1.36559296\n",
            "Epoch is [1/1], mini-batch is [20/53], time consumption is 0.88027716, batch_loss is 9.34033680\n",
            "classify loss is 0.90096283, angle loss is 0.66564190, iou loss is 1.62616670\n",
            "Epoch is [1/1], mini-batch is [21/53], time consumption is 0.81019616, batch_loss is 9.18354797\n",
            "classify loss is 0.92499942, angle loss is 0.88184327, iou loss is 1.71813691\n",
            "Epoch is [1/1], mini-batch is [22/53], time consumption is 0.84906864, batch_loss is 11.46156883\n",
            "classify loss is 0.91179007, angle loss is 0.79852384, iou loss is 1.55520844\n",
            "Epoch is [1/1], mini-batch is [23/53], time consumption is 0.79977655, batch_loss is 10.45223713\n",
            "classify loss is 0.90651828, angle loss is 0.81887507, iou loss is 1.66993356\n",
            "Epoch is [1/1], mini-batch is [24/53], time consumption is 0.81099629, batch_loss is 10.76520252\n",
            "classify loss is 0.90057653, angle loss is 0.80207664, iou loss is 1.56508982\n",
            "Epoch is [1/1], mini-batch is [25/53], time consumption is 0.82671905, batch_loss is 10.48643303\n",
            "classify loss is 0.90394694, angle loss is 0.69015121, iou loss is 1.60725749\n",
            "Epoch is [1/1], mini-batch is [26/53], time consumption is 0.85159492, batch_loss is 9.41271687\n",
            "classify loss is 0.89583236, angle loss is 0.93587381, iou loss is 1.78600252\n",
            "Epoch is [1/1], mini-batch is [27/53], time consumption is 0.89003086, batch_loss is 12.04057217\n",
            "classify loss is 0.93582535, angle loss is 0.77720988, iou loss is 1.70337832\n",
            "Epoch is [1/1], mini-batch is [28/53], time consumption is 0.79878783, batch_loss is 10.41130257\n",
            "classify loss is 0.88486779, angle loss is 0.95165765, iou loss is 1.53902888\n",
            "Epoch is [1/1], mini-batch is [29/53], time consumption is 0.80940604, batch_loss is 11.94047356\n",
            "classify loss is 0.92777914, angle loss is 1.12886310, iou loss is 1.61812735\n",
            "Epoch is [1/1], mini-batch is [30/53], time consumption is 0.84549570, batch_loss is 13.83453846\n",
            "classify loss is 0.89009219, angle loss is 0.79392976, iou loss is 1.51262212\n",
            "Epoch is [1/1], mini-batch is [31/53], time consumption is 0.80840707, batch_loss is 10.34201145\n",
            "classify loss is 0.91624188, angle loss is 0.51522261, iou loss is 1.33627760\n",
            "Epoch is [1/1], mini-batch is [32/53], time consumption is 0.80353165, batch_loss is 7.40474510\n",
            "classify loss is 0.91293997, angle loss is 0.78918904, iou loss is 1.45723283\n",
            "Epoch is [1/1], mini-batch is [33/53], time consumption is 0.80432248, batch_loss is 10.26206303\n",
            "classify loss is 0.91569287, angle loss is 0.76230919, iou loss is 1.69793987\n",
            "Epoch is [1/1], mini-batch is [34/53], time consumption is 0.92191458, batch_loss is 10.23672485\n",
            "classify loss is 0.91173500, angle loss is 0.78816944, iou loss is 1.58256328\n",
            "Epoch is [1/1], mini-batch is [35/53], time consumption is 0.80422616, batch_loss is 10.37599182\n",
            "classify loss is 0.90651673, angle loss is 0.78406638, iou loss is 1.66033435\n",
            "Epoch is [1/1], mini-batch is [36/53], time consumption is 0.81539655, batch_loss is 10.40751553\n",
            "classify loss is 0.89829159, angle loss is 0.78606778, iou loss is 1.72083187\n",
            "Epoch is [1/1], mini-batch is [37/53], time consumption is 0.81822634, batch_loss is 10.47980118\n",
            "classify loss is 0.89404988, angle loss is 0.56993365, iou loss is 1.32951498\n",
            "Epoch is [1/1], mini-batch is [38/53], time consumption is 0.84421921, batch_loss is 7.92290115\n",
            "classify loss is 0.89534456, angle loss is 0.78912020, iou loss is 1.44104362\n",
            "Epoch is [1/1], mini-batch is [39/53], time consumption is 0.80074215, batch_loss is 10.22759056\n",
            "classify loss is 0.88477993, angle loss is 0.60326272, iou loss is 1.45529974\n",
            "Epoch is [1/1], mini-batch is [40/53], time consumption is 0.80529809, batch_loss is 8.37270737\n",
            "classify loss is 0.88798213, angle loss is 0.70002961, iou loss is 1.43236816\n",
            "Epoch is [1/1], mini-batch is [41/53], time consumption is 0.90352011, batch_loss is 9.32064629\n",
            "classify loss is 0.89892775, angle loss is 0.70985007, iou loss is 1.37393880\n",
            "Epoch is [1/1], mini-batch is [42/53], time consumption is 0.83540440, batch_loss is 9.37136745\n",
            "classify loss is 0.91293275, angle loss is 0.56695533, iou loss is 1.56636488\n",
            "Epoch is [1/1], mini-batch is [43/53], time consumption is 0.80652189, batch_loss is 8.14885044\n",
            "classify loss is 0.89125776, angle loss is 0.74914259, iou loss is 1.45105600\n",
            "Epoch is [1/1], mini-batch is [44/53], time consumption is 0.81144595, batch_loss is 9.83374023\n",
            "classify loss is 0.89487672, angle loss is 0.82843208, iou loss is 1.65288377\n",
            "Epoch is [1/1], mini-batch is [45/53], time consumption is 0.80054951, batch_loss is 10.83208084\n",
            "classify loss is 0.87351322, angle loss is 0.68614399, iou loss is 1.44473422\n",
            "Epoch is [1/1], mini-batch is [46/53], time consumption is 0.84403253, batch_loss is 9.17968750\n",
            "classify loss is 0.90227300, angle loss is 0.74642450, iou loss is 1.68669903\n",
            "Epoch is [1/1], mini-batch is [47/53], time consumption is 0.81433225, batch_loss is 10.05321693\n",
            "classify loss is 0.90551364, angle loss is 0.70738804, iou loss is 1.46187198\n",
            "Epoch is [1/1], mini-batch is [48/53], time consumption is 0.88187408, batch_loss is 9.44126606\n",
            "classify loss is 0.88497227, angle loss is 0.65380132, iou loss is 1.35505939\n",
            "Epoch is [1/1], mini-batch is [49/53], time consumption is 0.80774260, batch_loss is 8.77804565\n",
            "classify loss is 0.90403652, angle loss is 0.56345630, iou loss is 1.41645455\n",
            "Epoch is [1/1], mini-batch is [50/53], time consumption is 0.83709598, batch_loss is 7.95505428\n",
            "classify loss is 0.91931802, angle loss is 0.72244269, iou loss is 1.50694311\n",
            "Epoch is [1/1], mini-batch is [51/53], time consumption is 0.80754781, batch_loss is 9.65068817\n",
            "classify loss is 0.91814196, angle loss is 0.68852723, iou loss is 1.52285540\n",
            "Epoch is [1/1], mini-batch is [52/53], time consumption is 0.82058406, batch_loss is 9.32627010\n",
            "classify loss is 0.86235505, angle loss is 0.94165921, iou loss is 1.25712526\n",
            "Epoch is [1/1], mini-batch is [53/53], time consumption is 0.81646347, batch_loss is 11.53607178\n",
            "epoch_loss is 10.49031511, epoch_time is 348.53271341\n",
            "Sun Oct 20 19:11:43 2019\n",
            "==================================================\n"
          ],
          "name": "stdout"
        }
      ]
    },
    {
      "cell_type": "code",
      "metadata": {
        "id": "M7Rnmo-hld74",
        "colab_type": "code",
        "colab": {
          "base_uri": "https://localhost:8080/",
          "height": 34
        },
        "outputId": "4ed59e6f-1081-4668-b937-be12f5d78488"
      },
      "source": [
        ""
      ],
      "execution_count": 18,
      "outputs": [
        {
          "output_type": "execute_result",
          "data": {
            "text/plain": [
              "5.8"
            ]
          },
          "metadata": {
            "tags": []
          },
          "execution_count": 18
        }
      ]
    }
  ]
}