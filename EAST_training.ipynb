{
  "nbformat": 4,
  "nbformat_minor": 0,
  "metadata": {
    "colab": {
      "name": "EAST_dataset.ipynb",
      "provenance": [],
      "collapsed_sections": [
        "QYP_yAGvd05H",
        "T874dqy_dyjf"
      ],
      "machine_shape": "hm",
      "include_colab_link": true
    },
    "kernelspec": {
      "name": "python3",
      "display_name": "Python 3"
    },
    "accelerator": "GPU"
  },
  "cells": [
    {
      "cell_type": "markdown",
      "metadata": {
        "id": "view-in-github",
        "colab_type": "text"
      },
      "source": [
        "<a href=\"https://colab.research.google.com/github/kavyajeetbora/EAST/blob/master/EAST_training.ipynb\" target=\"_parent\"><img src=\"https://colab.research.google.com/assets/colab-badge.svg\" alt=\"Open In Colab\"/></a>"
      ]
    },
    {
      "cell_type": "markdown",
      "metadata": {
        "id": "Pyapm5xLqREO",
        "colab_type": "text"
      },
      "source": [
        "##1. Imports"
      ]
    },
    {
      "cell_type": "markdown",
      "metadata": {
        "id": "L2dp5i49ZJGr",
        "colab_type": "text"
      },
      "source": [
        "[**Tasks - Incidental Scene Text**](https://rrc.cvc.uab.es/?ch=4&com=tasks)"
      ]
    },
    {
      "cell_type": "code",
      "metadata": {
        "id": "a6n5wRjEg_RL",
        "colab_type": "code",
        "colab": {}
      },
      "source": [
        "import os\n",
        "import time\n",
        "from PIL import Image\n",
        "from torch.utils.model_zoo import load_url\n",
        "import matplotlib.pyplot as plt\n",
        "import numpy as np\n",
        "import torch\n",
        "import torch.nn as nn\n",
        "from torch.optim import lr_scheduler\n",
        "from torch.utils.data import DataLoader\n",
        "import shutil\n",
        "from google.colab import files"
      ],
      "execution_count": 0,
      "outputs": []
    },
    {
      "cell_type": "code",
      "metadata": {
        "id": "SymuHSuqIfGs",
        "colab_type": "code",
        "outputId": "85378b40-ec09-4f8a-d1c3-89fe33557364",
        "colab": {
          "base_uri": "https://localhost:8080/",
          "height": 34
        }
      },
      "source": [
        "from google.colab import drive\n",
        "drive.mount('/content/drive')"
      ],
      "execution_count": 2,
      "outputs": [
        {
          "output_type": "stream",
          "text": [
            "Drive already mounted at /content/drive; to attempt to forcibly remount, call drive.mount(\"/content/drive\", force_remount=True).\n"
          ],
          "name": "stdout"
        }
      ]
    },
    {
      "cell_type": "code",
      "metadata": {
        "id": "NAmisDeYpzym",
        "colab_type": "code",
        "outputId": "7327f640-bfcc-4f1b-f385-e75b9ea0c806",
        "colab": {
          "base_uri": "https://localhost:8080/",
          "height": 302
        }
      },
      "source": [
        "%%time\n",
        "!rm -r /content/cloned-repo\n",
        "%cd ..\n",
        "!git clone -l -s git://github.com/kavyajeetbora/EAST.git /content/cloned-repo\n",
        "%cd /content/cloned-repo\n",
        "!ls"
      ],
      "execution_count": 3,
      "outputs": [
        {
          "output_type": "stream",
          "text": [
            "rm: cannot remove '/content/cloned-repo': No such file or directory\n",
            "/\n",
            "Cloning into '/content/cloned-repo'...\n",
            "warning: --local is ignored\n",
            "remote: Enumerating objects: 94, done.\u001b[K\n",
            "remote: Counting objects: 100% (94/94), done.\u001b[K\n",
            "remote: Compressing objects: 100% (94/94), done.\u001b[K\n",
            "remote: Total 176 (delta 52), reused 0 (delta 0), pack-reused 82\u001b[K\n",
            "Receiving objects: 100% (176/176), 6.97 MiB | 10.12 MiB/s, done.\n",
            "Resolving deltas: 100% (97/97), done.\n",
            "/content/cloned-repo\n",
            "dataset.py\t\t    EAST_resnet.py\t\t    model.py\n",
            "detect.py\t\t    EAST_training.ipynb\t\t    model_resnet.py\n",
            "dsiplay_ground_truth.ipynb  EAST_training_vgg16_bn_2.ipynb  train.py\n",
            "EAST_detection.ipynb\t    loss.py\n",
            "CPU times: user 120 ms, sys: 39.4 ms, total: 159 ms\n",
            "Wall time: 7.29 s\n"
          ],
          "name": "stdout"
        }
      ]
    },
    {
      "cell_type": "code",
      "metadata": {
        "id": "m8Fmu_OcbvdB",
        "colab_type": "code",
        "colab": {}
      },
      "source": [
        "from dataset import *"
      ],
      "execution_count": 0,
      "outputs": []
    },
    {
      "cell_type": "code",
      "metadata": {
        "id": "EnP26VecZ4by",
        "colab_type": "code",
        "outputId": "1a39c2df-5d84-43e2-b635-5801aad00096",
        "colab": {
          "base_uri": "https://localhost:8080/",
          "height": 67
        }
      },
      "source": [
        "%%time\n",
        "\n",
        "# AI4Bharat dataset\n",
        "image_folder = '/content/drive/My Drive/Colab Notebooks (1)/padh.ai.notebooks/15. Object Detection/AI4Bharat Dataset/Test Set/Images'\n",
        "label_folder = '/content/drive/My Drive/Colab Notebooks (1)/padh.ai.notebooks/15. Object Detection/AI4Bharat Dataset/Test Set/Annotations'\n",
        "\n",
        "training_dataset = custom_dataset(image_folder, label_folder)\n",
        "print(len(training_dataset))"
      ],
      "execution_count": 5,
      "outputs": [
        {
          "output_type": "stream",
          "text": [
            "428\n",
            "CPU times: user 3.67 ms, sys: 1.51 ms, total: 5.18 ms\n",
            "Wall time: 14.3 ms\n"
          ],
          "name": "stdout"
        }
      ]
    },
    {
      "cell_type": "markdown",
      "metadata": {
        "id": "VsangoljUZ6v",
        "colab_type": "text"
      },
      "source": [
        "## Loss for one batch"
      ]
    },
    {
      "cell_type": "code",
      "metadata": {
        "id": "xmbW10gwUTRX",
        "colab_type": "code",
        "outputId": "980f403a-7b9a-44fe-e0be-7ed3c5e49e38",
        "colab": {
          "base_uri": "https://localhost:8080/",
          "height": 84
        }
      },
      "source": [
        "%%time\n",
        "train_loader = DataLoader(training_dataset, shuffle = True, batch_size=12, drop_last=True)\n",
        "imgs, gt_score, gt_geo, ignored_maps = next(iter(train_loader))\n",
        "print(imgs.size(), gt_score.size(), gt_geo.size(), ignored_maps.size())\n",
        "print(torch.sum(gt_score))"
      ],
      "execution_count": 6,
      "outputs": [
        {
          "output_type": "stream",
          "text": [
            "torch.Size([12, 3, 512, 512]) torch.Size([12, 1, 128, 128]) torch.Size([12, 5, 128, 128]) torch.Size([12, 1, 128, 128])\n",
            "tensor(13729.)\n",
            "CPU times: user 6.72 s, sys: 6.81 s, total: 13.5 s\n",
            "Wall time: 11.8 s\n"
          ],
          "name": "stdout"
        }
      ]
    },
    {
      "cell_type": "code",
      "metadata": {
        "id": "xB4hqsQXKyc0",
        "colab_type": "code",
        "outputId": "a777aad0-7f23-4fa8-a034-823502d05b9c",
        "colab": {
          "base_uri": "https://localhost:8080/",
          "height": 34
        }
      },
      "source": [
        "device = torch.device(\"cuda:0\" if torch.cuda.is_available() else \"cpu\")\n",
        "device"
      ],
      "execution_count": 7,
      "outputs": [
        {
          "output_type": "execute_result",
          "data": {
            "text/plain": [
              "device(type='cuda', index=0)"
            ]
          },
          "metadata": {
            "tags": []
          },
          "execution_count": 7
        }
      ]
    },
    {
      "cell_type": "code",
      "metadata": {
        "id": "jSuLu7o3r0oA",
        "colab_type": "code",
        "outputId": "47c4868a-f11e-4654-d4a9-c5fa4094b2ff",
        "colab": {
          "base_uri": "https://localhost:8080/",
          "height": 67
        }
      },
      "source": [
        "%%time\n",
        "from model import EAST\n",
        "model = EAST()\n",
        "pretrained_path = '/content/drive/My Drive/Colab Notebooks (1)/padh.ai.notebooks/15. Object Detection/EAST scene text detector/east_vgg16.pth'\n",
        "state_dict = torch.load(pretrained_path)\n",
        "model.load_state_dict(state_dict)\n",
        "model = model.to(device)\n",
        "imgs, gt_score, gt_geo, ignored_maps = imgs.to(device), gt_score.to(device), gt_geo.to(device), ignored_maps.to(device)\n",
        "pred_score, pred_geo = model(imgs)\n",
        "\n",
        "print(pred_score.size(), pred_geo.size())"
      ],
      "execution_count": 8,
      "outputs": [
        {
          "output_type": "stream",
          "text": [
            "torch.Size([12, 1, 128, 128]) torch.Size([12, 5, 128, 128])\n",
            "CPU times: user 6.39 s, sys: 1.23 s, total: 7.61 s\n",
            "Wall time: 7.57 s\n"
          ],
          "name": "stdout"
        }
      ]
    },
    {
      "cell_type": "code",
      "metadata": {
        "id": "9dwKLUhtVIt9",
        "colab_type": "code",
        "outputId": "b2fa9e92-93f0-4071-c904-b4e10e9a9325",
        "colab": {
          "base_uri": "https://localhost:8080/",
          "height": 50
        }
      },
      "source": [
        "from loss import Loss\n",
        "\n",
        "loss_fn = Loss()\n",
        "loss_fn(gt_score, pred_score, gt_geo, pred_geo, ignored_maps)"
      ],
      "execution_count": 9,
      "outputs": [
        {
          "output_type": "stream",
          "text": [
            "classify loss is 0.68417346, angle loss is 0.00623027, iou loss is 0.81353444\n"
          ],
          "name": "stdout"
        },
        {
          "output_type": "execute_result",
          "data": {
            "text/plain": [
              "tensor(1.5600, device='cuda:0', grad_fn=<AddBackward0>)"
            ]
          },
          "metadata": {
            "tags": []
          },
          "execution_count": 9
        }
      ]
    },
    {
      "cell_type": "markdown",
      "metadata": {
        "id": "03aAZoSGXTLf",
        "colab_type": "text"
      },
      "source": [
        "## Training Full Batch \n",
        "\n",
        "fine tuning pretrained model [east_vgg16.pth](https://drive.google.com/file/d/1AFABkJgr5VtxWnmBU3XcfLJvpZkC2TAg/view)"
      ]
    },
    {
      "cell_type": "code",
      "metadata": {
        "id": "IxuHC3Wybb7O",
        "colab_type": "code",
        "colab": {}
      },
      "source": [
        "model = EAST()\n",
        "pretrained_path = '/content/drive/My Drive/Colab Notebooks (1)/padh.ai.notebooks/15. Object Detection/EAST scene text detector/east_vgg16.pth'\n",
        "state_dict = torch.load(pretrained_path)\n",
        "model.load_state_dict(state_dict)\n",
        "model = model.to(device)"
      ],
      "execution_count": 0,
      "outputs": []
    },
    {
      "cell_type": "code",
      "metadata": {
        "id": "XeIQGzb6XVa9",
        "colab_type": "code",
        "colab": {}
      },
      "source": [
        "def train(model, train_img_path, train_gt_path, batch_size, lr, epoch_iter, num_workers=4, interval=1):\n",
        "    file_num = len(os.listdir(train_img_path))\n",
        "    print(file_num)\n",
        "    trainset = custom_dataset(train_img_path, train_gt_path)\n",
        "    train_loader = data.DataLoader(trainset, batch_size=batch_size, \\\n",
        "                                   shuffle=True, num_workers=num_workers, drop_last=True)\n",
        "\t\n",
        "    criterion = Loss()\n",
        "    device = torch.device(\"cuda:0\" if torch.cuda.is_available() else \"cpu\")\n",
        "    model.to(device)\n",
        "    optimizer = torch.optim.AdamW(model.parameters(), lr=lr)\n",
        "    scheduler = lr_scheduler.StepLR(optimizer, step_size=epoch_iter//2, gamma=0.5)\n",
        "    loss_curve = []\n",
        "    \n",
        "    for epoch in range(epoch_iter):\n",
        "      model.train()\n",
        "      scheduler.step()\n",
        "      epoch_loss = 0\n",
        "      epoch_time = time.time()\n",
        "      for i, (img, gt_score, gt_geo, ignored_map) in enumerate(train_loader):\n",
        "        start_time = time.time()\n",
        "        img, gt_score, gt_geo, ignored_map = img.to(device), gt_score.to(device), gt_geo.to(device), ignored_map.to(device)\n",
        "        pred_score, pred_geo = model(img)\n",
        "        loss = criterion(gt_score, pred_score, gt_geo, pred_geo, ignored_map)\n",
        "\n",
        "        epoch_loss += loss.item()\n",
        "        optimizer.zero_grad()\n",
        "        loss.backward()\n",
        "        optimizer.step()\n",
        "\n",
        "        print('Epoch is [{}/{}], mini-batch is [{}/{}], time consumption is {:.8f}, batch_loss is {:.8f}'.format(\\\n",
        "                  epoch+1, epoch_iter, i+1, int(file_num/batch_size), time.time()-start_time, loss.item()))\n",
        "        \n",
        "      print('epoch_loss is {:.8f}, epoch_time is {:.8f}'.format(epoch_loss/int(file_num/batch_size), time.time()-epoch_time))\n",
        "      print(time.asctime(time.localtime(time.time())))\n",
        "      print('='*50)\n",
        "      \n",
        "      \n",
        "      if (epoch + 1) % interval == 0:\n",
        "        state_dict = model.state_dict()\n",
        "        torch.save(state_dict, 'model_epoch_{}.pth'.format(epoch+1))\n",
        "       \n",
        "      ## plotting the loss curve\n",
        "      loss_curve.append(epoch_loss/int(file_num/batch_size))\n",
        "\n",
        "    return loss_curve"
      ],
      "execution_count": 0,
      "outputs": []
    },
    {
      "cell_type": "code",
      "metadata": {
        "id": "pPd8lPc5N7qr",
        "colab_type": "code",
        "outputId": "79567cc2-142a-4924-939a-7fb9c7314ad7",
        "colab": {
          "base_uri": "https://localhost:8080/",
          "height": 608
        }
      },
      "source": [
        "%%time\n",
        "loss_curve = train(model, image_folder, label_folder, batch_size=8, lr=1e-5, epoch_iter=5, interval = 1)"
      ],
      "execution_count": 0,
      "outputs": [
        {
          "output_type": "stream",
          "text": [
            "428\n"
          ],
          "name": "stdout"
        },
        {
          "output_type": "stream",
          "text": [
            "/usr/local/lib/python3.6/dist-packages/torch/optim/lr_scheduler.py:100: UserWarning: Detected call of `lr_scheduler.step()` before `optimizer.step()`. In PyTorch 1.1.0 and later, you should call them in the opposite order: `optimizer.step()` before `lr_scheduler.step()`.  Failure to do this will result in PyTorch skipping the first value of the learning rate schedule.See more details at https://pytorch.org/docs/stable/optim.html#how-to-adjust-learning-rate\n",
            "  \"https://pytorch.org/docs/stable/optim.html#how-to-adjust-learning-rate\", UserWarning)\n"
          ],
          "name": "stderr"
        },
        {
          "output_type": "stream",
          "text": [
            "classify loss is 0.74742675, angle loss is 0.04168005, iou loss is 1.15757704\n",
            "Epoch is [1/5], mini-batch is [1/53], time consumption is 0.57793260, batch_loss is 2.32180429\n",
            "classify loss is 0.75206274, angle loss is 0.07170939, iou loss is 1.14091134\n",
            "Epoch is [1/5], mini-batch is [2/53], time consumption is 0.22680783, batch_loss is 2.61006808\n",
            "classify loss is 0.82933325, angle loss is 0.02486178, iou loss is 0.98071146\n",
            "Epoch is [1/5], mini-batch is [3/53], time consumption is 0.28853297, batch_loss is 2.05866241\n",
            "classify loss is 0.55255938, angle loss is 0.02387484, iou loss is 0.77025127\n",
            "Epoch is [1/5], mini-batch is [4/53], time consumption is 0.23708653, batch_loss is 1.56155908\n",
            "classify loss is 0.90626973, angle loss is 0.02995767, iou loss is 1.21066606\n",
            "Epoch is [1/5], mini-batch is [5/53], time consumption is 0.23147821, batch_loss is 2.41651249\n",
            "classify loss is 0.73785579, angle loss is 0.00598528, iou loss is 0.80434263\n",
            "Epoch is [1/5], mini-batch is [6/53], time consumption is 0.21736598, batch_loss is 1.60205126\n",
            "classify loss is 0.70310915, angle loss is 0.02578885, iou loss is 1.16661847\n",
            "Epoch is [1/5], mini-batch is [7/53], time consumption is 0.24349070, batch_loss is 2.12761617\n",
            "classify loss is 0.89771730, angle loss is 0.10914606, iou loss is 1.27517021\n",
            "Epoch is [1/5], mini-batch is [8/53], time consumption is 0.28723288, batch_loss is 3.26434803\n",
            "classify loss is 0.62013298, angle loss is 0.07546651, iou loss is 0.89868289\n",
            "Epoch is [1/5], mini-batch is [9/53], time consumption is 0.23476577, batch_loss is 2.27348089\n",
            "classify loss is 0.63853633, angle loss is 0.03263593, iou loss is 1.11873555\n",
            "Epoch is [1/5], mini-batch is [10/53], time consumption is 0.22554231, batch_loss is 2.08363104\n",
            "classify loss is 0.82274181, angle loss is 0.05228484, iou loss is 1.10090506\n",
            "Epoch is [1/5], mini-batch is [11/53], time consumption is 0.29109502, batch_loss is 2.44649529\n",
            "classify loss is 0.77071714, angle loss is 0.11072804, iou loss is 1.42030776\n",
            "Epoch is [1/5], mini-batch is [12/53], time consumption is 0.24044371, batch_loss is 3.29830527\n",
            "classify loss is 0.64111042, angle loss is 0.06302116, iou loss is 0.84102583\n",
            "Epoch is [1/5], mini-batch is [13/53], time consumption is 0.24747396, batch_loss is 2.11234784\n",
            "classify loss is 0.78970367, angle loss is 0.04268495, iou loss is 0.97785765\n",
            "Epoch is [1/5], mini-batch is [14/53], time consumption is 0.21035266, batch_loss is 2.19441080\n",
            "classify loss is 0.71516240, angle loss is 0.01844676, iou loss is 1.09269202\n",
            "Epoch is [1/5], mini-batch is [15/53], time consumption is 0.18526530, batch_loss is 1.99232209\n",
            "classify loss is 0.73337996, angle loss is 0.02393268, iou loss is 0.88193262\n"
          ],
          "name": "stdout"
        }
      ]
    },
    {
      "cell_type": "code",
      "metadata": {
        "id": "XIfcvWvLSFX6",
        "colab_type": "code",
        "colab": {}
      },
      "source": [
        "plt.plot(loss_curve)"
      ],
      "execution_count": 0,
      "outputs": []
    },
    {
      "cell_type": "markdown",
      "metadata": {
        "id": "HTf51H-gknXG",
        "colab_type": "text"
      },
      "source": [
        "1. [**Adam and AdamW algorithms**](https://www.fast.ai/2018/07/02/adam-weight-decay/)\n",
        "\n",
        "2. [**The optimal learning rate during fine-tuning of an artificial neural network**](https://www.mikulskibartosz.name/the-optimal-learning-rate-during-fine-tuning-of-an-artificial-neural-network/)"
      ]
    }
  ]
}