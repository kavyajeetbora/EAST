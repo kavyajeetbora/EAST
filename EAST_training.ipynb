{
  "nbformat": 4,
  "nbformat_minor": 0,
  "metadata": {
    "colab": {
      "name": "EAST_dataset.ipynb",
      "provenance": [],
      "collapsed_sections": [
        "QYP_yAGvd05H",
        "T874dqy_dyjf"
      ],
      "toc_visible": true,
      "machine_shape": "hm",
      "include_colab_link": true
    },
    "kernelspec": {
      "name": "python3",
      "display_name": "Python 3"
    },
    "accelerator": "GPU"
  },
  "cells": [
    {
      "cell_type": "markdown",
      "metadata": {
        "id": "view-in-github",
        "colab_type": "text"
      },
      "source": [
        "<a href=\"https://colab.research.google.com/github/kavyajeetbora/EAST/blob/master/EAST_training.ipynb\" target=\"_parent\"><img src=\"https://colab.research.google.com/assets/colab-badge.svg\" alt=\"Open In Colab\"/></a>"
      ]
    },
    {
      "cell_type": "markdown",
      "metadata": {
        "id": "Pyapm5xLqREO",
        "colab_type": "text"
      },
      "source": [
        "##1. Imports"
      ]
    },
    {
      "cell_type": "markdown",
      "metadata": {
        "id": "L2dp5i49ZJGr",
        "colab_type": "text"
      },
      "source": [
        "[**Tasks - Incidental Scene Text**](https://rrc.cvc.uab.es/?ch=4&com=tasks)"
      ]
    },
    {
      "cell_type": "code",
      "metadata": {
        "id": "a6n5wRjEg_RL",
        "colab_type": "code",
        "colab": {}
      },
      "source": [
        "import os\n",
        "import time\n",
        "from PIL import Image\n",
        "from torch.utils.model_zoo import load_url\n",
        "import matplotlib.pyplot as plt\n",
        "import numpy as np\n",
        "import torch\n",
        "import torch.nn as nn\n",
        "from torch.optim import lr_scheduler\n",
        "from torch.utils.data import DataLoader\n",
        "import shutil\n",
        "from google.colab import files\n",
        "from zipfile import ZipFile"
      ],
      "execution_count": 0,
      "outputs": []
    },
    {
      "cell_type": "code",
      "metadata": {
        "id": "SymuHSuqIfGs",
        "colab_type": "code",
        "outputId": "357b7a7d-0fbb-4808-e81e-7767b81ec4ff",
        "colab": {
          "base_uri": "https://localhost:8080/",
          "height": 128
        }
      },
      "source": [
        "from google.colab import drive\n",
        "drive.mount('/content/drive')"
      ],
      "execution_count": 2,
      "outputs": [
        {
          "output_type": "stream",
          "text": [
            "Go to this URL in a browser: https://accounts.google.com/o/oauth2/auth?client_id=947318989803-6bn6qk8qdgf4n4g3pfee6491hc0brc4i.apps.googleusercontent.com&redirect_uri=urn%3aietf%3awg%3aoauth%3a2.0%3aoob&response_type=code&scope=email%20https%3a%2f%2fwww.googleapis.com%2fauth%2fdocs.test%20https%3a%2f%2fwww.googleapis.com%2fauth%2fdrive%20https%3a%2f%2fwww.googleapis.com%2fauth%2fdrive.photos.readonly%20https%3a%2f%2fwww.googleapis.com%2fauth%2fpeopleapi.readonly\n",
            "\n",
            "Enter your authorization code:\n",
            "··········\n",
            "Mounted at /content/drive\n"
          ],
          "name": "stdout"
        }
      ]
    },
    {
      "cell_type": "code",
      "metadata": {
        "id": "NAmisDeYpzym",
        "colab_type": "code",
        "outputId": "966e74c2-fba1-4c9e-b4a7-8f7adc1759a1",
        "colab": {
          "base_uri": "https://localhost:8080/",
          "height": 326
        }
      },
      "source": [
        "%%time\n",
        "%cd ..\n",
        "directory = '/content/cloned-repo'\n",
        "if os.path.exists(directory):\n",
        "  shutil.rmtree(directory)\n",
        "\n",
        "!git clone -l -s git://github.com/kavyajeetbora/EAST.git /content/cloned-repo\n",
        "%cd /content/cloned-repo\n",
        "!ls"
      ],
      "execution_count": 3,
      "outputs": [
        {
          "output_type": "stream",
          "text": [
            "/\n",
            "Cloning into '/content/cloned-repo'...\n",
            "warning: --local is ignored\n",
            "remote: Enumerating objects: 41, done.\u001b[K\n",
            "remote: Counting objects: 100% (41/41), done.\u001b[K\n",
            "remote: Compressing objects: 100% (41/41), done.\u001b[K\n",
            "remote: Total 240 (delta 22), reused 0 (delta 0), pack-reused 199\n",
            "Receiving objects: 100% (240/240), 18.05 MiB | 23.36 MiB/s, done.\n",
            "Resolving deltas: 100% (137/137), done.\n",
            "/content/cloned-repo\n",
            "dataset.py\t\t     EAST_resnet.py\t\t model.py\n",
            "detect.py\t\t     EAST_resnet_training.ipynb  model_resnet.py\n",
            "dsiplay_ground_truth.ipynb   EAST_training.ipynb\t train.py\n",
            "EAST_detection.ipynb\t     EAST_trial_run.ipynb\n",
            "EAST_resnet_detection.ipynb  loss.py\n",
            "CPU times: user 73.3 ms, sys: 20 ms, total: 93.3 ms\n",
            "Wall time: 7.7 s\n"
          ],
          "name": "stdout"
        }
      ]
    },
    {
      "cell_type": "code",
      "metadata": {
        "id": "m8Fmu_OcbvdB",
        "colab_type": "code",
        "colab": {}
      },
      "source": [
        "from dataset import *"
      ],
      "execution_count": 0,
      "outputs": []
    },
    {
      "cell_type": "code",
      "metadata": {
        "id": "ijp224Lm8-KZ",
        "colab_type": "code",
        "colab": {}
      },
      "source": [
        "## unzipping the files\n",
        "from zipfile import ZipFile\n",
        "\n",
        "def unzip_files(file,output_dir):\n",
        "  with ZipFile(file, 'r') as zipObj:\n",
        "    # Extract all the contents of zip file in current directory\n",
        "    zipObj.extractall(output_dir)\n",
        "  print('Extracted to',output_dir)\n",
        "\n",
        "def make_directory(directory):\n",
        "  if os.path.isdir(directory):\n",
        "    shutil.rmtree(directory)\n",
        "  \n",
        "  os.mkdir(directory)\n",
        "  print('Created a new directory')\n",
        "\n",
        "training_data_zip = '/content/drive/My Drive/Colab Notebooks/padh.ai.notebooks/15. Object Detection/AI4Bharat Dataset/Training Set/Random 5000.zip'\n",
        "test_data_zip = '/content/drive/My Drive/Colab Notebooks/padh.ai.notebooks/15. Object Detection/AI4Bharat Dataset/Test Set/real_Image_dataset_Detection.zip'"
      ],
      "execution_count": 0,
      "outputs": []
    },
    {
      "cell_type": "code",
      "metadata": {
        "id": "aS7kthKwbjfd",
        "colab_type": "code",
        "outputId": "d884fd04-2fbe-487c-f97f-fb91403f13e8",
        "colab": {
          "base_uri": "https://localhost:8080/",
          "height": 54
        }
      },
      "source": [
        "# make directories\n",
        "make_directory('Training Set')\n",
        "make_directory('Test Set')"
      ],
      "execution_count": 6,
      "outputs": [
        {
          "output_type": "stream",
          "text": [
            "Created a new directory\n",
            "Created a new directory\n"
          ],
          "name": "stdout"
        }
      ]
    },
    {
      "cell_type": "code",
      "metadata": {
        "id": "DXWhsi3p9KKV",
        "colab_type": "code",
        "outputId": "dfdba3e2-d71d-401f-eaf9-4e921cb1576d",
        "colab": {
          "base_uri": "https://localhost:8080/",
          "height": 72
        }
      },
      "source": [
        "%%time\n",
        "unzip_files(training_data_zip,'Training Set')"
      ],
      "execution_count": 7,
      "outputs": [
        {
          "output_type": "stream",
          "text": [
            "Extracted to Training Set\n",
            "CPU times: user 4.26 s, sys: 1.61 s, total: 5.87 s\n",
            "Wall time: 10.9 s\n"
          ],
          "name": "stdout"
        }
      ]
    },
    {
      "cell_type": "code",
      "metadata": {
        "id": "W8uO23xG9L0l",
        "colab_type": "code",
        "outputId": "76efd79c-14e3-48f6-a6fe-860b01b437e1",
        "colab": {
          "base_uri": "https://localhost:8080/",
          "height": 35
        }
      },
      "source": [
        "image_folder, label_folder = 'Training Set/Images', 'Training Set/Annotations'\n",
        "print(len(os.listdir(image_folder)))"
      ],
      "execution_count": 9,
      "outputs": [
        {
          "output_type": "stream",
          "text": [
            "12500\n"
          ],
          "name": "stdout"
        }
      ]
    },
    {
      "cell_type": "code",
      "metadata": {
        "id": "Wk088caj9OCN",
        "colab_type": "code",
        "outputId": "91ce2ce7-3fcd-49cc-c708-688d9fa07d3f",
        "colab": {
          "base_uri": "https://localhost:8080/",
          "height": 35
        }
      },
      "source": [
        "print(len(os.listdir(label_folder)))"
      ],
      "execution_count": 10,
      "outputs": [
        {
          "output_type": "stream",
          "text": [
            "12500\n"
          ],
          "name": "stdout"
        }
      ]
    },
    {
      "cell_type": "code",
      "metadata": {
        "id": "xB4hqsQXKyc0",
        "colab_type": "code",
        "outputId": "6a2442ef-f2d0-4952-ae94-90f294563bd0",
        "colab": {
          "base_uri": "https://localhost:8080/",
          "height": 35
        }
      },
      "source": [
        "device = torch.device(\"cuda:0\" if torch.cuda.is_available() else \"cpu\")\n",
        "device"
      ],
      "execution_count": 11,
      "outputs": [
        {
          "output_type": "execute_result",
          "data": {
            "text/plain": [
              "device(type='cuda', index=0)"
            ]
          },
          "metadata": {
            "tags": []
          },
          "execution_count": 11
        }
      ]
    },
    {
      "cell_type": "code",
      "metadata": {
        "id": "jSuLu7o3r0oA",
        "colab_type": "code",
        "outputId": "6bc8d6a5-72c0-473b-c2c6-32422401d22c",
        "colab": {
          "base_uri": "https://localhost:8080/",
          "height": 110
        }
      },
      "source": [
        "%%time\n",
        "from model import EAST\n",
        "from loss import Loss\n",
        "\n",
        "model = EAST()\n",
        "pretrained_path = '/content/drive/My Drive/east_vgg16.pth'\n",
        "state_dict = torch.load(pretrained_path)\n",
        "model.load_state_dict(state_dict)\n",
        "criterion = Loss()"
      ],
      "execution_count": 12,
      "outputs": [
        {
          "output_type": "stream",
          "text": [
            "Downloading: \"http://download.pytorch.org/models/vgg16_bn-6c64b313.pth\" to /root/.cache/torch/checkpoints/vgg16_bn-6c64b313.pth\n",
            "100%|██████████| 528M/528M [00:05<00:00, 100MB/s]\n"
          ],
          "name": "stderr"
        },
        {
          "output_type": "stream",
          "text": [
            "CPU times: user 5.11 s, sys: 2.19 s, total: 7.3 s\n",
            "Wall time: 15.4 s\n"
          ],
          "name": "stdout"
        }
      ]
    },
    {
      "cell_type": "markdown",
      "metadata": {
        "id": "03aAZoSGXTLf",
        "colab_type": "text"
      },
      "source": [
        "## Training Full Batch "
      ]
    },
    {
      "cell_type": "code",
      "metadata": {
        "id": "p8AGtWLLKz-v",
        "colab_type": "code",
        "colab": {}
      },
      "source": [
        "torch.cuda.empty_cache()"
      ],
      "execution_count": 0,
      "outputs": []
    },
    {
      "cell_type": "code",
      "metadata": {
        "id": "XeIQGzb6XVa9",
        "colab_type": "code",
        "colab": {}
      },
      "source": [
        "def train(model, train_img_path, train_gt_path, batch_size, lr, epoch_iter, num_workers=4, interval=1):\n",
        "    file_num = len(os.listdir(train_img_path))\n",
        "    print(file_num)\n",
        "    trainset = custom_dataset(train_img_path, train_gt_path)\n",
        "    train_loader = data.DataLoader(trainset, batch_size=batch_size, \\\n",
        "                                   shuffle=True, num_workers=num_workers, drop_last=True)\n",
        "\t\n",
        "    criterion = Loss()\n",
        "    device = torch.device(\"cuda:0\" if torch.cuda.is_available() else \"cpu\")\n",
        "    model.to(device)\n",
        "    optimizer = torch.optim.Adam(model.parameters(), lr=lr, weight_decay=5e-4)\n",
        "    scheduler = lr_scheduler.StepLR(optimizer, step_size=10, gamma=0.8)\n",
        "    loss_curve = []\n",
        "    \n",
        "    for epoch in range(epoch_iter):\n",
        "      model.train()\n",
        "      scheduler.step()\n",
        "      epoch_loss = 0\n",
        "      epoch_time = time.time()\n",
        "      for i, (img, gt_score, gt_geo, ignored_map) in enumerate(train_loader):\n",
        "        start_time = time.time()\n",
        "        img, gt_score, gt_geo, ignored_map = img.to(device), gt_score.to(device), gt_geo.to(device), ignored_map.to(device)\n",
        "        pred_score, pred_geo = model(img)\n",
        "        loss = criterion(gt_score, pred_score, gt_geo, pred_geo, ignored_map)\n",
        "\n",
        "        epoch_loss += loss.item()\n",
        "        optimizer.zero_grad()\n",
        "        loss.backward()\n",
        "        optimizer.step()\n",
        "        \n",
        "        print('Epoch is [{}/{}], mini-batch is [{}/{}], time consumption is {:.8f}, batch_loss is {:.8f}'.format(\\\n",
        "                  epoch+1, epoch_iter, i+1, int(file_num/batch_size), time.time()-start_time, loss.item()))\n",
        "        #break\n",
        "      print('epoch_loss is {:.8f}, epoch_time is {:.8f}'.format(epoch_loss/int(file_num/batch_size), time.time()-epoch_time))\n",
        "      print(time.asctime(time.localtime(time.time())))\n",
        "      print('='*50)\n",
        "      \n",
        "      if (epoch + 1) % interval == 0:\n",
        "        state_dict = model.state_dict()\n",
        "        # replace the weight file\n",
        "        filename = '/content/drive/My Drive/east_vgg16.pth'.format(epoch)\n",
        "        if os.path.exists(filename):\n",
        "          os.unlink(filename)\n",
        "        torch.save(state_dict, '/content/drive/My Drive/east_vgg16.pth'.format(epoch+1))\n",
        "       \n",
        "      ## plotting the loss curve\n",
        "      loss_curve.append(epoch_loss/int(file_num/batch_size))\n",
        "\n",
        "    return loss_curve"
      ],
      "execution_count": 0,
      "outputs": []
    },
    {
      "cell_type": "code",
      "metadata": {
        "id": "pPd8lPc5N7qr",
        "colab_type": "code",
        "outputId": "0125c349-5f92-4c87-94ca-79230c4f463d",
        "colab": {
          "base_uri": "https://localhost:8080/",
          "height": 1000
        }
      },
      "source": [
        "%%time\n",
        "loss_curve = train(model, image_folder, label_folder, batch_size=4, lr=1e-6, epoch_iter=50, interval = 1)"
      ],
      "execution_count": 0,
      "outputs": [
        {
          "output_type": "stream",
          "text": [
            "12500\n"
          ],
          "name": "stdout"
        },
        {
          "output_type": "stream",
          "text": [
            "/usr/local/lib/python3.6/dist-packages/torch/optim/lr_scheduler.py:100: UserWarning: Detected call of `lr_scheduler.step()` before `optimizer.step()`. In PyTorch 1.1.0 and later, you should call them in the opposite order: `optimizer.step()` before `lr_scheduler.step()`.  Failure to do this will result in PyTorch skipping the first value of the learning rate schedule.See more details at https://pytorch.org/docs/stable/optim.html#how-to-adjust-learning-rate\n",
            "  \"https://pytorch.org/docs/stable/optim.html#how-to-adjust-learning-rate\", UserWarning)\n"
          ],
          "name": "stderr"
        },
        {
          "output_type": "stream",
          "text": [
            "classify loss is 0.31946468, angle loss is 0.00989149, iou loss is 0.49718735\n",
            "Epoch is [1/50], mini-batch is [1/3125], time consumption is 0.74125481, batch_loss is 0.91556698\n",
            "classify loss is 0.21654487, angle loss is 0.00222330, iou loss is 0.24338964\n",
            "Epoch is [1/50], mini-batch is [2/3125], time consumption is 0.64377427, batch_loss is 0.48216751\n",
            "classify loss is 0.24531108, angle loss is 0.01147796, iou loss is 0.30267686\n",
            "Epoch is [1/50], mini-batch is [3/3125], time consumption is 0.56446099, batch_loss is 0.66276753\n",
            "classify loss is 0.17713809, angle loss is 0.00208036, iou loss is 0.28900519\n",
            "Epoch is [1/50], mini-batch is [4/3125], time consumption is 0.57907009, batch_loss is 0.48694691\n",
            "classify loss is 0.15282136, angle loss is 0.00215031, iou loss is 0.23484896\n",
            "Epoch is [1/50], mini-batch is [5/3125], time consumption is 0.64170456, batch_loss is 0.40917346\n",
            "classify loss is 0.25133842, angle loss is 0.00791379, iou loss is 0.38021630\n",
            "Epoch is [1/50], mini-batch is [6/3125], time consumption is 0.57152343, batch_loss is 0.71069264\n",
            "classify loss is 0.16707706, angle loss is 0.00336043, iou loss is 0.22377412\n",
            "Epoch is [1/50], mini-batch is [7/3125], time consumption is 0.55198956, batch_loss is 0.42445546\n",
            "classify loss is 0.16888744, angle loss is 0.00408395, iou loss is 0.33078268\n",
            "Epoch is [1/50], mini-batch is [8/3125], time consumption is 0.58660746, batch_loss is 0.54050970\n",
            "classify loss is 0.14540797, angle loss is 0.00302003, iou loss is 0.22076690\n",
            "Epoch is [1/50], mini-batch is [9/3125], time consumption is 0.58711767, batch_loss is 0.39637524\n",
            "classify loss is 0.14924639, angle loss is 0.00457826, iou loss is 0.32761985\n",
            "Epoch is [1/50], mini-batch is [10/3125], time consumption is 0.55113530, batch_loss is 0.52264881\n",
            "classify loss is 0.20518059, angle loss is 0.00576533, iou loss is 0.30098781\n",
            "Epoch is [1/50], mini-batch is [11/3125], time consumption is 0.53835177, batch_loss is 0.56382167\n",
            "classify loss is 0.12866282, angle loss is 0.00271119, iou loss is 0.16566984\n",
            "Epoch is [1/50], mini-batch is [12/3125], time consumption is 0.53367472, batch_loss is 0.32144460\n",
            "classify loss is 0.20384020, angle loss is 0.01009441, iou loss is 0.31548691\n",
            "Epoch is [1/50], mini-batch is [13/3125], time consumption is 0.54497743, batch_loss is 0.62027121\n",
            "classify loss is 0.15132326, angle loss is 0.00939048, iou loss is 0.23152830\n",
            "Epoch is [1/50], mini-batch is [14/3125], time consumption is 0.56328177, batch_loss is 0.47675636\n",
            "classify loss is 0.17937624, angle loss is 0.00098764, iou loss is 0.19872406\n",
            "Epoch is [1/50], mini-batch is [15/3125], time consumption is 0.55070734, batch_loss is 0.38797677\n",
            "classify loss is 0.11989444, angle loss is 0.00207984, iou loss is 0.17011411\n",
            "Epoch is [1/50], mini-batch is [16/3125], time consumption is 0.60896420, batch_loss is 0.31080699\n",
            "classify loss is 0.27181649, angle loss is 0.00767977, iou loss is 0.36028621\n",
            "Epoch is [1/50], mini-batch is [17/3125], time consumption is 0.56650090, batch_loss is 0.70890045\n",
            "classify loss is 0.19647622, angle loss is 0.00362050, iou loss is 0.26530513\n",
            "Epoch is [1/50], mini-batch is [18/3125], time consumption is 0.60384059, batch_loss is 0.49798632\n",
            "classify loss is 0.25263464, angle loss is 0.00211095, iou loss is 0.28080639\n",
            "Epoch is [1/50], mini-batch is [19/3125], time consumption is 0.60014319, batch_loss is 0.55455053\n",
            "classify loss is 0.23051715, angle loss is 0.00450986, iou loss is 0.29795796\n",
            "Epoch is [1/50], mini-batch is [20/3125], time consumption is 0.59937000, batch_loss is 0.57357371\n",
            "classify loss is 0.25243938, angle loss is 0.00634949, iou loss is 0.33661270\n",
            "Epoch is [1/50], mini-batch is [21/3125], time consumption is 0.52900505, batch_loss is 0.65254700\n",
            "classify loss is 0.23431283, angle loss is 0.00402854, iou loss is 0.28940257\n",
            "Epoch is [1/50], mini-batch is [22/3125], time consumption is 0.54017997, batch_loss is 0.56400084\n",
            "classify loss is 0.14365405, angle loss is 0.00340472, iou loss is 0.22920473\n",
            "Epoch is [1/50], mini-batch is [23/3125], time consumption is 0.52760410, batch_loss is 0.40690601\n",
            "classify loss is 0.12492442, angle loss is 0.00090920, iou loss is 0.18794416\n",
            "Epoch is [1/50], mini-batch is [24/3125], time consumption is 0.55545664, batch_loss is 0.32196063\n",
            "classify loss is 0.23318863, angle loss is 0.00451173, iou loss is 0.26793924\n",
            "Epoch is [1/50], mini-batch is [25/3125], time consumption is 0.59329295, batch_loss is 0.54624516\n",
            "classify loss is 0.22012061, angle loss is 0.00348561, iou loss is 0.42206863\n",
            "Epoch is [1/50], mini-batch is [26/3125], time consumption is 0.58563089, batch_loss is 0.67704529\n",
            "classify loss is 0.18531734, angle loss is 0.01570089, iou loss is 0.25235930\n",
            "Epoch is [1/50], mini-batch is [27/3125], time consumption is 0.55848050, batch_loss is 0.59468555\n",
            "classify loss is 0.15851688, angle loss is 0.00297977, iou loss is 0.19478931\n",
            "Epoch is [1/50], mini-batch is [28/3125], time consumption is 0.59878564, batch_loss is 0.38310388\n",
            "classify loss is 0.33422017, angle loss is 0.03139179, iou loss is 0.47891843\n",
            "Epoch is [1/50], mini-batch is [29/3125], time consumption is 0.54641390, batch_loss is 1.12705660\n",
            "classify loss is 0.34039986, angle loss is 0.02039160, iou loss is 0.39561105\n",
            "Epoch is [1/50], mini-batch is [30/3125], time consumption is 0.56339598, batch_loss is 0.93992686\n",
            "classify loss is 0.20320708, angle loss is 0.00341773, iou loss is 0.35918525\n",
            "Epoch is [1/50], mini-batch is [31/3125], time consumption is 0.54557467, batch_loss is 0.59656966\n",
            "classify loss is 0.18549103, angle loss is 0.00549325, iou loss is 0.27193344\n",
            "Epoch is [1/50], mini-batch is [32/3125], time consumption is 0.59650493, batch_loss is 0.51235700\n",
            "classify loss is 0.29677349, angle loss is 0.00131244, iou loss is 0.24200949\n",
            "Epoch is [1/50], mini-batch is [33/3125], time consumption is 0.55381536, batch_loss is 0.55190742\n",
            "classify loss is 0.21986836, angle loss is 0.01266652, iou loss is 0.38196966\n",
            "Epoch is [1/50], mini-batch is [34/3125], time consumption is 0.54419732, batch_loss is 0.72850323\n",
            "classify loss is 0.22072369, angle loss is 0.00300008, iou loss is 0.33904323\n",
            "Epoch is [1/50], mini-batch is [35/3125], time consumption is 0.58310342, batch_loss is 0.58976775\n",
            "classify loss is 0.38026720, angle loss is 0.00433012, iou loss is 0.29114857\n",
            "Epoch is [1/50], mini-batch is [36/3125], time consumption is 0.54555583, batch_loss is 0.71471697\n",
            "classify loss is 0.24335635, angle loss is 0.00268240, iou loss is 0.37775269\n",
            "Epoch is [1/50], mini-batch is [37/3125], time consumption is 0.55986595, batch_loss is 0.64793301\n",
            "classify loss is 0.19274044, angle loss is 0.00807601, iou loss is 0.23357639\n",
            "Epoch is [1/50], mini-batch is [38/3125], time consumption is 0.54799867, batch_loss is 0.50707686\n",
            "classify loss is 0.14045757, angle loss is 0.00240556, iou loss is 0.19961391\n",
            "Epoch is [1/50], mini-batch is [39/3125], time consumption is 0.55629897, batch_loss is 0.36412704\n",
            "classify loss is 0.11616784, angle loss is 0.00273930, iou loss is 0.21524639\n",
            "Epoch is [1/50], mini-batch is [40/3125], time consumption is 0.55906415, batch_loss is 0.35880727\n",
            "classify loss is 0.15784460, angle loss is 0.00443588, iou loss is 0.20180295\n",
            "Epoch is [1/50], mini-batch is [41/3125], time consumption is 0.56651926, batch_loss is 0.40400639\n",
            "classify loss is 0.09879547, angle loss is 0.00148990, iou loss is 0.11487667\n",
            "Epoch is [1/50], mini-batch is [42/3125], time consumption is 0.52706075, batch_loss is 0.22857118\n",
            "classify loss is 0.13399965, angle loss is 0.00069499, iou loss is 0.19545445\n",
            "Epoch is [1/50], mini-batch is [43/3125], time consumption is 0.57923484, batch_loss is 0.33640397\n",
            "classify loss is 0.26356441, angle loss is 0.00449512, iou loss is 0.32520115\n",
            "Epoch is [1/50], mini-batch is [44/3125], time consumption is 0.56354713, batch_loss is 0.63371670\n",
            "classify loss is 0.13181299, angle loss is 0.00187943, iou loss is 0.16621816\n",
            "Epoch is [1/50], mini-batch is [45/3125], time consumption is 0.57021356, batch_loss is 0.31682545\n",
            "classify loss is 0.20141387, angle loss is 0.00969405, iou loss is 0.30035782\n",
            "Epoch is [1/50], mini-batch is [46/3125], time consumption is 0.57326007, batch_loss is 0.59871221\n",
            "classify loss is 0.13514197, angle loss is 0.00298520, iou loss is 0.19194801\n",
            "Epoch is [1/50], mini-batch is [47/3125], time consumption is 0.52828336, batch_loss is 0.35694197\n",
            "classify loss is 0.18318212, angle loss is 0.00173738, iou loss is 0.20893000\n",
            "Epoch is [1/50], mini-batch is [48/3125], time consumption is 0.56656551, batch_loss is 0.40948588\n",
            "classify loss is 0.12528235, angle loss is 0.00159314, iou loss is 0.25605810\n",
            "Epoch is [1/50], mini-batch is [49/3125], time consumption is 0.56995273, batch_loss is 0.39727187\n",
            "classify loss is 0.20229685, angle loss is 0.00344842, iou loss is 0.26370856\n",
            "Epoch is [1/50], mini-batch is [50/3125], time consumption is 0.61535096, batch_loss is 0.50048965\n",
            "classify loss is 0.16068453, angle loss is 0.00524888, iou loss is 0.23105063\n",
            "Epoch is [1/50], mini-batch is [51/3125], time consumption is 0.63253856, batch_loss is 0.44422397\n",
            "classify loss is 0.14808667, angle loss is 0.00142930, iou loss is 0.17633772\n",
            "Epoch is [1/50], mini-batch is [52/3125], time consumption is 0.58402014, batch_loss is 0.33871737\n",
            "classify loss is 0.15758216, angle loss is 0.00353461, iou loss is 0.20343406\n",
            "Epoch is [1/50], mini-batch is [53/3125], time consumption is 0.57533383, batch_loss is 0.39636236\n",
            "classify loss is 0.24698782, angle loss is 0.01588245, iou loss is 0.29858023\n",
            "Epoch is [1/50], mini-batch is [54/3125], time consumption is 0.59189248, batch_loss is 0.70439255\n",
            "classify loss is 0.20107931, angle loss is 0.00413687, iou loss is 0.26508915\n",
            "Epoch is [1/50], mini-batch is [55/3125], time consumption is 0.54957032, batch_loss is 0.50753713\n",
            "classify loss is 0.20872289, angle loss is 0.00431118, iou loss is 0.36754385\n",
            "Epoch is [1/50], mini-batch is [56/3125], time consumption is 0.53341866, batch_loss is 0.61937845\n",
            "classify loss is 0.16233701, angle loss is 0.00125577, iou loss is 0.18846597\n",
            "Epoch is [1/50], mini-batch is [57/3125], time consumption is 0.53745818, batch_loss is 0.36336064\n",
            "classify loss is 0.68099487, angle loss is 0.00564194, iou loss is 0.57560635\n",
            "Epoch is [1/50], mini-batch is [58/3125], time consumption is 0.56657171, batch_loss is 1.31302071\n",
            "classify loss is 0.12535810, angle loss is 0.00112348, iou loss is 0.20874587\n",
            "Epoch is [1/50], mini-batch is [59/3125], time consumption is 0.54293180, batch_loss is 0.34533873\n",
            "classify loss is 0.20544499, angle loss is 0.00523048, iou loss is 0.27214053\n",
            "Epoch is [1/50], mini-batch is [60/3125], time consumption is 0.60574079, batch_loss is 0.52989030\n",
            "classify loss is 0.45641309, angle loss is 0.00984437, iou loss is 0.63683861\n",
            "Epoch is [1/50], mini-batch is [61/3125], time consumption is 0.56438017, batch_loss is 1.19169545\n",
            "classify loss is 0.20557803, angle loss is 0.00293097, iou loss is 0.26154953\n",
            "Epoch is [1/50], mini-batch is [62/3125], time consumption is 0.56248927, batch_loss is 0.49643728\n",
            "classify loss is 0.12753040, angle loss is 0.00075483, iou loss is 0.15914960\n",
            "Epoch is [1/50], mini-batch is [63/3125], time consumption is 0.54934716, batch_loss is 0.29422829\n",
            "classify loss is 0.27985221, angle loss is 0.00057162, iou loss is 0.20447342\n",
            "Epoch is [1/50], mini-batch is [64/3125], time consumption is 0.55501485, batch_loss is 0.49004185\n",
            "classify loss is 0.11423326, angle loss is 0.00134305, iou loss is 0.17204720\n",
            "Epoch is [1/50], mini-batch is [65/3125], time consumption is 0.53830862, batch_loss is 0.29971099\n",
            "classify loss is 0.21653205, angle loss is 0.03105132, iou loss is 0.38189223\n",
            "Epoch is [1/50], mini-batch is [66/3125], time consumption is 0.56332207, batch_loss is 0.90893751\n",
            "classify loss is 0.20030916, angle loss is 0.00208817, iou loss is 0.32921046\n",
            "Epoch is [1/50], mini-batch is [67/3125], time consumption is 0.55055809, batch_loss is 0.55040133\n",
            "classify loss is 0.23978263, angle loss is 0.00404191, iou loss is 0.29476345\n",
            "Epoch is [1/50], mini-batch is [68/3125], time consumption is 0.57278156, batch_loss is 0.57496518\n",
            "classify loss is 0.15310067, angle loss is 0.00257137, iou loss is 0.26955816\n",
            "Epoch is [1/50], mini-batch is [69/3125], time consumption is 0.58203888, batch_loss is 0.44837251\n",
            "classify loss is 0.16984111, angle loss is 0.00321738, iou loss is 0.31337631\n",
            "Epoch is [1/50], mini-batch is [70/3125], time consumption is 0.57912517, batch_loss is 0.51539123\n",
            "classify loss is 0.21501833, angle loss is 0.00772698, iou loss is 0.29191756\n",
            "Epoch is [1/50], mini-batch is [71/3125], time consumption is 0.58883882, batch_loss is 0.58420569\n",
            "classify loss is 0.18796194, angle loss is 0.00858609, iou loss is 0.21760350\n",
            "Epoch is [1/50], mini-batch is [72/3125], time consumption is 0.55327654, batch_loss is 0.49142635\n",
            "classify loss is 0.14358044, angle loss is 0.00205856, iou loss is 0.19922757\n",
            "Epoch is [1/50], mini-batch is [73/3125], time consumption is 0.58295655, batch_loss is 0.36339363\n",
            "classify loss is 0.18630928, angle loss is 0.00224044, iou loss is 0.30119354\n",
            "Epoch is [1/50], mini-batch is [74/3125], time consumption is 0.59285307, batch_loss is 0.50990725\n",
            "classify loss is 0.18650067, angle loss is 0.00371053, iou loss is 0.20310865\n",
            "Epoch is [1/50], mini-batch is [75/3125], time consumption is 0.68962336, batch_loss is 0.42671466\n",
            "classify loss is 0.24798894, angle loss is 0.00129850, iou loss is 0.33581558\n",
            "Epoch is [1/50], mini-batch is [76/3125], time consumption is 0.59570479, batch_loss is 0.59678960\n",
            "classify loss is 0.27083749, angle loss is 0.04388758, iou loss is 0.40641549\n",
            "Epoch is [1/50], mini-batch is [77/3125], time consumption is 0.57663417, batch_loss is 1.11612880\n",
            "classify loss is 0.19253439, angle loss is 0.00209651, iou loss is 0.27542180\n",
            "Epoch is [1/50], mini-batch is [78/3125], time consumption is 0.60749912, batch_loss is 0.48892128\n",
            "classify loss is 0.16344255, angle loss is 0.00132692, iou loss is 0.27028480\n",
            "Epoch is [1/50], mini-batch is [79/3125], time consumption is 0.62887144, batch_loss is 0.44699657\n",
            "classify loss is 0.14566171, angle loss is 0.00580014, iou loss is 0.25070778\n",
            "Epoch is [1/50], mini-batch is [80/3125], time consumption is 0.60019898, batch_loss is 0.45437092\n",
            "classify loss is 0.24770397, angle loss is 0.01763312, iou loss is 0.47048864\n",
            "Epoch is [1/50], mini-batch is [81/3125], time consumption is 0.60063624, batch_loss is 0.89452380\n",
            "classify loss is 0.20994204, angle loss is 0.00235955, iou loss is 0.39546755\n",
            "Epoch is [1/50], mini-batch is [82/3125], time consumption is 0.55239916, batch_loss is 0.62900507\n",
            "classify loss is 0.22603703, angle loss is 0.00504006, iou loss is 0.28663862\n",
            "Epoch is [1/50], mini-batch is [83/3125], time consumption is 0.53504276, batch_loss is 0.56307626\n",
            "classify loss is 0.20431262, angle loss is 0.00240085, iou loss is 0.29833350\n",
            "Epoch is [1/50], mini-batch is [84/3125], time consumption is 0.59743261, batch_loss is 0.52665460\n",
            "classify loss is 0.19135296, angle loss is 0.00348354, iou loss is 0.28152007\n",
            "Epoch is [1/50], mini-batch is [85/3125], time consumption is 0.56101871, batch_loss is 0.50770843\n",
            "classify loss is 0.16771209, angle loss is 0.00185227, iou loss is 0.26179174\n",
            "Epoch is [1/50], mini-batch is [86/3125], time consumption is 0.61132002, batch_loss is 0.44802648\n",
            "classify loss is 0.13194156, angle loss is 0.00202171, iou loss is 0.17503768\n",
            "Epoch is [1/50], mini-batch is [87/3125], time consumption is 0.58741093, batch_loss is 0.32719630\n",
            "classify loss is 0.16915983, angle loss is 0.00794037, iou loss is 0.20524456\n",
            "Epoch is [1/50], mini-batch is [88/3125], time consumption is 0.55435944, batch_loss is 0.45380810\n",
            "classify loss is 0.17508787, angle loss is 0.00173508, iou loss is 0.33464223\n",
            "Epoch is [1/50], mini-batch is [89/3125], time consumption is 0.61046648, batch_loss is 0.52708095\n",
            "classify loss is 0.13585722, angle loss is 0.00168757, iou loss is 0.24201789\n",
            "Epoch is [1/50], mini-batch is [90/3125], time consumption is 0.57360673, batch_loss is 0.39475083\n",
            "classify loss is 0.16049337, angle loss is 0.00373522, iou loss is 0.24656361\n",
            "Epoch is [1/50], mini-batch is [91/3125], time consumption is 0.57494855, batch_loss is 0.44440919\n",
            "classify loss is 0.14044923, angle loss is 0.00050380, iou loss is 0.17471962\n",
            "Epoch is [1/50], mini-batch is [92/3125], time consumption is 0.59164238, batch_loss is 0.32020688\n",
            "classify loss is 0.22715980, angle loss is 0.01311966, iou loss is 0.33332276\n",
            "Epoch is [1/50], mini-batch is [93/3125], time consumption is 0.62653828, batch_loss is 0.69167912\n",
            "classify loss is 0.23242140, angle loss is 0.00371691, iou loss is 0.31568849\n",
            "Epoch is [1/50], mini-batch is [94/3125], time consumption is 0.54577136, batch_loss is 0.58527899\n",
            "classify loss is 0.25686306, angle loss is 0.01383236, iou loss is 0.30982867\n",
            "Epoch is [1/50], mini-batch is [95/3125], time consumption is 0.56754255, batch_loss is 0.70501530\n",
            "classify loss is 0.41001171, angle loss is 0.01256907, iou loss is 0.46823794\n",
            "Epoch is [1/50], mini-batch is [96/3125], time consumption is 0.57230783, batch_loss is 1.00394034\n",
            "classify loss is 0.14993036, angle loss is 0.00482350, iou loss is 0.22948009\n",
            "Epoch is [1/50], mini-batch is [97/3125], time consumption is 0.54539824, batch_loss is 0.42764544\n",
            "classify loss is 0.13799709, angle loss is 0.00144543, iou loss is 0.18488109\n",
            "Epoch is [1/50], mini-batch is [98/3125], time consumption is 0.57024693, batch_loss is 0.33733246\n",
            "classify loss is 0.22474140, angle loss is 0.01011233, iou loss is 0.28946170\n",
            "Epoch is [1/50], mini-batch is [99/3125], time consumption is 0.58779311, batch_loss is 0.61532640\n",
            "classify loss is 0.29706532, angle loss is 0.01595599, iou loss is 0.47083443\n",
            "Epoch is [1/50], mini-batch is [100/3125], time consumption is 0.55693746, batch_loss is 0.92745966\n",
            "classify loss is 0.16519129, angle loss is 0.00273644, iou loss is 0.28443307\n",
            "Epoch is [1/50], mini-batch is [101/3125], time consumption is 0.59124303, batch_loss is 0.47698873\n",
            "classify loss is 0.25950247, angle loss is 0.00274463, iou loss is 0.28473857\n",
            "Epoch is [1/50], mini-batch is [102/3125], time consumption is 0.56971669, batch_loss is 0.57168728\n",
            "classify loss is 0.18542445, angle loss is 0.00338911, iou loss is 0.21819323\n",
            "Epoch is [1/50], mini-batch is [103/3125], time consumption is 0.60658336, batch_loss is 0.43750879\n",
            "classify loss is 0.24283963, angle loss is 0.00578749, iou loss is 0.28958005\n",
            "Epoch is [1/50], mini-batch is [104/3125], time consumption is 0.53600812, batch_loss is 0.59029460\n",
            "classify loss is 0.13631874, angle loss is 0.00166853, iou loss is 0.17219301\n",
            "Epoch is [1/50], mini-batch is [105/3125], time consumption is 0.59167576, batch_loss is 0.32519710\n",
            "classify loss is 0.13739926, angle loss is 0.00161591, iou loss is 0.16401458\n",
            "Epoch is [1/50], mini-batch is [106/3125], time consumption is 0.59133506, batch_loss is 0.31757292\n",
            "classify loss is 0.18242180, angle loss is 0.00455972, iou loss is 0.22159845\n",
            "Epoch is [1/50], mini-batch is [107/3125], time consumption is 0.60028028, batch_loss is 0.44961748\n",
            "classify loss is 0.20179713, angle loss is 0.00249081, iou loss is 0.22246334\n",
            "Epoch is [1/50], mini-batch is [108/3125], time consumption is 0.55522466, batch_loss is 0.44916853\n",
            "classify loss is 0.23071206, angle loss is 0.00729764, iou loss is 0.25258526\n",
            "Epoch is [1/50], mini-batch is [109/3125], time consumption is 0.57465148, batch_loss is 0.55627370\n",
            "classify loss is 0.23339325, angle loss is 0.00679692, iou loss is 0.31377792\n",
            "Epoch is [1/50], mini-batch is [110/3125], time consumption is 0.55288100, batch_loss is 0.61514032\n",
            "classify loss is 0.16204309, angle loss is 0.00161105, iou loss is 0.22162795\n",
            "Epoch is [1/50], mini-batch is [111/3125], time consumption is 0.58638215, batch_loss is 0.39978158\n",
            "classify loss is 0.15862310, angle loss is 0.00592540, iou loss is 0.26033354\n",
            "Epoch is [1/50], mini-batch is [112/3125], time consumption is 0.62108111, batch_loss is 0.47821069\n",
            "classify loss is 0.38398856, angle loss is 0.01789574, iou loss is 0.53706354\n",
            "Epoch is [1/50], mini-batch is [113/3125], time consumption is 0.55818176, batch_loss is 1.10000944\n",
            "classify loss is 0.18627393, angle loss is 0.01018667, iou loss is 0.29720461\n",
            "Epoch is [1/50], mini-batch is [114/3125], time consumption is 0.61655664, batch_loss is 0.58534527\n",
            "classify loss is 0.15359432, angle loss is 0.00205654, iou loss is 0.15492216\n",
            "Epoch is [1/50], mini-batch is [115/3125], time consumption is 0.59441876, batch_loss is 0.32908189\n",
            "classify loss is 0.22282809, angle loss is 0.00375204, iou loss is 0.36512277\n",
            "Epoch is [1/50], mini-batch is [116/3125], time consumption is 0.59296870, batch_loss is 0.62547129\n",
            "classify loss is 0.18577331, angle loss is 0.00310903, iou loss is 0.28577235\n",
            "Epoch is [1/50], mini-batch is [117/3125], time consumption is 0.58609438, batch_loss is 0.50263596\n",
            "classify loss is 0.15273100, angle loss is 0.00132160, iou loss is 0.20593722\n",
            "Epoch is [1/50], mini-batch is [118/3125], time consumption is 0.53959799, batch_loss is 0.37188417\n",
            "classify loss is 0.29860765, angle loss is 0.01736200, iou loss is 1.08107924\n",
            "Epoch is [1/50], mini-batch is [119/3125], time consumption is 0.57329226, batch_loss is 1.55330682\n",
            "classify loss is 0.19748759, angle loss is 0.00266888, iou loss is 0.26224014\n",
            "Epoch is [1/50], mini-batch is [120/3125], time consumption is 0.53749108, batch_loss is 0.48641652\n",
            "classify loss is 0.17131460, angle loss is 0.00333231, iou loss is 0.25072950\n",
            "Epoch is [1/50], mini-batch is [121/3125], time consumption is 0.60534310, batch_loss is 0.45536724\n",
            "classify loss is 0.11845058, angle loss is 0.00204461, iou loss is 0.16289039\n",
            "Epoch is [1/50], mini-batch is [122/3125], time consumption is 0.66047430, batch_loss is 0.30178708\n",
            "classify loss is 0.20548773, angle loss is 0.00338794, iou loss is 0.33518836\n",
            "Epoch is [1/50], mini-batch is [123/3125], time consumption is 0.56123567, batch_loss is 0.57455552\n",
            "classify loss is 0.31541038, angle loss is 0.01704902, iou loss is 0.51774532\n",
            "Epoch is [1/50], mini-batch is [124/3125], time consumption is 0.61761022, batch_loss is 1.00364590\n",
            "classify loss is 0.16255742, angle loss is 0.00248403, iou loss is 0.25999489\n",
            "Epoch is [1/50], mini-batch is [125/3125], time consumption is 0.63237047, batch_loss is 0.44739258\n",
            "classify loss is 0.17474848, angle loss is 0.00227385, iou loss is 0.28863978\n",
            "Epoch is [1/50], mini-batch is [126/3125], time consumption is 0.58746481, batch_loss is 0.48612678\n",
            "classify loss is 0.11444992, angle loss is 0.00321266, iou loss is 0.29160902\n",
            "Epoch is [1/50], mini-batch is [127/3125], time consumption is 0.56457448, batch_loss is 0.43818551\n",
            "classify loss is 0.17009372, angle loss is 0.00271074, iou loss is 0.27949268\n",
            "Epoch is [1/50], mini-batch is [128/3125], time consumption is 0.58160400, batch_loss is 0.47669375\n",
            "classify loss is 0.22054768, angle loss is 0.00961968, iou loss is 0.31926155\n",
            "Epoch is [1/50], mini-batch is [129/3125], time consumption is 0.58835411, batch_loss is 0.63600600\n",
            "classify loss is 0.13404864, angle loss is 0.00127369, iou loss is 0.18249273\n",
            "Epoch is [1/50], mini-batch is [130/3125], time consumption is 0.61338377, batch_loss is 0.32927826\n",
            "classify loss is 0.16688621, angle loss is 0.00353788, iou loss is 0.25993648\n",
            "Epoch is [1/50], mini-batch is [131/3125], time consumption is 0.55704761, batch_loss is 0.46220148\n",
            "classify loss is 0.19609469, angle loss is 0.01296453, iou loss is 0.29166669\n",
            "Epoch is [1/50], mini-batch is [132/3125], time consumption is 0.54430866, batch_loss is 0.61740667\n",
            "classify loss is 0.16030973, angle loss is 0.00220988, iou loss is 0.27249560\n",
            "Epoch is [1/50], mini-batch is [133/3125], time consumption is 0.56613183, batch_loss is 0.45490417\n",
            "classify loss is 0.19933641, angle loss is 0.01897856, iou loss is 0.33611688\n",
            "Epoch is [1/50], mini-batch is [134/3125], time consumption is 0.55639815, batch_loss is 0.72523892\n",
            "classify loss is 0.30063635, angle loss is 0.00479424, iou loss is 0.40438592\n",
            "Epoch is [1/50], mini-batch is [135/3125], time consumption is 0.56815529, batch_loss is 0.75296468\n",
            "classify loss is 0.18172407, angle loss is 0.00135769, iou loss is 0.23596951\n",
            "Epoch is [1/50], mini-batch is [136/3125], time consumption is 0.55040169, batch_loss is 0.43127048\n",
            "classify loss is 0.24000919, angle loss is 0.00667553, iou loss is 0.33803603\n",
            "Epoch is [1/50], mini-batch is [137/3125], time consumption is 0.56404018, batch_loss is 0.64480054\n",
            "classify loss is 0.18701500, angle loss is 0.00659609, iou loss is 0.28342658\n",
            "Epoch is [1/50], mini-batch is [138/3125], time consumption is 0.54786587, batch_loss is 0.53640252\n",
            "classify loss is 0.31890637, angle loss is 0.02297116, iou loss is 0.39396885\n",
            "Epoch is [1/50], mini-batch is [139/3125], time consumption is 0.56839967, batch_loss is 0.94258684\n",
            "classify loss is 0.62362373, angle loss is 0.00702450, iou loss is 0.41783789\n",
            "Epoch is [1/50], mini-batch is [140/3125], time consumption is 0.56598687, batch_loss is 1.11170661\n",
            "classify loss is 0.27923393, angle loss is 0.00237540, iou loss is 0.31384280\n",
            "Epoch is [1/50], mini-batch is [141/3125], time consumption is 0.54555082, batch_loss is 0.61683071\n",
            "classify loss is 0.17974073, angle loss is 0.00147176, iou loss is 0.22844213\n",
            "Epoch is [1/50], mini-batch is [142/3125], time consumption is 0.54772210, batch_loss is 0.42290044\n",
            "classify loss is 0.23608422, angle loss is 0.02153030, iou loss is 0.25787476\n",
            "Epoch is [1/50], mini-batch is [143/3125], time consumption is 0.56054640, batch_loss is 0.70926201\n",
            "classify loss is 0.23880666, angle loss is 0.01307922, iou loss is 0.33673826\n",
            "Epoch is [1/50], mini-batch is [144/3125], time consumption is 0.59192991, batch_loss is 0.70633709\n",
            "classify loss is 0.20568943, angle loss is 0.00154617, iou loss is 0.25632411\n",
            "Epoch is [1/50], mini-batch is [145/3125], time consumption is 0.54603505, batch_loss is 0.47747523\n",
            "classify loss is 0.16141379, angle loss is 0.00376242, iou loss is 0.24548393\n",
            "Epoch is [1/50], mini-batch is [146/3125], time consumption is 0.60533190, batch_loss is 0.44452187\n",
            "classify loss is 0.24062043, angle loss is 0.00855416, iou loss is 0.31428140\n",
            "Epoch is [1/50], mini-batch is [147/3125], time consumption is 0.58909392, batch_loss is 0.64044344\n",
            "classify loss is 0.24247360, angle loss is 0.00474418, iou loss is 0.33990154\n",
            "Epoch is [1/50], mini-batch is [148/3125], time consumption is 0.55288315, batch_loss is 0.62981689\n",
            "classify loss is 0.14738476, angle loss is 0.00253591, iou loss is 0.18823263\n",
            "Epoch is [1/50], mini-batch is [149/3125], time consumption is 0.57583380, batch_loss is 0.36097646\n",
            "classify loss is 0.21063864, angle loss is 0.00122481, iou loss is 0.22831839\n",
            "Epoch is [1/50], mini-batch is [150/3125], time consumption is 0.61065793, batch_loss is 0.45120507\n",
            "classify loss is 0.19956619, angle loss is 0.00753699, iou loss is 0.29897678\n",
            "Epoch is [1/50], mini-batch is [151/3125], time consumption is 0.56690216, batch_loss is 0.57391286\n",
            "classify loss is 0.29895359, angle loss is 0.04110680, iou loss is 0.58383012\n",
            "Epoch is [1/50], mini-batch is [152/3125], time consumption is 0.58876252, batch_loss is 1.29385161\n",
            "classify loss is 0.22299737, angle loss is 0.00270894, iou loss is 0.24596258\n",
            "Epoch is [1/50], mini-batch is [153/3125], time consumption is 0.56210542, batch_loss is 0.49604931\n",
            "classify loss is 0.13196057, angle loss is 0.00178253, iou loss is 0.18050537\n",
            "Epoch is [1/50], mini-batch is [154/3125], time consumption is 0.55585957, batch_loss is 0.33029127\n",
            "classify loss is 0.19686812, angle loss is 0.00615709, iou loss is 0.26661974\n",
            "Epoch is [1/50], mini-batch is [155/3125], time consumption is 0.60101914, batch_loss is 0.52505875\n",
            "classify loss is 0.27952206, angle loss is 0.01247272, iou loss is 0.39009321\n",
            "Epoch is [1/50], mini-batch is [156/3125], time consumption is 0.55899763, batch_loss is 0.79434240\n",
            "classify loss is 0.28919470, angle loss is 0.00172439, iou loss is 0.36373729\n",
            "Epoch is [1/50], mini-batch is [157/3125], time consumption is 0.62779784, batch_loss is 0.67017591\n",
            "classify loss is 0.15379769, angle loss is 0.00266936, iou loss is 0.19050249\n",
            "Epoch is [1/50], mini-batch is [158/3125], time consumption is 0.57882547, batch_loss is 0.37099382\n",
            "classify loss is 0.26213193, angle loss is 0.02988154, iou loss is 0.50418764\n",
            "Epoch is [1/50], mini-batch is [159/3125], time consumption is 0.58501577, batch_loss is 1.06513500\n",
            "classify loss is 0.21944058, angle loss is 0.00213902, iou loss is 0.25307819\n",
            "Epoch is [1/50], mini-batch is [160/3125], time consumption is 0.57647824, batch_loss is 0.49390900\n",
            "classify loss is 0.14662504, angle loss is 0.00094073, iou loss is 0.19247325\n",
            "Epoch is [1/50], mini-batch is [161/3125], time consumption is 0.55524015, batch_loss is 0.34850556\n",
            "classify loss is 0.27551138, angle loss is 0.03045266, iou loss is 0.47797969\n",
            "Epoch is [1/50], mini-batch is [162/3125], time consumption is 0.56990170, batch_loss is 1.05801773\n",
            "classify loss is 0.16408443, angle loss is 0.00456175, iou loss is 0.21419117\n",
            "Epoch is [1/50], mini-batch is [163/3125], time consumption is 0.57660079, batch_loss is 0.42389309\n",
            "classify loss is 0.33071327, angle loss is 0.01298037, iou loss is 0.44853136\n",
            "Epoch is [1/50], mini-batch is [164/3125], time consumption is 0.53973198, batch_loss is 0.90904832\n",
            "classify loss is 0.25298357, angle loss is 0.02926972, iou loss is 0.32960770\n",
            "Epoch is [1/50], mini-batch is [165/3125], time consumption is 0.57569003, batch_loss is 0.87528849\n",
            "classify loss is 0.33050251, angle loss is 0.00927005, iou loss is 0.46918461\n",
            "Epoch is [1/50], mini-batch is [166/3125], time consumption is 0.59606028, batch_loss is 0.89238763\n",
            "classify loss is 0.15838027, angle loss is 0.00466271, iou loss is 0.22083977\n",
            "Epoch is [1/50], mini-batch is [167/3125], time consumption is 0.54791856, batch_loss is 0.42584717\n",
            "classify loss is 0.13265467, angle loss is 0.00221181, iou loss is 0.19682263\n",
            "Epoch is [1/50], mini-batch is [168/3125], time consumption is 0.54697990, batch_loss is 0.35159537\n",
            "classify loss is 0.29092240, angle loss is 0.00413143, iou loss is 0.40631962\n",
            "Epoch is [1/50], mini-batch is [169/3125], time consumption is 0.59594321, batch_loss is 0.73855627\n",
            "classify loss is 0.20772624, angle loss is 0.00466824, iou loss is 0.30138403\n",
            "Epoch is [1/50], mini-batch is [170/3125], time consumption is 0.58392286, batch_loss is 0.55579263\n",
            "classify loss is 0.28997731, angle loss is 0.01302557, iou loss is 0.45940471\n",
            "Epoch is [1/50], mini-batch is [171/3125], time consumption is 0.57634091, batch_loss is 0.87963772\n",
            "classify loss is 0.11751699, angle loss is 0.00291120, iou loss is 0.21456067\n",
            "Epoch is [1/50], mini-batch is [172/3125], time consumption is 0.57497525, batch_loss is 0.36118966\n",
            "classify loss is 0.18739158, angle loss is 0.01278929, iou loss is 0.25188082\n",
            "Epoch is [1/50], mini-batch is [173/3125], time consumption is 0.55473423, batch_loss is 0.56716532\n",
            "classify loss is 0.20203453, angle loss is 0.00192774, iou loss is 0.26015696\n",
            "Epoch is [1/50], mini-batch is [174/3125], time consumption is 0.57644868, batch_loss is 0.48146892\n",
            "classify loss is 0.14158571, angle loss is 0.00143027, iou loss is 0.18808252\n",
            "Epoch is [1/50], mini-batch is [175/3125], time consumption is 0.53209782, batch_loss is 0.34397089\n",
            "classify loss is 0.21721208, angle loss is 0.00148932, iou loss is 0.27902475\n",
            "Epoch is [1/50], mini-batch is [176/3125], time consumption is 0.56172490, batch_loss is 0.51113003\n",
            "classify loss is 0.18073928, angle loss is 0.00471003, iou loss is 0.23178716\n",
            "Epoch is [1/50], mini-batch is [177/3125], time consumption is 0.58716226, batch_loss is 0.45962679\n",
            "classify loss is 0.18303293, angle loss is 0.00413303, iou loss is 0.33902133\n",
            "Epoch is [1/50], mini-batch is [178/3125], time consumption is 0.53704071, batch_loss is 0.56338453\n",
            "classify loss is 0.16220540, angle loss is 0.00128121, iou loss is 0.19594301\n",
            "Epoch is [1/50], mini-batch is [179/3125], time consumption is 0.55744910, batch_loss is 0.37096053\n",
            "classify loss is 0.14159906, angle loss is 0.00277656, iou loss is 0.18308926\n",
            "Epoch is [1/50], mini-batch is [180/3125], time consumption is 0.59197068, batch_loss is 0.35245395\n",
            "classify loss is 0.28143060, angle loss is 0.00656610, iou loss is 0.40515140\n",
            "Epoch is [1/50], mini-batch is [181/3125], time consumption is 0.57849455, batch_loss is 0.75224304\n",
            "classify loss is 0.42003381, angle loss is 0.00411028, iou loss is 0.89983016\n",
            "Epoch is [1/50], mini-batch is [182/3125], time consumption is 0.58831215, batch_loss is 1.36096668\n",
            "classify loss is 0.17999667, angle loss is 0.00567855, iou loss is 0.25264481\n",
            "Epoch is [1/50], mini-batch is [183/3125], time consumption is 0.54895997, batch_loss is 0.48942700\n",
            "classify loss is 0.20352614, angle loss is 0.00596912, iou loss is 0.30306545\n",
            "Epoch is [1/50], mini-batch is [184/3125], time consumption is 0.54315472, batch_loss is 0.56628275\n",
            "classify loss is 0.15642881, angle loss is 0.00135746, iou loss is 0.28964972\n",
            "Epoch is [1/50], mini-batch is [185/3125], time consumption is 0.58519745, batch_loss is 0.45965311\n",
            "classify loss is 0.34018886, angle loss is 0.03570790, iou loss is 0.60711163\n",
            "Epoch is [1/50], mini-batch is [186/3125], time consumption is 0.55362821, batch_loss is 1.30437946\n",
            "classify loss is 0.17896187, angle loss is 0.00190335, iou loss is 0.23603852\n",
            "Epoch is [1/50], mini-batch is [187/3125], time consumption is 0.60389876, batch_loss is 0.43403387\n",
            "classify loss is 0.18708885, angle loss is 0.00328788, iou loss is 0.23629774\n",
            "Epoch is [1/50], mini-batch is [188/3125], time consumption is 0.55740070, batch_loss is 0.45626536\n",
            "classify loss is 0.21184391, angle loss is 0.00594005, iou loss is 0.28889123\n",
            "Epoch is [1/50], mini-batch is [189/3125], time consumption is 0.54572487, batch_loss is 0.56013560\n",
            "classify loss is 0.44061971, angle loss is 0.02110581, iou loss is 0.51826262\n",
            "Epoch is [1/50], mini-batch is [190/3125], time consumption is 0.56278658, batch_loss is 1.16994035\n",
            "classify loss is 0.21452665, angle loss is 0.00158228, iou loss is 0.18601821\n",
            "Epoch is [1/50], mini-batch is [191/3125], time consumption is 0.55850625, batch_loss is 0.41636765\n",
            "classify loss is 0.17489952, angle loss is 0.00198745, iou loss is 0.25458488\n",
            "Epoch is [1/50], mini-batch is [192/3125], time consumption is 0.59032345, batch_loss is 0.44935891\n",
            "classify loss is 0.15544510, angle loss is 0.00343723, iou loss is 0.28699005\n",
            "Epoch is [1/50], mini-batch is [193/3125], time consumption is 0.54681492, batch_loss is 0.47680742\n",
            "classify loss is 0.20956218, angle loss is 0.00951516, iou loss is 0.31320256\n",
            "Epoch is [1/50], mini-batch is [194/3125], time consumption is 0.57388139, batch_loss is 0.61791635\n",
            "classify loss is 0.16009676, angle loss is 0.00196911, iou loss is 0.19965525\n",
            "Epoch is [1/50], mini-batch is [195/3125], time consumption is 0.57314682, batch_loss is 0.37944311\n",
            "classify loss is 0.39084297, angle loss is 0.01117732, iou loss is 0.37873504\n",
            "Epoch is [1/50], mini-batch is [196/3125], time consumption is 0.54526019, batch_loss is 0.88135123\n",
            "classify loss is 0.13599932, angle loss is 0.00150119, iou loss is 0.18334928\n",
            "Epoch is [1/50], mini-batch is [197/3125], time consumption is 0.57606602, batch_loss is 0.33436054\n",
            "classify loss is 0.18218374, angle loss is 0.00162966, iou loss is 0.23701712\n",
            "Epoch is [1/50], mini-batch is [198/3125], time consumption is 0.58978534, batch_loss is 0.43549743\n",
            "classify loss is 0.18508434, angle loss is 0.00717197, iou loss is 0.28203499\n",
            "Epoch is [1/50], mini-batch is [199/3125], time consumption is 0.57004023, batch_loss is 0.53883910\n",
            "classify loss is 0.13012052, angle loss is 0.00178012, iou loss is 0.17406204\n",
            "Epoch is [1/50], mini-batch is [200/3125], time consumption is 0.56243563, batch_loss is 0.32198378\n",
            "classify loss is 0.54577959, angle loss is 0.01207113, iou loss is 0.82465124\n",
            "Epoch is [1/50], mini-batch is [201/3125], time consumption is 0.58441210, batch_loss is 1.49114215\n",
            "classify loss is 0.18473136, angle loss is 0.00421544, iou loss is 0.37590066\n",
            "Epoch is [1/50], mini-batch is [202/3125], time consumption is 0.57597566, batch_loss is 0.60278642\n",
            "classify loss is 0.13109052, angle loss is 0.00077642, iou loss is 0.17488448\n",
            "Epoch is [1/50], mini-batch is [203/3125], time consumption is 0.55281663, batch_loss is 0.31373924\n",
            "classify loss is 0.33366013, angle loss is 0.02715168, iou loss is 0.51139057\n",
            "Epoch is [1/50], mini-batch is [204/3125], time consumption is 0.57545304, batch_loss is 1.11656749\n",
            "classify loss is 0.16956544, angle loss is 0.00573104, iou loss is 0.27390009\n",
            "Epoch is [1/50], mini-batch is [205/3125], time consumption is 0.53896093, batch_loss is 0.50077593\n",
            "classify loss is 0.35439807, angle loss is 0.01102543, iou loss is 0.38262522\n",
            "Epoch is [1/50], mini-batch is [206/3125], time consumption is 0.62146306, batch_loss is 0.84727764\n",
            "classify loss is 0.22289318, angle loss is 0.02048336, iou loss is 0.26003090\n",
            "Epoch is [1/50], mini-batch is [207/3125], time consumption is 0.55627561, batch_loss is 0.68775767\n",
            "classify loss is 0.14592254, angle loss is 0.00278222, iou loss is 0.16211724\n",
            "Epoch is [1/50], mini-batch is [208/3125], time consumption is 0.54723096, batch_loss is 0.33586198\n",
            "classify loss is 0.22329199, angle loss is 0.00601752, iou loss is 0.26592037\n",
            "Epoch is [1/50], mini-batch is [209/3125], time consumption is 0.57322001, batch_loss is 0.54938757\n",
            "classify loss is 0.18079537, angle loss is 0.00473418, iou loss is 0.25798649\n",
            "Epoch is [1/50], mini-batch is [210/3125], time consumption is 0.54158068, batch_loss is 0.48612362\n",
            "classify loss is 0.18409783, angle loss is 0.00640612, iou loss is 0.27409604\n",
            "Epoch is [1/50], mini-batch is [211/3125], time consumption is 0.59225750, batch_loss is 0.52225506\n",
            "classify loss is 0.21118319, angle loss is 0.02842226, iou loss is 0.26780337\n",
            "Epoch is [1/50], mini-batch is [212/3125], time consumption is 0.55050874, batch_loss is 0.76320922\n",
            "classify loss is 0.21044016, angle loss is 0.01003746, iou loss is 0.31841186\n",
            "Epoch is [1/50], mini-batch is [213/3125], time consumption is 0.55022955, batch_loss is 0.62922668\n",
            "classify loss is 0.19245243, angle loss is 0.00270579, iou loss is 0.27681774\n",
            "Epoch is [1/50], mini-batch is [214/3125], time consumption is 0.58738971, batch_loss is 0.49632809\n",
            "classify loss is 0.15236336, angle loss is 0.00191973, iou loss is 0.19176833\n",
            "Epoch is [1/50], mini-batch is [215/3125], time consumption is 0.57953930, batch_loss is 0.36332899\n",
            "classify loss is 0.14335644, angle loss is 0.00254223, iou loss is 0.22980365\n",
            "Epoch is [1/50], mini-batch is [216/3125], time consumption is 0.57296085, batch_loss is 0.39858237\n",
            "classify loss is 0.18066722, angle loss is 0.00187754, iou loss is 0.19760600\n",
            "Epoch is [1/50], mini-batch is [217/3125], time consumption is 0.62106633, batch_loss is 0.39704859\n",
            "classify loss is 0.13237268, angle loss is 0.00369604, iou loss is 0.18434502\n",
            "Epoch is [1/50], mini-batch is [218/3125], time consumption is 0.55490851, batch_loss is 0.35367805\n",
            "classify loss is 0.17684734, angle loss is 0.01042410, iou loss is 0.20449011\n",
            "Epoch is [1/50], mini-batch is [219/3125], time consumption is 0.60241294, batch_loss is 0.48557842\n",
            "classify loss is 0.23103482, angle loss is 0.00550218, iou loss is 0.33295748\n",
            "Epoch is [1/50], mini-batch is [220/3125], time consumption is 0.60847068, batch_loss is 0.61901402\n",
            "classify loss is 0.13730764, angle loss is 0.00190830, iou loss is 0.17206107\n"
          ],
          "name": "stdout"
        }
      ]
    },
    {
      "cell_type": "code",
      "metadata": {
        "id": "XIfcvWvLSFX6",
        "colab_type": "code",
        "colab": {}
      },
      "source": [
        "plt.plot(loss_curve)"
      ],
      "execution_count": 0,
      "outputs": []
    },
    {
      "cell_type": "markdown",
      "metadata": {
        "id": "HTf51H-gknXG",
        "colab_type": "text"
      },
      "source": [
        "1. [**Adam and AdamW algorithms**](https://www.fast.ai/2018/07/02/adam-weight-decay/)\n",
        "\n",
        "2. [**The optimal learning rate during fine-tuning of an artificial neural network**](https://www.mikulskibartosz.name/the-optimal-learning-rate-during-fine-tuning-of-an-artificial-neural-network/)"
      ]
    },
    {
      "cell_type": "code",
      "metadata": {
        "id": "wGal13g-WePV",
        "colab_type": "code",
        "colab": {}
      },
      "source": [
        "0.7**5 * 1e-5"
      ],
      "execution_count": 0,
      "outputs": []
    },
    {
      "cell_type": "markdown",
      "metadata": {
        "id": "YTtJljkZRPFP",
        "colab_type": "text"
      },
      "source": [
        "**Enter this code in the console to prevent colab from getting disconnected**\n",
        "\n",
        "```\n",
        "function ClickConnect(){\n",
        "  console.log(\"Working\"); \n",
        "  document.querySelector(\"colab-toolbar-button#connect\").click() \n",
        "}\n",
        "setInterval(ClickConnect,60000)\n",
        "```\n",
        "\n"
      ]
    }
  ]
}