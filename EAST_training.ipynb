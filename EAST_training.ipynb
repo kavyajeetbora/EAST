{
  "nbformat": 4,
  "nbformat_minor": 0,
  "metadata": {
    "colab": {
      "name": "EAST_dataset.ipynb",
      "provenance": [],
      "collapsed_sections": [
        "QYP_yAGvd05H",
        "T874dqy_dyjf"
      ],
      "machine_shape": "hm",
      "include_colab_link": true
    },
    "kernelspec": {
      "name": "python3",
      "display_name": "Python 3"
    },
    "accelerator": "GPU"
  },
  "cells": [
    {
      "cell_type": "markdown",
      "metadata": {
        "id": "view-in-github",
        "colab_type": "text"
      },
      "source": [
        "<a href=\"https://colab.research.google.com/github/kavyajeetbora/EAST/blob/master/EAST_training.ipynb\" target=\"_parent\"><img src=\"https://colab.research.google.com/assets/colab-badge.svg\" alt=\"Open In Colab\"/></a>"
      ]
    },
    {
      "cell_type": "markdown",
      "metadata": {
        "id": "Pyapm5xLqREO",
        "colab_type": "text"
      },
      "source": [
        "##1. Imports"
      ]
    },
    {
      "cell_type": "markdown",
      "metadata": {
        "id": "L2dp5i49ZJGr",
        "colab_type": "text"
      },
      "source": [
        "[**Tasks - Incidental Scene Text**](https://rrc.cvc.uab.es/?ch=4&com=tasks)"
      ]
    },
    {
      "cell_type": "code",
      "metadata": {
        "id": "a6n5wRjEg_RL",
        "colab_type": "code",
        "colab": {}
      },
      "source": [
        "import os\n",
        "import time\n",
        "from PIL import Image\n",
        "from torch.utils.model_zoo import load_url\n",
        "import matplotlib.pyplot as plt\n",
        "import numpy as np\n",
        "import torch\n",
        "import torch.nn as nn\n",
        "from torch.optim import lr_scheduler\n",
        "from torch.utils.data import DataLoader\n",
        "import shutil\n",
        "from google.colab import files"
      ],
      "execution_count": 0,
      "outputs": []
    },
    {
      "cell_type": "code",
      "metadata": {
        "id": "SymuHSuqIfGs",
        "colab_type": "code",
        "outputId": "85378b40-ec09-4f8a-d1c3-89fe33557364",
        "colab": {
          "base_uri": "https://localhost:8080/",
          "height": 34
        }
      },
      "source": [
        "from google.colab import drive\n",
        "drive.mount('/content/drive')"
      ],
      "execution_count": 2,
      "outputs": [
        {
          "output_type": "stream",
          "text": [
            "Drive already mounted at /content/drive; to attempt to forcibly remount, call drive.mount(\"/content/drive\", force_remount=True).\n"
          ],
          "name": "stdout"
        }
      ]
    },
    {
      "cell_type": "code",
      "metadata": {
        "id": "NAmisDeYpzym",
        "colab_type": "code",
        "outputId": "7327f640-bfcc-4f1b-f385-e75b9ea0c806",
        "colab": {
          "base_uri": "https://localhost:8080/",
          "height": 302
        }
      },
      "source": [
        "%%time\n",
        "!rm -r /content/cloned-repo\n",
        "%cd ..\n",
        "!git clone -l -s git://github.com/kavyajeetbora/EAST.git /content/cloned-repo\n",
        "%cd /content/cloned-repo\n",
        "!ls"
      ],
      "execution_count": 3,
      "outputs": [
        {
          "output_type": "stream",
          "text": [
            "rm: cannot remove '/content/cloned-repo': No such file or directory\n",
            "/\n",
            "Cloning into '/content/cloned-repo'...\n",
            "warning: --local is ignored\n",
            "remote: Enumerating objects: 94, done.\u001b[K\n",
            "remote: Counting objects: 100% (94/94), done.\u001b[K\n",
            "remote: Compressing objects: 100% (94/94), done.\u001b[K\n",
            "remote: Total 176 (delta 52), reused 0 (delta 0), pack-reused 82\u001b[K\n",
            "Receiving objects: 100% (176/176), 6.97 MiB | 10.12 MiB/s, done.\n",
            "Resolving deltas: 100% (97/97), done.\n",
            "/content/cloned-repo\n",
            "dataset.py\t\t    EAST_resnet.py\t\t    model.py\n",
            "detect.py\t\t    EAST_training.ipynb\t\t    model_resnet.py\n",
            "dsiplay_ground_truth.ipynb  EAST_training_vgg16_bn_2.ipynb  train.py\n",
            "EAST_detection.ipynb\t    loss.py\n",
            "CPU times: user 120 ms, sys: 39.4 ms, total: 159 ms\n",
            "Wall time: 7.29 s\n"
          ],
          "name": "stdout"
        }
      ]
    },
    {
      "cell_type": "code",
      "metadata": {
        "id": "m8Fmu_OcbvdB",
        "colab_type": "code",
        "colab": {}
      },
      "source": [
        "from dataset import *"
      ],
      "execution_count": 0,
      "outputs": []
    },
    {
      "cell_type": "code",
      "metadata": {
        "id": "EnP26VecZ4by",
        "colab_type": "code",
        "outputId": "1a39c2df-5d84-43e2-b635-5801aad00096",
        "colab": {
          "base_uri": "https://localhost:8080/",
          "height": 67
        }
      },
      "source": [
        "%%time\n",
        "\n",
        "# AI4Bharat dataset\n",
        "image_folder = '/content/drive/My Drive/Colab Notebooks (1)/padh.ai.notebooks/15. Object Detection/AI4Bharat Dataset/Test Set/Images'\n",
        "label_folder = '/content/drive/My Drive/Colab Notebooks (1)/padh.ai.notebooks/15. Object Detection/AI4Bharat Dataset/Test Set/Annotations'\n",
        "\n",
        "training_dataset = custom_dataset(image_folder, label_folder)\n",
        "print(len(training_dataset))"
      ],
      "execution_count": 5,
      "outputs": [
        {
          "output_type": "stream",
          "text": [
            "428\n",
            "CPU times: user 3.67 ms, sys: 1.51 ms, total: 5.18 ms\n",
            "Wall time: 14.3 ms\n"
          ],
          "name": "stdout"
        }
      ]
    },
    {
      "cell_type": "markdown",
      "metadata": {
        "id": "VsangoljUZ6v",
        "colab_type": "text"
      },
      "source": [
        "## Loss for one batch"
      ]
    },
    {
      "cell_type": "code",
      "metadata": {
        "id": "xmbW10gwUTRX",
        "colab_type": "code",
        "outputId": "980f403a-7b9a-44fe-e0be-7ed3c5e49e38",
        "colab": {
          "base_uri": "https://localhost:8080/",
          "height": 84
        }
      },
      "source": [
        "%%time\n",
        "train_loader = DataLoader(training_dataset, shuffle = True, batch_size=12, drop_last=True)\n",
        "imgs, gt_score, gt_geo, ignored_maps = next(iter(train_loader))\n",
        "print(imgs.size(), gt_score.size(), gt_geo.size(), ignored_maps.size())\n",
        "print(torch.sum(gt_score))"
      ],
      "execution_count": 6,
      "outputs": [
        {
          "output_type": "stream",
          "text": [
            "torch.Size([12, 3, 512, 512]) torch.Size([12, 1, 128, 128]) torch.Size([12, 5, 128, 128]) torch.Size([12, 1, 128, 128])\n",
            "tensor(13729.)\n",
            "CPU times: user 6.72 s, sys: 6.81 s, total: 13.5 s\n",
            "Wall time: 11.8 s\n"
          ],
          "name": "stdout"
        }
      ]
    },
    {
      "cell_type": "code",
      "metadata": {
        "id": "xB4hqsQXKyc0",
        "colab_type": "code",
        "outputId": "a777aad0-7f23-4fa8-a034-823502d05b9c",
        "colab": {
          "base_uri": "https://localhost:8080/",
          "height": 34
        }
      },
      "source": [
        "device = torch.device(\"cuda:0\" if torch.cuda.is_available() else \"cpu\")\n",
        "device"
      ],
      "execution_count": 7,
      "outputs": [
        {
          "output_type": "execute_result",
          "data": {
            "text/plain": [
              "device(type='cuda', index=0)"
            ]
          },
          "metadata": {
            "tags": []
          },
          "execution_count": 7
        }
      ]
    },
    {
      "cell_type": "code",
      "metadata": {
        "id": "jSuLu7o3r0oA",
        "colab_type": "code",
        "outputId": "47c4868a-f11e-4654-d4a9-c5fa4094b2ff",
        "colab": {
          "base_uri": "https://localhost:8080/",
          "height": 67
        }
      },
      "source": [
        "%%time\n",
        "from model import EAST\n",
        "model = EAST()\n",
        "pretrained_path = '/content/drive/My Drive/Colab Notebooks (1)/padh.ai.notebooks/15. Object Detection/EAST scene text detector/east_vgg16.pth'\n",
        "state_dict = torch.load(pretrained_path)\n",
        "model.load_state_dict(state_dict)\n",
        "model = model.to(device)\n",
        "imgs, gt_score, gt_geo, ignored_maps = imgs.to(device), gt_score.to(device), gt_geo.to(device), ignored_maps.to(device)\n",
        "pred_score, pred_geo = model(imgs)\n",
        "\n",
        "print(pred_score.size(), pred_geo.size())"
      ],
      "execution_count": 8,
      "outputs": [
        {
          "output_type": "stream",
          "text": [
            "torch.Size([12, 1, 128, 128]) torch.Size([12, 5, 128, 128])\n",
            "CPU times: user 6.39 s, sys: 1.23 s, total: 7.61 s\n",
            "Wall time: 7.57 s\n"
          ],
          "name": "stdout"
        }
      ]
    },
    {
      "cell_type": "code",
      "metadata": {
        "id": "9dwKLUhtVIt9",
        "colab_type": "code",
        "outputId": "b2fa9e92-93f0-4071-c904-b4e10e9a9325",
        "colab": {
          "base_uri": "https://localhost:8080/",
          "height": 50
        }
      },
      "source": [
        "from loss import Loss\n",
        "\n",
        "loss_fn = Loss()\n",
        "loss_fn(gt_score, pred_score, gt_geo, pred_geo, ignored_maps)"
      ],
      "execution_count": 9,
      "outputs": [
        {
          "output_type": "stream",
          "text": [
            "classify loss is 0.68417346, angle loss is 0.00623027, iou loss is 0.81353444\n"
          ],
          "name": "stdout"
        },
        {
          "output_type": "execute_result",
          "data": {
            "text/plain": [
              "tensor(1.5600, device='cuda:0', grad_fn=<AddBackward0>)"
            ]
          },
          "metadata": {
            "tags": []
          },
          "execution_count": 9
        }
      ]
    },
    {
      "cell_type": "markdown",
      "metadata": {
        "id": "03aAZoSGXTLf",
        "colab_type": "text"
      },
      "source": [
        "## Training Full Batch \n",
        "\n",
        "fine tuning pretrained model [east_vgg16.pth](https://drive.google.com/file/d/1AFABkJgr5VtxWnmBU3XcfLJvpZkC2TAg/view)"
      ]
    },
    {
      "cell_type": "code",
      "metadata": {
        "id": "IxuHC3Wybb7O",
        "colab_type": "code",
        "colab": {}
      },
      "source": [
        "model = EAST()\n",
        "pretrained_path = '/content/drive/My Drive/Colab Notebooks (1)/padh.ai.notebooks/15. Object Detection/EAST scene text detector/east_vgg16.pth'\n",
        "state_dict = torch.load(pretrained_path)\n",
        "model.load_state_dict(state_dict)\n",
        "model = model.to(device)"
      ],
      "execution_count": 0,
      "outputs": []
    },
    {
      "cell_type": "code",
      "metadata": {
        "id": "XeIQGzb6XVa9",
        "colab_type": "code",
        "colab": {}
      },
      "source": [
        "def train(model, train_img_path, train_gt_path, batch_size, lr, epoch_iter, num_workers=4, interval=1):\n",
        "    file_num = len(os.listdir(train_img_path))\n",
        "    print(file_num)\n",
        "    trainset = custom_dataset(train_img_path, train_gt_path)\n",
        "    train_loader = data.DataLoader(trainset, batch_size=batch_size, \\\n",
        "                                   shuffle=True, num_workers=num_workers, drop_last=True)\n",
        "\t\n",
        "    criterion = Loss()\n",
        "    device = torch.device(\"cuda:0\" if torch.cuda.is_available() else \"cpu\")\n",
        "    model.to(device)\n",
        "    optimizer = torch.optim.AdamW(model.parameters(), lr=lr)\n",
        "    scheduler = lr_scheduler.StepLR(optimizer, step_size=epoch_iter//2, gamma=0.5)\n",
        "    loss_curve = []\n",
        "    \n",
        "    for epoch in range(epoch_iter):\n",
        "      model.train()\n",
        "      scheduler.step()\n",
        "      epoch_loss = 0\n",
        "      epoch_time = time.time()\n",
        "      for i, (img, gt_score, gt_geo, ignored_map) in enumerate(train_loader):\n",
        "        start_time = time.time()\n",
        "        img, gt_score, gt_geo, ignored_map = img.to(device), gt_score.to(device), gt_geo.to(device), ignored_map.to(device)\n",
        "        pred_score, pred_geo = model(img)\n",
        "        loss = criterion(gt_score, pred_score, gt_geo, pred_geo, ignored_map)\n",
        "\n",
        "        epoch_loss += loss.item()\n",
        "        optimizer.zero_grad()\n",
        "        loss.backward()\n",
        "        optimizer.step()\n",
        "\n",
        "        print('Epoch is [{}/{}], mini-batch is [{}/{}], time consumption is {:.8f}, batch_loss is {:.8f}'.format(\\\n",
        "                  epoch+1, epoch_iter, i+1, int(file_num/batch_size), time.time()-start_time, loss.item()))\n",
        "        \n",
        "      print('epoch_loss is {:.8f}, epoch_time is {:.8f}'.format(epoch_loss/int(file_num/batch_size), time.time()-epoch_time))\n",
        "      print(time.asctime(time.localtime(time.time())))\n",
        "      print('='*50)\n",
        "      \n",
        "      \n",
        "      if (epoch + 1) % interval == 0:\n",
        "        state_dict = model.state_dict()\n",
        "        torch.save(state_dict, 'model_epoch_{}.pth'.format(epoch+1))\n",
        "       \n",
        "      ## plotting the loss curve\n",
        "      loss_curve.append(epoch_loss/int(file_num/batch_size))\n",
        "\n",
        "    return loss_curve"
      ],
      "execution_count": 0,
      "outputs": []
    },
    {
      "cell_type": "code",
      "metadata": {
        "id": "pPd8lPc5N7qr",
        "colab_type": "code",
        "outputId": "79567cc2-142a-4924-939a-7fb9c7314ad7",
        "colab": {
          "base_uri": "https://localhost:8080/",
          "height": 1000
        }
      },
      "source": [
        "%%time\n",
        "loss_curve = train(model, image_folder, label_folder, batch_size=8, lr=1e-5, epoch_iter=5, interval = 1)"
      ],
      "execution_count": 12,
      "outputs": [
        {
          "output_type": "stream",
          "text": [
            "428\n"
          ],
          "name": "stdout"
        },
        {
          "output_type": "stream",
          "text": [
            "/usr/local/lib/python3.6/dist-packages/torch/optim/lr_scheduler.py:100: UserWarning: Detected call of `lr_scheduler.step()` before `optimizer.step()`. In PyTorch 1.1.0 and later, you should call them in the opposite order: `optimizer.step()` before `lr_scheduler.step()`.  Failure to do this will result in PyTorch skipping the first value of the learning rate schedule.See more details at https://pytorch.org/docs/stable/optim.html#how-to-adjust-learning-rate\n",
            "  \"https://pytorch.org/docs/stable/optim.html#how-to-adjust-learning-rate\", UserWarning)\n"
          ],
          "name": "stderr"
        },
        {
          "output_type": "stream",
          "text": [
            "classify loss is 0.74742675, angle loss is 0.04168005, iou loss is 1.15757704\n",
            "Epoch is [1/5], mini-batch is [1/53], time consumption is 0.57793260, batch_loss is 2.32180429\n",
            "classify loss is 0.75206274, angle loss is 0.07170939, iou loss is 1.14091134\n",
            "Epoch is [1/5], mini-batch is [2/53], time consumption is 0.22680783, batch_loss is 2.61006808\n",
            "classify loss is 0.82933325, angle loss is 0.02486178, iou loss is 0.98071146\n",
            "Epoch is [1/5], mini-batch is [3/53], time consumption is 0.28853297, batch_loss is 2.05866241\n",
            "classify loss is 0.55255938, angle loss is 0.02387484, iou loss is 0.77025127\n",
            "Epoch is [1/5], mini-batch is [4/53], time consumption is 0.23708653, batch_loss is 1.56155908\n",
            "classify loss is 0.90626973, angle loss is 0.02995767, iou loss is 1.21066606\n",
            "Epoch is [1/5], mini-batch is [5/53], time consumption is 0.23147821, batch_loss is 2.41651249\n",
            "classify loss is 0.73785579, angle loss is 0.00598528, iou loss is 0.80434263\n",
            "Epoch is [1/5], mini-batch is [6/53], time consumption is 0.21736598, batch_loss is 1.60205126\n",
            "classify loss is 0.70310915, angle loss is 0.02578885, iou loss is 1.16661847\n",
            "Epoch is [1/5], mini-batch is [7/53], time consumption is 0.24349070, batch_loss is 2.12761617\n",
            "classify loss is 0.89771730, angle loss is 0.10914606, iou loss is 1.27517021\n",
            "Epoch is [1/5], mini-batch is [8/53], time consumption is 0.28723288, batch_loss is 3.26434803\n",
            "classify loss is 0.62013298, angle loss is 0.07546651, iou loss is 0.89868289\n",
            "Epoch is [1/5], mini-batch is [9/53], time consumption is 0.23476577, batch_loss is 2.27348089\n",
            "classify loss is 0.63853633, angle loss is 0.03263593, iou loss is 1.11873555\n",
            "Epoch is [1/5], mini-batch is [10/53], time consumption is 0.22554231, batch_loss is 2.08363104\n",
            "classify loss is 0.82274181, angle loss is 0.05228484, iou loss is 1.10090506\n",
            "Epoch is [1/5], mini-batch is [11/53], time consumption is 0.29109502, batch_loss is 2.44649529\n",
            "classify loss is 0.77071714, angle loss is 0.11072804, iou loss is 1.42030776\n",
            "Epoch is [1/5], mini-batch is [12/53], time consumption is 0.24044371, batch_loss is 3.29830527\n",
            "classify loss is 0.64111042, angle loss is 0.06302116, iou loss is 0.84102583\n",
            "Epoch is [1/5], mini-batch is [13/53], time consumption is 0.24747396, batch_loss is 2.11234784\n",
            "classify loss is 0.78970367, angle loss is 0.04268495, iou loss is 0.97785765\n",
            "Epoch is [1/5], mini-batch is [14/53], time consumption is 0.21035266, batch_loss is 2.19441080\n",
            "classify loss is 0.71516240, angle loss is 0.01844676, iou loss is 1.09269202\n",
            "Epoch is [1/5], mini-batch is [15/53], time consumption is 0.18526530, batch_loss is 1.99232209\n",
            "classify loss is 0.73337996, angle loss is 0.02393268, iou loss is 0.88193262\n",
            "Epoch is [1/5], mini-batch is [16/53], time consumption is 0.24435425, batch_loss is 1.85463941\n",
            "classify loss is 0.65881830, angle loss is 0.04848851, iou loss is 0.90487725\n",
            "Epoch is [1/5], mini-batch is [17/53], time consumption is 0.19635773, batch_loss is 2.04858065\n",
            "classify loss is 0.80715674, angle loss is 0.10581898, iou loss is 1.22921920\n",
            "Epoch is [1/5], mini-batch is [18/53], time consumption is 0.23242307, batch_loss is 3.09456563\n",
            "classify loss is 0.80388224, angle loss is 0.12217378, iou loss is 1.43709004\n",
            "Epoch is [1/5], mini-batch is [19/53], time consumption is 0.19396830, batch_loss is 3.46270990\n",
            "classify loss is 0.65747595, angle loss is 0.00830317, iou loss is 1.02483130\n",
            "Epoch is [1/5], mini-batch is [20/53], time consumption is 0.21917105, batch_loss is 1.76533902\n",
            "classify loss is 0.77217835, angle loss is 0.03327024, iou loss is 1.11708021\n",
            "Epoch is [1/5], mini-batch is [21/53], time consumption is 0.22225261, batch_loss is 2.22196102\n",
            "classify loss is 0.73962700, angle loss is 0.06380881, iou loss is 1.07357264\n",
            "Epoch is [1/5], mini-batch is [22/53], time consumption is 0.19806504, batch_loss is 2.45128775\n",
            "classify loss is 0.85999477, angle loss is 0.01106963, iou loss is 0.92720246\n",
            "Epoch is [1/5], mini-batch is [23/53], time consumption is 0.20784664, batch_loss is 1.89789355\n",
            "classify loss is 0.75635850, angle loss is 0.04308247, iou loss is 1.04607320\n",
            "Epoch is [1/5], mini-batch is [24/53], time consumption is 0.23068810, batch_loss is 2.23325634\n",
            "classify loss is 0.76607639, angle loss is 0.00735992, iou loss is 0.75137639\n",
            "Epoch is [1/5], mini-batch is [25/53], time consumption is 0.18586516, batch_loss is 1.59105194\n",
            "classify loss is 0.51366037, angle loss is 0.00516831, iou loss is 0.67001075\n",
            "Epoch is [1/5], mini-batch is [26/53], time consumption is 0.18631649, batch_loss is 1.23535419\n",
            "classify loss is 0.76711142, angle loss is 0.06580411, iou loss is 1.36989534\n",
            "Epoch is [1/5], mini-batch is [27/53], time consumption is 0.25409007, batch_loss is 2.79504776\n",
            "classify loss is 0.67803794, angle loss is 0.02427576, iou loss is 1.27626038\n",
            "Epoch is [1/5], mini-batch is [28/53], time consumption is 0.22917080, batch_loss is 2.19705582\n",
            "classify loss is 0.67229193, angle loss is 0.02197840, iou loss is 1.17550790\n",
            "Epoch is [1/5], mini-batch is [29/53], time consumption is 0.20745254, batch_loss is 2.06758380\n",
            "classify loss is 0.65346503, angle loss is 0.02091769, iou loss is 1.01194584\n",
            "Epoch is [1/5], mini-batch is [30/53], time consumption is 0.19476295, batch_loss is 1.87458777\n",
            "classify loss is 0.67202413, angle loss is 0.02195707, iou loss is 0.74257052\n",
            "Epoch is [1/5], mini-batch is [31/53], time consumption is 0.22488594, batch_loss is 1.63416529\n",
            "classify loss is 0.62779593, angle loss is 0.00453525, iou loss is 0.69287616\n",
            "Epoch is [1/5], mini-batch is [32/53], time consumption is 0.21489692, batch_loss is 1.36602449\n",
            "classify loss is 0.64531207, angle loss is 0.01013273, iou loss is 0.79908288\n",
            "Epoch is [1/5], mini-batch is [33/53], time consumption is 0.24683356, batch_loss is 1.54572225\n",
            "classify loss is 0.63838184, angle loss is 0.00603746, iou loss is 0.75470161\n",
            "Epoch is [1/5], mini-batch is [34/53], time consumption is 0.19558811, batch_loss is 1.45345807\n",
            "classify loss is 0.67391407, angle loss is 0.01246674, iou loss is 0.76987994\n",
            "Epoch is [1/5], mini-batch is [35/53], time consumption is 0.23970056, batch_loss is 1.56846142\n",
            "classify loss is 0.84839642, angle loss is 0.02943962, iou loss is 1.55176294\n",
            "Epoch is [1/5], mini-batch is [36/53], time consumption is 0.29524946, batch_loss is 2.69455552\n",
            "classify loss is 0.73246825, angle loss is 0.02840586, iou loss is 0.82702327\n",
            "Epoch is [1/5], mini-batch is [37/53], time consumption is 0.21350837, batch_loss is 1.84355009\n",
            "classify loss is 0.79083508, angle loss is 0.06756712, iou loss is 0.94715375\n",
            "Epoch is [1/5], mini-batch is [38/53], time consumption is 0.22423506, batch_loss is 2.41366005\n",
            "classify loss is 0.79621142, angle loss is 0.04875305, iou loss is 1.51412046\n",
            "Epoch is [1/5], mini-batch is [39/53], time consumption is 0.23515892, batch_loss is 2.79786253\n",
            "classify loss is 0.73804009, angle loss is 0.01328317, iou loss is 1.01765251\n",
            "Epoch is [1/5], mini-batch is [40/53], time consumption is 0.27046013, batch_loss is 1.88852429\n",
            "classify loss is 0.76616979, angle loss is 0.00871952, iou loss is 0.78729296\n",
            "Epoch is [1/5], mini-batch is [41/53], time consumption is 0.24466753, batch_loss is 1.64065790\n",
            "classify loss is 0.56347293, angle loss is 0.00758371, iou loss is 0.83524013\n",
            "Epoch is [1/5], mini-batch is [42/53], time consumption is 0.21058226, batch_loss is 1.47455013\n",
            "classify loss is 0.57705295, angle loss is 0.00675488, iou loss is 0.65391999\n",
            "Epoch is [1/5], mini-batch is [43/53], time consumption is 0.21612668, batch_loss is 1.29852176\n",
            "classify loss is 0.75581694, angle loss is 0.15585767, iou loss is 1.05156791\n",
            "Epoch is [1/5], mini-batch is [44/53], time consumption is 0.22767234, batch_loss is 3.36596155\n",
            "classify loss is 0.77953804, angle loss is 0.01617890, iou loss is 0.85395247\n",
            "Epoch is [1/5], mini-batch is [45/53], time consumption is 0.20952320, batch_loss is 1.79527950\n",
            "classify loss is 0.85698593, angle loss is 0.04637003, iou loss is 1.51941395\n",
            "Epoch is [1/5], mini-batch is [46/53], time consumption is 0.24680114, batch_loss is 2.84010029\n",
            "classify loss is 0.63759029, angle loss is 0.01640220, iou loss is 0.91838825\n",
            "Epoch is [1/5], mini-batch is [47/53], time consumption is 0.22357440, batch_loss is 1.72000051\n",
            "classify loss is 0.79710823, angle loss is 0.03216564, iou loss is 0.99050289\n",
            "Epoch is [1/5], mini-batch is [48/53], time consumption is 0.18500185, batch_loss is 2.10926747\n",
            "classify loss is 0.63455522, angle loss is 0.04142577, iou loss is 0.91827965\n",
            "Epoch is [1/5], mini-batch is [49/53], time consumption is 0.19212818, batch_loss is 1.96709263\n",
            "classify loss is 0.70113659, angle loss is 0.07076441, iou loss is 0.97761548\n",
            "Epoch is [1/5], mini-batch is [50/53], time consumption is 0.19521213, batch_loss is 2.38639617\n",
            "classify loss is 0.52930140, angle loss is 0.00996285, iou loss is 0.65010279\n",
            "Epoch is [1/5], mini-batch is [51/53], time consumption is 0.21427965, batch_loss is 1.27903271\n",
            "classify loss is 0.76277483, angle loss is 0.03700129, iou loss is 0.87689239\n",
            "Epoch is [1/5], mini-batch is [52/53], time consumption is 0.19388318, batch_loss is 2.00968003\n",
            "classify loss is 0.56557703, angle loss is 0.00702857, iou loss is 0.83627123\n",
            "Epoch is [1/5], mini-batch is [53/53], time consumption is 0.19614744, batch_loss is 1.47213387\n",
            "epoch_loss is 2.10790921, epoch_time is 142.72760248\n",
            "Sat Nov  9 12:30:13 2019\n",
            "==================================================\n",
            "classify loss is 0.74331999, angle loss is 0.06930312, iou loss is 1.07310426\n",
            "Epoch is [2/5], mini-batch is [1/53], time consumption is 0.24714065, batch_loss is 2.50945544\n",
            "classify loss is 0.65906966, angle loss is 0.02323149, iou loss is 0.94354582\n",
            "Epoch is [2/5], mini-batch is [2/53], time consumption is 0.26967096, batch_loss is 1.83493030\n",
            "classify loss is 0.62988615, angle loss is 0.02167238, iou loss is 0.81633389\n",
            "Epoch is [2/5], mini-batch is [3/53], time consumption is 0.25429511, batch_loss is 1.66294384\n",
            "classify loss is 0.82731807, angle loss is 0.10336695, iou loss is 0.93992680\n",
            "Epoch is [2/5], mini-batch is [4/53], time consumption is 0.22711253, batch_loss is 2.80091429\n",
            "classify loss is 0.69281846, angle loss is 0.06303334, iou loss is 1.05082476\n",
            "Epoch is [2/5], mini-batch is [5/53], time consumption is 0.28907418, batch_loss is 2.37397671\n",
            "classify loss is 0.66425997, angle loss is 0.01154125, iou loss is 0.69924146\n",
            "Epoch is [2/5], mini-batch is [6/53], time consumption is 0.24199533, batch_loss is 1.47891390\n",
            "classify loss is 0.66270709, angle loss is 0.06832734, iou loss is 0.88368273\n",
            "Epoch is [2/5], mini-batch is [7/53], time consumption is 0.28924584, batch_loss is 2.22966337\n",
            "classify loss is 0.75176978, angle loss is 0.06134807, iou loss is 1.05355740\n",
            "Epoch is [2/5], mini-batch is [8/53], time consumption is 0.34537005, batch_loss is 2.41880798\n",
            "classify loss is 0.60669744, angle loss is 0.04062013, iou loss is 0.97788799\n",
            "Epoch is [2/5], mini-batch is [9/53], time consumption is 0.23376608, batch_loss is 1.99078667\n",
            "classify loss is 0.83618432, angle loss is 0.01165051, iou loss is 0.85316044\n",
            "Epoch is [2/5], mini-batch is [10/53], time consumption is 0.30567622, batch_loss is 1.80584979\n",
            "classify loss is 0.73251939, angle loss is 0.01856535, iou loss is 1.05480230\n",
            "Epoch is [2/5], mini-batch is [11/53], time consumption is 0.28696442, batch_loss is 1.97297513\n",
            "classify loss is 0.83176351, angle loss is 0.10130337, iou loss is 1.42515457\n",
            "Epoch is [2/5], mini-batch is [12/53], time consumption is 0.29678154, batch_loss is 3.26995158\n",
            "classify loss is 0.83472246, angle loss is 0.06169233, iou loss is 0.85271394\n",
            "Epoch is [2/5], mini-batch is [13/53], time consumption is 0.28727126, batch_loss is 2.30435967\n",
            "classify loss is 0.62738603, angle loss is 0.02687616, iou loss is 0.79569083\n",
            "Epoch is [2/5], mini-batch is [14/53], time consumption is 0.23520732, batch_loss is 1.69183850\n",
            "classify loss is 0.69173229, angle loss is 0.02371708, iou loss is 1.02930081\n",
            "Epoch is [2/5], mini-batch is [15/53], time consumption is 0.31378222, batch_loss is 1.95820391\n",
            "classify loss is 0.70546985, angle loss is 0.00600147, iou loss is 0.86611944\n",
            "Epoch is [2/5], mini-batch is [16/53], time consumption is 0.25875163, batch_loss is 1.63160396\n",
            "classify loss is 0.68126929, angle loss is 0.00512760, iou loss is 0.74514616\n",
            "Epoch is [2/5], mini-batch is [17/53], time consumption is 0.26114202, batch_loss is 1.47769141\n",
            "classify loss is 0.79815549, angle loss is 0.02684572, iou loss is 1.12983274\n",
            "Epoch is [2/5], mini-batch is [18/53], time consumption is 0.24493265, batch_loss is 2.19644547\n",
            "classify loss is 0.54342473, angle loss is 0.00554895, iou loss is 0.68909657\n",
            "Epoch is [2/5], mini-batch is [19/53], time consumption is 0.24492455, batch_loss is 1.28801084\n",
            "classify loss is 0.83694547, angle loss is 0.03191967, iou loss is 0.96752435\n",
            "Epoch is [2/5], mini-batch is [20/53], time consumption is 0.22909784, batch_loss is 2.12366652\n",
            "classify loss is 0.61450183, angle loss is 0.01322355, iou loss is 0.84521747\n",
            "Epoch is [2/5], mini-batch is [21/53], time consumption is 0.24781847, batch_loss is 1.59195483\n",
            "classify loss is 0.68863934, angle loss is 0.04222520, iou loss is 0.87457293\n",
            "Epoch is [2/5], mini-batch is [22/53], time consumption is 0.28990793, batch_loss is 1.98546433\n",
            "classify loss is 0.58497417, angle loss is 0.05973301, iou loss is 0.95464247\n",
            "Epoch is [2/5], mini-batch is [23/53], time consumption is 0.33093643, batch_loss is 2.13694668\n",
            "classify loss is 0.85242319, angle loss is 0.04813078, iou loss is 1.44269216\n",
            "Epoch is [2/5], mini-batch is [24/53], time consumption is 0.20187855, batch_loss is 2.77642322\n",
            "classify loss is 0.71311450, angle loss is 0.01050386, iou loss is 0.81475991\n",
            "Epoch is [2/5], mini-batch is [25/53], time consumption is 0.28583813, batch_loss is 1.63291299\n",
            "classify loss is 0.48301041, angle loss is 0.00635606, iou loss is 0.52990043\n",
            "Epoch is [2/5], mini-batch is [26/53], time consumption is 0.28384662, batch_loss is 1.07647145\n",
            "classify loss is 0.51036382, angle loss is 0.00420332, iou loss is 0.66847968\n",
            "Epoch is [2/5], mini-batch is [27/53], time consumption is 0.28713417, batch_loss is 1.22087669\n",
            "classify loss is 0.49499100, angle loss is 0.08363768, iou loss is 0.85116482\n",
            "Epoch is [2/5], mini-batch is [28/53], time consumption is 0.27746248, batch_loss is 2.18253279\n",
            "classify loss is 0.62291980, angle loss is 0.01404742, iou loss is 0.83014339\n",
            "Epoch is [2/5], mini-batch is [29/53], time consumption is 0.23932838, batch_loss is 1.59353745\n",
            "classify loss is 0.61852729, angle loss is 0.00576671, iou loss is 0.75328404\n",
            "Epoch is [2/5], mini-batch is [30/53], time consumption is 0.23879528, batch_loss is 1.42947841\n",
            "classify loss is 0.83253664, angle loss is 0.02701263, iou loss is 1.17710078\n",
            "Epoch is [2/5], mini-batch is [31/53], time consumption is 0.25613308, batch_loss is 2.27976370\n",
            "classify loss is 0.72554791, angle loss is 0.07616479, iou loss is 1.24542928\n",
            "Epoch is [2/5], mini-batch is [32/53], time consumption is 0.27202392, batch_loss is 2.73262501\n",
            "classify loss is 0.77049237, angle loss is 0.06348760, iou loss is 1.17460883\n",
            "Epoch is [2/5], mini-batch is [33/53], time consumption is 0.25310993, batch_loss is 2.57997704\n",
            "classify loss is 0.74780160, angle loss is 0.03548190, iou loss is 0.91534066\n",
            "Epoch is [2/5], mini-batch is [34/53], time consumption is 0.24637270, batch_loss is 2.01796126\n",
            "classify loss is 0.49257171, angle loss is 0.05048416, iou loss is 0.94924092\n",
            "Epoch is [2/5], mini-batch is [35/53], time consumption is 0.26085544, batch_loss is 1.94665420\n",
            "classify loss is 0.67092705, angle loss is 0.06841061, iou loss is 1.07021523\n",
            "Epoch is [2/5], mini-batch is [36/53], time consumption is 0.23290205, batch_loss is 2.42524838\n",
            "classify loss is 0.57547879, angle loss is 0.00651709, iou loss is 0.73905069\n",
            "Epoch is [2/5], mini-batch is [37/53], time consumption is 0.31725216, batch_loss is 1.37970042\n",
            "classify loss is 0.64745319, angle loss is 0.06104219, iou loss is 1.08245862\n",
            "Epoch is [2/5], mini-batch is [38/53], time consumption is 0.34452558, batch_loss is 2.34033370\n",
            "classify loss is 0.74932110, angle loss is 0.04276939, iou loss is 1.07478905\n",
            "Epoch is [2/5], mini-batch is [39/53], time consumption is 0.26287842, batch_loss is 2.25180387\n",
            "classify loss is 0.66631067, angle loss is 0.01442667, iou loss is 0.91205347\n",
            "Epoch is [2/5], mini-batch is [40/53], time consumption is 0.29545832, batch_loss is 1.72263086\n",
            "classify loss is 0.64532375, angle loss is 0.04324241, iou loss is 0.91577375\n",
            "Epoch is [2/5], mini-batch is [41/53], time consumption is 0.29125047, batch_loss is 1.99352157\n",
            "classify loss is 0.83037424, angle loss is 0.02504415, iou loss is 1.01807082\n",
            "Epoch is [2/5], mini-batch is [42/53], time consumption is 0.24495244, batch_loss is 2.09888649\n",
            "classify loss is 0.72727489, angle loss is 0.07025786, iou loss is 1.09017932\n",
            "Epoch is [2/5], mini-batch is [43/53], time consumption is 0.28106570, batch_loss is 2.52003288\n",
            "classify loss is 0.70513296, angle loss is 0.01638834, iou loss is 0.70080578\n",
            "Epoch is [2/5], mini-batch is [44/53], time consumption is 0.25851798, batch_loss is 1.56982219\n",
            "classify loss is 0.52871525, angle loss is 0.01023364, iou loss is 0.69484347\n",
            "Epoch is [2/5], mini-batch is [45/53], time consumption is 0.36572075, batch_loss is 1.32589507\n",
            "classify loss is 0.60663939, angle loss is 0.02014872, iou loss is 0.70210177\n",
            "Epoch is [2/5], mini-batch is [46/53], time consumption is 0.31627035, batch_loss is 1.51022840\n",
            "classify loss is 0.59502202, angle loss is 0.00725764, iou loss is 0.73447293\n",
            "Epoch is [2/5], mini-batch is [47/53], time consumption is 0.28741789, batch_loss is 1.40207136\n",
            "classify loss is 0.59643102, angle loss is 0.03328722, iou loss is 0.77791888\n",
            "Epoch is [2/5], mini-batch is [48/53], time consumption is 0.26978397, batch_loss is 1.70722198\n",
            "classify loss is 0.77628320, angle loss is 0.04005324, iou loss is 1.49286830\n",
            "Epoch is [2/5], mini-batch is [49/53], time consumption is 0.20071936, batch_loss is 2.66968393\n",
            "classify loss is 0.82576567, angle loss is 0.07101791, iou loss is 1.12784648\n",
            "Epoch is [2/5], mini-batch is [50/53], time consumption is 0.20335674, batch_loss is 2.66379118\n",
            "classify loss is 0.68921685, angle loss is 0.01742245, iou loss is 0.82444197\n",
            "Epoch is [2/5], mini-batch is [51/53], time consumption is 0.18791008, batch_loss is 1.68788338\n",
            "classify loss is 0.76110244, angle loss is 0.04512328, iou loss is 1.11286092\n",
            "Epoch is [2/5], mini-batch is [52/53], time consumption is 0.19676614, batch_loss is 2.32519627\n",
            "classify loss is 0.73855686, angle loss is 0.03438717, iou loss is 0.85426080\n",
            "Epoch is [2/5], mini-batch is [53/53], time consumption is 0.19179487, batch_loss is 1.93668938\n",
            "epoch_loss is 1.99500397, epoch_time is 115.66913986\n",
            "Sat Nov  9 12:32:09 2019\n",
            "==================================================\n",
            "classify loss is 0.82876301, angle loss is 0.07512672, iou loss is 1.14001894\n",
            "Epoch is [3/5], mini-batch is [1/53], time consumption is 0.26144457, batch_loss is 2.72004914\n",
            "classify loss is 0.61870480, angle loss is 0.02680515, iou loss is 0.87452090\n",
            "Epoch is [3/5], mini-batch is [2/53], time consumption is 0.28205156, batch_loss is 1.76127720\n",
            "classify loss is 0.68757975, angle loss is 0.01438574, iou loss is 0.71060568\n",
            "Epoch is [3/5], mini-batch is [3/53], time consumption is 0.35713506, batch_loss is 1.54204285\n",
            "classify loss is 0.73071730, angle loss is 0.03361018, iou loss is 0.78794324\n",
            "Epoch is [3/5], mini-batch is [4/53], time consumption is 0.30084682, batch_loss is 1.85476243\n",
            "classify loss is 0.61624956, angle loss is 0.00728138, iou loss is 0.87457353\n",
            "Epoch is [3/5], mini-batch is [5/53], time consumption is 0.22498155, batch_loss is 1.56363702\n",
            "classify loss is 0.67052311, angle loss is 0.01173562, iou loss is 1.00282216\n",
            "Epoch is [3/5], mini-batch is [6/53], time consumption is 0.29067707, batch_loss is 1.79070139\n",
            "classify loss is 0.66687638, angle loss is 0.04591734, iou loss is 1.14001703\n",
            "Epoch is [3/5], mini-batch is [7/53], time consumption is 0.30571580, batch_loss is 2.26606679\n",
            "classify loss is 0.45145899, angle loss is 0.02813124, iou loss is 0.56309801\n",
            "Epoch is [3/5], mini-batch is [8/53], time consumption is 0.29799294, batch_loss is 1.29586935\n",
            "classify loss is 0.70463026, angle loss is 0.06331200, iou loss is 1.06401372\n",
            "Epoch is [3/5], mini-batch is [9/53], time consumption is 0.25986004, batch_loss is 2.40176392\n",
            "classify loss is 0.55295306, angle loss is 0.00618802, iou loss is 0.72079760\n",
            "Epoch is [3/5], mini-batch is [10/53], time consumption is 0.27777839, batch_loss is 1.33563089\n",
            "classify loss is 0.50924909, angle loss is 0.00624742, iou loss is 0.68024290\n",
            "Epoch is [3/5], mini-batch is [11/53], time consumption is 0.24736619, batch_loss is 1.25196624\n",
            "classify loss is 0.69777924, angle loss is 0.01822374, iou loss is 1.06410277\n",
            "Epoch is [3/5], mini-batch is [12/53], time consumption is 0.31844807, batch_loss is 1.94411945\n",
            "classify loss is 0.63347918, angle loss is 0.01150334, iou loss is 0.88469660\n",
            "Epoch is [3/5], mini-batch is [13/53], time consumption is 0.24455357, batch_loss is 1.63320923\n",
            "classify loss is 0.68628895, angle loss is 0.10017692, iou loss is 1.19654965\n",
            "Epoch is [3/5], mini-batch is [14/53], time consumption is 0.28422308, batch_loss is 2.88460779\n",
            "classify loss is 0.52402234, angle loss is 0.00911426, iou loss is 0.61710072\n",
            "Epoch is [3/5], mini-batch is [15/53], time consumption is 0.22230434, batch_loss is 1.23226571\n",
            "classify loss is 0.74352986, angle loss is 0.05412834, iou loss is 1.21635056\n",
            "Epoch is [3/5], mini-batch is [16/53], time consumption is 0.25420165, batch_loss is 2.50116372\n",
            "classify loss is 0.67910832, angle loss is 0.04076228, iou loss is 0.98594803\n",
            "Epoch is [3/5], mini-batch is [17/53], time consumption is 0.24890471, batch_loss is 2.07267904\n",
            "classify loss is 0.62647176, angle loss is 0.01298214, iou loss is 0.81128854\n",
            "Epoch is [3/5], mini-batch is [18/53], time consumption is 0.23381853, batch_loss is 1.56758165\n",
            "classify loss is 0.73125887, angle loss is 0.06235567, iou loss is 0.91697431\n",
            "Epoch is [3/5], mini-batch is [19/53], time consumption is 0.23993301, batch_loss is 2.27178979\n",
            "classify loss is 0.76484269, angle loss is 0.03075961, iou loss is 0.95606655\n",
            "Epoch is [3/5], mini-batch is [20/53], time consumption is 0.32326078, batch_loss is 2.02850533\n",
            "classify loss is 0.48220336, angle loss is 0.01546039, iou loss is 0.82999182\n",
            "Epoch is [3/5], mini-batch is [21/53], time consumption is 0.22765207, batch_loss is 1.46679914\n",
            "classify loss is 0.60745180, angle loss is 0.02500200, iou loss is 0.69526112\n",
            "Epoch is [3/5], mini-batch is [22/53], time consumption is 0.26345396, batch_loss is 1.55273294\n",
            "classify loss is 0.68209213, angle loss is 0.01758044, iou loss is 0.89408815\n",
            "Epoch is [3/5], mini-batch is [23/53], time consumption is 0.27219844, batch_loss is 1.75198460\n",
            "classify loss is 0.64270437, angle loss is 0.02117564, iou loss is 1.04993808\n",
            "Epoch is [3/5], mini-batch is [24/53], time consumption is 0.25223064, batch_loss is 1.90439880\n",
            "classify loss is 0.45656967, angle loss is 0.01541831, iou loss is 0.66041201\n",
            "Epoch is [3/5], mini-batch is [25/53], time consumption is 0.26238728, batch_loss is 1.27116489\n",
            "classify loss is 0.75525254, angle loss is 0.01003475, iou loss is 0.94168633\n",
            "Epoch is [3/5], mini-batch is [26/53], time consumption is 0.27143240, batch_loss is 1.79728627\n",
            "classify loss is 0.49080551, angle loss is 0.01302266, iou loss is 0.83913732\n",
            "Epoch is [3/5], mini-batch is [27/53], time consumption is 0.28028107, batch_loss is 1.46016943\n",
            "classify loss is 0.57587671, angle loss is 0.00811386, iou loss is 0.69574130\n",
            "Epoch is [3/5], mini-batch is [28/53], time consumption is 0.30526948, batch_loss is 1.35275662\n",
            "classify loss is 0.53173149, angle loss is 0.00562584, iou loss is 0.76492280\n",
            "Epoch is [3/5], mini-batch is [29/53], time consumption is 0.32391953, batch_loss is 1.35291266\n",
            "classify loss is 0.61086893, angle loss is 0.02570441, iou loss is 0.78795671\n",
            "Epoch is [3/5], mini-batch is [30/53], time consumption is 0.26670623, batch_loss is 1.65586972\n",
            "classify loss is 0.83234763, angle loss is 0.05942006, iou loss is 1.25325191\n",
            "Epoch is [3/5], mini-batch is [31/53], time consumption is 0.25073051, batch_loss is 2.67980003\n",
            "classify loss is 0.76082236, angle loss is 0.06338105, iou loss is 1.04712498\n",
            "Epoch is [3/5], mini-batch is [32/53], time consumption is 0.27413559, batch_loss is 2.44175792\n",
            "classify loss is 0.35585630, angle loss is 0.00974432, iou loss is 0.52192265\n",
            "Epoch is [3/5], mini-batch is [33/53], time consumption is 0.26751924, batch_loss is 0.97522217\n",
            "classify loss is 0.57465905, angle loss is 0.00326949, iou loss is 0.61076218\n",
            "Epoch is [3/5], mini-batch is [34/53], time consumption is 0.24392509, batch_loss is 1.21811604\n",
            "classify loss is 0.76877958, angle loss is 0.03850980, iou loss is 0.67795360\n",
            "Epoch is [3/5], mini-batch is [35/53], time consumption is 0.22509694, batch_loss is 1.83183122\n",
            "classify loss is 0.54760122, angle loss is 0.05329417, iou loss is 1.05204880\n",
            "Epoch is [3/5], mini-batch is [36/53], time consumption is 0.26125050, batch_loss is 2.13259172\n",
            "classify loss is 0.72050202, angle loss is 0.01286410, iou loss is 0.93144637\n",
            "Epoch is [3/5], mini-batch is [37/53], time consumption is 0.32416582, batch_loss is 1.78058934\n",
            "classify loss is 0.80383050, angle loss is 0.03454202, iou loss is 0.96281308\n",
            "Epoch is [3/5], mini-batch is [38/53], time consumption is 0.26970267, batch_loss is 2.11206388\n",
            "classify loss is 0.81920987, angle loss is 0.12429862, iou loss is 1.36040497\n",
            "Epoch is [3/5], mini-batch is [39/53], time consumption is 0.24838305, batch_loss is 3.42260098\n",
            "classify loss is 0.51130396, angle loss is 0.00469153, iou loss is 0.82320517\n",
            "Epoch is [3/5], mini-batch is [40/53], time consumption is 0.20583272, batch_loss is 1.38142443\n",
            "classify loss is 0.65179956, angle loss is 0.06968953, iou loss is 1.30218577\n",
            "Epoch is [3/5], mini-batch is [41/53], time consumption is 0.31330013, batch_loss is 2.65088058\n",
            "classify loss is 0.72481227, angle loss is 0.02806919, iou loss is 1.11218703\n",
            "Epoch is [3/5], mini-batch is [42/53], time consumption is 0.33862710, batch_loss is 2.11769104\n",
            "classify loss is 0.66342402, angle loss is 0.01647809, iou loss is 0.75007194\n",
            "Epoch is [3/5], mini-batch is [43/53], time consumption is 0.23584437, batch_loss is 1.57827687\n",
            "classify loss is 0.65993094, angle loss is 0.05475456, iou loss is 1.16450751\n",
            "Epoch is [3/5], mini-batch is [44/53], time consumption is 0.27259684, batch_loss is 2.37198400\n",
            "classify loss is 0.63252532, angle loss is 0.02219417, iou loss is 0.80438000\n",
            "Epoch is [3/5], mini-batch is [45/53], time consumption is 0.29879951, batch_loss is 1.65884697\n",
            "classify loss is 0.50841618, angle loss is 0.03498053, iou loss is 0.78036398\n",
            "Epoch is [3/5], mini-batch is [46/53], time consumption is 0.24383759, batch_loss is 1.63858545\n",
            "classify loss is 0.53008175, angle loss is 0.03404606, iou loss is 0.81304288\n",
            "Epoch is [3/5], mini-batch is [47/53], time consumption is 0.27203178, batch_loss is 1.68358517\n",
            "classify loss is 0.52890289, angle loss is 0.00911398, iou loss is 0.74731553\n",
            "Epoch is [3/5], mini-batch is [48/53], time consumption is 0.21738911, batch_loss is 1.36735821\n",
            "classify loss is 0.66991597, angle loss is 0.01245993, iou loss is 0.88129002\n",
            "Epoch is [3/5], mini-batch is [49/53], time consumption is 0.22510934, batch_loss is 1.67580533\n",
            "classify loss is 0.52472603, angle loss is 0.00928265, iou loss is 0.69861984\n",
            "Epoch is [3/5], mini-batch is [50/53], time consumption is 0.18333745, batch_loss is 1.31617236\n",
            "classify loss is 0.68110466, angle loss is 0.06285270, iou loss is 1.00349951\n",
            "Epoch is [3/5], mini-batch is [51/53], time consumption is 0.18469548, batch_loss is 2.31313133\n",
            "classify loss is 0.92626327, angle loss is 0.04947316, iou loss is 1.28859258\n",
            "Epoch is [3/5], mini-batch is [52/53], time consumption is 0.19298291, batch_loss is 2.70958757\n",
            "classify loss is 0.54434061, angle loss is 0.01139507, iou loss is 0.69968200\n",
            "Epoch is [3/5], mini-batch is [53/53], time consumption is 0.19305658, batch_loss is 1.35797334\n",
            "epoch_loss is 1.84720075, epoch_time is 113.50483251\n",
            "Sat Nov  9 12:34:02 2019\n",
            "==================================================\n",
            "classify loss is 0.69079614, angle loss is 0.05038211, iou loss is 1.01602840\n",
            "Epoch is [4/5], mini-batch is [1/53], time consumption is 0.26499677, batch_loss is 2.21064568\n",
            "classify loss is 0.60108328, angle loss is 0.00802414, iou loss is 0.88177824\n",
            "Epoch is [4/5], mini-batch is [2/53], time consumption is 0.29671717, batch_loss is 1.56310296\n",
            "classify loss is 0.65412235, angle loss is 0.01920958, iou loss is 1.25938249\n",
            "Epoch is [4/5], mini-batch is [3/53], time consumption is 0.25292444, batch_loss is 2.10560060\n",
            "classify loss is 0.62474704, angle loss is 0.00914500, iou loss is 0.75817847\n",
            "Epoch is [4/5], mini-batch is [4/53], time consumption is 0.20900607, batch_loss is 1.47437549\n",
            "classify loss is 0.84424782, angle loss is 0.01210825, iou loss is 0.98139453\n",
            "Epoch is [4/5], mini-batch is [5/53], time consumption is 0.25901842, batch_loss is 1.94672477\n",
            "classify loss is 0.57569396, angle loss is 0.02014574, iou loss is 1.05180752\n",
            "Epoch is [4/5], mini-batch is [6/53], time consumption is 0.30134439, batch_loss is 1.82895887\n",
            "classify loss is 0.82914388, angle loss is 0.03208303, iou loss is 0.94988632\n",
            "Epoch is [4/5], mini-batch is [7/53], time consumption is 0.26025224, batch_loss is 2.09986067\n",
            "classify loss is 0.66446799, angle loss is 0.00639521, iou loss is 0.61887974\n",
            "Epoch is [4/5], mini-batch is [8/53], time consumption is 0.29567719, batch_loss is 1.34729981\n",
            "classify loss is 0.66212642, angle loss is 0.01117443, iou loss is 0.94871759\n",
            "Epoch is [4/5], mini-batch is [9/53], time consumption is 0.27758241, batch_loss is 1.72258830\n",
            "classify loss is 0.47127253, angle loss is 0.02088691, iou loss is 0.72414136\n",
            "Epoch is [4/5], mini-batch is [10/53], time consumption is 0.28871560, batch_loss is 1.40428305\n",
            "classify loss is 0.48025090, angle loss is 0.00774478, iou loss is 0.55076677\n",
            "Epoch is [4/5], mini-batch is [11/53], time consumption is 0.27841520, batch_loss is 1.10846543\n",
            "classify loss is 0.36851394, angle loss is 0.00471955, iou loss is 0.51105094\n",
            "Epoch is [4/5], mini-batch is [12/53], time consumption is 0.23988295, batch_loss is 0.92676044\n",
            "classify loss is 0.75779486, angle loss is 0.01547391, iou loss is 0.94286937\n",
            "Epoch is [4/5], mini-batch is [13/53], time consumption is 0.26449943, batch_loss is 1.85540330\n",
            "classify loss is 0.74361885, angle loss is 0.00941526, iou loss is 0.82445085\n",
            "Epoch is [4/5], mini-batch is [14/53], time consumption is 0.30617762, batch_loss is 1.66222227\n",
            "classify loss is 0.83317983, angle loss is 0.08403718, iou loss is 1.22129869\n",
            "Epoch is [4/5], mini-batch is [15/53], time consumption is 0.33953404, batch_loss is 2.89485025\n",
            "classify loss is 0.73678434, angle loss is 0.09067526, iou loss is 1.10181999\n",
            "Epoch is [4/5], mini-batch is [16/53], time consumption is 0.27823210, batch_loss is 2.74535704\n",
            "classify loss is 0.58590049, angle loss is 0.00716790, iou loss is 0.65250903\n",
            "Epoch is [4/5], mini-batch is [17/53], time consumption is 0.28551173, batch_loss is 1.31008863\n",
            "classify loss is 0.74887824, angle loss is 0.02303844, iou loss is 1.10873294\n",
            "Epoch is [4/5], mini-batch is [18/53], time consumption is 0.24320173, batch_loss is 2.08799553\n",
            "classify loss is 0.57064283, angle loss is 0.03366005, iou loss is 0.67318755\n",
            "Epoch is [4/5], mini-batch is [19/53], time consumption is 0.26380968, batch_loss is 1.58043087\n",
            "classify loss is 0.53374010, angle loss is 0.02282190, iou loss is 0.73694646\n",
            "Epoch is [4/5], mini-batch is [20/53], time consumption is 0.27725530, batch_loss is 1.49890566\n",
            "classify loss is 0.72884667, angle loss is 0.06443624, iou loss is 1.04340291\n",
            "Epoch is [4/5], mini-batch is [21/53], time consumption is 0.28548622, batch_loss is 2.41661215\n",
            "classify loss is 0.55234599, angle loss is 0.00723937, iou loss is 0.67482519\n",
            "Epoch is [4/5], mini-batch is [22/53], time consumption is 0.31061888, batch_loss is 1.29956484\n",
            "classify loss is 0.74814457, angle loss is 0.02813244, iou loss is 0.86465305\n",
            "Epoch is [4/5], mini-batch is [23/53], time consumption is 0.25694203, batch_loss is 1.89412212\n",
            "classify loss is 0.64301240, angle loss is 0.03069733, iou loss is 0.85459971\n",
            "Epoch is [4/5], mini-batch is [24/53], time consumption is 0.25560188, batch_loss is 1.80458534\n",
            "classify loss is 0.55014014, angle loss is 0.02791262, iou loss is 0.91146052\n",
            "Epoch is [4/5], mini-batch is [25/53], time consumption is 0.25775981, batch_loss is 1.74072695\n",
            "classify loss is 0.56206369, angle loss is 0.03087437, iou loss is 1.12341607\n",
            "Epoch is [4/5], mini-batch is [26/53], time consumption is 0.24111342, batch_loss is 1.99422348\n",
            "classify loss is 0.74230051, angle loss is 0.02822290, iou loss is 1.10664797\n",
            "Epoch is [4/5], mini-batch is [27/53], time consumption is 0.22788191, batch_loss is 2.13117743\n",
            "classify loss is 0.49185801, angle loss is 0.03575040, iou loss is 0.89587384\n",
            "Epoch is [4/5], mini-batch is [28/53], time consumption is 0.28927517, batch_loss is 1.74523592\n",
            "classify loss is 0.47896010, angle loss is 0.00768743, iou loss is 0.66647643\n",
            "Epoch is [4/5], mini-batch is [29/53], time consumption is 0.30476093, batch_loss is 1.22231078\n",
            "classify loss is 0.59452635, angle loss is 0.02478235, iou loss is 0.70909834\n",
            "Epoch is [4/5], mini-batch is [30/53], time consumption is 0.29068327, batch_loss is 1.55144823\n",
            "classify loss is 0.53528333, angle loss is 0.00610577, iou loss is 0.56312722\n",
            "Epoch is [4/5], mini-batch is [31/53], time consumption is 0.30200171, batch_loss is 1.15946817\n",
            "classify loss is 0.47073483, angle loss is 0.00557976, iou loss is 0.74492770\n",
            "Epoch is [4/5], mini-batch is [32/53], time consumption is 0.27318192, batch_loss is 1.27146018\n",
            "classify loss is 0.52893460, angle loss is 0.06144340, iou loss is 0.74173480\n",
            "Epoch is [4/5], mini-batch is [33/53], time consumption is 0.31066823, batch_loss is 1.88510334\n",
            "classify loss is 0.81925416, angle loss is 0.06747580, iou loss is 1.14764500\n",
            "Epoch is [4/5], mini-batch is [34/53], time consumption is 0.27680397, batch_loss is 2.64165711\n",
            "classify loss is 0.75718784, angle loss is 0.00933333, iou loss is 0.91039884\n",
            "Epoch is [4/5], mini-batch is [35/53], time consumption is 0.26682568, batch_loss is 1.76092005\n",
            "classify loss is 0.66926318, angle loss is 0.03217962, iou loss is 1.09267151\n",
            "Epoch is [4/5], mini-batch is [36/53], time consumption is 0.28592825, batch_loss is 2.08373094\n",
            "classify loss is 0.75232404, angle loss is 0.03791842, iou loss is 1.03490400\n",
            "Epoch is [4/5], mini-batch is [37/53], time consumption is 0.28348351, batch_loss is 2.16641235\n",
            "classify loss is 0.66062284, angle loss is 0.02240572, iou loss is 0.97754639\n",
            "Epoch is [4/5], mini-batch is [38/53], time consumption is 0.24474812, batch_loss is 1.86222649\n",
            "classify loss is 0.44304776, angle loss is 0.01206915, iou loss is 0.81847769\n",
            "Epoch is [4/5], mini-batch is [39/53], time consumption is 0.26002955, batch_loss is 1.38221693\n",
            "classify loss is 0.67938960, angle loss is 0.02793032, iou loss is 1.21791232\n",
            "Epoch is [4/5], mini-batch is [40/53], time consumption is 0.28305364, batch_loss is 2.17660522\n",
            "classify loss is 0.46720880, angle loss is 0.00415105, iou loss is 0.71076363\n",
            "Epoch is [4/5], mini-batch is [41/53], time consumption is 0.30513978, batch_loss is 1.21948290\n",
            "classify loss is 0.64413667, angle loss is 0.01328054, iou loss is 0.86190623\n",
            "Epoch is [4/5], mini-batch is [42/53], time consumption is 0.23504615, batch_loss is 1.63884830\n",
            "classify loss is 0.67388558, angle loss is 0.07628348, iou loss is 1.14033365\n",
            "Epoch is [4/5], mini-batch is [43/53], time consumption is 0.24280500, batch_loss is 2.57705402\n",
            "classify loss is 0.64300376, angle loss is 0.02482602, iou loss is 0.77813649\n",
            "Epoch is [4/5], mini-batch is [44/53], time consumption is 0.23712778, batch_loss is 1.66940045\n",
            "classify loss is 0.51484513, angle loss is 0.00820731, iou loss is 0.63228327\n",
            "Epoch is [4/5], mini-batch is [45/53], time consumption is 0.24520230, batch_loss is 1.22920156\n",
            "classify loss is 0.65478027, angle loss is 0.06517357, iou loss is 0.93472815\n",
            "Epoch is [4/5], mini-batch is [46/53], time consumption is 0.23367786, batch_loss is 2.24124432\n",
            "classify loss is 0.70679820, angle loss is 0.03598046, iou loss is 0.85304296\n",
            "Epoch is [4/5], mini-batch is [47/53], time consumption is 0.37641764, batch_loss is 1.91964579\n",
            "classify loss is 0.47280270, angle loss is 0.01138430, iou loss is 0.56030118\n",
            "Epoch is [4/5], mini-batch is [48/53], time consumption is 0.29770446, batch_loss is 1.14694691\n",
            "classify loss is 0.64597690, angle loss is 0.03695497, iou loss is 0.98330039\n",
            "Epoch is [4/5], mini-batch is [49/53], time consumption is 0.26888442, batch_loss is 1.99882698\n",
            "classify loss is 0.62341684, angle loss is 0.01855095, iou loss is 0.78329629\n",
            "Epoch is [4/5], mini-batch is [50/53], time consumption is 0.19467282, batch_loss is 1.59222257\n",
            "classify loss is 0.72911835, angle loss is 0.04547850, iou loss is 1.31446469\n",
            "Epoch is [4/5], mini-batch is [51/53], time consumption is 0.19403911, batch_loss is 2.49836802\n",
            "classify loss is 0.59818208, angle loss is 0.01377134, iou loss is 0.75159389\n",
            "Epoch is [4/5], mini-batch is [52/53], time consumption is 0.19311357, batch_loss is 1.48748934\n",
            "classify loss is 0.65476871, angle loss is 0.04007063, iou loss is 1.15454435\n",
            "Epoch is [4/5], mini-batch is [53/53], time consumption is 0.19356823, batch_loss is 2.21001935\n",
            "epoch_loss is 1.79231091, epoch_time is 113.20015764\n",
            "Sat Nov  9 12:35:56 2019\n",
            "==================================================\n",
            "classify loss is 0.45844954, angle loss is 0.03184000, iou loss is 0.70471907\n",
            "Epoch is [5/5], mini-batch is [1/53], time consumption is 0.28088403, batch_loss is 1.48156857\n",
            "classify loss is 0.67978066, angle loss is 0.00571700, iou loss is 0.73147482\n",
            "Epoch is [5/5], mini-batch is [2/53], time consumption is 0.25628543, batch_loss is 1.46842551\n",
            "classify loss is 0.45915473, angle loss is 0.01673449, iou loss is 0.80765343\n",
            "Epoch is [5/5], mini-batch is [3/53], time consumption is 0.31044221, batch_loss is 1.43415308\n",
            "classify loss is 0.52829099, angle loss is 0.00556249, iou loss is 0.62255609\n",
            "Epoch is [5/5], mini-batch is [4/53], time consumption is 0.26791883, batch_loss is 1.20647192\n",
            "classify loss is 0.60605145, angle loss is 0.05210525, iou loss is 1.13180792\n",
            "Epoch is [5/5], mini-batch is [5/53], time consumption is 0.32583356, batch_loss is 2.25891185\n",
            "classify loss is 0.66858685, angle loss is 0.01643954, iou loss is 0.89299446\n",
            "Epoch is [5/5], mini-batch is [6/53], time consumption is 0.25663185, batch_loss is 1.72597671\n",
            "classify loss is 0.49217880, angle loss is 0.00834284, iou loss is 0.60623735\n",
            "Epoch is [5/5], mini-batch is [7/53], time consumption is 0.23481560, batch_loss is 1.18184447\n",
            "classify loss is 0.62853420, angle loss is 0.03834944, iou loss is 1.26191437\n",
            "Epoch is [5/5], mini-batch is [8/53], time consumption is 0.35163093, batch_loss is 2.27394295\n",
            "classify loss is 0.45926929, angle loss is 0.00527871, iou loss is 0.85544062\n",
            "Epoch is [5/5], mini-batch is [9/53], time consumption is 0.28825712, batch_loss is 1.36749697\n",
            "classify loss is 0.57736051, angle loss is 0.01599588, iou loss is 0.86415702\n",
            "Epoch is [5/5], mini-batch is [10/53], time consumption is 0.22168159, batch_loss is 1.60147631\n",
            "classify loss is 0.64654100, angle loss is 0.10377605, iou loss is 1.05221057\n",
            "Epoch is [5/5], mini-batch is [11/53], time consumption is 0.27167273, batch_loss is 2.73651218\n",
            "classify loss is 0.59607726, angle loss is 0.02625358, iou loss is 0.87000102\n",
            "Epoch is [5/5], mini-batch is [12/53], time consumption is 0.24640775, batch_loss is 1.72861409\n",
            "classify loss is 0.67768770, angle loss is 0.01585384, iou loss is 0.68005198\n",
            "Epoch is [5/5], mini-batch is [13/53], time consumption is 0.27038407, batch_loss is 1.51627803\n",
            "classify loss is 0.53284007, angle loss is 0.01255159, iou loss is 0.68596154\n",
            "Epoch is [5/5], mini-batch is [14/53], time consumption is 0.26554728, batch_loss is 1.34431756\n",
            "classify loss is 0.73954904, angle loss is 0.09463757, iou loss is 1.11286664\n",
            "Epoch is [5/5], mini-batch is [15/53], time consumption is 0.23587441, batch_loss is 2.79879141\n",
            "classify loss is 0.68938059, angle loss is 0.06255498, iou loss is 1.08867347\n",
            "Epoch is [5/5], mini-batch is [16/53], time consumption is 0.26683497, batch_loss is 2.40360379\n",
            "classify loss is 0.63283837, angle loss is 0.01397985, iou loss is 0.96512228\n",
            "Epoch is [5/5], mini-batch is [17/53], time consumption is 0.25738144, batch_loss is 1.73775923\n",
            "classify loss is 0.63057446, angle loss is 0.04516912, iou loss is 1.00744176\n",
            "Epoch is [5/5], mini-batch is [18/53], time consumption is 0.22862697, batch_loss is 2.08970737\n",
            "classify loss is 0.57854211, angle loss is 0.01875046, iou loss is 0.82137102\n",
            "Epoch is [5/5], mini-batch is [19/53], time consumption is 0.25298977, batch_loss is 1.58741772\n",
            "classify loss is 0.56492305, angle loss is 0.00656393, iou loss is 0.58737868\n",
            "Epoch is [5/5], mini-batch is [20/53], time consumption is 0.32287145, batch_loss is 1.21794105\n",
            "classify loss is 0.55545861, angle loss is 0.01327968, iou loss is 0.75026619\n",
            "Epoch is [5/5], mini-batch is [21/53], time consumption is 0.23596263, batch_loss is 1.43852162\n",
            "classify loss is 0.64803833, angle loss is 0.01312154, iou loss is 0.79409271\n",
            "Epoch is [5/5], mini-batch is [22/53], time consumption is 0.26428747, batch_loss is 1.57334650\n",
            "classify loss is 0.72195506, angle loss is 0.01785204, iou loss is 0.84484655\n",
            "Epoch is [5/5], mini-batch is [23/53], time consumption is 0.30937147, batch_loss is 1.74532199\n",
            "classify loss is 0.62667286, angle loss is 0.02759293, iou loss is 0.86407411\n",
            "Epoch is [5/5], mini-batch is [24/53], time consumption is 0.29111362, batch_loss is 1.76667631\n",
            "classify loss is 0.57695043, angle loss is 0.00958543, iou loss is 0.72066522\n",
            "Epoch is [5/5], mini-batch is [25/53], time consumption is 0.20730948, batch_loss is 1.39346993\n",
            "classify loss is 0.51532942, angle loss is 0.01334980, iou loss is 0.73946148\n",
            "Epoch is [5/5], mini-batch is [26/53], time consumption is 0.27732587, batch_loss is 1.38828886\n",
            "classify loss is 0.65662861, angle loss is 0.02146308, iou loss is 1.04146385\n",
            "Epoch is [5/5], mini-batch is [27/53], time consumption is 0.20699263, batch_loss is 1.91272330\n",
            "classify loss is 0.63164318, angle loss is 0.01308657, iou loss is 0.85240501\n",
            "Epoch is [5/5], mini-batch is [28/53], time consumption is 0.31034827, batch_loss is 1.61491394\n",
            "classify loss is 0.59768891, angle loss is 0.00596746, iou loss is 0.65744287\n",
            "Epoch is [5/5], mini-batch is [29/53], time consumption is 0.24597883, batch_loss is 1.31480634\n",
            "classify loss is 0.35991579, angle loss is 0.00409613, iou loss is 0.56471908\n",
            "Epoch is [5/5], mini-batch is [30/53], time consumption is 0.26725054, batch_loss is 0.96559614\n",
            "classify loss is 0.64458847, angle loss is 0.01882541, iou loss is 1.02446640\n",
            "Epoch is [5/5], mini-batch is [31/53], time consumption is 0.25490355, batch_loss is 1.85730898\n",
            "classify loss is 0.71240604, angle loss is 0.02699065, iou loss is 0.74083632\n",
            "Epoch is [5/5], mini-batch is [32/53], time consumption is 0.30179334, batch_loss is 1.72314894\n",
            "classify loss is 0.71133256, angle loss is 0.06495985, iou loss is 1.14621663\n",
            "Epoch is [5/5], mini-batch is [33/53], time consumption is 0.30918264, batch_loss is 2.50714779\n",
            "classify loss is 0.64051890, angle loss is 0.07134713, iou loss is 1.17329299\n",
            "Epoch is [5/5], mini-batch is [34/53], time consumption is 0.28111839, batch_loss is 2.52728319\n",
            "classify loss is 0.67700231, angle loss is 0.04602723, iou loss is 0.73466283\n",
            "Epoch is [5/5], mini-batch is [35/53], time consumption is 0.24446774, batch_loss is 1.87193739\n",
            "classify loss is 0.65743369, angle loss is 0.01684397, iou loss is 1.16800797\n",
            "Epoch is [5/5], mini-batch is [36/53], time consumption is 0.22661948, batch_loss is 1.99388123\n",
            "classify loss is 0.60371822, angle loss is 0.02576445, iou loss is 0.80048245\n",
            "Epoch is [5/5], mini-batch is [37/53], time consumption is 0.31089902, batch_loss is 1.66184521\n",
            "classify loss is 0.71602577, angle loss is 0.04315159, iou loss is 1.12293863\n",
            "Epoch is [5/5], mini-batch is [38/53], time consumption is 0.23553610, batch_loss is 2.27048039\n",
            "classify loss is 0.53166807, angle loss is 0.00634233, iou loss is 0.56919426\n",
            "Epoch is [5/5], mini-batch is [39/53], time consumption is 0.27912402, batch_loss is 1.16428566\n",
            "classify loss is 0.67188478, angle loss is 0.02383814, iou loss is 0.87604022\n",
            "Epoch is [5/5], mini-batch is [40/53], time consumption is 0.27195334, batch_loss is 1.78630638\n",
            "classify loss is 0.59727067, angle loss is 0.05053351, iou loss is 1.15943801\n",
            "Epoch is [5/5], mini-batch is [41/53], time consumption is 0.21427894, batch_loss is 2.26204395\n",
            "classify loss is 0.47194195, angle loss is 0.00453179, iou loss is 0.57274336\n",
            "Epoch is [5/5], mini-batch is [42/53], time consumption is 0.20198989, batch_loss is 1.09000325\n",
            "classify loss is 0.63117111, angle loss is 0.10022699, iou loss is 0.90847307\n",
            "Epoch is [5/5], mini-batch is [43/53], time consumption is 0.27852225, batch_loss is 2.54191399\n",
            "classify loss is 0.43872923, angle loss is 0.00854529, iou loss is 0.62498951\n",
            "Epoch is [5/5], mini-batch is [44/53], time consumption is 0.26431203, batch_loss is 1.14917159\n",
            "classify loss is 0.87894684, angle loss is 0.09644306, iou loss is 1.20651567\n",
            "Epoch is [5/5], mini-batch is [45/53], time consumption is 0.33817077, batch_loss is 3.04989314\n",
            "classify loss is 0.48411465, angle loss is 0.00417797, iou loss is 0.76190764\n",
            "Epoch is [5/5], mini-batch is [46/53], time consumption is 0.28308630, batch_loss is 1.28780198\n",
            "classify loss is 0.45869839, angle loss is 0.03436353, iou loss is 0.68725288\n",
            "Epoch is [5/5], mini-batch is [47/53], time consumption is 0.29573750, batch_loss is 1.48958647\n",
            "classify loss is 0.53326821, angle loss is 0.00839603, iou loss is 0.63041103\n",
            "Epoch is [5/5], mini-batch is [48/53], time consumption is 0.31484604, batch_loss is 1.24763954\n",
            "classify loss is 0.70283341, angle loss is 0.01555780, iou loss is 0.88387191\n",
            "Epoch is [5/5], mini-batch is [49/53], time consumption is 0.26624894, batch_loss is 1.74228334\n",
            "classify loss is 0.68524587, angle loss is 0.06514950, iou loss is 1.01652706\n",
            "Epoch is [5/5], mini-batch is [50/53], time consumption is 0.18678451, batch_loss is 2.35326791\n",
            "classify loss is 0.43913358, angle loss is 0.00325031, iou loss is 0.70754069\n",
            "Epoch is [5/5], mini-batch is [51/53], time consumption is 0.19428778, batch_loss is 1.17917740\n",
            "classify loss is 0.65202147, angle loss is 0.01688014, iou loss is 0.75324237\n",
            "Epoch is [5/5], mini-batch is [52/53], time consumption is 0.19824505, batch_loss is 1.57406521\n",
            "classify loss is 0.53259075, angle loss is 0.00813948, iou loss is 0.76852578\n",
            "Epoch is [5/5], mini-batch is [53/53], time consumption is 0.18417358, batch_loss is 1.38251138\n",
            "epoch_loss is 1.73562000, epoch_time is 115.18608689\n",
            "Sat Nov  9 12:37:51 2019\n",
            "==================================================\n",
            "CPU times: user 48.8 s, sys: 24.7 s, total: 1min 13s\n",
            "Wall time: 10min\n"
          ],
          "name": "stdout"
        }
      ]
    },
    {
      "cell_type": "code",
      "metadata": {
        "id": "XIfcvWvLSFX6",
        "colab_type": "code",
        "colab": {
          "base_uri": "https://localhost:8080/",
          "height": 282
        },
        "outputId": "b380ecd7-68ad-4e4a-af2a-9fe3208a638f"
      },
      "source": [
        "plt.plot(loss_curve)"
      ],
      "execution_count": 13,
      "outputs": [
        {
          "output_type": "execute_result",
          "data": {
            "text/plain": [
              "[<matplotlib.lines.Line2D at 0x7f741057ac18>]"
            ]
          },
          "metadata": {
            "tags": []
          },
          "execution_count": 13
        },
        {
          "output_type": "display_data",
          "data": {
            "image/png": "[encoded data removed]",
            "text/plain": [
              "<Figure size 432x288 with 1 Axes>"
            ]
          },
          "metadata": {
            "tags": []
          }
        }
      ]
    },
    {
      "cell_type": "markdown",
      "metadata": {
        "id": "HTf51H-gknXG",
        "colab_type": "text"
      },
      "source": [
        "1. [**Adam and AdamW algorithms**](https://www.fast.ai/2018/07/02/adam-weight-decay/)\n",
        "\n",
        "2. [**The optimal learning rate during fine-tuning of an artificial neural network**](https://www.mikulskibartosz.name/the-optimal-learning-rate-during-fine-tuning-of-an-artificial-neural-network/)"
      ]
    }
  ]
}